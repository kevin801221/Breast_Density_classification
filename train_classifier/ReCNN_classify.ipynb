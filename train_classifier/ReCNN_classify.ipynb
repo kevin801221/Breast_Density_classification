{
 "cells": [
  {
   "attachments": {},
   "cell_type": "markdown",
   "metadata": {},
   "source": [
    "## Simple CNN"
   ]
  },
  {
   "attachments": {},
   "cell_type": "markdown",
   "metadata": {},
   "source": [
    "### 設置dataset and dataloader"
   ]
  },
  {
   "cell_type": "code",
   "execution_count": 3,
   "metadata": {},
   "outputs": [
    {
     "name": "stdout",
     "output_type": "stream",
     "text": [
      "cuda:0\n"
     ]
    }
   ],
   "source": [
    "import torch\n",
    "import torch.nn as nn\n",
    "import torch.optim as optim\n",
    "from torch.utils.data import DataLoader\n",
    "from torchvision import transforms\n",
    "from torchvision.datasets import ImageFolder\n",
    "import tqdm\n",
    "# Check if GPU is available\n",
    "device = torch.device(\"cuda:0\" if torch.cuda.is_available() else \"cpu\")\n",
    "print(device)\n",
    "# 超參數設置\n",
    "num_epochs = 10\n",
    "batch_size = 16\n",
    "learning_rate = 0.001\n",
    "\n",
    "# 設置訓練數據讀取器\n",
    "train_transforms = transforms.Compose([\n",
    "    transforms.Resize((640, 640)),\n",
    "    transforms.RandomHorizontalFlip(),\n",
    "    transforms.ToTensor(),\n",
    "    transforms.Normalize([0.5, 0.5, 0.5], [0.5, 0.5, 0.5])\n",
    "])\n",
    "train_dataset = ImageFolder(\"/home/kevinluo/breast_density_classification/datasets/train\", transform=train_transforms)\n",
    "train_loader = DataLoader(train_dataset, batch_size=batch_size, shuffle=True)\n",
    "\n",
    "# 設置驗證數據讀取器\n",
    "valid_transforms = transforms.Compose([\n",
    "    transforms.Resize((640, 640)),\n",
    "    transforms.ToTensor(),\n",
    "    transforms.Normalize([0.5, 0.5, 0.5], [0.5, 0.5, 0.5])\n",
    "])\n",
    "valid_dataset = ImageFolder(\"/home/kevinluo/breast_density_classification/datasets/valid\", transform=valid_transforms)\n",
    "valid_loader = DataLoader(valid_dataset, batch_size=batch_size, shuffle=False)\n",
    "\n",
    "# 設置測試數據讀取器\n",
    "test_transforms = transforms.Compose([\n",
    "    transforms.Resize((640, 640)),\n",
    "    transforms.ToTensor(),\n",
    "    transforms.Normalize([0.5, 0.5, 0.5], [0.5, 0.5, 0.5])\n",
    "])\n",
    "test_dataset = ImageFolder(\"/home/kevinluo/breast_density_classification/datasets/test\", transform=test_transforms)\n",
    "test_loader = DataLoader(test_dataset, batch_size=batch_size, shuffle=False)\n",
    "\n",
    "# 設置模型\n",
    "class CNNClassifier(nn.Module):\n",
    "    def __init__(self):\n",
    "        super(CNNClassifier, self).__init__()\n",
    "        self.conv1 = nn.Conv2d(3, 16, kernel_size=3, stride=1, padding=1)\n",
    "        self.pool1 = nn.MaxPool2d(kernel_size=2, stride=2)\n",
    "        self.conv2 = nn.Conv2d(16, 32, kernel_size=3, stride=1, padding=1)\n",
    "        self.pool2 = nn.MaxPool2d(kernel_size=2, stride=2)\n",
    "        self.fc1 = nn.Linear(32 * 160 * 160, 256)\n",
    "        self.fc2 = nn.Linear(256, 4)\n",
    "        \n",
    "    def forward(self, x):\n",
    "        x = self.conv1(x)\n",
    "        x = nn.functional.relu(x)\n",
    "        x = self.pool1(x)\n",
    "        x = self.conv2(x)\n",
    "        x = nn.functional.relu(x)\n",
    "        x = self.pool2(x)\n",
    "        x = x.view(-1, 32 * 160 * 160)\n",
    "        x = self.fc1(x)\n",
    "        x = nn.functional.relu(x)\n",
    "        x = self.fc2(x)\n",
    "        return x"
   ]
  },
  {
   "attachments": {},
   "cell_type": "markdown",
   "metadata": {},
   "source": [
    "### 設置net"
   ]
  },
  {
   "cell_type": "code",
   "execution_count": 16,
   "metadata": {},
   "outputs": [],
   "source": [
    "net = CNNClassifier()\n",
    "# Define the loss function and optimizer\n",
    "criterion = nn.CrossEntropyLoss()\n",
    "optimizer = optim.Adam(net.parameters(), lr=learning_rate)"
   ]
  },
  {
   "cell_type": "code",
   "execution_count": 17,
   "metadata": {},
   "outputs": [
    {
     "name": "stdout",
     "output_type": "stream",
     "text": [
      "Epoch [1/10], Train Loss: 3.4464, Train Acc: 0.4443, Valid Loss: 1.1791, Valid Acc: 0.5151\n",
      "Test Acc: 0.0000\n",
      "Epoch [2/10], Train Loss: 1.1659, Train Acc: 0.5014, Valid Loss: 1.1802, Valid Acc: 0.4816\n",
      "Test Acc: 0.0034\n",
      "Epoch [3/10], Train Loss: 1.0770, Train Acc: 0.5407, Valid Loss: 1.2677, Valid Acc: 0.5184\n",
      "Test Acc: 0.0034\n",
      "Epoch [4/10], Train Loss: 0.9742, Train Acc: 0.5956, Valid Loss: 1.2701, Valid Acc: 0.4883\n",
      "Test Acc: 0.0000\n",
      "Epoch [5/10], Train Loss: 0.8618, Train Acc: 0.6423, Valid Loss: 1.2992, Valid Acc: 0.4883\n",
      "Test Acc: 0.0017\n",
      "Epoch [6/10], Train Loss: 0.6845, Train Acc: 0.7368, Valid Loss: 1.3771, Valid Acc: 0.4548\n",
      "Test Acc: 0.0017\n",
      "Epoch [7/10], Train Loss: 0.5071, Train Acc: 0.8150, Valid Loss: 1.4780, Valid Acc: 0.4816\n",
      "Test Acc: 0.0017\n",
      "Epoch [8/10], Train Loss: 0.3611, Train Acc: 0.8707, Valid Loss: 1.7922, Valid Acc: 0.4415\n",
      "Test Acc: 0.0000\n",
      "Epoch [9/10], Train Loss: 0.2774, Train Acc: 0.9142, Valid Loss: 1.8582, Valid Acc: 0.4482\n",
      "Test Acc: 0.0034\n",
      "Epoch [10/10], Train Loss: 0.1736, Train Acc: 0.9424, Valid Loss: 2.0657, Valid Acc: 0.4615\n",
      "Test Acc: 0.0034\n"
     ]
    }
   ],
   "source": [
    "train_losses = []\n",
    "valid_losses = []\n",
    "train_accs = []\n",
    "valid_accs = []\n",
    "\n",
    "for epoch in range(num_epochs):\n",
    "    train_loss = 0.0\n",
    "    train_acc = 0.0\n",
    "    valid_loss = 0.0\n",
    "    valid_acc = 0.0\n",
    "    # 訓練模式\n",
    "    net.train()\n",
    "    for inputs, labels in train_loader:\n",
    "        optimizer.zero_grad()\n",
    "        outputs = net(inputs)\n",
    "        loss = criterion(outputs, labels)\n",
    "        loss.backward()\n",
    "        optimizer.step()\n",
    "        train_loss += loss.item() * inputs.size(0)\n",
    "        _, preds = torch.max(outputs, 1)\n",
    "        train_acc += torch.sum(preds == labels.data)\n",
    "    train_loss /= len(train_dataset)\n",
    "    train_acc = train_acc.double() / len(train_dataset)\n",
    "    train_losses.append(train_loss)\n",
    "    train_accs.append(train_acc)\n",
    "\n",
    "    # 驗證模式\n",
    "    net.eval()\n",
    "    with torch.no_grad():\n",
    "        for inputs, labels in valid_loader:\n",
    "            outputs = net(inputs)\n",
    "            loss = criterion(outputs, labels)\n",
    "            valid_loss += loss.item() * inputs.size(0)\n",
    "            _, preds = torch.max(outputs, 1)\n",
    "            valid_acc += torch.sum(preds == labels.data)\n",
    "        valid_loss /= len(valid_dataset)\n",
    "        valid_acc = valid_acc.double() / len(valid_dataset)\n",
    "        valid_losses.append(valid_loss)\n",
    "        valid_accs.append(valid_acc)\n",
    "\n",
    "    # 打印訓練過程\n",
    "    print('Epoch [{}/{}], Train Loss: {:.4f}, Train Acc: {:.4f}, Valid Loss: {:.4f}, Valid Acc: {:.4f}'.format(\n",
    "        epoch+1, num_epochs, train_loss, train_acc, valid_loss, valid_acc))\n",
    "    #測試模型\n",
    "    net.eval()\n",
    "    test_acc = 0.0\n",
    "    pred_labels = []\n",
    "    true_labels = []\n",
    "\n",
    "    with torch.no_grad():\n",
    "        for inputs, labels in test_loader:\n",
    "            outputs = net(inputs)\n",
    "            _, preds = torch.max(outputs, 1)\n",
    "            test_acc += torch.sum(preds == labels.data)\n",
    "            pred_labels.extend(preds.tolist())\n",
    "            true_labels.extend(labels.tolist())\n",
    "            test_acc = test_acc.double() / len(test_dataset)\n",
    "    print('Test Acc: {:.4f}'.format(test_acc))"
   ]
  },
  {
   "attachments": {},
   "cell_type": "markdown",
   "metadata": {},
   "source": [
    "### 繪製loss和accuracy曲線"
   ]
  },
  {
   "cell_type": "code",
   "execution_count": 18,
   "metadata": {},
   "outputs": [
    {
     "data": {
      "image/png": "[encoded data removed]",
      "text/plain": [
       "<Figure size 1000x500 with 1 Axes>"
      ]
     },
     "metadata": {},
     "output_type": "display_data"
    },
    {
     "data": {
      "image/png": "[encoded data removed]",
      "text/plain": [
       "<Figure size 1000x500 with 1 Axes>"
      ]
     },
     "metadata": {},
     "output_type": "display_data"
    }
   ],
   "source": [
    "import matplotlib.pyplot as plt\n",
    "\n",
    "plt.figure(figsize=(10, 5))\n",
    "plt.plot(train_losses, label='train')\n",
    "plt.plot(valid_losses, label='valid')\n",
    "plt.xlabel('Epochs')\n",
    "plt.ylabel('Loss')\n",
    "plt.legend()\n",
    "plt.show()\n",
    "\n",
    "plt.figure(figsize=(10, 5))\n",
    "plt.plot(train_accs, label='train')\n",
    "plt.plot(valid_accs, label='valid')\n",
    "plt.xlabel('Epochs')\n",
    "plt.ylabel('Accuracy')\n",
    "plt.legend()\n",
    "plt.show()"
   ]
  },
  {
   "attachments": {},
   "cell_type": "markdown",
   "metadata": {},
   "source": [
    "### 繪製confusion matrix"
   ]
  },
  {
   "cell_type": "code",
   "execution_count": 19,
   "metadata": {},
   "outputs": [
    {
     "data": {
      "image/png": "[encoded data removed]",
      "text/plain": [
       "<Figure size 1000x800 with 2 Axes>"
      ]
     },
     "metadata": {},
     "output_type": "display_data"
    }
   ],
   "source": [
    "from sklearn.metrics import confusion_matrix\n",
    "import seaborn as sns\n",
    "\n",
    "cm = confusion_matrix(true_labels, pred_labels)\n",
    "plt.figure(figsize=(10, 8))\n",
    "sns.heatmap(cm, annot=True, cmap=plt.cm.Blues, xticklabels=train_dataset.classes, yticklabels=train_dataset.classes)\n",
    "plt.xlabel('Predicted Labels')\n",
    "plt.ylabel('True Labels')\n",
    "plt.show()"
   ]
  },
  {
   "attachments": {},
   "cell_type": "markdown",
   "metadata": {},
   "source": [
    "### 一樣的simple CNN 但改成GPU完全使用, 和多加進度條。"
   ]
  },
  {
   "cell_type": "code",
   "execution_count": 4,
   "metadata": {},
   "outputs": [],
   "source": [
    "import torch\n",
    "import torch.nn as nn\n",
    "import torch.optim as optim\n",
    "from torch.utils.data import DataLoader\n",
    "from torchvision import transforms\n",
    "from torchvision.datasets import ImageFolder\n",
    "import tqdm\n",
    "######"
   ]
  },
  {
   "cell_type": "code",
   "execution_count": 40,
   "metadata": {},
   "outputs": [],
   "source": [
    "#定義loss和optimizer\n",
    "criterion = nn.CrossEntropyLoss()\n",
    "optimizer = optim.Adam(model.parameters(), lr=learning_rate)"
   ]
  },
  {
   "cell_type": "code",
   "execution_count": 41,
   "metadata": {},
   "outputs": [
    {
     "name": "stderr",
     "output_type": "stream",
     "text": [
      "Train Epoch 0: 100%|██████████| 231/231 [00:20<00:00, 11.00it/s]\n",
      "Valid Epoch 0: 100%|██████████| 19/19 [00:02<00:00,  9.37it/s]\n"
     ]
    },
    {
     "name": "stdout",
     "output_type": "stream",
     "text": [
      "Epoch [1/100], Train Loss: 1.9604, Train Acc: 0.4701, Valid Loss: 1.1227, Valid Acc: 0.5084\n"
     ]
    },
    {
     "name": "stderr",
     "output_type": "stream",
     "text": [
      "Train Epoch 1: 100%|██████████| 231/231 [00:21<00:00, 10.82it/s]\n",
      "Valid Epoch 1: 100%|██████████| 19/19 [00:02<00:00,  8.89it/s]\n"
     ]
    },
    {
     "name": "stdout",
     "output_type": "stream",
     "text": [
      "Epoch [2/100], Train Loss: 1.0966, Train Acc: 0.5193, Valid Loss: 1.1367, Valid Acc: 0.5217\n"
     ]
    },
    {
     "name": "stderr",
     "output_type": "stream",
     "text": [
      "Train Epoch 2: 100%|██████████| 231/231 [00:21<00:00, 10.96it/s]\n",
      "Valid Epoch 2: 100%|██████████| 19/19 [00:01<00:00,  9.68it/s]\n"
     ]
    },
    {
     "name": "stdout",
     "output_type": "stream",
     "text": [
      "Epoch [3/100], Train Loss: 1.0493, Train Acc: 0.5478, Valid Loss: 1.1655, Valid Acc: 0.5217\n"
     ]
    },
    {
     "name": "stderr",
     "output_type": "stream",
     "text": [
      "Train Epoch 3: 100%|██████████| 231/231 [00:21<00:00, 10.96it/s]\n",
      "Valid Epoch 3: 100%|██████████| 19/19 [00:01<00:00, 10.28it/s]\n"
     ]
    },
    {
     "name": "stdout",
     "output_type": "stream",
     "text": [
      "Epoch [4/100], Train Loss: 1.0063, Train Acc: 0.5695, Valid Loss: 1.1520, Valid Acc: 0.5084\n"
     ]
    },
    {
     "name": "stderr",
     "output_type": "stream",
     "text": [
      "Train Epoch 4: 100%|██████████| 231/231 [00:21<00:00, 10.98it/s]\n",
      "Valid Epoch 4: 100%|██████████| 19/19 [00:01<00:00,  9.53it/s]\n"
     ]
    },
    {
     "name": "stdout",
     "output_type": "stream",
     "text": [
      "Epoch [5/100], Train Loss: 0.9819, Train Acc: 0.5880, Valid Loss: 1.1810, Valid Acc: 0.5351\n"
     ]
    },
    {
     "name": "stderr",
     "output_type": "stream",
     "text": [
      "Train Epoch 5: 100%|██████████| 231/231 [00:21<00:00, 10.81it/s]\n",
      "Valid Epoch 5: 100%|██████████| 19/19 [00:01<00:00,  9.66it/s]\n"
     ]
    },
    {
     "name": "stdout",
     "output_type": "stream",
     "text": [
      "Epoch [6/100], Train Loss: 0.8971, Train Acc: 0.6285, Valid Loss: 1.2534, Valid Acc: 0.4983\n"
     ]
    },
    {
     "name": "stderr",
     "output_type": "stream",
     "text": [
      "Train Epoch 6: 100%|██████████| 231/231 [00:21<00:00, 10.81it/s]\n",
      "Valid Epoch 6: 100%|██████████| 19/19 [00:02<00:00,  9.18it/s]\n"
     ]
    },
    {
     "name": "stdout",
     "output_type": "stream",
     "text": [
      "Epoch [7/100], Train Loss: 0.7579, Train Acc: 0.6977, Valid Loss: 1.3315, Valid Acc: 0.4983\n"
     ]
    },
    {
     "name": "stderr",
     "output_type": "stream",
     "text": [
      "Train Epoch 7: 100%|██████████| 231/231 [00:21<00:00, 10.88it/s]\n",
      "Valid Epoch 7: 100%|██████████| 19/19 [00:02<00:00,  8.60it/s]\n"
     ]
    },
    {
     "name": "stdout",
     "output_type": "stream",
     "text": [
      "Epoch [8/100], Train Loss: 0.6236, Train Acc: 0.7672, Valid Loss: 1.3828, Valid Acc: 0.4849\n"
     ]
    },
    {
     "name": "stderr",
     "output_type": "stream",
     "text": [
      "Train Epoch 8: 100%|██████████| 231/231 [00:21<00:00, 10.91it/s]\n",
      "Valid Epoch 8: 100%|██████████| 19/19 [00:01<00:00,  9.69it/s]\n"
     ]
    },
    {
     "name": "stdout",
     "output_type": "stream",
     "text": [
      "Epoch [9/100], Train Loss: 0.4294, Train Acc: 0.8427, Valid Loss: 1.7505, Valid Acc: 0.4749\n"
     ]
    },
    {
     "name": "stderr",
     "output_type": "stream",
     "text": [
      "Train Epoch 9: 100%|██████████| 231/231 [00:21<00:00, 10.81it/s]\n",
      "Valid Epoch 9: 100%|██████████| 19/19 [00:02<00:00,  9.04it/s]\n"
     ]
    },
    {
     "name": "stdout",
     "output_type": "stream",
     "text": [
      "Epoch [10/100], Train Loss: 0.3017, Train Acc: 0.8992, Valid Loss: 1.7369, Valid Acc: 0.4783\n"
     ]
    },
    {
     "name": "stderr",
     "output_type": "stream",
     "text": [
      "Train Epoch 10: 100%|██████████| 231/231 [00:21<00:00, 10.76it/s]\n",
      "Valid Epoch 10: 100%|██████████| 19/19 [00:02<00:00,  8.79it/s]\n"
     ]
    },
    {
     "name": "stdout",
     "output_type": "stream",
     "text": [
      "Epoch [11/100], Train Loss: 0.2144, Train Acc: 0.9340, Valid Loss: 1.9664, Valid Acc: 0.4916\n"
     ]
    },
    {
     "name": "stderr",
     "output_type": "stream",
     "text": [
      "Train Epoch 11: 100%|██████████| 231/231 [00:21<00:00, 10.78it/s]\n",
      "Valid Epoch 11: 100%|██████████| 19/19 [00:02<00:00,  9.34it/s]\n"
     ]
    },
    {
     "name": "stdout",
     "output_type": "stream",
     "text": [
      "Epoch [12/100], Train Loss: 0.1351, Train Acc: 0.9606, Valid Loss: 2.3481, Valid Acc: 0.4682\n"
     ]
    },
    {
     "name": "stderr",
     "output_type": "stream",
     "text": [
      "Train Epoch 12: 100%|██████████| 231/231 [00:21<00:00, 10.81it/s]\n",
      "Valid Epoch 12: 100%|██████████| 19/19 [00:02<00:00,  9.23it/s]\n"
     ]
    },
    {
     "name": "stdout",
     "output_type": "stream",
     "text": [
      "Epoch [13/100], Train Loss: 0.1015, Train Acc: 0.9661, Valid Loss: 2.5490, Valid Acc: 0.4783\n"
     ]
    },
    {
     "name": "stderr",
     "output_type": "stream",
     "text": [
      "Train Epoch 13: 100%|██████████| 231/231 [00:21<00:00, 10.73it/s]\n",
      "Valid Epoch 13: 100%|██████████| 19/19 [00:02<00:00,  8.72it/s]\n"
     ]
    },
    {
     "name": "stdout",
     "output_type": "stream",
     "text": [
      "Epoch [14/100], Train Loss: 0.0576, Train Acc: 0.9818, Valid Loss: 3.0092, Valid Acc: 0.4783\n"
     ]
    },
    {
     "name": "stderr",
     "output_type": "stream",
     "text": [
      "Train Epoch 14: 100%|██████████| 231/231 [00:21<00:00, 10.58it/s]\n",
      "Valid Epoch 14: 100%|██████████| 19/19 [00:01<00:00,  9.99it/s]\n"
     ]
    },
    {
     "name": "stdout",
     "output_type": "stream",
     "text": [
      "Epoch [15/100], Train Loss: 0.0415, Train Acc: 0.9875, Valid Loss: 3.0469, Valid Acc: 0.4615\n"
     ]
    },
    {
     "name": "stderr",
     "output_type": "stream",
     "text": [
      "Train Epoch 15: 100%|██████████| 231/231 [00:21<00:00, 10.63it/s]\n",
      "Valid Epoch 15: 100%|██████████| 19/19 [00:01<00:00,  9.90it/s]\n"
     ]
    },
    {
     "name": "stdout",
     "output_type": "stream",
     "text": [
      "Epoch [16/100], Train Loss: 0.0544, Train Acc: 0.9848, Valid Loss: 3.5241, Valid Acc: 0.4080\n"
     ]
    },
    {
     "name": "stderr",
     "output_type": "stream",
     "text": [
      "Train Epoch 16: 100%|██████████| 231/231 [00:21<00:00, 10.68it/s]\n",
      "Valid Epoch 16: 100%|██████████| 19/19 [00:01<00:00, 10.13it/s]\n"
     ]
    },
    {
     "name": "stdout",
     "output_type": "stream",
     "text": [
      "Epoch [17/100], Train Loss: 0.0700, Train Acc: 0.9794, Valid Loss: 3.3851, Valid Acc: 0.4181\n"
     ]
    },
    {
     "name": "stderr",
     "output_type": "stream",
     "text": [
      "Train Epoch 17: 100%|██████████| 231/231 [00:22<00:00, 10.46it/s]\n",
      "Valid Epoch 17: 100%|██████████| 19/19 [00:02<00:00,  8.93it/s]\n"
     ]
    },
    {
     "name": "stdout",
     "output_type": "stream",
     "text": [
      "Epoch [18/100], Train Loss: 0.0396, Train Acc: 0.9883, Valid Loss: 3.8512, Valid Acc: 0.4448\n"
     ]
    },
    {
     "name": "stderr",
     "output_type": "stream",
     "text": [
      "Train Epoch 18: 100%|██████████| 231/231 [00:21<00:00, 10.67it/s]\n",
      "Valid Epoch 18: 100%|██████████| 19/19 [00:01<00:00, 10.28it/s]\n"
     ]
    },
    {
     "name": "stdout",
     "output_type": "stream",
     "text": [
      "Epoch [19/100], Train Loss: 0.0308, Train Acc: 0.9902, Valid Loss: 3.8259, Valid Acc: 0.4682\n"
     ]
    },
    {
     "name": "stderr",
     "output_type": "stream",
     "text": [
      "Train Epoch 19: 100%|██████████| 231/231 [00:21<00:00, 10.68it/s]\n",
      "Valid Epoch 19: 100%|██████████| 19/19 [00:01<00:00, 10.87it/s]\n"
     ]
    },
    {
     "name": "stdout",
     "output_type": "stream",
     "text": [
      "Epoch [20/100], Train Loss: 0.0110, Train Acc: 0.9965, Valid Loss: 3.9776, Valid Acc: 0.4482\n"
     ]
    },
    {
     "name": "stderr",
     "output_type": "stream",
     "text": [
      "Train Epoch 20: 100%|██████████| 231/231 [00:21<00:00, 10.70it/s]\n",
      "Valid Epoch 20: 100%|██████████| 19/19 [00:02<00:00,  9.26it/s]\n"
     ]
    },
    {
     "name": "stdout",
     "output_type": "stream",
     "text": [
      "Epoch [21/100], Train Loss: 0.0154, Train Acc: 0.9954, Valid Loss: 4.2974, Valid Acc: 0.4348\n"
     ]
    },
    {
     "name": "stderr",
     "output_type": "stream",
     "text": [
      "Train Epoch 21: 100%|██████████| 231/231 [00:21<00:00, 10.63it/s]\n",
      "Valid Epoch 21: 100%|██████████| 19/19 [00:02<00:00,  9.02it/s]\n"
     ]
    },
    {
     "name": "stdout",
     "output_type": "stream",
     "text": [
      "Epoch [22/100], Train Loss: 0.0148, Train Acc: 0.9935, Valid Loss: 4.3378, Valid Acc: 0.4214\n"
     ]
    },
    {
     "name": "stderr",
     "output_type": "stream",
     "text": [
      "Train Epoch 22: 100%|██████████| 231/231 [00:21<00:00, 10.65it/s]\n",
      "Valid Epoch 22: 100%|██████████| 19/19 [00:01<00:00, 10.62it/s]\n"
     ]
    },
    {
     "name": "stdout",
     "output_type": "stream",
     "text": [
      "Epoch [23/100], Train Loss: 0.0096, Train Acc: 0.9970, Valid Loss: 4.3724, Valid Acc: 0.4214\n"
     ]
    },
    {
     "name": "stderr",
     "output_type": "stream",
     "text": [
      "Train Epoch 23: 100%|██████████| 231/231 [00:21<00:00, 10.68it/s]\n",
      "Valid Epoch 23: 100%|██████████| 19/19 [00:02<00:00,  9.12it/s]\n"
     ]
    },
    {
     "name": "stdout",
     "output_type": "stream",
     "text": [
      "Epoch [24/100], Train Loss: 0.0315, Train Acc: 0.9910, Valid Loss: 4.1341, Valid Acc: 0.4181\n"
     ]
    },
    {
     "name": "stderr",
     "output_type": "stream",
     "text": [
      "Train Epoch 24: 100%|██████████| 231/231 [00:21<00:00, 10.66it/s]\n",
      "Valid Epoch 24: 100%|██████████| 19/19 [00:01<00:00,  9.58it/s]\n"
     ]
    },
    {
     "name": "stdout",
     "output_type": "stream",
     "text": [
      "Epoch [25/100], Train Loss: 0.0118, Train Acc: 0.9962, Valid Loss: 5.0270, Valid Acc: 0.4114\n"
     ]
    },
    {
     "name": "stderr",
     "output_type": "stream",
     "text": [
      "Train Epoch 25: 100%|██████████| 231/231 [00:21<00:00, 10.67it/s]\n",
      "Valid Epoch 25: 100%|██████████| 19/19 [00:02<00:00,  8.99it/s]\n"
     ]
    },
    {
     "name": "stdout",
     "output_type": "stream",
     "text": [
      "Epoch [26/100], Train Loss: 0.0045, Train Acc: 0.9989, Valid Loss: 4.8071, Valid Acc: 0.4181\n"
     ]
    },
    {
     "name": "stderr",
     "output_type": "stream",
     "text": [
      "Train Epoch 26: 100%|██████████| 231/231 [00:21<00:00, 10.59it/s]\n",
      "Valid Epoch 26: 100%|██████████| 19/19 [00:02<00:00,  9.43it/s]\n"
     ]
    },
    {
     "name": "stdout",
     "output_type": "stream",
     "text": [
      "Epoch [27/100], Train Loss: 0.0067, Train Acc: 0.9986, Valid Loss: 4.7904, Valid Acc: 0.3846\n"
     ]
    },
    {
     "name": "stderr",
     "output_type": "stream",
     "text": [
      "Train Epoch 27: 100%|██████████| 231/231 [00:21<00:00, 10.58it/s]\n",
      "Valid Epoch 27: 100%|██████████| 19/19 [00:01<00:00,  9.91it/s]\n"
     ]
    },
    {
     "name": "stdout",
     "output_type": "stream",
     "text": [
      "Epoch [28/100], Train Loss: 0.0135, Train Acc: 0.9965, Valid Loss: 4.4136, Valid Acc: 0.4314\n"
     ]
    },
    {
     "name": "stderr",
     "output_type": "stream",
     "text": [
      "Train Epoch 28: 100%|██████████| 231/231 [00:21<00:00, 10.75it/s]\n",
      "Valid Epoch 28: 100%|██████████| 19/19 [00:01<00:00, 10.17it/s]\n"
     ]
    },
    {
     "name": "stdout",
     "output_type": "stream",
     "text": [
      "Epoch [29/100], Train Loss: 0.0026, Train Acc: 0.9995, Valid Loss: 4.7366, Valid Acc: 0.4448\n"
     ]
    },
    {
     "name": "stderr",
     "output_type": "stream",
     "text": [
      "Train Epoch 29: 100%|██████████| 231/231 [00:21<00:00, 10.58it/s]\n",
      "Valid Epoch 29: 100%|██████████| 19/19 [00:02<00:00,  9.10it/s]\n"
     ]
    },
    {
     "name": "stdout",
     "output_type": "stream",
     "text": [
      "Epoch [30/100], Train Loss: 0.0360, Train Acc: 0.9913, Valid Loss: 5.1343, Valid Acc: 0.3712\n"
     ]
    },
    {
     "name": "stderr",
     "output_type": "stream",
     "text": [
      "Train Epoch 30: 100%|██████████| 231/231 [00:21<00:00, 10.55it/s]\n",
      "Valid Epoch 30: 100%|██████████| 19/19 [00:01<00:00,  9.90it/s]\n"
     ]
    },
    {
     "name": "stdout",
     "output_type": "stream",
     "text": [
      "Epoch [31/100], Train Loss: 0.0224, Train Acc: 0.9932, Valid Loss: 5.2304, Valid Acc: 0.3880\n"
     ]
    },
    {
     "name": "stderr",
     "output_type": "stream",
     "text": [
      "Train Epoch 31: 100%|██████████| 231/231 [00:21<00:00, 10.57it/s]\n",
      "Valid Epoch 31: 100%|██████████| 19/19 [00:02<00:00,  9.39it/s]\n"
     ]
    },
    {
     "name": "stdout",
     "output_type": "stream",
     "text": [
      "Epoch [32/100], Train Loss: 0.0402, Train Acc: 0.9902, Valid Loss: 4.2806, Valid Acc: 0.3913\n"
     ]
    },
    {
     "name": "stderr",
     "output_type": "stream",
     "text": [
      "Train Epoch 32: 100%|██████████| 231/231 [00:21<00:00, 10.59it/s]\n",
      "Valid Epoch 32: 100%|██████████| 19/19 [00:01<00:00,  9.70it/s]\n"
     ]
    },
    {
     "name": "stdout",
     "output_type": "stream",
     "text": [
      "Epoch [33/100], Train Loss: 0.0222, Train Acc: 0.9946, Valid Loss: 4.9564, Valid Acc: 0.4314\n"
     ]
    },
    {
     "name": "stderr",
     "output_type": "stream",
     "text": [
      "Train Epoch 33: 100%|██████████| 231/231 [00:21<00:00, 10.61it/s]\n",
      "Valid Epoch 33: 100%|██████████| 19/19 [00:02<00:00,  9.31it/s]\n"
     ]
    },
    {
     "name": "stdout",
     "output_type": "stream",
     "text": [
      "Epoch [34/100], Train Loss: 0.0097, Train Acc: 0.9976, Valid Loss: 4.7559, Valid Acc: 0.4381\n"
     ]
    },
    {
     "name": "stderr",
     "output_type": "stream",
     "text": [
      "Train Epoch 34: 100%|██████████| 231/231 [00:21<00:00, 10.57it/s]\n",
      "Valid Epoch 34: 100%|██████████| 19/19 [00:02<00:00,  8.82it/s]\n"
     ]
    },
    {
     "name": "stdout",
     "output_type": "stream",
     "text": [
      "Epoch [35/100], Train Loss: 0.0030, Train Acc: 0.9992, Valid Loss: 5.4582, Valid Acc: 0.4582\n"
     ]
    },
    {
     "name": "stderr",
     "output_type": "stream",
     "text": [
      "Train Epoch 35: 100%|██████████| 231/231 [00:21<00:00, 10.54it/s]\n",
      "Valid Epoch 35: 100%|██████████| 19/19 [00:01<00:00,  9.94it/s]\n"
     ]
    },
    {
     "name": "stdout",
     "output_type": "stream",
     "text": [
      "Epoch [36/100], Train Loss: 0.0120, Train Acc: 0.9967, Valid Loss: 5.2928, Valid Acc: 0.4114\n"
     ]
    },
    {
     "name": "stderr",
     "output_type": "stream",
     "text": [
      "Train Epoch 36: 100%|██████████| 231/231 [00:21<00:00, 10.60it/s]\n",
      "Valid Epoch 36: 100%|██████████| 19/19 [00:01<00:00, 10.21it/s]\n"
     ]
    },
    {
     "name": "stdout",
     "output_type": "stream",
     "text": [
      "Epoch [37/100], Train Loss: 0.0098, Train Acc: 0.9967, Valid Loss: 4.7316, Valid Acc: 0.3813\n"
     ]
    },
    {
     "name": "stderr",
     "output_type": "stream",
     "text": [
      "Train Epoch 37: 100%|██████████| 231/231 [00:21<00:00, 10.75it/s]\n",
      "Valid Epoch 37: 100%|██████████| 19/19 [00:01<00:00, 10.79it/s]\n"
     ]
    },
    {
     "name": "stdout",
     "output_type": "stream",
     "text": [
      "Epoch [38/100], Train Loss: 0.0308, Train Acc: 0.9908, Valid Loss: 5.7053, Valid Acc: 0.3880\n"
     ]
    },
    {
     "name": "stderr",
     "output_type": "stream",
     "text": [
      "Train Epoch 38: 100%|██████████| 231/231 [00:21<00:00, 10.56it/s]\n",
      "Valid Epoch 38: 100%|██████████| 19/19 [00:01<00:00,  9.86it/s]\n"
     ]
    },
    {
     "name": "stdout",
     "output_type": "stream",
     "text": [
      "Epoch [39/100], Train Loss: 0.0287, Train Acc: 0.9932, Valid Loss: 6.6336, Valid Acc: 0.4080\n"
     ]
    },
    {
     "name": "stderr",
     "output_type": "stream",
     "text": [
      "Train Epoch 39: 100%|██████████| 231/231 [00:21<00:00, 10.54it/s]\n",
      "Valid Epoch 39: 100%|██████████| 19/19 [00:02<00:00,  9.37it/s]\n"
     ]
    },
    {
     "name": "stdout",
     "output_type": "stream",
     "text": [
      "Epoch [40/100], Train Loss: 0.0249, Train Acc: 0.9943, Valid Loss: 5.1301, Valid Acc: 0.4348\n"
     ]
    },
    {
     "name": "stderr",
     "output_type": "stream",
     "text": [
      "Train Epoch 40: 100%|██████████| 231/231 [00:21<00:00, 10.61it/s]\n",
      "Valid Epoch 40: 100%|██████████| 19/19 [00:02<00:00,  9.33it/s]\n"
     ]
    },
    {
     "name": "stdout",
     "output_type": "stream",
     "text": [
      "Epoch [41/100], Train Loss: 0.0101, Train Acc: 0.9973, Valid Loss: 5.1626, Valid Acc: 0.4247\n"
     ]
    },
    {
     "name": "stderr",
     "output_type": "stream",
     "text": [
      "Train Epoch 41: 100%|██████████| 231/231 [00:21<00:00, 10.72it/s]\n",
      "Valid Epoch 41: 100%|██████████| 19/19 [00:01<00:00, 11.11it/s]\n"
     ]
    },
    {
     "name": "stdout",
     "output_type": "stream",
     "text": [
      "Epoch [42/100], Train Loss: 0.0018, Train Acc: 0.9995, Valid Loss: 5.6579, Valid Acc: 0.4348\n"
     ]
    },
    {
     "name": "stderr",
     "output_type": "stream",
     "text": [
      "Train Epoch 42: 100%|██████████| 231/231 [00:21<00:00, 10.56it/s]\n",
      "Valid Epoch 42: 100%|██████████| 19/19 [00:01<00:00,  9.53it/s]\n"
     ]
    },
    {
     "name": "stdout",
     "output_type": "stream",
     "text": [
      "Epoch [43/100], Train Loss: 0.0037, Train Acc: 0.9992, Valid Loss: 5.4402, Valid Acc: 0.4181\n"
     ]
    },
    {
     "name": "stderr",
     "output_type": "stream",
     "text": [
      "Train Epoch 43: 100%|██████████| 231/231 [00:21<00:00, 10.65it/s]\n",
      "Valid Epoch 43: 100%|██████████| 19/19 [00:01<00:00,  9.94it/s]\n"
     ]
    },
    {
     "name": "stdout",
     "output_type": "stream",
     "text": [
      "Epoch [44/100], Train Loss: 0.0333, Train Acc: 0.9919, Valid Loss: 5.5634, Valid Acc: 0.4080\n"
     ]
    },
    {
     "name": "stderr",
     "output_type": "stream",
     "text": [
      "Train Epoch 44: 100%|██████████| 231/231 [00:21<00:00, 10.67it/s]\n",
      "Valid Epoch 44: 100%|██████████| 19/19 [00:01<00:00,  9.73it/s]\n"
     ]
    },
    {
     "name": "stdout",
     "output_type": "stream",
     "text": [
      "Epoch [45/100], Train Loss: 0.0048, Train Acc: 0.9986, Valid Loss: 6.1734, Valid Acc: 0.4448\n"
     ]
    },
    {
     "name": "stderr",
     "output_type": "stream",
     "text": [
      "Train Epoch 45: 100%|██████████| 231/231 [00:21<00:00, 10.71it/s]\n",
      "Valid Epoch 45: 100%|██████████| 19/19 [00:01<00:00, 10.00it/s]\n"
     ]
    },
    {
     "name": "stdout",
     "output_type": "stream",
     "text": [
      "Epoch [46/100], Train Loss: 0.0460, Train Acc: 0.9910, Valid Loss: 7.3992, Valid Acc: 0.3378\n"
     ]
    },
    {
     "name": "stderr",
     "output_type": "stream",
     "text": [
      "Train Epoch 46: 100%|██████████| 231/231 [00:22<00:00, 10.50it/s]\n",
      "Valid Epoch 46: 100%|██████████| 19/19 [00:01<00:00, 10.18it/s]\n"
     ]
    },
    {
     "name": "stdout",
     "output_type": "stream",
     "text": [
      "Epoch [47/100], Train Loss: 0.0340, Train Acc: 0.9929, Valid Loss: 5.9940, Valid Acc: 0.4214\n"
     ]
    },
    {
     "name": "stderr",
     "output_type": "stream",
     "text": [
      "Train Epoch 47: 100%|██████████| 231/231 [00:21<00:00, 10.60it/s]\n",
      "Valid Epoch 47: 100%|██████████| 19/19 [00:02<00:00,  9.20it/s]\n"
     ]
    },
    {
     "name": "stdout",
     "output_type": "stream",
     "text": [
      "Epoch [48/100], Train Loss: 0.0112, Train Acc: 0.9967, Valid Loss: 5.7803, Valid Acc: 0.4448\n"
     ]
    },
    {
     "name": "stderr",
     "output_type": "stream",
     "text": [
      "Train Epoch 48: 100%|██████████| 231/231 [00:21<00:00, 10.60it/s]\n",
      "Valid Epoch 48: 100%|██████████| 19/19 [00:02<00:00,  9.24it/s]\n"
     ]
    },
    {
     "name": "stdout",
     "output_type": "stream",
     "text": [
      "Epoch [49/100], Train Loss: 0.0114, Train Acc: 0.9973, Valid Loss: 6.2481, Valid Acc: 0.4314\n"
     ]
    },
    {
     "name": "stderr",
     "output_type": "stream",
     "text": [
      "Train Epoch 49: 100%|██████████| 231/231 [00:21<00:00, 10.61it/s]\n",
      "Valid Epoch 49: 100%|██████████| 19/19 [00:01<00:00, 10.10it/s]\n"
     ]
    },
    {
     "name": "stdout",
     "output_type": "stream",
     "text": [
      "Epoch [50/100], Train Loss: 0.0071, Train Acc: 0.9981, Valid Loss: 5.9456, Valid Acc: 0.4047\n"
     ]
    },
    {
     "name": "stderr",
     "output_type": "stream",
     "text": [
      "Train Epoch 50: 100%|██████████| 231/231 [00:21<00:00, 10.61it/s]\n",
      "Valid Epoch 50: 100%|██████████| 19/19 [00:01<00:00,  9.57it/s]\n"
     ]
    },
    {
     "name": "stdout",
     "output_type": "stream",
     "text": [
      "Epoch [51/100], Train Loss: 0.0035, Train Acc: 0.9986, Valid Loss: 6.4122, Valid Acc: 0.4448\n"
     ]
    },
    {
     "name": "stderr",
     "output_type": "stream",
     "text": [
      "Train Epoch 51: 100%|██████████| 231/231 [00:21<00:00, 10.55it/s]\n",
      "Valid Epoch 51: 100%|██████████| 19/19 [00:01<00:00,  9.51it/s]\n"
     ]
    },
    {
     "name": "stdout",
     "output_type": "stream",
     "text": [
      "Epoch [52/100], Train Loss: 0.0015, Train Acc: 0.9995, Valid Loss: 6.9219, Valid Acc: 0.4682\n"
     ]
    },
    {
     "name": "stderr",
     "output_type": "stream",
     "text": [
      "Train Epoch 52: 100%|██████████| 231/231 [00:22<00:00, 10.50it/s]\n",
      "Valid Epoch 52: 100%|██████████| 19/19 [00:02<00:00,  9.20it/s]\n"
     ]
    },
    {
     "name": "stdout",
     "output_type": "stream",
     "text": [
      "Epoch [53/100], Train Loss: 0.0010, Train Acc: 0.9995, Valid Loss: 7.0839, Valid Acc: 0.4582\n"
     ]
    },
    {
     "name": "stderr",
     "output_type": "stream",
     "text": [
      "Train Epoch 53: 100%|██████████| 231/231 [00:22<00:00, 10.48it/s]\n",
      "Valid Epoch 53: 100%|██████████| 19/19 [00:01<00:00, 10.06it/s]\n"
     ]
    },
    {
     "name": "stdout",
     "output_type": "stream",
     "text": [
      "Epoch [54/100], Train Loss: 0.0009, Train Acc: 0.9995, Valid Loss: 6.9432, Valid Acc: 0.4582\n"
     ]
    },
    {
     "name": "stderr",
     "output_type": "stream",
     "text": [
      "Train Epoch 54: 100%|██████████| 231/231 [00:21<00:00, 10.62it/s]\n",
      "Valid Epoch 54: 100%|██████████| 19/19 [00:02<00:00,  9.29it/s]\n"
     ]
    },
    {
     "name": "stdout",
     "output_type": "stream",
     "text": [
      "Epoch [55/100], Train Loss: 0.0009, Train Acc: 0.9995, Valid Loss: 7.3449, Valid Acc: 0.4515\n"
     ]
    },
    {
     "name": "stderr",
     "output_type": "stream",
     "text": [
      "Train Epoch 55: 100%|██████████| 231/231 [00:21<00:00, 10.67it/s]\n",
      "Valid Epoch 55: 100%|██████████| 19/19 [00:01<00:00,  9.91it/s]\n"
     ]
    },
    {
     "name": "stdout",
     "output_type": "stream",
     "text": [
      "Epoch [56/100], Train Loss: 0.0009, Train Acc: 0.9995, Valid Loss: 7.0629, Valid Acc: 0.4582\n"
     ]
    },
    {
     "name": "stderr",
     "output_type": "stream",
     "text": [
      "Train Epoch 56: 100%|██████████| 231/231 [00:21<00:00, 10.73it/s]\n",
      "Valid Epoch 56: 100%|██████████| 19/19 [00:01<00:00, 11.04it/s]\n"
     ]
    },
    {
     "name": "stdout",
     "output_type": "stream",
     "text": [
      "Epoch [57/100], Train Loss: 0.0007, Train Acc: 1.0000, Valid Loss: 7.3443, Valid Acc: 0.4649\n"
     ]
    },
    {
     "name": "stderr",
     "output_type": "stream",
     "text": [
      "Train Epoch 57: 100%|██████████| 231/231 [00:21<00:00, 10.73it/s]\n",
      "Valid Epoch 57: 100%|██████████| 19/19 [00:01<00:00,  9.81it/s]\n"
     ]
    },
    {
     "name": "stdout",
     "output_type": "stream",
     "text": [
      "Epoch [58/100], Train Loss: 0.0005, Train Acc: 1.0000, Valid Loss: 7.6764, Valid Acc: 0.4783\n"
     ]
    },
    {
     "name": "stderr",
     "output_type": "stream",
     "text": [
      "Train Epoch 58: 100%|██████████| 231/231 [00:21<00:00, 10.59it/s]\n",
      "Valid Epoch 58: 100%|██████████| 19/19 [00:01<00:00,  9.86it/s]\n"
     ]
    },
    {
     "name": "stdout",
     "output_type": "stream",
     "text": [
      "Epoch [59/100], Train Loss: 0.0004, Train Acc: 1.0000, Valid Loss: 7.5139, Valid Acc: 0.4548\n"
     ]
    },
    {
     "name": "stderr",
     "output_type": "stream",
     "text": [
      "Train Epoch 59: 100%|██████████| 231/231 [00:21<00:00, 10.56it/s]\n",
      "Valid Epoch 59: 100%|██████████| 19/19 [00:01<00:00, 10.05it/s]\n"
     ]
    },
    {
     "name": "stdout",
     "output_type": "stream",
     "text": [
      "Epoch [60/100], Train Loss: 0.0004, Train Acc: 1.0000, Valid Loss: 7.4109, Valid Acc: 0.4515\n"
     ]
    },
    {
     "name": "stderr",
     "output_type": "stream",
     "text": [
      "Train Epoch 60: 100%|██████████| 231/231 [00:21<00:00, 10.62it/s]\n",
      "Valid Epoch 60: 100%|██████████| 19/19 [00:01<00:00,  9.51it/s]\n"
     ]
    },
    {
     "name": "stdout",
     "output_type": "stream",
     "text": [
      "Epoch [61/100], Train Loss: 0.0003, Train Acc: 1.0000, Valid Loss: 7.8403, Valid Acc: 0.4615\n"
     ]
    },
    {
     "name": "stderr",
     "output_type": "stream",
     "text": [
      "Train Epoch 61: 100%|██████████| 231/231 [00:21<00:00, 10.61it/s]\n",
      "Valid Epoch 61: 100%|██████████| 19/19 [00:01<00:00, 10.35it/s]\n"
     ]
    },
    {
     "name": "stdout",
     "output_type": "stream",
     "text": [
      "Epoch [62/100], Train Loss: 0.0047, Train Acc: 0.9978, Valid Loss: 6.9902, Valid Acc: 0.4080\n"
     ]
    },
    {
     "name": "stderr",
     "output_type": "stream",
     "text": [
      "Train Epoch 62: 100%|██████████| 231/231 [00:21<00:00, 10.64it/s]\n",
      "Valid Epoch 62: 100%|██████████| 19/19 [00:01<00:00, 10.22it/s]\n"
     ]
    },
    {
     "name": "stdout",
     "output_type": "stream",
     "text": [
      "Epoch [63/100], Train Loss: 0.3212, Train Acc: 0.9823, Valid Loss: 6.8392, Valid Acc: 0.3880\n"
     ]
    },
    {
     "name": "stderr",
     "output_type": "stream",
     "text": [
      "Train Epoch 63: 100%|██████████| 231/231 [00:21<00:00, 10.72it/s]\n",
      "Valid Epoch 63: 100%|██████████| 19/19 [00:01<00:00, 11.00it/s]\n"
     ]
    },
    {
     "name": "stdout",
     "output_type": "stream",
     "text": [
      "Epoch [64/100], Train Loss: 0.0230, Train Acc: 0.9957, Valid Loss: 7.6284, Valid Acc: 0.4013\n"
     ]
    },
    {
     "name": "stderr",
     "output_type": "stream",
     "text": [
      "Train Epoch 64: 100%|██████████| 231/231 [00:21<00:00, 10.58it/s]\n",
      "Valid Epoch 64: 100%|██████████| 19/19 [00:01<00:00, 10.63it/s]\n"
     ]
    },
    {
     "name": "stdout",
     "output_type": "stream",
     "text": [
      "Epoch [65/100], Train Loss: 0.0054, Train Acc: 0.9986, Valid Loss: 7.4362, Valid Acc: 0.4080\n"
     ]
    },
    {
     "name": "stderr",
     "output_type": "stream",
     "text": [
      "Train Epoch 65: 100%|██████████| 231/231 [00:22<00:00, 10.49it/s]\n",
      "Valid Epoch 65: 100%|██████████| 19/19 [00:01<00:00, 10.90it/s]\n"
     ]
    },
    {
     "name": "stdout",
     "output_type": "stream",
     "text": [
      "Epoch [66/100], Train Loss: 0.0075, Train Acc: 0.9984, Valid Loss: 6.7296, Valid Acc: 0.3913\n"
     ]
    },
    {
     "name": "stderr",
     "output_type": "stream",
     "text": [
      "Train Epoch 66: 100%|██████████| 231/231 [00:21<00:00, 10.69it/s]\n",
      "Valid Epoch 66: 100%|██████████| 19/19 [00:01<00:00, 10.17it/s]\n"
     ]
    },
    {
     "name": "stdout",
     "output_type": "stream",
     "text": [
      "Epoch [67/100], Train Loss: 0.0050, Train Acc: 0.9984, Valid Loss: 7.0920, Valid Acc: 0.3679\n"
     ]
    },
    {
     "name": "stderr",
     "output_type": "stream",
     "text": [
      "Train Epoch 67: 100%|██████████| 231/231 [00:21<00:00, 10.64it/s]\n",
      "Valid Epoch 67: 100%|██████████| 19/19 [00:02<00:00,  9.35it/s]\n"
     ]
    },
    {
     "name": "stdout",
     "output_type": "stream",
     "text": [
      "Epoch [68/100], Train Loss: 0.0200, Train Acc: 0.9965, Valid Loss: 6.6757, Valid Acc: 0.4348\n"
     ]
    },
    {
     "name": "stderr",
     "output_type": "stream",
     "text": [
      "Train Epoch 68: 100%|██████████| 231/231 [00:21<00:00, 10.53it/s]\n",
      "Valid Epoch 68: 100%|██████████| 19/19 [00:01<00:00,  9.68it/s]\n"
     ]
    },
    {
     "name": "stdout",
     "output_type": "stream",
     "text": [
      "Epoch [69/100], Train Loss: 0.0103, Train Acc: 0.9984, Valid Loss: 6.5074, Valid Acc: 0.3846\n"
     ]
    },
    {
     "name": "stderr",
     "output_type": "stream",
     "text": [
      "Train Epoch 69: 100%|██████████| 231/231 [00:21<00:00, 10.66it/s]\n",
      "Valid Epoch 69: 100%|██████████| 19/19 [00:01<00:00, 10.16it/s]\n"
     ]
    },
    {
     "name": "stdout",
     "output_type": "stream",
     "text": [
      "Epoch [70/100], Train Loss: 0.0286, Train Acc: 0.9962, Valid Loss: 8.0682, Valid Acc: 0.3813\n"
     ]
    },
    {
     "name": "stderr",
     "output_type": "stream",
     "text": [
      "Train Epoch 70: 100%|██████████| 231/231 [00:21<00:00, 10.62it/s]\n",
      "Valid Epoch 70: 100%|██████████| 19/19 [00:01<00:00,  9.75it/s]\n"
     ]
    },
    {
     "name": "stdout",
     "output_type": "stream",
     "text": [
      "Epoch [71/100], Train Loss: 0.0330, Train Acc: 0.9940, Valid Loss: 6.4898, Valid Acc: 0.3746\n"
     ]
    },
    {
     "name": "stderr",
     "output_type": "stream",
     "text": [
      "Train Epoch 71: 100%|██████████| 231/231 [00:22<00:00, 10.42it/s]\n",
      "Valid Epoch 71: 100%|██████████| 19/19 [00:02<00:00,  9.46it/s]\n"
     ]
    },
    {
     "name": "stdout",
     "output_type": "stream",
     "text": [
      "Epoch [72/100], Train Loss: 0.0095, Train Acc: 0.9976, Valid Loss: 6.9049, Valid Acc: 0.4214\n"
     ]
    },
    {
     "name": "stderr",
     "output_type": "stream",
     "text": [
      "Train Epoch 72: 100%|██████████| 231/231 [00:21<00:00, 10.53it/s]\n",
      "Valid Epoch 72: 100%|██████████| 19/19 [00:01<00:00, 10.63it/s]\n"
     ]
    },
    {
     "name": "stdout",
     "output_type": "stream",
     "text": [
      "Epoch [73/100], Train Loss: 0.0100, Train Acc: 0.9976, Valid Loss: 6.9002, Valid Acc: 0.3846\n"
     ]
    },
    {
     "name": "stderr",
     "output_type": "stream",
     "text": [
      "Train Epoch 73: 100%|██████████| 231/231 [00:21<00:00, 10.59it/s]\n",
      "Valid Epoch 73: 100%|██████████| 19/19 [00:02<00:00,  9.34it/s]\n"
     ]
    },
    {
     "name": "stdout",
     "output_type": "stream",
     "text": [
      "Epoch [74/100], Train Loss: 0.0055, Train Acc: 0.9984, Valid Loss: 7.0466, Valid Acc: 0.4214\n"
     ]
    },
    {
     "name": "stderr",
     "output_type": "stream",
     "text": [
      "Train Epoch 74: 100%|██████████| 231/231 [00:21<00:00, 10.58it/s]\n",
      "Valid Epoch 74: 100%|██████████| 19/19 [00:01<00:00,  9.67it/s]\n"
     ]
    },
    {
     "name": "stdout",
     "output_type": "stream",
     "text": [
      "Epoch [75/100], Train Loss: 0.0027, Train Acc: 0.9992, Valid Loss: 7.0128, Valid Acc: 0.4314\n"
     ]
    },
    {
     "name": "stderr",
     "output_type": "stream",
     "text": [
      "Train Epoch 75: 100%|██████████| 231/231 [00:21<00:00, 10.61it/s]\n",
      "Valid Epoch 75: 100%|██████████| 19/19 [00:02<00:00,  9.41it/s]\n"
     ]
    },
    {
     "name": "stdout",
     "output_type": "stream",
     "text": [
      "Epoch [76/100], Train Loss: 0.0065, Train Acc: 0.9986, Valid Loss: 7.5213, Valid Acc: 0.4415\n"
     ]
    },
    {
     "name": "stderr",
     "output_type": "stream",
     "text": [
      "Train Epoch 76: 100%|██████████| 231/231 [00:22<00:00, 10.50it/s]\n",
      "Valid Epoch 76: 100%|██████████| 19/19 [00:01<00:00,  9.59it/s]\n"
     ]
    },
    {
     "name": "stdout",
     "output_type": "stream",
     "text": [
      "Epoch [77/100], Train Loss: 0.0025, Train Acc: 0.9992, Valid Loss: 7.5393, Valid Acc: 0.4381\n"
     ]
    },
    {
     "name": "stderr",
     "output_type": "stream",
     "text": [
      "Train Epoch 77: 100%|██████████| 231/231 [00:21<00:00, 10.56it/s]\n",
      "Valid Epoch 77: 100%|██████████| 19/19 [00:02<00:00,  9.12it/s]\n"
     ]
    },
    {
     "name": "stdout",
     "output_type": "stream",
     "text": [
      "Epoch [78/100], Train Loss: 0.0026, Train Acc: 0.9992, Valid Loss: 7.4896, Valid Acc: 0.3980\n"
     ]
    },
    {
     "name": "stderr",
     "output_type": "stream",
     "text": [
      "Train Epoch 78: 100%|██████████| 231/231 [00:21<00:00, 10.62it/s]\n",
      "Valid Epoch 78: 100%|██████████| 19/19 [00:02<00:00,  9.05it/s]\n"
     ]
    },
    {
     "name": "stdout",
     "output_type": "stream",
     "text": [
      "Epoch [79/100], Train Loss: 0.0023, Train Acc: 0.9995, Valid Loss: 7.5599, Valid Acc: 0.4281\n"
     ]
    },
    {
     "name": "stderr",
     "output_type": "stream",
     "text": [
      "Train Epoch 79: 100%|██████████| 231/231 [00:21<00:00, 10.57it/s]\n",
      "Valid Epoch 79: 100%|██████████| 19/19 [00:01<00:00, 10.19it/s]\n"
     ]
    },
    {
     "name": "stdout",
     "output_type": "stream",
     "text": [
      "Epoch [80/100], Train Loss: 0.0021, Train Acc: 0.9992, Valid Loss: 7.6970, Valid Acc: 0.4314\n"
     ]
    },
    {
     "name": "stderr",
     "output_type": "stream",
     "text": [
      "Train Epoch 80: 100%|██████████| 231/231 [00:21<00:00, 10.66it/s]\n",
      "Valid Epoch 80: 100%|██████████| 19/19 [00:01<00:00, 10.46it/s]\n"
     ]
    },
    {
     "name": "stdout",
     "output_type": "stream",
     "text": [
      "Epoch [81/100], Train Loss: 0.0019, Train Acc: 0.9992, Valid Loss: 7.8981, Valid Acc: 0.4381\n"
     ]
    },
    {
     "name": "stderr",
     "output_type": "stream",
     "text": [
      "Train Epoch 81: 100%|██████████| 231/231 [00:21<00:00, 10.59it/s]\n",
      "Valid Epoch 81: 100%|██████████| 19/19 [00:02<00:00,  9.44it/s]\n"
     ]
    },
    {
     "name": "stdout",
     "output_type": "stream",
     "text": [
      "Epoch [82/100], Train Loss: 0.0016, Train Acc: 0.9995, Valid Loss: 8.1762, Valid Acc: 0.4482\n"
     ]
    },
    {
     "name": "stderr",
     "output_type": "stream",
     "text": [
      "Train Epoch 82: 100%|██████████| 231/231 [00:21<00:00, 10.53it/s]\n",
      "Valid Epoch 82: 100%|██████████| 19/19 [00:02<00:00,  8.90it/s]\n"
     ]
    },
    {
     "name": "stdout",
     "output_type": "stream",
     "text": [
      "Epoch [83/100], Train Loss: 0.0014, Train Acc: 0.9995, Valid Loss: 8.4496, Valid Acc: 0.4415\n"
     ]
    },
    {
     "name": "stderr",
     "output_type": "stream",
     "text": [
      "Train Epoch 83: 100%|██████████| 231/231 [00:21<00:00, 10.54it/s]\n",
      "Valid Epoch 83: 100%|██████████| 19/19 [00:02<00:00,  8.91it/s]\n"
     ]
    },
    {
     "name": "stdout",
     "output_type": "stream",
     "text": [
      "Epoch [84/100], Train Loss: 0.0012, Train Acc: 0.9995, Valid Loss: 8.8933, Valid Acc: 0.4482\n"
     ]
    },
    {
     "name": "stderr",
     "output_type": "stream",
     "text": [
      "Train Epoch 84: 100%|██████████| 231/231 [00:21<00:00, 10.69it/s]\n",
      "Valid Epoch 84: 100%|██████████| 19/19 [00:01<00:00, 10.56it/s]\n"
     ]
    },
    {
     "name": "stdout",
     "output_type": "stream",
     "text": [
      "Epoch [85/100], Train Loss: 0.0008, Train Acc: 0.9995, Valid Loss: 9.2382, Valid Acc: 0.4482\n"
     ]
    },
    {
     "name": "stderr",
     "output_type": "stream",
     "text": [
      "Train Epoch 85: 100%|██████████| 231/231 [00:21<00:00, 10.61it/s]\n",
      "Valid Epoch 85: 100%|██████████| 19/19 [00:02<00:00,  9.42it/s]\n"
     ]
    },
    {
     "name": "stdout",
     "output_type": "stream",
     "text": [
      "Epoch [86/100], Train Loss: 0.0005, Train Acc: 1.0000, Valid Loss: 9.6454, Valid Acc: 0.4515\n"
     ]
    },
    {
     "name": "stderr",
     "output_type": "stream",
     "text": [
      "Train Epoch 86: 100%|██████████| 231/231 [00:22<00:00, 10.49it/s]\n",
      "Valid Epoch 86: 100%|██████████| 19/19 [00:02<00:00,  8.93it/s]\n"
     ]
    },
    {
     "name": "stdout",
     "output_type": "stream",
     "text": [
      "Epoch [87/100], Train Loss: 0.0004, Train Acc: 1.0000, Valid Loss: 9.9391, Valid Acc: 0.4548\n"
     ]
    },
    {
     "name": "stderr",
     "output_type": "stream",
     "text": [
      "Train Epoch 87: 100%|██████████| 231/231 [00:21<00:00, 10.61it/s]\n",
      "Valid Epoch 87: 100%|██████████| 19/19 [00:01<00:00, 10.17it/s]\n"
     ]
    },
    {
     "name": "stdout",
     "output_type": "stream",
     "text": [
      "Epoch [88/100], Train Loss: 0.0003, Train Acc: 1.0000, Valid Loss: 10.1976, Valid Acc: 0.4649\n"
     ]
    },
    {
     "name": "stderr",
     "output_type": "stream",
     "text": [
      "Train Epoch 88: 100%|██████████| 231/231 [00:21<00:00, 10.69it/s]\n",
      "Valid Epoch 88: 100%|██████████| 19/19 [00:01<00:00, 10.14it/s]\n"
     ]
    },
    {
     "name": "stdout",
     "output_type": "stream",
     "text": [
      "Epoch [89/100], Train Loss: 0.0002, Train Acc: 1.0000, Valid Loss: 10.3445, Valid Acc: 0.4649\n"
     ]
    },
    {
     "name": "stderr",
     "output_type": "stream",
     "text": [
      "Train Epoch 89: 100%|██████████| 231/231 [00:21<00:00, 10.52it/s]\n",
      "Valid Epoch 89: 100%|██████████| 19/19 [00:02<00:00,  9.16it/s]\n"
     ]
    },
    {
     "name": "stdout",
     "output_type": "stream",
     "text": [
      "Epoch [90/100], Train Loss: 0.0001, Train Acc: 1.0000, Valid Loss: 10.2481, Valid Acc: 0.4515\n"
     ]
    },
    {
     "name": "stderr",
     "output_type": "stream",
     "text": [
      "Train Epoch 90: 100%|██████████| 231/231 [00:21<00:00, 10.63it/s]\n",
      "Valid Epoch 90: 100%|██████████| 19/19 [00:01<00:00, 10.56it/s]\n"
     ]
    },
    {
     "name": "stdout",
     "output_type": "stream",
     "text": [
      "Epoch [91/100], Train Loss: 0.0001, Train Acc: 1.0000, Valid Loss: 10.4233, Valid Acc: 0.4615\n"
     ]
    },
    {
     "name": "stderr",
     "output_type": "stream",
     "text": [
      "Train Epoch 91: 100%|██████████| 231/231 [00:21<00:00, 10.57it/s]\n",
      "Valid Epoch 91: 100%|██████████| 19/19 [00:01<00:00,  9.63it/s]\n"
     ]
    },
    {
     "name": "stdout",
     "output_type": "stream",
     "text": [
      "Epoch [92/100], Train Loss: 0.0366, Train Acc: 0.9948, Valid Loss: 7.7452, Valid Acc: 0.3712\n"
     ]
    },
    {
     "name": "stderr",
     "output_type": "stream",
     "text": [
      "Train Epoch 92: 100%|██████████| 231/231 [00:21<00:00, 10.55it/s]\n",
      "Valid Epoch 92: 100%|██████████| 19/19 [00:02<00:00,  8.99it/s]\n"
     ]
    },
    {
     "name": "stdout",
     "output_type": "stream",
     "text": [
      "Epoch [93/100], Train Loss: 0.0211, Train Acc: 0.9940, Valid Loss: 7.2897, Valid Acc: 0.4114\n"
     ]
    },
    {
     "name": "stderr",
     "output_type": "stream",
     "text": [
      "Train Epoch 93: 100%|██████████| 231/231 [00:21<00:00, 10.60it/s]\n",
      "Valid Epoch 93: 100%|██████████| 19/19 [00:01<00:00, 10.44it/s]\n"
     ]
    },
    {
     "name": "stdout",
     "output_type": "stream",
     "text": [
      "Epoch [94/100], Train Loss: 0.0072, Train Acc: 0.9978, Valid Loss: 8.8330, Valid Acc: 0.4381\n"
     ]
    },
    {
     "name": "stderr",
     "output_type": "stream",
     "text": [
      "Train Epoch 94: 100%|██████████| 231/231 [00:22<00:00, 10.41it/s]\n",
      "Valid Epoch 94: 100%|██████████| 19/19 [00:01<00:00, 10.04it/s]\n"
     ]
    },
    {
     "name": "stdout",
     "output_type": "stream",
     "text": [
      "Epoch [95/100], Train Loss: 0.0034, Train Acc: 0.9986, Valid Loss: 7.8531, Valid Acc: 0.4181\n"
     ]
    },
    {
     "name": "stderr",
     "output_type": "stream",
     "text": [
      "Train Epoch 95: 100%|██████████| 231/231 [00:21<00:00, 10.54it/s]\n",
      "Valid Epoch 95: 100%|██████████| 19/19 [00:01<00:00, 10.40it/s]\n"
     ]
    },
    {
     "name": "stdout",
     "output_type": "stream",
     "text": [
      "Epoch [96/100], Train Loss: 0.0074, Train Acc: 0.9978, Valid Loss: 8.2904, Valid Acc: 0.4080\n"
     ]
    },
    {
     "name": "stderr",
     "output_type": "stream",
     "text": [
      "Train Epoch 96: 100%|██████████| 231/231 [00:21<00:00, 10.67it/s]\n",
      "Valid Epoch 96: 100%|██████████| 19/19 [00:01<00:00, 10.32it/s]\n"
     ]
    },
    {
     "name": "stdout",
     "output_type": "stream",
     "text": [
      "Epoch [97/100], Train Loss: 0.0018, Train Acc: 0.9992, Valid Loss: 8.6084, Valid Acc: 0.4381\n"
     ]
    },
    {
     "name": "stderr",
     "output_type": "stream",
     "text": [
      "Train Epoch 97: 100%|██████████| 231/231 [00:21<00:00, 10.55it/s]\n",
      "Valid Epoch 97: 100%|██████████| 19/19 [00:01<00:00, 10.53it/s]\n"
     ]
    },
    {
     "name": "stdout",
     "output_type": "stream",
     "text": [
      "Epoch [98/100], Train Loss: 0.0014, Train Acc: 0.9997, Valid Loss: 8.6102, Valid Acc: 0.4348\n"
     ]
    },
    {
     "name": "stderr",
     "output_type": "stream",
     "text": [
      "Train Epoch 98: 100%|██████████| 231/231 [00:21<00:00, 10.72it/s]\n",
      "Valid Epoch 98: 100%|██████████| 19/19 [00:01<00:00,  9.74it/s]\n"
     ]
    },
    {
     "name": "stdout",
     "output_type": "stream",
     "text": [
      "Epoch [99/100], Train Loss: 0.0004, Train Acc: 1.0000, Valid Loss: 8.6496, Valid Acc: 0.4281\n"
     ]
    },
    {
     "name": "stderr",
     "output_type": "stream",
     "text": [
      "Train Epoch 99: 100%|██████████| 231/231 [00:21<00:00, 10.63it/s]\n",
      "Valid Epoch 99: 100%|██████████| 19/19 [00:01<00:00, 10.29it/s]\n"
     ]
    },
    {
     "name": "stdout",
     "output_type": "stream",
     "text": [
      "Epoch [100/100], Train Loss: 0.0003, Train Acc: 1.0000, Valid Loss: 8.6898, Valid Acc: 0.4047\n"
     ]
    }
   ],
   "source": [
    "for epoch in range(num_epochs):\n",
    "    train_loss = 0.0\n",
    "    train_acc = 0.0\n",
    "    valid_loss = 0.0\n",
    "    valid_acc = 0.0\n",
    "    # 訓練模式\n",
    "    model.train()\n",
    "    for images, labels in tqdm.tqdm(train_loader, desc=\"Train Epoch {}\".format(epoch)):\n",
    "        # 將數據移至GPU上\n",
    "        images = images.to(device)\n",
    "        labels = labels.to(device)\n",
    "\n",
    "        # 清零梯度\n",
    "        optimizer.zero_grad()\n",
    "\n",
    "        # 前向傳播\n",
    "        outputs = model(images)\n",
    "        loss = criterion(outputs, labels)\n",
    "\n",
    "        # 反向傳播和優化\n",
    "        loss.backward()\n",
    "        optimizer.step()\n",
    "\n",
    "        # 計算訓練損失和訓練準確率\n",
    "        train_loss += loss.item() * images.size(0)\n",
    "        _, preds = torch.max(outputs, 1)\n",
    "        train_acc += torch.sum(preds == labels.data)\n",
    "\n",
    "    # 計算訓練平均損失和訓練平均準確率\n",
    "    train_loss = train_loss / len(train_loader.dataset)\n",
    "    train_acc = train_acc.double() / len(train_loader.dataset)\n",
    "\n",
    "    # 驗證模式\n",
    "    model.eval()\n",
    "    with torch.no_grad():\n",
    "        for images, labels in tqdm.tqdm(valid_loader, desc=\"Valid Epoch {}\".format(epoch)):\n",
    "            # 將數據移至GPU上\n",
    "            images = images.to(device)\n",
    "            labels = labels.to(device)\n",
    "\n",
    "            # 前向傳播\n",
    "            outputs = model(images)\n",
    "            loss = criterion(outputs, labels)\n",
    "\n",
    "            # 計算驗證損失和驗證準確率\n",
    "            valid_loss += loss.item() * images.size(0)\n",
    "            _, preds = torch.max(outputs, 1)\n",
    "            valid_acc += torch.sum(preds == labels.data)\n",
    "\n",
    "    # 計算驗證平均損失和驗證平均準確率\n",
    "    valid_loss = valid_loss / len(valid_loader.dataset)\n",
    "    valid_acc = valid_acc.double() / len(valid_loader.dataset)\n",
    "\n",
    "    # 輸出訓練和驗證結果\n",
    "    print('Epoch [{}/{}], Train Loss: {:.4f}, Train Acc: {:.4f}, Valid Loss: {:.4f}, Valid Acc: {:.4f}'\n",
    "        .format(epoch+1, num_epochs, train_loss, train_acc, valid_loss, valid_acc))\n"
   ]
  },
  {
   "cell_type": "code",
   "execution_count": 1,
   "metadata": {},
   "outputs": [
    {
     "ename": "NameError",
     "evalue": "name 'train_losses' is not defined",
     "output_type": "error",
     "traceback": [
      "\u001b[0;31m---------------------------------------------------------------------------\u001b[0m",
      "\u001b[0;31mNameError\u001b[0m                                 Traceback (most recent call last)",
      "Cell \u001b[0;32mIn[1], line 4\u001b[0m\n\u001b[1;32m      1\u001b[0m \u001b[39mimport\u001b[39;00m \u001b[39mmatplotlib\u001b[39;00m\u001b[39m.\u001b[39;00m\u001b[39mpyplot\u001b[39;00m \u001b[39mas\u001b[39;00m \u001b[39mplt\u001b[39;00m\n\u001b[1;32m      3\u001b[0m plt\u001b[39m.\u001b[39mfigure(figsize\u001b[39m=\u001b[39m(\u001b[39m10\u001b[39m, \u001b[39m5\u001b[39m))\n\u001b[0;32m----> 4\u001b[0m plt\u001b[39m.\u001b[39mplot(train_losses, label\u001b[39m=\u001b[39m\u001b[39m'\u001b[39m\u001b[39mtrain\u001b[39m\u001b[39m'\u001b[39m)\n\u001b[1;32m      5\u001b[0m plt\u001b[39m.\u001b[39mplot(valid_losses, label\u001b[39m=\u001b[39m\u001b[39m'\u001b[39m\u001b[39mvalid\u001b[39m\u001b[39m'\u001b[39m)\n\u001b[1;32m      6\u001b[0m plt\u001b[39m.\u001b[39mxlabel(\u001b[39m'\u001b[39m\u001b[39mEpochs\u001b[39m\u001b[39m'\u001b[39m)\n",
      "\u001b[0;31mNameError\u001b[0m: name 'train_losses' is not defined"
     ]
    },
    {
     "data": {
      "text/plain": [
       "<Figure size 1000x500 with 0 Axes>"
      ]
     },
     "metadata": {},
     "output_type": "display_data"
    }
   ],
   "source": [
    "import matplotlib.pyplot as plt\n",
    "\n",
    "plt.figure(figsize=(10, 5))\n",
    "plt.plot(train_losses, label='train')\n",
    "plt.plot(valid_losses, label='valid')\n",
    "plt.xlabel('Epochs')\n",
    "plt.ylabel('Loss')\n",
    "plt.legend()\n",
    "plt.show()\n",
    "\n",
    "plt.figure(figsize=(10, 5))\n",
    "plt.plot(train_accs, label='train')\n",
    "plt.plot(valid_accs, label='valid')\n",
    "plt.xlabel('Epochs')\n",
    "plt.ylabel('Accuracy')\n",
    "plt.legend()\n",
    "plt.show()"
   ]
  },
  {
   "cell_type": "code",
   "execution_count": 25,
   "metadata": {},
   "outputs": [
    {
     "data": {
      "image/png": "[encoded data removed]",
      "text/plain": [
       "<Figure size 1000x800 with 2 Axes>"
      ]
     },
     "metadata": {},
     "output_type": "display_data"
    }
   ],
   "source": [
    "from sklearn.metrics import confusion_matrix\n",
    "import seaborn as sns\n",
    "\n",
    "cm = confusion_matrix(true_labels, pred_labels)\n",
    "plt.figure(figsize=(10, 8))\n",
    "sns.heatmap(cm, annot=True, cmap=plt.cm.Blues, xticklabels=train_dataset.classes, yticklabels=train_dataset.classes)\n",
    "plt.xlabel('Predicted Labels')\n",
    "plt.ylabel('True Labels')\n",
    "plt.show()"
   ]
  },
  {
   "attachments": {},
   "cell_type": "markdown",
   "metadata": {},
   "source": [
    "## 防止overfit"
   ]
  },
  {
   "cell_type": "code",
   "execution_count": 5,
   "metadata": {},
   "outputs": [
    {
     "name": "stdout",
     "output_type": "stream",
     "text": [
      "cuda:0\n"
     ]
    }
   ],
   "source": [
    "import torch\n",
    "import torch.nn as nn\n",
    "import torch.optim as optim\n",
    "from torch.utils.data import DataLoader\n",
    "from torchvision import transforms\n",
    "from torchvision.datasets import ImageFolder\n",
    "import tqdm\n",
    "\n",
    "# Check if GPU is available\n",
    "device = torch.device(\"cuda:0\" if torch.cuda.is_available() else \"cpu\")\n",
    "print(device)\n",
    "\n",
    "# 超參數設置\n",
    "num_epochs = 50\n",
    "batch_size = 16\n",
    "learning_rate = 0.001\n",
    "\n",
    "# 設置訓練數據讀取器\n",
    "train_transforms = transforms.Compose([\n",
    "    transforms.Resize((640, 640)),\n",
    "    transforms.RandomHorizontalFlip(),\n",
    "    transforms.ToTensor(),\n",
    "    transforms.Normalize([0.5, 0.5, 0.5], [0.5, 0.5, 0.5])\n",
    "])\n",
    "train_dataset = ImageFolder(\"/home/kevinluo/breast_density_classification/datasets/train\", transform=train_transforms)\n",
    "train_loader = DataLoader(train_dataset, batch_size=batch_size, shuffle=True)\n",
    "\n",
    "# 設置驗證數據讀取器\n",
    "valid_transforms = transforms.Compose([\n",
    "    transforms.Resize((640, 640)),\n",
    "    transforms.ToTensor(),\n",
    "    transforms.Normalize([0.5, 0.5, 0.5], [0.5, 0.5, 0.5])\n",
    "])\n",
    "valid_dataset = ImageFolder(\"/home/kevinluo/breast_density_classification/datasets/valid\", transform=valid_transforms)\n",
    "valid_loader = DataLoader(valid_dataset, batch_size=batch_size, shuffle=False)\n",
    "\n",
    "# 設置測試數據讀取器\n",
    "test_transforms = transforms.Compose([\n",
    "    transforms.Resize((640, 640)),\n",
    "    transforms.ToTensor(),\n",
    "    transforms.Normalize([0.5, 0.5, 0.5], [0.5, 0.5, 0.5])\n",
    "])\n",
    "test_dataset = ImageFolder(\"/home/kevinluo/breast_density_classification/datasets/test\", transform=test_transforms)\n",
    "test_loader = DataLoader(test_dataset, batch_size=batch_size, shuffle=False)\n",
    "\n",
    "# 設置模型\n",
    "class CNNClassifier(nn.Module):\n",
    "    def __init__(self):\n",
    "        super(CNNClassifier, self).__init__()\n",
    "        self.conv1 = nn.Conv2d(3, 16, kernel_size=3, stride=1, padding=1)\n",
    "        self.pool1 = nn.MaxPool2d(kernel_size=2, stride=2)\n",
    "        self.conv2 = nn.Conv2d(16, 32, kernel_size=3, stride=1, padding=1)\n",
    "        self.pool2 = nn.MaxPool2d(kernel_size=2, stride=2)\n",
    "        self.fc1 = nn.Linear(32 * 160 * 160, 256)\n",
    "        self.fc2 = nn.Linear(256, 4)\n",
    "        \n",
    "    def forward(self, x):\n",
    "        x = self.conv1(x)\n",
    "        x = nn.functional.relu(x)\n",
    "        x = self.pool1(x)\n",
    "        x = self.conv2(x)\n",
    "        x = nn.functional.relu(x)\n",
    "        x = self.pool2(x)\n",
    "        x = x.view(-1, 32 * 160 * 160)\n",
    "        x = self.fc1(x)\n",
    "        x = nn.functional.relu(x)\n",
    "        x = self.fc2(x)\n",
    "        return x\n",
    "\n",
    "\n",
    "# Move model and data to GPU\n",
    "model = CNNClassifier().to(device)\n",
    "train_loader = DataLoader(train_dataset, batch_size=batch_size, shuffle=True, pin_memory=True, num_workers=4)\n",
    "valid_loader = DataLoader(valid_dataset, batch_size=batch_size, shuffle=False, pin_memory=True, num_workers=4)\n",
    "test_loader = DataLoader(test_dataset, batch_size=batch_size, shuffle=False, pin_memory=True, num_workers=4)\n"
   ]
  },
  {
   "cell_type": "code",
   "execution_count": 6,
   "metadata": {},
   "outputs": [],
   "source": [
    "#設置損失函數和優化器\n",
    "criterion = nn.CrossEntropyLoss()\n",
    "optimizer = torch.optim.Adam(model.parameters(), lr=learning_rate)"
   ]
  },
  {
   "cell_type": "code",
   "execution_count": 9,
   "metadata": {},
   "outputs": [],
   "source": [
    "class CNNClassifier(nn.Module):\n",
    "    def __init__(self):\n",
    "        super(CNNClassifier, self).__init__()\n",
    "        self.conv1 = nn.Conv2d(3, 16, kernel_size=3, stride=1, padding=1)\n",
    "        self.pool1 = nn.MaxPool2d(kernel_size=2, stride=2)\n",
    "        self.conv2 = nn.Conv2d(16, 32, kernel_size=3, stride=1, padding=1)\n",
    "        self.pool2 = nn.MaxPool2d(kernel_size=2, stride=2)\n",
    "        self.fc1 = nn.Linear(32 * 160 * 160, 256)\n",
    "        self.fc2 = nn.Linear(256, 4)\n",
    "        self.dropout = nn.Dropout(p=0.5)\n",
    "        \n",
    "    def forward(self, x):\n",
    "        x = self.conv1(x)\n",
    "        x = nn.functional.relu(x)\n",
    "        x = self.pool1(x)\n",
    "        x = self.conv2(x)\n",
    "        x = nn.functional.relu(x)\n",
    "        x = self.pool2(x)\n",
    "        x = x.view(-1, 32 * 160 * 160)\n",
    "        x = self.fc1(x)\n",
    "        x = nn.functional.relu(x)\n",
    "        x = self.dropout(x)\n",
    "        x = self.fc2(x)\n",
    "        return x"
   ]
  },
  {
   "cell_type": "code",
   "execution_count": 10,
   "metadata": {},
   "outputs": [
    {
     "name": "stdout",
     "output_type": "stream",
     "text": [
      "Epoch [1/50], Validation Accuracy: 55.52%\n",
      "Test Accuracy: 52.01%\n",
      "Epoch [2/50], Validation Accuracy: 48.83%\n",
      "Test Accuracy: 51.84%\n",
      "Epoch [3/50], Validation Accuracy: 49.83%\n",
      "Test Accuracy: 51.34%\n",
      "Epoch [4/50], Validation Accuracy: 48.83%\n",
      "Test Accuracy: 52.68%\n",
      "Epoch [5/50], Validation Accuracy: 45.82%\n",
      "Test Accuracy: 46.66%\n",
      "Epoch [6/50], Validation Accuracy: 45.82%\n",
      "Test Accuracy: 49.16%\n",
      "Epoch [7/50], Validation Accuracy: 45.82%\n",
      "Test Accuracy: 47.66%\n",
      "Epoch [8/50], Validation Accuracy: 45.82%\n",
      "Test Accuracy: 51.00%\n",
      "Epoch [9/50], Validation Accuracy: 45.82%\n",
      "Test Accuracy: 51.00%\n",
      "Epoch [10/50], Validation Accuracy: 46.49%\n",
      "Test Accuracy: 50.00%\n",
      "Epoch [11/50], Validation Accuracy: 48.16%\n",
      "Test Accuracy: 51.00%\n",
      "Epoch [12/50], Validation Accuracy: 42.81%\n",
      "Test Accuracy: 48.16%\n",
      "Epoch [13/50], Validation Accuracy: 46.15%\n",
      "Test Accuracy: 48.49%\n",
      "Epoch [14/50], Validation Accuracy: 45.15%\n",
      "Test Accuracy: 48.49%\n",
      "Epoch [15/50], Validation Accuracy: 48.16%\n",
      "Test Accuracy: 51.51%\n",
      "Epoch [16/50], Validation Accuracy: 45.48%\n",
      "Test Accuracy: 50.00%\n",
      "Epoch [17/50], Validation Accuracy: 45.82%\n",
      "Test Accuracy: 49.33%\n",
      "Epoch [18/50], Validation Accuracy: 45.82%\n",
      "Test Accuracy: 50.33%\n",
      "Epoch [19/50], Validation Accuracy: 44.48%\n",
      "Test Accuracy: 45.82%\n",
      "Epoch [20/50], Validation Accuracy: 42.81%\n",
      "Test Accuracy: 46.32%\n",
      "Epoch [21/50], Validation Accuracy: 44.82%\n",
      "Test Accuracy: 47.16%\n",
      "Epoch [22/50], Validation Accuracy: 44.82%\n",
      "Test Accuracy: 47.16%\n",
      "Epoch [23/50], Validation Accuracy: 43.81%\n",
      "Test Accuracy: 48.83%\n",
      "Epoch [24/50], Validation Accuracy: 45.15%\n",
      "Test Accuracy: 48.16%\n",
      "Epoch [25/50], Validation Accuracy: 45.48%\n",
      "Test Accuracy: 49.16%\n",
      "Epoch [26/50], Validation Accuracy: 42.81%\n",
      "Test Accuracy: 49.33%\n",
      "Epoch [27/50], Validation Accuracy: 44.48%\n",
      "Test Accuracy: 47.49%\n",
      "Epoch [28/50], Validation Accuracy: 44.15%\n",
      "Test Accuracy: 48.66%\n",
      "Epoch [29/50], Validation Accuracy: 43.14%\n",
      "Test Accuracy: 47.83%\n",
      "Epoch [30/50], Validation Accuracy: 42.47%\n",
      "Test Accuracy: 45.15%\n",
      "Epoch [31/50], Validation Accuracy: 43.14%\n",
      "Test Accuracy: 47.66%\n",
      "Epoch [32/50], Validation Accuracy: 43.81%\n",
      "Test Accuracy: 46.99%\n",
      "Epoch [33/50], Validation Accuracy: 44.15%\n",
      "Test Accuracy: 50.50%\n",
      "Epoch [34/50], Validation Accuracy: 44.15%\n",
      "Test Accuracy: 47.49%\n",
      "Epoch [35/50], Validation Accuracy: 40.47%\n",
      "Test Accuracy: 44.15%\n",
      "Epoch [36/50], Validation Accuracy: 44.15%\n",
      "Test Accuracy: 49.16%\n",
      "Epoch [37/50], Validation Accuracy: 40.80%\n",
      "Test Accuracy: 45.65%\n",
      "Epoch [38/50], Validation Accuracy: 42.47%\n",
      "Test Accuracy: 45.48%\n",
      "Epoch [39/50], Validation Accuracy: 42.47%\n",
      "Test Accuracy: 46.99%\n",
      "Epoch [40/50], Validation Accuracy: 43.81%\n",
      "Test Accuracy: 44.65%\n",
      "Epoch [41/50], Validation Accuracy: 42.14%\n",
      "Test Accuracy: 47.16%\n",
      "Epoch [42/50], Validation Accuracy: 46.15%\n",
      "Test Accuracy: 47.32%\n",
      "Epoch [43/50], Validation Accuracy: 44.15%\n",
      "Test Accuracy: 46.15%\n",
      "Epoch [44/50], Validation Accuracy: 43.48%\n",
      "Test Accuracy: 45.65%\n",
      "Epoch [45/50], Validation Accuracy: 43.81%\n",
      "Test Accuracy: 46.32%\n",
      "Epoch [46/50], Validation Accuracy: 44.82%\n",
      "Test Accuracy: 45.99%\n",
      "Epoch [47/50], Validation Accuracy: 44.82%\n",
      "Test Accuracy: 47.16%\n",
      "Epoch [48/50], Validation Accuracy: 46.15%\n",
      "Test Accuracy: 46.99%\n",
      "Epoch [49/50], Validation Accuracy: 46.15%\n",
      "Test Accuracy: 47.66%\n",
      "Epoch [50/50], Validation Accuracy: 38.13%\n",
      "Test Accuracy: 42.98%\n"
     ]
    }
   ],
   "source": [
    "#訓練模型\n",
    "for epoch in range(num_epochs):\n",
    "    model.train()\n",
    "    for i, (images, labels) in enumerate(train_loader):\n",
    "        images = images.to(device)\n",
    "        labels = labels.to(device)\n",
    "            # Forward pass\n",
    "        outputs = model(images)\n",
    "        loss = criterion(outputs, labels)\n",
    "\n",
    "        # Backward and optimize\n",
    "        optimizer.zero_grad()\n",
    "        loss.backward()\n",
    "        optimizer.step()\n",
    "\n",
    "    # 驗證模型\n",
    "    model.eval()\n",
    "    with torch.no_grad():\n",
    "        correct = 0\n",
    "        total = 0\n",
    "        for images, labels in valid_loader:\n",
    "            images = images.to(device)\n",
    "            labels = labels.to(device)\n",
    "            outputs = model(images)\n",
    "            _, predicted = torch.max(outputs.data, 1)\n",
    "            total += labels.size(0)\n",
    "            correct += (predicted == labels).sum().item()\n",
    "        print('Epoch [{}/{}], Validation Accuracy: {:.2f}%'.format(epoch + 1, num_epochs, 100 * correct / total))\n",
    "    # 測試模型\n",
    "    model.eval()\n",
    "    with torch.no_grad():\n",
    "        correct = 0\n",
    "        total = 0\n",
    "        for images, labels in test_loader:\n",
    "            images = images.to(device)\n",
    "            labels = labels.to(device)\n",
    "            outputs = model(images)\n",
    "            _, predicted = torch.max(outputs.data, 1)\n",
    "            total += labels.size(0)\n",
    "            correct += (predicted == labels).sum().item()\n",
    "        print('Test Accuracy: {:.2f}%'.format(100 * correct / total))\n",
    "\n"
   ]
  },
  {
   "cell_type": "code",
   "execution_count": 11,
   "metadata": {},
   "outputs": [
    {
     "ename": "NameError",
     "evalue": "name 'train_losses' is not defined",
     "output_type": "error",
     "traceback": [
      "\u001b[0;31m---------------------------------------------------------------------------\u001b[0m",
      "\u001b[0;31mNameError\u001b[0m                                 Traceback (most recent call last)",
      "Cell \u001b[0;32mIn[11], line 4\u001b[0m\n\u001b[1;32m      1\u001b[0m \u001b[39mimport\u001b[39;00m \u001b[39mmatplotlib\u001b[39;00m\u001b[39m.\u001b[39;00m\u001b[39mpyplot\u001b[39;00m \u001b[39mas\u001b[39;00m \u001b[39mplt\u001b[39;00m\n\u001b[1;32m      3\u001b[0m plt\u001b[39m.\u001b[39mfigure(figsize\u001b[39m=\u001b[39m(\u001b[39m10\u001b[39m, \u001b[39m5\u001b[39m))\n\u001b[0;32m----> 4\u001b[0m plt\u001b[39m.\u001b[39mplot(train_losses, label\u001b[39m=\u001b[39m\u001b[39m'\u001b[39m\u001b[39mtrain\u001b[39m\u001b[39m'\u001b[39m)\n\u001b[1;32m      5\u001b[0m plt\u001b[39m.\u001b[39mplot(valid_losses, label\u001b[39m=\u001b[39m\u001b[39m'\u001b[39m\u001b[39mvalid\u001b[39m\u001b[39m'\u001b[39m)\n\u001b[1;32m      6\u001b[0m plt\u001b[39m.\u001b[39mxlabel(\u001b[39m'\u001b[39m\u001b[39mEpochs\u001b[39m\u001b[39m'\u001b[39m)\n",
      "\u001b[0;31mNameError\u001b[0m: name 'train_losses' is not defined"
     ]
    },
    {
     "data": {
      "text/plain": [
       "<Figure size 1000x500 with 0 Axes>"
      ]
     },
     "metadata": {},
     "output_type": "display_data"
    }
   ],
   "source": [
    "import matplotlib.pyplot as plt\n",
    "\n",
    "plt.figure(figsize=(10, 5))\n",
    "plt.plot(train_losses, label='train')\n",
    "plt.plot(valid_losses, label='valid')\n",
    "plt.xlabel('Epochs')\n",
    "plt.ylabel('Loss')\n",
    "plt.legend()\n",
    "plt.show()\n",
    "\n",
    "plt.figure(figsize=(10, 5))\n",
    "plt.plot(train_accs, label='train')\n",
    "plt.plot(valid_accs, label='valid')\n",
    "plt.xlabel('Epochs')\n",
    "plt.ylabel('Accuracy')\n",
    "plt.legend()\n",
    "plt.show()"
   ]
  },
  {
   "attachments": {},
   "cell_type": "markdown",
   "metadata": {},
   "source": [
    "## More complexity CNN"
   ]
  },
  {
   "cell_type": "code",
   "execution_count": null,
   "metadata": {},
   "outputs": [],
   "source": [
    "from click import progressbar\n",
    "import torch\n",
    "import torch.nn as nn\n",
    "import torch.optim as optim\n",
    "from torch.utils.data import DataLoader\n",
    "from torchvision import datasets, transforms, models\n",
    "from sklearn.metrics import confusion_matrix, classification_report\n",
    "import matplotlib.pyplot as plt\n",
    "import numpy as np\n",
    "import time\n",
    "import os\n",
    "\n",
    "# 定義CNN模型\n",
    "class Net(nn.Module):\n",
    "    def __init__(self):\n",
    "        super(Net, self).__init__()\n",
    "        self.conv1 = nn.Conv2d(3, 16, 5)\n",
    "        self.pool = nn.MaxPool2d(2, 2)\n",
    "        self.conv2 = nn.Conv2d(16, 32, 5)\n",
    "        self.fc1 = nn.Linear(32 * 157 * 157, 120)\n",
    "        self.fc2 = nn.Linear(120, 84)\n",
    "        self.fc3 = nn.Linear(84, 4)\n",
    "\n",
    "    def forward(self, x):\n",
    "        x = self.pool(nn.functional.relu(self.conv1(x)))\n",
    "        x = self.pool(nn.functional.relu(self.conv2(x)))\n",
    "        x = x.view(-1, 32 * 157 * 157)\n",
    "        x = nn.functional.relu(self.fc1(x))\n",
    "        x = nn.functional.relu(self.fc2(x))\n",
    "        x = self.fc3(x)\n",
    "        return x\n",
    "\n",
    "# 定義transforms，對數據進行預處理\n",
    "transform = transforms.Compose([\n",
    "    transforms.Resize((640, 640)),\n",
    "    transforms.RandomHorizontalFlip(),\n",
    "    transforms.ToTensor(),\n",
    "    transforms.Normalize([0.5, 0.5, 0.5], [0.5, 0.5, 0.5])\n",
    "])\n",
    "\n",
    "# 載入訓練數據\n",
    "train_dataset = datasets.ImageFolder(root='./train', transform=transform)\n",
    "train_loader = DataLoader(train_dataset, batch_size=32, shuffle=True, num_workers=4)\n",
    "\n",
    "# 載入驗證數據\n",
    "valid_dataset = datasets.ImageFolder(root='./valid', transform=transform)\n",
    "valid_loader = DataLoader(valid_dataset, batch_size=32, shuffle=True, num_workers=4)\n",
    "\n",
    "# 載入測試數據\n",
    "test_dataset = datasets.ImageFolder(root='./test', transform=transform)\n",
    "test_loader = DataLoader(test_dataset, batch_size=32, shuffle=True, num_workers=4)\n",
    "\n",
    "# 初始化模型\n",
    "model = Net()\n",
    "\n",
    "# 定義損失函數和優化器\n",
    "criterion = nn.CrossEntropyLoss()\n",
    "optimizer = optim.SGD(model.parameters(), lr=0.001, momentum=0.9)\n",
    "\n",
    "# 訓練模型\n",
    "num_epochs = 10\n",
    "train_losses = []\n",
    "train_accs = []\n",
    "valid_losses = []\n",
    "valid_accs = []\n",
    "\n",
    "start_time = time.time()\n",
    "\n",
    "for epoch in range(num_epochs):\n",
    "    train_loss = 0.0\n",
    "    train_acc = 0.0\n",
    "    valid_loss = 0.0\n",
    "    valid_acc = 0.0\n",
    "    # 訓練模型\n",
    "    net.train()\n",
    "    for i, data in enumerate(train_loader, 0):\n",
    "        inputs, labels = data\n",
    "        inputs, labels = inputs.to(device), labels.to(device)\n",
    "        optimizer.zero_grad()\n",
    "        outputs = net(inputs)\n",
    "        loss = criterion(outputs, labels)\n",
    "        loss.backward()\n",
    "        optimizer.step()\n",
    "        \n",
    "        train_loss += loss.item()\n",
    "        _, predicted = torch.max(outputs.data, 1)\n",
    "        train_acc += (predicted == labels).sum().item()\n",
    "        \n",
    "        progressbar(i, len(train_loader), 'Train Epoch {}: Loss: {:.6f}, Acc: {:.6f}'.format(epoch+1, train_loss/(i+1), train_acc/((i+1)*batch_size)))\n",
    "\n",
    "    train_loss /= len(train_loader)\n",
    "    train_acc /= len(train_set)\n",
    "    train_losses.append(train_loss)\n",
    "    train_accs.append(train_acc)\n",
    "\n",
    "    # 驗證模型\n",
    "    net.eval()\n",
    "    with torch.no_grad():\n",
    "        for i, data in enumerate(valid_loader, 0):\n",
    "            inputs, labels = data\n",
    "            inputs, labels = inputs.to(device), labels.to(device)\n",
    "            outputs = net(inputs)\n",
    "            loss = criterion(outputs, labels)\n",
    "            \n",
    "            valid_loss += loss.item()\n",
    "            _, predicted = torch.max(outputs.data, 1)\n",
    "            valid_acc += (predicted == labels).sum().item()\n",
    "            \n",
    "            progress_bar(i, len(valid_loader), 'Valid Epoch {}: Loss: {:.6f}, Acc: {:.6f}'.format(epoch+1, valid_loss/(i+1), valid_acc/((i+1)*batch_size)))\n",
    "        \n",
    "        valid_loss /= len(valid_loader)\n",
    "        valid_acc /= len(valid_set)\n",
    "        valid_losses.append(valid_loss)\n",
    "        valid_accs.append(valid_acc)\n",
    "\n",
    "    # 記錄並輸出epoch的訓練結果\n",
    "    print('Epoch {}: Train Loss: {:.6f}, Train Acc: {:.6f}, Valid Loss: {:.6f}, Valid Acc: {:.6f}'.format(epoch+1, train_loss, train_acc, valid_loss, valid_acc))\n",
    "\n"
   ]
  }
 ],
 "metadata": {
  "kernelspec": {
   "display_name": "yolov8",
   "language": "python",
   "name": "python3"
  },
  "language_info": {
   "codemirror_mode": {
    "name": "ipython",
    "version": 3
   },
   "file_extension": ".py",
   "mimetype": "text/x-python",
   "name": "python",
   "nbconvert_exporter": "python",
   "pygments_lexer": "ipython3",
   "version": "3.10.9"
  },
  "orig_nbformat": 4,
  "vscode": {
   "interpreter": {
    "hash": "d74e7dfd7e6ea4388df66e3e423c1722110b726bcca61fd11a7c4cd52c34db99"
   }
  }
 },
 "nbformat": 4,
 "nbformat_minor": 2
}
