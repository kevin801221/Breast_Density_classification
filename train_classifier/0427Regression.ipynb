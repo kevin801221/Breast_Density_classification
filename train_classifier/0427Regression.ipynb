{
 "cells": [
  {
   "cell_type": "code",
   "execution_count": 1,
   "metadata": {},
   "outputs": [
    {
     "name": "stderr",
     "output_type": "stream",
     "text": [
      "/home/kevinluo/anaconda3/envs/yolov8/lib/python3.10/site-packages/tqdm/auto.py:21: TqdmWarning: IProgress not found. Please update jupyter and ipywidgets. See https://ipywidgets.readthedocs.io/en/stable/user_install.html\n",
      "  from .autonotebook import tqdm as notebook_tqdm\n"
     ]
    }
   ],
   "source": [
    "import os\n",
    "import time\n",
    "import numpy as np\n",
    "import torch\n",
    "import torch.nn as nn\n",
    "import torch.optim as optim\n",
    "from torch.utils.data import Dataset, DataLoader\n",
    "from torchvision import transforms, utils\n",
    "from PIL import Image\n",
    "from tqdm.auto import tqdm\n",
    "from sklearn.metrics import mean_squared_error, r2_score\n",
    "\n",
    "# 設定超參數\n",
    "num_classes = 4\n",
    "num_epochs = 20\n",
    "batch_size = 8\n",
    "learning_rate = 0.001\n",
    "input_size = (640, 640)\n",
    "\n",
    "# 定義圖像數據集\n",
    "class BreastDensityDataset(Dataset):\n",
    "    def __init__(self, root_dir, transform=None):\n",
    "        self.root_dir = root_dir\n",
    "        self.transform = transform\n",
    "        self.samples = []\n",
    "\n",
    "        for density in range(1, num_classes + 1):\n",
    "            class_dir = os.path.join(self.root_dir, f\"breast_density{density}\")\n",
    "            for img_name in os.listdir(class_dir):\n",
    "                img_path = os.path.join(class_dir, img_name)\n",
    "                self.samples.append((img_path, density - 1))\n",
    "\n",
    "    def __len__(self):\n",
    "        return len(self.samples)\n",
    "\n",
    "    def __getitem__(self, idx):\n",
    "        img_path, target = self.samples[idx]\n",
    "        image = Image.open(img_path).convert(\"RGB\")\n",
    "\n",
    "        if self.transform:\n",
    "            image = self.transform(image)\n",
    "\n",
    "        return image, target\n",
    "\n",
    "# 定義圖像轉換\n",
    "transform = transforms.Compose([\n",
    "    transforms.Resize(input_size),\n",
    "    transforms.ToTensor(),\n",
    "    transforms.Normalize(mean=[0.485, 0.456, 0.406], std=[0.229, 0.224, 0.225])\n",
    "])\n",
    "\n",
    "# 創建數據集和數據加載器\n",
    "train_dataset = BreastDensityDataset(\"/home/kevinluo/breast_density_classification/datasets/train\", transform=transform)\n",
    "valid_dataset = BreastDensityDataset(\"/home/kevinluo/breast_density_classification/datasets/valid\", transform=transform)\n",
    "test_dataset = BreastDensityDataset(\"/home/kevinluo/breast_density_classification/datasets/test\", transform=transform)\n",
    "\n",
    "train_loader = DataLoader(train_dataset, batch_size=batch_size, shuffle=True)\n",
    "valid_loader = DataLoader(valid_dataset, batch_size=batch_size, shuffle=False)\n",
    "test_loader = DataLoader(test_dataset, batch_size=batch_size, shuffle=False)\n",
    "\n",
    "# 定義模型\n",
    "class CNN(nn.Module):\n",
    "    def __init__(self):\n",
    "        super(CNN, self).__init__()\n",
    "        self.features = nn.Sequential(\n",
    "            nn.Conv2d(3, 64, kernel_size=3, stride=1, padding=1),\n",
    "            nn.ReLU(),\n",
    "            nn.MaxPool2d(kernel_size=2, stride=2),\n",
    "            nn.Conv2d(64, 128, kernel_size=3, stride=1, padding=1),\n",
    "            nn.ReLU(),\n",
    "            nn.MaxPool2d(kernel_size=2, stride=2),\n",
    "            nn.Conv2d(128, 256, kernel_size=3, stride=1, padding=1),\n",
    "            nn.ReLU(),\n",
    "            nn.MaxPool2d(kernel_size=2, stride=2),\n",
    "            nn.Conv2d(256, 512, kernel_size=3, stride=1, padding=1),\n",
    "            nn.ReLU(),\n",
    "            nn.MaxPool2d(kernel_size=2, stride=2),\n",
    "            nn.Conv2d(512, 512, kernel_size=3, stride=1, padding=1),\n",
    "            nn.ReLU(),\n",
    "            nn.MaxPool2d(kernel_size=2, stride=2)\n",
    "            )\n",
    "        self.classifier = nn.Sequential(\n",
    "            nn.Linear(512 * 20 * 20, 4096),\n",
    "            nn.ReLU(),\n",
    "            nn.Dropout(),\n",
    "            nn.Linear(4096, 4096),\n",
    "            nn.ReLU(),\n",
    "            nn.Dropout(),\n",
    "            nn.Linear(4096, 1)\n",
    "            )\n",
    "    def forward(self, x):\n",
    "        x = self.features(x)\n",
    "        x = x.view(x.size(0), -1)\n",
    "        x = self.classifier(x)\n",
    "        return x\n",
    "  \n"
   ]
  },
  {
   "cell_type": "code",
   "execution_count": 2,
   "metadata": {},
   "outputs": [],
   "source": [
    "def train(model, dataloader, criterion, optimizer, device):\n",
    "    model.train()\n",
    "    running_loss = 0.0\n",
    "    total = 0\n",
    "    for images, labels in tqdm(dataloader, desc=\"Training\"):\n",
    "        images, labels = images.to(device), labels.to(device)\n",
    "        optimizer.zero_grad()\n",
    "        outputs = model(images)\n",
    "        loss = criterion(outputs.view(-1), labels.float())\n",
    "        loss.backward()\n",
    "        optimizer.step()\n",
    "\n",
    "        running_loss += loss.item() * images.size(0)\n",
    "        total += labels.size(0)\n",
    "\n",
    "    return running_loss / total\n",
    "\n"
   ]
  },
  {
   "cell_type": "code",
   "execution_count": 3,
   "metadata": {},
   "outputs": [],
   "source": [
    "def validate(model, dataloader, criterion, device):\n",
    "    model.eval()\n",
    "    running_loss = 0.0\n",
    "    total = 0\n",
    "    with torch.no_grad():\n",
    "        for images, labels in tqdm(dataloader, desc=\"Validation\"):\n",
    "            images, labels = images.to(device), labels.to(device)\n",
    "            outputs = model(images)\n",
    "            loss = criterion(outputs.view(-1), labels.float())\n",
    "\n",
    "            running_loss += loss.item() * images.size(0)\n",
    "            total += labels.size(0)\n",
    "\n",
    "        return running_loss / total\n"
   ]
  },
  {
   "cell_type": "code",
   "execution_count": 4,
   "metadata": {},
   "outputs": [],
   "source": [
    "device = torch.device(\"cuda:1\" if torch.cuda.is_available() else \"cpu\")"
   ]
  },
  {
   "cell_type": "code",
   "execution_count": 5,
   "metadata": {},
   "outputs": [],
   "source": [
    "model = CNN().to(device)\n",
    "criterion = nn.MSELoss()\n",
    "optimizer = optim.Adam(model.parameters(), lr=learning_rate)"
   ]
  },
  {
   "cell_type": "code",
   "execution_count": 6,
   "metadata": {},
   "outputs": [
    {
     "name": "stderr",
     "output_type": "stream",
     "text": [
      "Training: 100%|██████████| 440/440 [02:25<00:00,  3.03it/s]\n",
      "Validation: 100%|██████████| 54/54 [00:06<00:00,  8.75it/s]\n"
     ]
    },
    {
     "name": "stdout",
     "output_type": "stream",
     "text": [
      "Epoch 1/20, Time: 151.29s, Train Loss: 109.7192, Validation Loss: 1.0358\n"
     ]
    },
    {
     "name": "stderr",
     "output_type": "stream",
     "text": [
      "Testing: 100%|██████████| 72/72 [00:08<00:00,  8.58it/s]\n",
      "Training: 100%|██████████| 440/440 [02:29<00:00,  2.94it/s]\n",
      "Validation: 100%|██████████| 54/54 [00:06<00:00,  8.26it/s]\n"
     ]
    },
    {
     "name": "stdout",
     "output_type": "stream",
     "text": [
      "Epoch 2/20, Time: 156.07s, Train Loss: 0.7418, Validation Loss: 1.1123\n"
     ]
    },
    {
     "name": "stderr",
     "output_type": "stream",
     "text": [
      "Testing: 100%|██████████| 72/72 [00:09<00:00,  7.86it/s]\n",
      "Training: 100%|██████████| 440/440 [02:34<00:00,  2.85it/s]\n",
      "Validation: 100%|██████████| 54/54 [00:06<00:00,  7.82it/s]\n"
     ]
    },
    {
     "name": "stdout",
     "output_type": "stream",
     "text": [
      "Epoch 3/20, Time: 161.18s, Train Loss: 0.6825, Validation Loss: 0.7912\n"
     ]
    },
    {
     "name": "stderr",
     "output_type": "stream",
     "text": [
      "Testing: 100%|██████████| 72/72 [00:09<00:00,  7.93it/s]\n",
      "Training: 100%|██████████| 440/440 [02:36<00:00,  2.82it/s]\n",
      "Validation: 100%|██████████| 54/54 [00:06<00:00,  8.03it/s]\n"
     ]
    },
    {
     "name": "stdout",
     "output_type": "stream",
     "text": [
      "Epoch 4/20, Time: 162.99s, Train Loss: 0.6401, Validation Loss: 0.9040\n"
     ]
    },
    {
     "name": "stderr",
     "output_type": "stream",
     "text": [
      "Testing: 100%|██████████| 72/72 [00:08<00:00,  8.00it/s]\n",
      "Training: 100%|██████████| 440/440 [02:37<00:00,  2.80it/s]\n",
      "Validation: 100%|██████████| 54/54 [00:06<00:00,  8.07it/s]\n"
     ]
    },
    {
     "name": "stdout",
     "output_type": "stream",
     "text": [
      "Epoch 5/20, Time: 163.83s, Train Loss: 0.6126, Validation Loss: 0.7866\n"
     ]
    },
    {
     "name": "stderr",
     "output_type": "stream",
     "text": [
      "Testing: 100%|██████████| 72/72 [00:09<00:00,  7.98it/s]\n",
      "Training: 100%|██████████| 440/440 [02:37<00:00,  2.79it/s]\n",
      "Validation: 100%|██████████| 54/54 [00:06<00:00,  7.81it/s]\n"
     ]
    },
    {
     "name": "stdout",
     "output_type": "stream",
     "text": [
      "Epoch 6/20, Time: 164.89s, Train Loss: 0.5617, Validation Loss: 0.8129\n"
     ]
    },
    {
     "name": "stderr",
     "output_type": "stream",
     "text": [
      "Testing: 100%|██████████| 72/72 [00:09<00:00,  7.75it/s]\n",
      "Training: 100%|██████████| 440/440 [02:36<00:00,  2.81it/s]\n",
      "Validation: 100%|██████████| 54/54 [00:06<00:00,  7.84it/s]\n"
     ]
    },
    {
     "name": "stdout",
     "output_type": "stream",
     "text": [
      "Epoch 7/20, Time: 163.42s, Train Loss: 0.5366, Validation Loss: 0.7950\n"
     ]
    },
    {
     "name": "stderr",
     "output_type": "stream",
     "text": [
      "Testing: 100%|██████████| 72/72 [00:09<00:00,  7.72it/s]\n",
      "Training: 100%|██████████| 440/440 [02:36<00:00,  2.81it/s]\n",
      "Validation: 100%|██████████| 54/54 [00:06<00:00,  8.23it/s]\n"
     ]
    },
    {
     "name": "stdout",
     "output_type": "stream",
     "text": [
      "Epoch 8/20, Time: 163.34s, Train Loss: 0.5174, Validation Loss: 0.9003\n"
     ]
    },
    {
     "name": "stderr",
     "output_type": "stream",
     "text": [
      "Testing: 100%|██████████| 72/72 [00:09<00:00,  7.76it/s]\n",
      "Training: 100%|██████████| 440/440 [02:37<00:00,  2.80it/s]\n",
      "Validation: 100%|██████████| 54/54 [00:06<00:00,  7.81it/s]\n"
     ]
    },
    {
     "name": "stdout",
     "output_type": "stream",
     "text": [
      "Epoch 9/20, Time: 163.95s, Train Loss: 0.4881, Validation Loss: 0.8249\n"
     ]
    },
    {
     "name": "stderr",
     "output_type": "stream",
     "text": [
      "Testing: 100%|██████████| 72/72 [00:09<00:00,  7.86it/s]\n",
      "Training: 100%|██████████| 440/440 [02:35<00:00,  2.83it/s]\n",
      "Validation: 100%|██████████| 54/54 [00:06<00:00,  8.34it/s]\n"
     ]
    },
    {
     "name": "stdout",
     "output_type": "stream",
     "text": [
      "Epoch 10/20, Time: 161.91s, Train Loss: 0.4395, Validation Loss: 0.7290\n"
     ]
    },
    {
     "name": "stderr",
     "output_type": "stream",
     "text": [
      "Testing: 100%|██████████| 72/72 [00:08<00:00,  8.68it/s]\n",
      "Training: 100%|██████████| 440/440 [02:36<00:00,  2.81it/s]\n",
      "Validation: 100%|██████████| 54/54 [00:06<00:00,  7.76it/s]\n"
     ]
    },
    {
     "name": "stdout",
     "output_type": "stream",
     "text": [
      "Epoch 11/20, Time: 163.53s, Train Loss: 0.4038, Validation Loss: 0.7556\n"
     ]
    },
    {
     "name": "stderr",
     "output_type": "stream",
     "text": [
      "Testing: 100%|██████████| 72/72 [00:09<00:00,  7.81it/s]\n",
      "Training: 100%|██████████| 440/440 [02:34<00:00,  2.84it/s]\n",
      "Validation: 100%|██████████| 54/54 [00:06<00:00,  8.34it/s]\n"
     ]
    },
    {
     "name": "stdout",
     "output_type": "stream",
     "text": [
      "Epoch 12/20, Time: 161.41s, Train Loss: 0.3281, Validation Loss: 0.7668\n"
     ]
    },
    {
     "name": "stderr",
     "output_type": "stream",
     "text": [
      "Testing: 100%|██████████| 72/72 [00:08<00:00,  8.43it/s]\n",
      "Training: 100%|██████████| 440/440 [02:35<00:00,  2.83it/s]\n",
      "Validation: 100%|██████████| 54/54 [00:06<00:00,  8.05it/s]\n"
     ]
    },
    {
     "name": "stdout",
     "output_type": "stream",
     "text": [
      "Epoch 13/20, Time: 162.28s, Train Loss: 0.2650, Validation Loss: 0.6870\n"
     ]
    },
    {
     "name": "stderr",
     "output_type": "stream",
     "text": [
      "Testing: 100%|██████████| 72/72 [00:09<00:00,  7.78it/s]\n",
      "Training: 100%|██████████| 440/440 [02:35<00:00,  2.83it/s]\n",
      "Validation: 100%|██████████| 54/54 [00:06<00:00,  7.87it/s]\n"
     ]
    },
    {
     "name": "stdout",
     "output_type": "stream",
     "text": [
      "Epoch 14/20, Time: 162.19s, Train Loss: 0.2107, Validation Loss: 0.6693\n"
     ]
    },
    {
     "name": "stderr",
     "output_type": "stream",
     "text": [
      "Testing: 100%|██████████| 72/72 [00:09<00:00,  7.88it/s]\n",
      "Training: 100%|██████████| 440/440 [02:36<00:00,  2.82it/s]\n",
      "Validation: 100%|██████████| 54/54 [00:06<00:00,  7.74it/s]\n"
     ]
    },
    {
     "name": "stdout",
     "output_type": "stream",
     "text": [
      "Epoch 15/20, Time: 163.14s, Train Loss: 0.1881, Validation Loss: 0.8228\n"
     ]
    },
    {
     "name": "stderr",
     "output_type": "stream",
     "text": [
      "Testing: 100%|██████████| 72/72 [00:08<00:00,  8.01it/s]\n",
      "Training: 100%|██████████| 440/440 [02:36<00:00,  2.82it/s]\n",
      "Validation: 100%|██████████| 54/54 [00:07<00:00,  7.70it/s]\n"
     ]
    },
    {
     "name": "stdout",
     "output_type": "stream",
     "text": [
      "Epoch 16/20, Time: 163.23s, Train Loss: 0.1543, Validation Loss: 0.7296\n"
     ]
    },
    {
     "name": "stderr",
     "output_type": "stream",
     "text": [
      "Testing: 100%|██████████| 72/72 [00:08<00:00,  8.12it/s]\n",
      "Training: 100%|██████████| 440/440 [02:36<00:00,  2.82it/s]\n",
      "Validation: 100%|██████████| 54/54 [00:06<00:00,  7.88it/s]\n"
     ]
    },
    {
     "name": "stdout",
     "output_type": "stream",
     "text": [
      "Epoch 17/20, Time: 162.88s, Train Loss: 0.1401, Validation Loss: 0.8423\n"
     ]
    },
    {
     "name": "stderr",
     "output_type": "stream",
     "text": [
      "Testing: 100%|██████████| 72/72 [00:09<00:00,  7.76it/s]\n",
      "Training: 100%|██████████| 440/440 [02:35<00:00,  2.82it/s]\n",
      "Validation: 100%|██████████| 54/54 [00:06<00:00,  7.87it/s]\n"
     ]
    },
    {
     "name": "stdout",
     "output_type": "stream",
     "text": [
      "Epoch 18/20, Time: 162.83s, Train Loss: 0.1238, Validation Loss: 0.7152\n"
     ]
    },
    {
     "name": "stderr",
     "output_type": "stream",
     "text": [
      "Testing: 100%|██████████| 72/72 [00:08<00:00,  8.01it/s]\n",
      "Training: 100%|██████████| 440/440 [02:35<00:00,  2.82it/s]\n",
      "Validation: 100%|██████████| 54/54 [00:06<00:00,  8.06it/s]\n"
     ]
    },
    {
     "name": "stdout",
     "output_type": "stream",
     "text": [
      "Epoch 19/20, Time: 162.55s, Train Loss: 0.1236, Validation Loss: 0.7262\n"
     ]
    },
    {
     "name": "stderr",
     "output_type": "stream",
     "text": [
      "Testing: 100%|██████████| 72/72 [00:08<00:00,  8.15it/s]\n",
      "Training: 100%|██████████| 440/440 [02:36<00:00,  2.82it/s]\n",
      "Validation: 100%|██████████| 54/54 [00:06<00:00,  7.81it/s]\n"
     ]
    },
    {
     "name": "stdout",
     "output_type": "stream",
     "text": [
      "Epoch 20/20, Time: 162.99s, Train Loss: 0.1211, Validation Loss: 0.7280\n"
     ]
    },
    {
     "name": "stderr",
     "output_type": "stream",
     "text": [
      "Testing: 100%|██████████| 72/72 [00:09<00:00,  7.72it/s]\n"
     ]
    }
   ],
   "source": [
    "for epoch in range(num_epochs):\n",
    "    start_time = time.time()\n",
    "    train_loss = train(model, train_loader, criterion, optimizer, device)\n",
    "    valid_loss = validate(model, valid_loader, criterion, device)\n",
    "\n",
    "    epoch_time = time.time() - start_time\n",
    "    print(f\"Epoch {epoch + 1}/{num_epochs}, Time: {epoch_time:.2f}s, Train Loss: {train_loss:.4f}, Validation Loss: {valid_loss:.4f}\")\n",
    "    model.eval()\n",
    "    y_true = []\n",
    "    y_pred = []\n",
    "\n",
    "    with torch.no_grad():\n",
    "        for images, labels in tqdm(test_loader, desc=\"Testing\"):\n",
    "            images, labels = images.to(device), labels.to(device)\n",
    "            outputs = model(images)\n",
    "            y_true.extend(labels.cpu().numpy())\n",
    "            y_pred.extend(outputs.view(-1).cpu().numpy())\n"
   ]
  },
  {
   "cell_type": "code",
   "execution_count": 12,
   "metadata": {},
   "outputs": [
    {
     "name": "stdout",
     "output_type": "stream",
     "text": [
      "MSE: 0.5201, R2 Score: 0.3341\n"
     ]
    }
   ],
   "source": [
    "mse = mean_squared_error(y_true, y_pred)\n",
    "r2 = r2_score(y_true, y_pred)\n",
    "print(f\"MSE: {mse:.4f}, R2 Score: {r2:.4f}\")"
   ]
  },
  {
   "attachments": {},
   "cell_type": "markdown",
   "metadata": {},
   "source": [
    "## mlflow 開始"
   ]
  },
  {
   "cell_type": "code",
   "execution_count": 6,
   "metadata": {},
   "outputs": [],
   "source": [
    "import mlflow\n",
    "from datetime import datetime\n",
    "from torchvision.models import resnet18\n",
    "import numpy as np"
   ]
  },
  {
   "cell_type": "code",
   "execution_count": 7,
   "metadata": {},
   "outputs": [],
   "source": [
    "mlflow.set_tracking_uri(\"http://localhost:5000/\")"
   ]
  },
  {
   "cell_type": "code",
   "execution_count": 8,
   "metadata": {},
   "outputs": [],
   "source": [
    "EXPERIMENT_NAME = \"class_to_regression_test\"\n",
    "\n",
    "experiment_id = mlflow.get_experiment_by_name(EXPERIMENT_NAME)  # check if the experiment is already exist\n",
    "if not experiment_id:\n",
    "    experiment_id = mlflow.create_experiment(EXPERIMENT_NAME)\n",
    "else:\n",
    "    experiment_id = experiment_id.experiment_id"
   ]
  },
  {
   "cell_type": "code",
   "execution_count": 9,
   "metadata": {},
   "outputs": [],
   "source": [
    "model = CNN().to(device)\n",
    "criterion = nn.MSELoss()\n",
    "optimizer = optim.Adam(model.parameters(), lr=learning_rate)"
   ]
  },
  {
   "cell_type": "code",
   "execution_count": 10,
   "metadata": {},
   "outputs": [
    {
     "data": {
      "text/plain": [
       "<ActiveRun: >"
      ]
     },
     "execution_count": 10,
     "metadata": {},
     "output_type": "execute_result"
    }
   ],
   "source": [
    "mlflow.start_run(\n",
    "    experiment_id=experiment_id,\n",
    "    run_name=f'test_{datetime.now().strftime(\"%Y-%m-%d\")}',\n",
    "    tags={\n",
    "        \"type\": \"test\",\n",
    "        \"task\": \"mammogram\"\n",
    "    }\n",
    ")"
   ]
  },
  {
   "cell_type": "code",
   "execution_count": 11,
   "metadata": {},
   "outputs": [],
   "source": [
    "epochs = 20\n",
    "batch_size = 8\n",
    "lr = 0.001\n",
    "mlflow.log_params(\n",
    "    {\n",
    "        \"epochs\": epochs,\n",
    "        \"batch_size\": batch_size,\n",
    "        \"lr\": lr,\n",
    "        \"num_classes\": num_classes,\n",
    "        \"input_size\": input_size\n",
    "    }\n",
    ")"
   ]
  },
  {
   "attachments": {},
   "cell_type": "markdown",
   "metadata": {},
   "source": [
    "### training + 畫出process image"
   ]
  },
  {
   "cell_type": "code",
   "execution_count": 13,
   "metadata": {},
   "outputs": [
    {
     "name": "stderr",
     "output_type": "stream",
     "text": [
      "Training: 100%|██████████| 440/440 [02:25<00:00,  3.02it/s]\n"
     ]
    },
    {
     "ename": "TypeError",
     "evalue": "cannot unpack non-iterable float object",
     "output_type": "error",
     "traceback": [
      "\u001b[0;31m---------------------------------------------------------------------------\u001b[0m",
      "\u001b[0;31mTypeError\u001b[0m                                 Traceback (most recent call last)",
      "Cell \u001b[0;32mIn[13], line 8\u001b[0m\n\u001b[1;32m      6\u001b[0m \u001b[39mfor\u001b[39;00m epoch \u001b[39min\u001b[39;00m \u001b[39mrange\u001b[39m(num_epochs):\n\u001b[1;32m      7\u001b[0m     start_time \u001b[39m=\u001b[39m time\u001b[39m.\u001b[39mtime()\n\u001b[0;32m----> 8\u001b[0m     train_loss, train_accuracy \u001b[39m=\u001b[39m train(model, train_loader, criterion, optimizer, device)\n\u001b[1;32m      9\u001b[0m     valid_loss, valid_accuracy \u001b[39m=\u001b[39m validate(model, valid_loader, criterion, device)\n\u001b[1;32m     11\u001b[0m     train_losses\u001b[39m.\u001b[39mappend(train_loss)\n",
      "\u001b[0;31mTypeError\u001b[0m: cannot unpack non-iterable float object"
     ]
    }
   ],
   "source": [
    "train_losses = []\n",
    "valid_losses = []\n",
    "train_accuracies = []\n",
    "valid_accuracies = []\n",
    "\n",
    "for epoch in range(num_epochs):\n",
    "    start_time = time.time()\n",
    "    train_loss, train_accuracy = train(model, train_loader, criterion, optimizer, device)\n",
    "    valid_loss, valid_accuracy = validate(model, valid_loader, criterion, device)\n",
    "\n",
    "    train_losses.append(train_loss)\n",
    "    valid_losses.append(valid_loss)\n",
    "    train_accuracies.append(train_accuracy)\n",
    "    valid_accuracies.append(valid_accuracy)\n",
    "\n",
    "    epoch_time = time.time() - start_time\n",
    "    print(f\"Epoch: {epoch+1}/{num_epochs}, Time: {epoch_time:.2f}s, \"\n",
    "        f\"Train Loss: {train_loss:.4f}, Train Accuracy: {train_accuracy:.4f}, \"\n",
    "        f\"Valid Loss: {valid_loss:.4f}, Valid Accuracy: {valid_accuracy:.4f}\")"
   ]
  },
  {
   "cell_type": "code",
   "execution_count": 14,
   "metadata": {},
   "outputs": [
    {
     "name": "stderr",
     "output_type": "stream",
     "text": [
      "Training: 100%|██████████| 440/440 [02:28<00:00,  2.95it/s]\n",
      "Validation: 100%|██████████| 54/54 [00:06<00:00,  7.93it/s]\n"
     ]
    },
    {
     "name": "stdout",
     "output_type": "stream",
     "text": [
      "Epoch 1/20, Time: 155.82s, Train Loss: 0.7445, Validation Loss: 0.9205\n"
     ]
    },
    {
     "name": "stderr",
     "output_type": "stream",
     "text": [
      "Testing: 100%|██████████| 72/72 [00:08<00:00,  8.20it/s]\n",
      "Training: 100%|██████████| 440/440 [02:34<00:00,  2.85it/s]\n",
      "Validation: 100%|██████████| 54/54 [00:06<00:00,  8.15it/s]\n"
     ]
    },
    {
     "name": "stdout",
     "output_type": "stream",
     "text": [
      "Epoch 2/20, Time: 160.98s, Train Loss: 0.7000, Validation Loss: 1.0533\n"
     ]
    },
    {
     "name": "stderr",
     "output_type": "stream",
     "text": [
      "Testing: 100%|██████████| 72/72 [00:08<00:00,  8.07it/s]\n",
      "Training: 100%|██████████| 440/440 [02:35<00:00,  2.83it/s]\n",
      "Validation: 100%|██████████| 54/54 [00:06<00:00,  7.78it/s]\n"
     ]
    },
    {
     "name": "stdout",
     "output_type": "stream",
     "text": [
      "Epoch 3/20, Time: 162.34s, Train Loss: 0.6779, Validation Loss: 1.2387\n"
     ]
    },
    {
     "name": "stderr",
     "output_type": "stream",
     "text": [
      "Testing: 100%|██████████| 72/72 [00:08<00:00,  8.01it/s]\n",
      "Training: 100%|██████████| 440/440 [02:35<00:00,  2.83it/s]\n",
      "Validation: 100%|██████████| 54/54 [00:06<00:00,  7.93it/s]\n"
     ]
    },
    {
     "name": "stdout",
     "output_type": "stream",
     "text": [
      "Epoch 4/20, Time: 162.37s, Train Loss: 0.6061, Validation Loss: 0.7908\n"
     ]
    },
    {
     "name": "stderr",
     "output_type": "stream",
     "text": [
      "Testing: 100%|██████████| 72/72 [00:08<00:00,  8.02it/s]\n",
      "Training: 100%|██████████| 440/440 [02:36<00:00,  2.81it/s]\n",
      "Validation: 100%|██████████| 54/54 [00:06<00:00,  7.82it/s]\n"
     ]
    },
    {
     "name": "stdout",
     "output_type": "stream",
     "text": [
      "Epoch 5/20, Time: 163.67s, Train Loss: 0.5807, Validation Loss: 0.9110\n"
     ]
    },
    {
     "name": "stderr",
     "output_type": "stream",
     "text": [
      "Testing: 100%|██████████| 72/72 [00:08<00:00,  8.31it/s]\n",
      "Training: 100%|██████████| 440/440 [02:36<00:00,  2.81it/s]\n",
      "Validation: 100%|██████████| 54/54 [00:06<00:00,  7.94it/s]\n"
     ]
    },
    {
     "name": "stdout",
     "output_type": "stream",
     "text": [
      "Epoch 6/20, Time: 163.57s, Train Loss: 0.5314, Validation Loss: 0.8307\n"
     ]
    },
    {
     "name": "stderr",
     "output_type": "stream",
     "text": [
      "Testing: 100%|██████████| 72/72 [00:09<00:00,  7.96it/s]\n",
      "Training: 100%|██████████| 440/440 [02:36<00:00,  2.82it/s]\n",
      "Validation: 100%|██████████| 54/54 [00:06<00:00,  8.00it/s]\n"
     ]
    },
    {
     "name": "stdout",
     "output_type": "stream",
     "text": [
      "Epoch 7/20, Time: 162.89s, Train Loss: 0.4979, Validation Loss: 0.6965\n"
     ]
    },
    {
     "name": "stderr",
     "output_type": "stream",
     "text": [
      "Testing: 100%|██████████| 72/72 [00:08<00:00,  8.06it/s]\n",
      "Training: 100%|██████████| 440/440 [02:36<00:00,  2.81it/s]\n",
      "Validation: 100%|██████████| 54/54 [00:07<00:00,  7.61it/s]\n"
     ]
    },
    {
     "name": "stdout",
     "output_type": "stream",
     "text": [
      "Epoch 8/20, Time: 163.89s, Train Loss: 0.4707, Validation Loss: 0.7797\n"
     ]
    },
    {
     "name": "stderr",
     "output_type": "stream",
     "text": [
      "Testing: 100%|██████████| 72/72 [00:08<00:00,  8.04it/s]\n",
      "Training: 100%|██████████| 440/440 [02:37<00:00,  2.79it/s]\n",
      "Validation: 100%|██████████| 54/54 [00:06<00:00,  8.46it/s]\n"
     ]
    },
    {
     "name": "stdout",
     "output_type": "stream",
     "text": [
      "Epoch 9/20, Time: 163.83s, Train Loss: 0.4367, Validation Loss: 0.8054\n"
     ]
    },
    {
     "name": "stderr",
     "output_type": "stream",
     "text": [
      "Testing: 100%|██████████| 72/72 [00:08<00:00,  8.14it/s]\n",
      "Training: 100%|██████████| 440/440 [02:36<00:00,  2.80it/s]\n",
      "Validation: 100%|██████████| 54/54 [00:06<00:00,  8.07it/s]\n"
     ]
    },
    {
     "name": "stdout",
     "output_type": "stream",
     "text": [
      "Epoch 10/20, Time: 163.62s, Train Loss: 0.3938, Validation Loss: 0.7813\n"
     ]
    },
    {
     "name": "stderr",
     "output_type": "stream",
     "text": [
      "Testing: 100%|██████████| 72/72 [00:08<00:00,  8.30it/s]\n",
      "Training: 100%|██████████| 440/440 [02:37<00:00,  2.80it/s]\n",
      "Validation: 100%|██████████| 54/54 [00:06<00:00,  7.87it/s]\n"
     ]
    },
    {
     "name": "stdout",
     "output_type": "stream",
     "text": [
      "Epoch 11/20, Time: 164.05s, Train Loss: 0.4074, Validation Loss: 0.8763\n"
     ]
    },
    {
     "name": "stderr",
     "output_type": "stream",
     "text": [
      "Testing: 100%|██████████| 72/72 [00:09<00:00,  7.92it/s]\n",
      "Training: 100%|██████████| 440/440 [02:36<00:00,  2.81it/s]\n",
      "Validation: 100%|██████████| 54/54 [00:07<00:00,  7.67it/s]\n"
     ]
    },
    {
     "name": "stdout",
     "output_type": "stream",
     "text": [
      "Epoch 12/20, Time: 163.61s, Train Loss: 0.3505, Validation Loss: 0.7930\n"
     ]
    },
    {
     "name": "stderr",
     "output_type": "stream",
     "text": [
      "Testing: 100%|██████████| 72/72 [00:08<00:00,  8.60it/s]\n",
      "Training: 100%|██████████| 440/440 [02:36<00:00,  2.80it/s]\n",
      "Validation: 100%|██████████| 54/54 [00:06<00:00,  7.84it/s]\n"
     ]
    },
    {
     "name": "stdout",
     "output_type": "stream",
     "text": [
      "Epoch 13/20, Time: 163.79s, Train Loss: 0.2859, Validation Loss: 0.7728\n"
     ]
    },
    {
     "name": "stderr",
     "output_type": "stream",
     "text": [
      "Testing: 100%|██████████| 72/72 [00:08<00:00,  8.29it/s]\n",
      "Training: 100%|██████████| 440/440 [02:36<00:00,  2.80it/s]\n",
      "Validation: 100%|██████████| 54/54 [00:06<00:00,  7.86it/s]\n"
     ]
    },
    {
     "name": "stdout",
     "output_type": "stream",
     "text": [
      "Epoch 14/20, Time: 163.84s, Train Loss: 0.2423, Validation Loss: 0.6984\n"
     ]
    },
    {
     "name": "stderr",
     "output_type": "stream",
     "text": [
      "Testing: 100%|██████████| 72/72 [00:09<00:00,  7.94it/s]\n",
      "Training: 100%|██████████| 440/440 [02:37<00:00,  2.80it/s]\n",
      "Validation: 100%|██████████| 54/54 [00:06<00:00,  8.04it/s]\n"
     ]
    },
    {
     "name": "stdout",
     "output_type": "stream",
     "text": [
      "Epoch 15/20, Time: 164.02s, Train Loss: 0.2133, Validation Loss: 0.7424\n"
     ]
    },
    {
     "name": "stderr",
     "output_type": "stream",
     "text": [
      "Testing: 100%|██████████| 72/72 [00:08<00:00,  8.00it/s]\n",
      "Training: 100%|██████████| 440/440 [02:37<00:00,  2.80it/s]\n",
      "Validation: 100%|██████████| 54/54 [00:06<00:00,  8.19it/s]\n"
     ]
    },
    {
     "name": "stdout",
     "output_type": "stream",
     "text": [
      "Epoch 16/20, Time: 163.66s, Train Loss: 0.1796, Validation Loss: 0.6927\n"
     ]
    },
    {
     "name": "stderr",
     "output_type": "stream",
     "text": [
      "Testing: 100%|██████████| 72/72 [00:08<00:00,  8.92it/s]\n",
      "Training: 100%|██████████| 440/440 [02:35<00:00,  2.82it/s]\n",
      "Validation: 100%|██████████| 54/54 [00:06<00:00,  8.44it/s]\n"
     ]
    },
    {
     "name": "stdout",
     "output_type": "stream",
     "text": [
      "Epoch 17/20, Time: 162.26s, Train Loss: 0.1772, Validation Loss: 0.8250\n"
     ]
    },
    {
     "name": "stderr",
     "output_type": "stream",
     "text": [
      "Testing: 100%|██████████| 72/72 [00:08<00:00,  8.24it/s]\n",
      "Training: 100%|██████████| 440/440 [02:36<00:00,  2.81it/s]\n",
      "Validation: 100%|██████████| 54/54 [00:06<00:00,  7.98it/s]\n"
     ]
    },
    {
     "name": "stdout",
     "output_type": "stream",
     "text": [
      "Epoch 18/20, Time: 163.16s, Train Loss: 0.1533, Validation Loss: 0.7040\n"
     ]
    },
    {
     "name": "stderr",
     "output_type": "stream",
     "text": [
      "Testing: 100%|██████████| 72/72 [00:08<00:00,  8.51it/s]\n",
      "Training: 100%|██████████| 440/440 [02:36<00:00,  2.81it/s]\n",
      "Validation: 100%|██████████| 54/54 [00:06<00:00,  7.96it/s]\n"
     ]
    },
    {
     "name": "stdout",
     "output_type": "stream",
     "text": [
      "Epoch 19/20, Time: 163.47s, Train Loss: 0.1432, Validation Loss: 0.7634\n"
     ]
    },
    {
     "name": "stderr",
     "output_type": "stream",
     "text": [
      "Testing: 100%|██████████| 72/72 [00:09<00:00,  7.90it/s]\n",
      "Training: 100%|██████████| 440/440 [02:35<00:00,  2.82it/s]\n",
      "Validation: 100%|██████████| 54/54 [00:06<00:00,  7.88it/s]\n"
     ]
    },
    {
     "name": "stdout",
     "output_type": "stream",
     "text": [
      "Epoch 20/20, Time: 162.77s, Train Loss: 0.1337, Validation Loss: 0.7399\n"
     ]
    },
    {
     "name": "stderr",
     "output_type": "stream",
     "text": [
      "Testing: 100%|██████████| 72/72 [00:08<00:00,  8.04it/s]\n"
     ]
    }
   ],
   "source": [
    "for epoch in range(num_epochs):\n",
    "    start_time = time.time()\n",
    "    train_loss = train(model, train_loader, criterion, optimizer, device)\n",
    "    valid_loss = validate(model, valid_loader, criterion, device)\n",
    "\n",
    "    epoch_time = time.time() - start_time\n",
    "    print(f\"Epoch {epoch + 1}/{num_epochs}, Time: {epoch_time:.2f}s, Train Loss: {train_loss:.4f}, Validation Loss: {valid_loss:.4f}\")\n",
    "    model.eval()\n",
    "    y_true = []\n",
    "    y_pred = []\n",
    "\n",
    "    with torch.no_grad():\n",
    "        for images, labels in tqdm(test_loader, desc=\"Testing\"):\n",
    "            images, labels = images.to(device), labels.to(device)\n",
    "            outputs = model(images)\n",
    "            y_true.extend(labels.cpu().numpy())\n",
    "            y_pred.extend(outputs.view(-1).cpu().numpy())"
   ]
  },
  {
   "cell_type": "code",
   "execution_count": 15,
   "metadata": {},
   "outputs": [],
   "source": [
    "mlflow.end_run()"
   ]
  },
  {
   "cell_type": "code",
   "execution_count": null,
   "metadata": {},
   "outputs": [],
   "source": []
  }
 ],
 "metadata": {
  "kernelspec": {
   "display_name": "yolov8",
   "language": "python",
   "name": "python3"
  },
  "language_info": {
   "codemirror_mode": {
    "name": "ipython",
    "version": 3
   },
   "file_extension": ".py",
   "mimetype": "text/x-python",
   "name": "python",
   "nbconvert_exporter": "python",
   "pygments_lexer": "ipython3",
   "version": "3.10.9"
  },
  "orig_nbformat": 4,
  "vscode": {
   "interpreter": {
    "hash": "d74e7dfd7e6ea4388df66e3e423c1722110b726bcca61fd11a7c4cd52c34db99"
   }
  }
 },
 "nbformat": 4,
 "nbformat_minor": 2
}
