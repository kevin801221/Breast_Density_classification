{
 "cells": [
  {
   "cell_type": "code",
   "execution_count": 7,
   "metadata": {},
   "outputs": [
    {
     "name": "stdout",
     "output_type": "stream",
     "text": [
      "Fold 1\n",
      "Epoch 1\n"
     ]
    },
    {
     "name": "stderr",
     "output_type": "stream",
     "text": [
      "100%|██████████| 127/127 [04:44<00:00,  2.24s/it]\n",
      "100%|██████████| 15/15 [00:33<00:00,  2.24s/it]\n"
     ]
    },
    {
     "name": "stdout",
     "output_type": "stream",
     "text": [
      "Train Loss: 0.7975, Train Acc: 0.5618\n",
      "Val Loss: 0.6863, Val Acc: 0.5388\n",
      "              precision    recall  f1-score   support\n",
      "\n",
      "      benign       0.52      0.90      0.66       225\n",
      "   malignant       0.65      0.18      0.28       226\n",
      "\n",
      "    accuracy                           0.54       451\n",
      "   macro avg       0.58      0.54      0.47       451\n",
      "weighted avg       0.58      0.54      0.47       451\n",
      "\n",
      "Epoch 2\n"
     ]
    },
    {
     "name": "stderr",
     "output_type": "stream",
     "text": [
      "100%|██████████| 127/127 [04:40<00:00,  2.21s/it]\n",
      "100%|██████████| 15/15 [00:31<00:00,  2.11s/it]\n",
      "/home/kevinluo/anaconda3/envs/yolov8/lib/python3.9/site-packages/sklearn/metrics/_classification.py:1344: UndefinedMetricWarning: Precision and F-score are ill-defined and being set to 0.0 in labels with no predicted samples. Use `zero_division` parameter to control this behavior.\n",
      "  _warn_prf(average, modifier, msg_start, len(result))\n",
      "/home/kevinluo/anaconda3/envs/yolov8/lib/python3.9/site-packages/sklearn/metrics/_classification.py:1344: UndefinedMetricWarning: Precision and F-score are ill-defined and being set to 0.0 in labels with no predicted samples. Use `zero_division` parameter to control this behavior.\n",
      "  _warn_prf(average, modifier, msg_start, len(result))\n",
      "/home/kevinluo/anaconda3/envs/yolov8/lib/python3.9/site-packages/sklearn/metrics/_classification.py:1344: UndefinedMetricWarning: Precision and F-score are ill-defined and being set to 0.0 in labels with no predicted samples. Use `zero_division` parameter to control this behavior.\n",
      "  _warn_prf(average, modifier, msg_start, len(result))\n"
     ]
    },
    {
     "name": "stdout",
     "output_type": "stream",
     "text": [
      "Train Loss: 0.6941, Train Acc: 0.5527\n",
      "Val Loss: 0.8127, Val Acc: 0.5011\n",
      "              precision    recall  f1-score   support\n",
      "\n",
      "      benign       0.00      0.00      0.00       225\n",
      "   malignant       0.50      1.00      0.67       226\n",
      "\n",
      "    accuracy                           0.50       451\n",
      "   macro avg       0.25      0.50      0.33       451\n",
      "weighted avg       0.25      0.50      0.33       451\n",
      "\n",
      "Epoch 3\n"
     ]
    },
    {
     "name": "stderr",
     "output_type": "stream",
     "text": [
      "100%|██████████| 127/127 [04:43<00:00,  2.23s/it]\n",
      "100%|██████████| 15/15 [00:28<00:00,  1.88s/it]\n",
      "/home/kevinluo/anaconda3/envs/yolov8/lib/python3.9/site-packages/sklearn/metrics/_classification.py:1344: UndefinedMetricWarning: Precision and F-score are ill-defined and being set to 0.0 in labels with no predicted samples. Use `zero_division` parameter to control this behavior.\n",
      "  _warn_prf(average, modifier, msg_start, len(result))\n",
      "/home/kevinluo/anaconda3/envs/yolov8/lib/python3.9/site-packages/sklearn/metrics/_classification.py:1344: UndefinedMetricWarning: Precision and F-score are ill-defined and being set to 0.0 in labels with no predicted samples. Use `zero_division` parameter to control this behavior.\n",
      "  _warn_prf(average, modifier, msg_start, len(result))\n",
      "/home/kevinluo/anaconda3/envs/yolov8/lib/python3.9/site-packages/sklearn/metrics/_classification.py:1344: UndefinedMetricWarning: Precision and F-score are ill-defined and being set to 0.0 in labels with no predicted samples. Use `zero_division` parameter to control this behavior.\n",
      "  _warn_prf(average, modifier, msg_start, len(result))\n"
     ]
    },
    {
     "name": "stdout",
     "output_type": "stream",
     "text": [
      "Train Loss: 0.7434, Train Acc: 0.5031\n",
      "Val Loss: 0.7300, Val Acc: 0.5011\n",
      "              precision    recall  f1-score   support\n",
      "\n",
      "      benign       0.00      0.00      0.00       225\n",
      "   malignant       0.50      1.00      0.67       226\n",
      "\n",
      "    accuracy                           0.50       451\n",
      "   macro avg       0.25      0.50      0.33       451\n",
      "weighted avg       0.25      0.50      0.33       451\n",
      "\n",
      "Epoch 4\n"
     ]
    },
    {
     "name": "stderr",
     "output_type": "stream",
     "text": [
      "100%|██████████| 127/127 [04:45<00:00,  2.25s/it]\n",
      "100%|██████████| 15/15 [00:30<00:00,  2.01s/it]\n",
      "/home/kevinluo/anaconda3/envs/yolov8/lib/python3.9/site-packages/sklearn/metrics/_classification.py:1344: UndefinedMetricWarning: Precision and F-score are ill-defined and being set to 0.0 in labels with no predicted samples. Use `zero_division` parameter to control this behavior.\n",
      "  _warn_prf(average, modifier, msg_start, len(result))\n",
      "/home/kevinluo/anaconda3/envs/yolov8/lib/python3.9/site-packages/sklearn/metrics/_classification.py:1344: UndefinedMetricWarning: Precision and F-score are ill-defined and being set to 0.0 in labels with no predicted samples. Use `zero_division` parameter to control this behavior.\n",
      "  _warn_prf(average, modifier, msg_start, len(result))\n",
      "/home/kevinluo/anaconda3/envs/yolov8/lib/python3.9/site-packages/sklearn/metrics/_classification.py:1344: UndefinedMetricWarning: Precision and F-score are ill-defined and being set to 0.0 in labels with no predicted samples. Use `zero_division` parameter to control this behavior.\n",
      "  _warn_prf(average, modifier, msg_start, len(result))\n"
     ]
    },
    {
     "name": "stdout",
     "output_type": "stream",
     "text": [
      "Train Loss: 0.7060, Train Acc: 0.5031\n",
      "Val Loss: 0.6996, Val Acc: 0.5011\n",
      "              precision    recall  f1-score   support\n",
      "\n",
      "      benign       0.00      0.00      0.00       225\n",
      "   malignant       0.50      1.00      0.67       226\n",
      "\n",
      "    accuracy                           0.50       451\n",
      "   macro avg       0.25      0.50      0.33       451\n",
      "weighted avg       0.25      0.50      0.33       451\n",
      "\n",
      "Epoch 5\n"
     ]
    },
    {
     "name": "stderr",
     "output_type": "stream",
     "text": [
      "100%|██████████| 127/127 [04:34<00:00,  2.16s/it]\n",
      "100%|██████████| 15/15 [00:32<00:00,  2.16s/it]\n",
      "/home/kevinluo/anaconda3/envs/yolov8/lib/python3.9/site-packages/sklearn/metrics/_classification.py:1344: UndefinedMetricWarning: Precision and F-score are ill-defined and being set to 0.0 in labels with no predicted samples. Use `zero_division` parameter to control this behavior.\n",
      "  _warn_prf(average, modifier, msg_start, len(result))\n",
      "/home/kevinluo/anaconda3/envs/yolov8/lib/python3.9/site-packages/sklearn/metrics/_classification.py:1344: UndefinedMetricWarning: Precision and F-score are ill-defined and being set to 0.0 in labels with no predicted samples. Use `zero_division` parameter to control this behavior.\n",
      "  _warn_prf(average, modifier, msg_start, len(result))\n",
      "/home/kevinluo/anaconda3/envs/yolov8/lib/python3.9/site-packages/sklearn/metrics/_classification.py:1344: UndefinedMetricWarning: Precision and F-score are ill-defined and being set to 0.0 in labels with no predicted samples. Use `zero_division` parameter to control this behavior.\n",
      "  _warn_prf(average, modifier, msg_start, len(result))\n"
     ]
    },
    {
     "name": "stdout",
     "output_type": "stream",
     "text": [
      "Train Loss: 0.6997, Train Acc: 0.4824\n",
      "Val Loss: 0.6986, Val Acc: 0.4989\n",
      "              precision    recall  f1-score   support\n",
      "\n",
      "      benign       0.50      1.00      0.67       225\n",
      "   malignant       0.00      0.00      0.00       226\n",
      "\n",
      "    accuracy                           0.50       451\n",
      "   macro avg       0.25      0.50      0.33       451\n",
      "weighted avg       0.25      0.50      0.33       451\n",
      "\n",
      "Epoch 6\n"
     ]
    },
    {
     "name": "stderr",
     "output_type": "stream",
     "text": [
      "100%|██████████| 127/127 [04:53<00:00,  2.31s/it]\n",
      "100%|██████████| 15/15 [00:30<00:00,  2.04s/it]\n",
      "/home/kevinluo/anaconda3/envs/yolov8/lib/python3.9/site-packages/sklearn/metrics/_classification.py:1344: UndefinedMetricWarning: Precision and F-score are ill-defined and being set to 0.0 in labels with no predicted samples. Use `zero_division` parameter to control this behavior.\n",
      "  _warn_prf(average, modifier, msg_start, len(result))\n",
      "/home/kevinluo/anaconda3/envs/yolov8/lib/python3.9/site-packages/sklearn/metrics/_classification.py:1344: UndefinedMetricWarning: Precision and F-score are ill-defined and being set to 0.0 in labels with no predicted samples. Use `zero_division` parameter to control this behavior.\n",
      "  _warn_prf(average, modifier, msg_start, len(result))\n",
      "/home/kevinluo/anaconda3/envs/yolov8/lib/python3.9/site-packages/sklearn/metrics/_classification.py:1344: UndefinedMetricWarning: Precision and F-score are ill-defined and being set to 0.0 in labels with no predicted samples. Use `zero_division` parameter to control this behavior.\n",
      "  _warn_prf(average, modifier, msg_start, len(result))\n"
     ]
    },
    {
     "name": "stdout",
     "output_type": "stream",
     "text": [
      "Train Loss: 0.6964, Train Acc: 0.4925\n",
      "Val Loss: 0.6933, Val Acc: 0.4989\n",
      "              precision    recall  f1-score   support\n",
      "\n",
      "      benign       0.50      1.00      0.67       225\n",
      "   malignant       0.00      0.00      0.00       226\n",
      "\n",
      "    accuracy                           0.50       451\n",
      "   macro avg       0.25      0.50      0.33       451\n",
      "weighted avg       0.25      0.50      0.33       451\n",
      "\n",
      "Epoch 7\n"
     ]
    },
    {
     "name": "stderr",
     "output_type": "stream",
     "text": [
      "100%|██████████| 127/127 [04:38<00:00,  2.19s/it]\n",
      "100%|██████████| 15/15 [00:29<00:00,  1.98s/it]\n",
      "/home/kevinluo/anaconda3/envs/yolov8/lib/python3.9/site-packages/sklearn/metrics/_classification.py:1344: UndefinedMetricWarning: Precision and F-score are ill-defined and being set to 0.0 in labels with no predicted samples. Use `zero_division` parameter to control this behavior.\n",
      "  _warn_prf(average, modifier, msg_start, len(result))\n",
      "/home/kevinluo/anaconda3/envs/yolov8/lib/python3.9/site-packages/sklearn/metrics/_classification.py:1344: UndefinedMetricWarning: Precision and F-score are ill-defined and being set to 0.0 in labels with no predicted samples. Use `zero_division` parameter to control this behavior.\n",
      "  _warn_prf(average, modifier, msg_start, len(result))\n",
      "/home/kevinluo/anaconda3/envs/yolov8/lib/python3.9/site-packages/sklearn/metrics/_classification.py:1344: UndefinedMetricWarning: Precision and F-score are ill-defined and being set to 0.0 in labels with no predicted samples. Use `zero_division` parameter to control this behavior.\n",
      "  _warn_prf(average, modifier, msg_start, len(result))\n"
     ]
    },
    {
     "name": "stdout",
     "output_type": "stream",
     "text": [
      "Train Loss: 0.7008, Train Acc: 0.5056\n",
      "Val Loss: 0.6971, Val Acc: 0.4989\n",
      "              precision    recall  f1-score   support\n",
      "\n",
      "      benign       0.50      1.00      0.67       225\n",
      "   malignant       0.00      0.00      0.00       226\n",
      "\n",
      "    accuracy                           0.50       451\n",
      "   macro avg       0.25      0.50      0.33       451\n",
      "weighted avg       0.25      0.50      0.33       451\n",
      "\n",
      "Epoch 8\n"
     ]
    },
    {
     "name": "stderr",
     "output_type": "stream",
     "text": [
      "100%|██████████| 127/127 [04:46<00:00,  2.26s/it]\n",
      "100%|██████████| 15/15 [00:29<00:00,  1.96s/it]\n",
      "/home/kevinluo/anaconda3/envs/yolov8/lib/python3.9/site-packages/sklearn/metrics/_classification.py:1344: UndefinedMetricWarning: Precision and F-score are ill-defined and being set to 0.0 in labels with no predicted samples. Use `zero_division` parameter to control this behavior.\n",
      "  _warn_prf(average, modifier, msg_start, len(result))\n",
      "/home/kevinluo/anaconda3/envs/yolov8/lib/python3.9/site-packages/sklearn/metrics/_classification.py:1344: UndefinedMetricWarning: Precision and F-score are ill-defined and being set to 0.0 in labels with no predicted samples. Use `zero_division` parameter to control this behavior.\n",
      "  _warn_prf(average, modifier, msg_start, len(result))\n",
      "/home/kevinluo/anaconda3/envs/yolov8/lib/python3.9/site-packages/sklearn/metrics/_classification.py:1344: UndefinedMetricWarning: Precision and F-score are ill-defined and being set to 0.0 in labels with no predicted samples. Use `zero_division` parameter to control this behavior.\n",
      "  _warn_prf(average, modifier, msg_start, len(result))\n"
     ]
    },
    {
     "name": "stdout",
     "output_type": "stream",
     "text": [
      "Train Loss: 0.6940, Train Acc: 0.5095\n",
      "Val Loss: 0.7005, Val Acc: 0.5011\n",
      "              precision    recall  f1-score   support\n",
      "\n",
      "      benign       0.00      0.00      0.00       225\n",
      "   malignant       0.50      1.00      0.67       226\n",
      "\n",
      "    accuracy                           0.50       451\n",
      "   macro avg       0.25      0.50      0.33       451\n",
      "weighted avg       0.25      0.50      0.33       451\n",
      "\n",
      "Epoch 9\n"
     ]
    },
    {
     "name": "stderr",
     "output_type": "stream",
     "text": [
      "100%|██████████| 127/127 [04:35<00:00,  2.17s/it]\n",
      "100%|██████████| 15/15 [00:31<00:00,  2.11s/it]\n",
      "/home/kevinluo/anaconda3/envs/yolov8/lib/python3.9/site-packages/sklearn/metrics/_classification.py:1344: UndefinedMetricWarning: Precision and F-score are ill-defined and being set to 0.0 in labels with no predicted samples. Use `zero_division` parameter to control this behavior.\n",
      "  _warn_prf(average, modifier, msg_start, len(result))\n",
      "/home/kevinluo/anaconda3/envs/yolov8/lib/python3.9/site-packages/sklearn/metrics/_classification.py:1344: UndefinedMetricWarning: Precision and F-score are ill-defined and being set to 0.0 in labels with no predicted samples. Use `zero_division` parameter to control this behavior.\n",
      "  _warn_prf(average, modifier, msg_start, len(result))\n",
      "/home/kevinluo/anaconda3/envs/yolov8/lib/python3.9/site-packages/sklearn/metrics/_classification.py:1344: UndefinedMetricWarning: Precision and F-score are ill-defined and being set to 0.0 in labels with no predicted samples. Use `zero_division` parameter to control this behavior.\n",
      "  _warn_prf(average, modifier, msg_start, len(result))\n"
     ]
    },
    {
     "name": "stdout",
     "output_type": "stream",
     "text": [
      "Train Loss: 0.6972, Train Acc: 0.4865\n",
      "Val Loss: 0.6973, Val Acc: 0.5011\n",
      "              precision    recall  f1-score   support\n",
      "\n",
      "      benign       0.00      0.00      0.00       225\n",
      "   malignant       0.50      1.00      0.67       226\n",
      "\n",
      "    accuracy                           0.50       451\n",
      "   macro avg       0.25      0.50      0.33       451\n",
      "weighted avg       0.25      0.50      0.33       451\n",
      "\n",
      "Epoch 10\n"
     ]
    },
    {
     "name": "stderr",
     "output_type": "stream",
     "text": [
      "100%|██████████| 127/127 [04:48<00:00,  2.28s/it]\n",
      "100%|██████████| 15/15 [00:27<00:00,  1.81s/it]\n",
      "/home/kevinluo/anaconda3/envs/yolov8/lib/python3.9/site-packages/sklearn/metrics/_classification.py:1344: UndefinedMetricWarning: Precision and F-score are ill-defined and being set to 0.0 in labels with no predicted samples. Use `zero_division` parameter to control this behavior.\n",
      "  _warn_prf(average, modifier, msg_start, len(result))\n",
      "/home/kevinluo/anaconda3/envs/yolov8/lib/python3.9/site-packages/sklearn/metrics/_classification.py:1344: UndefinedMetricWarning: Precision and F-score are ill-defined and being set to 0.0 in labels with no predicted samples. Use `zero_division` parameter to control this behavior.\n",
      "  _warn_prf(average, modifier, msg_start, len(result))\n",
      "/home/kevinluo/anaconda3/envs/yolov8/lib/python3.9/site-packages/sklearn/metrics/_classification.py:1344: UndefinedMetricWarning: Precision and F-score are ill-defined and being set to 0.0 in labels with no predicted samples. Use `zero_division` parameter to control this behavior.\n",
      "  _warn_prf(average, modifier, msg_start, len(result))\n"
     ]
    },
    {
     "name": "stdout",
     "output_type": "stream",
     "text": [
      "Train Loss: 0.6966, Train Acc: 0.5090\n",
      "Val Loss: 0.6942, Val Acc: 0.4989\n",
      "              precision    recall  f1-score   support\n",
      "\n",
      "      benign       0.50      1.00      0.67       225\n",
      "   malignant       0.00      0.00      0.00       226\n",
      "\n",
      "    accuracy                           0.50       451\n",
      "   macro avg       0.25      0.50      0.33       451\n",
      "weighted avg       0.25      0.50      0.33       451\n",
      "\n",
      "Epoch 11\n"
     ]
    },
    {
     "name": "stderr",
     "output_type": "stream",
     "text": [
      "100%|██████████| 127/127 [04:49<00:00,  2.28s/it]\n",
      "100%|██████████| 15/15 [00:30<00:00,  2.04s/it]\n",
      "/home/kevinluo/anaconda3/envs/yolov8/lib/python3.9/site-packages/sklearn/metrics/_classification.py:1344: UndefinedMetricWarning: Precision and F-score are ill-defined and being set to 0.0 in labels with no predicted samples. Use `zero_division` parameter to control this behavior.\n",
      "  _warn_prf(average, modifier, msg_start, len(result))\n",
      "/home/kevinluo/anaconda3/envs/yolov8/lib/python3.9/site-packages/sklearn/metrics/_classification.py:1344: UndefinedMetricWarning: Precision and F-score are ill-defined and being set to 0.0 in labels with no predicted samples. Use `zero_division` parameter to control this behavior.\n",
      "  _warn_prf(average, modifier, msg_start, len(result))\n",
      "/home/kevinluo/anaconda3/envs/yolov8/lib/python3.9/site-packages/sklearn/metrics/_classification.py:1344: UndefinedMetricWarning: Precision and F-score are ill-defined and being set to 0.0 in labels with no predicted samples. Use `zero_division` parameter to control this behavior.\n",
      "  _warn_prf(average, modifier, msg_start, len(result))\n"
     ]
    },
    {
     "name": "stdout",
     "output_type": "stream",
     "text": [
      "Train Loss: 0.6937, Train Acc: 0.5130\n",
      "Val Loss: 0.6978, Val Acc: 0.5011\n",
      "              precision    recall  f1-score   support\n",
      "\n",
      "      benign       0.00      0.00      0.00       225\n",
      "   malignant       0.50      1.00      0.67       226\n",
      "\n",
      "    accuracy                           0.50       451\n",
      "   macro avg       0.25      0.50      0.33       451\n",
      "weighted avg       0.25      0.50      0.33       451\n",
      "\n",
      "Epoch 12\n"
     ]
    },
    {
     "name": "stderr",
     "output_type": "stream",
     "text": [
      "100%|██████████| 127/127 [04:43<00:00,  2.23s/it]\n",
      "100%|██████████| 15/15 [00:26<00:00,  1.75s/it]\n",
      "/home/kevinluo/anaconda3/envs/yolov8/lib/python3.9/site-packages/sklearn/metrics/_classification.py:1344: UndefinedMetricWarning: Precision and F-score are ill-defined and being set to 0.0 in labels with no predicted samples. Use `zero_division` parameter to control this behavior.\n",
      "  _warn_prf(average, modifier, msg_start, len(result))\n",
      "/home/kevinluo/anaconda3/envs/yolov8/lib/python3.9/site-packages/sklearn/metrics/_classification.py:1344: UndefinedMetricWarning: Precision and F-score are ill-defined and being set to 0.0 in labels with no predicted samples. Use `zero_division` parameter to control this behavior.\n",
      "  _warn_prf(average, modifier, msg_start, len(result))\n",
      "/home/kevinluo/anaconda3/envs/yolov8/lib/python3.9/site-packages/sklearn/metrics/_classification.py:1344: UndefinedMetricWarning: Precision and F-score are ill-defined and being set to 0.0 in labels with no predicted samples. Use `zero_division` parameter to control this behavior.\n",
      "  _warn_prf(average, modifier, msg_start, len(result))\n"
     ]
    },
    {
     "name": "stdout",
     "output_type": "stream",
     "text": [
      "Train Loss: 0.6962, Train Acc: 0.4957\n",
      "Val Loss: 0.6932, Val Acc: 0.5011\n",
      "              precision    recall  f1-score   support\n",
      "\n",
      "      benign       0.00      0.00      0.00       225\n",
      "   malignant       0.50      1.00      0.67       226\n",
      "\n",
      "    accuracy                           0.50       451\n",
      "   macro avg       0.25      0.50      0.33       451\n",
      "weighted avg       0.25      0.50      0.33       451\n",
      "\n",
      "Epoch 13\n"
     ]
    },
    {
     "name": "stderr",
     "output_type": "stream",
     "text": [
      "100%|██████████| 127/127 [04:45<00:00,  2.25s/it]\n",
      "100%|██████████| 15/15 [00:30<00:00,  2.02s/it]\n",
      "/home/kevinluo/anaconda3/envs/yolov8/lib/python3.9/site-packages/sklearn/metrics/_classification.py:1344: UndefinedMetricWarning: Precision and F-score are ill-defined and being set to 0.0 in labels with no predicted samples. Use `zero_division` parameter to control this behavior.\n",
      "  _warn_prf(average, modifier, msg_start, len(result))\n",
      "/home/kevinluo/anaconda3/envs/yolov8/lib/python3.9/site-packages/sklearn/metrics/_classification.py:1344: UndefinedMetricWarning: Precision and F-score are ill-defined and being set to 0.0 in labels with no predicted samples. Use `zero_division` parameter to control this behavior.\n",
      "  _warn_prf(average, modifier, msg_start, len(result))\n",
      "/home/kevinluo/anaconda3/envs/yolov8/lib/python3.9/site-packages/sklearn/metrics/_classification.py:1344: UndefinedMetricWarning: Precision and F-score are ill-defined and being set to 0.0 in labels with no predicted samples. Use `zero_division` parameter to control this behavior.\n",
      "  _warn_prf(average, modifier, msg_start, len(result))\n"
     ]
    },
    {
     "name": "stdout",
     "output_type": "stream",
     "text": [
      "Train Loss: 0.6956, Train Acc: 0.5006\n",
      "Val Loss: 0.6934, Val Acc: 0.5011\n",
      "              precision    recall  f1-score   support\n",
      "\n",
      "      benign       0.00      0.00      0.00       225\n",
      "   malignant       0.50      1.00      0.67       226\n",
      "\n",
      "    accuracy                           0.50       451\n",
      "   macro avg       0.25      0.50      0.33       451\n",
      "weighted avg       0.25      0.50      0.33       451\n",
      "\n",
      "Epoch 14\n"
     ]
    },
    {
     "name": "stderr",
     "output_type": "stream",
     "text": [
      "100%|██████████| 127/127 [04:41<00:00,  2.22s/it]\n",
      "100%|██████████| 15/15 [00:31<00:00,  2.08s/it]\n",
      "/home/kevinluo/anaconda3/envs/yolov8/lib/python3.9/site-packages/sklearn/metrics/_classification.py:1344: UndefinedMetricWarning: Precision and F-score are ill-defined and being set to 0.0 in labels with no predicted samples. Use `zero_division` parameter to control this behavior.\n",
      "  _warn_prf(average, modifier, msg_start, len(result))\n",
      "/home/kevinluo/anaconda3/envs/yolov8/lib/python3.9/site-packages/sklearn/metrics/_classification.py:1344: UndefinedMetricWarning: Precision and F-score are ill-defined and being set to 0.0 in labels with no predicted samples. Use `zero_division` parameter to control this behavior.\n",
      "  _warn_prf(average, modifier, msg_start, len(result))\n",
      "/home/kevinluo/anaconda3/envs/yolov8/lib/python3.9/site-packages/sklearn/metrics/_classification.py:1344: UndefinedMetricWarning: Precision and F-score are ill-defined and being set to 0.0 in labels with no predicted samples. Use `zero_division` parameter to control this behavior.\n",
      "  _warn_prf(average, modifier, msg_start, len(result))\n"
     ]
    },
    {
     "name": "stdout",
     "output_type": "stream",
     "text": [
      "Train Loss: 0.6940, Train Acc: 0.5028\n",
      "Val Loss: 0.6944, Val Acc: 0.5011\n",
      "              precision    recall  f1-score   support\n",
      "\n",
      "      benign       0.00      0.00      0.00       225\n",
      "   malignant       0.50      1.00      0.67       226\n",
      "\n",
      "    accuracy                           0.50       451\n",
      "   macro avg       0.25      0.50      0.33       451\n",
      "weighted avg       0.25      0.50      0.33       451\n",
      "\n",
      "Epoch 15\n"
     ]
    },
    {
     "name": "stderr",
     "output_type": "stream",
     "text": [
      "100%|██████████| 127/127 [04:49<00:00,  2.28s/it]\n",
      "100%|██████████| 15/15 [00:28<00:00,  1.93s/it]\n",
      "/home/kevinluo/anaconda3/envs/yolov8/lib/python3.9/site-packages/sklearn/metrics/_classification.py:1344: UndefinedMetricWarning: Precision and F-score are ill-defined and being set to 0.0 in labels with no predicted samples. Use `zero_division` parameter to control this behavior.\n",
      "  _warn_prf(average, modifier, msg_start, len(result))\n",
      "/home/kevinluo/anaconda3/envs/yolov8/lib/python3.9/site-packages/sklearn/metrics/_classification.py:1344: UndefinedMetricWarning: Precision and F-score are ill-defined and being set to 0.0 in labels with no predicted samples. Use `zero_division` parameter to control this behavior.\n",
      "  _warn_prf(average, modifier, msg_start, len(result))\n",
      "/home/kevinluo/anaconda3/envs/yolov8/lib/python3.9/site-packages/sklearn/metrics/_classification.py:1344: UndefinedMetricWarning: Precision and F-score are ill-defined and being set to 0.0 in labels with no predicted samples. Use `zero_division` parameter to control this behavior.\n",
      "  _warn_prf(average, modifier, msg_start, len(result))\n"
     ]
    },
    {
     "name": "stdout",
     "output_type": "stream",
     "text": [
      "Train Loss: 0.6948, Train Acc: 0.5063\n",
      "Val Loss: 0.6959, Val Acc: 0.5011\n",
      "              precision    recall  f1-score   support\n",
      "\n",
      "      benign       0.00      0.00      0.00       225\n",
      "   malignant       0.50      1.00      0.67       226\n",
      "\n",
      "    accuracy                           0.50       451\n",
      "   macro avg       0.25      0.50      0.33       451\n",
      "weighted avg       0.25      0.50      0.33       451\n",
      "\n",
      "Epoch 16\n"
     ]
    },
    {
     "name": "stderr",
     "output_type": "stream",
     "text": [
      "100%|██████████| 127/127 [04:40<00:00,  2.21s/it]\n",
      "100%|██████████| 15/15 [00:30<00:00,  2.01s/it]\n",
      "/home/kevinluo/anaconda3/envs/yolov8/lib/python3.9/site-packages/sklearn/metrics/_classification.py:1344: UndefinedMetricWarning: Precision and F-score are ill-defined and being set to 0.0 in labels with no predicted samples. Use `zero_division` parameter to control this behavior.\n",
      "  _warn_prf(average, modifier, msg_start, len(result))\n",
      "/home/kevinluo/anaconda3/envs/yolov8/lib/python3.9/site-packages/sklearn/metrics/_classification.py:1344: UndefinedMetricWarning: Precision and F-score are ill-defined and being set to 0.0 in labels with no predicted samples. Use `zero_division` parameter to control this behavior.\n",
      "  _warn_prf(average, modifier, msg_start, len(result))\n",
      "/home/kevinluo/anaconda3/envs/yolov8/lib/python3.9/site-packages/sklearn/metrics/_classification.py:1344: UndefinedMetricWarning: Precision and F-score are ill-defined and being set to 0.0 in labels with no predicted samples. Use `zero_division` parameter to control this behavior.\n",
      "  _warn_prf(average, modifier, msg_start, len(result))\n"
     ]
    },
    {
     "name": "stdout",
     "output_type": "stream",
     "text": [
      "Train Loss: 0.6939, Train Acc: 0.5110\n",
      "Val Loss: 0.6937, Val Acc: 0.4989\n",
      "              precision    recall  f1-score   support\n",
      "\n",
      "      benign       0.50      1.00      0.67       225\n",
      "   malignant       0.00      0.00      0.00       226\n",
      "\n",
      "    accuracy                           0.50       451\n",
      "   macro avg       0.25      0.50      0.33       451\n",
      "weighted avg       0.25      0.50      0.33       451\n",
      "\n",
      "Epoch 17\n"
     ]
    },
    {
     "name": "stderr",
     "output_type": "stream",
     "text": [
      "100%|██████████| 127/127 [04:41<00:00,  2.22s/it]\n",
      "100%|██████████| 15/15 [00:31<00:00,  2.07s/it]\n",
      "/home/kevinluo/anaconda3/envs/yolov8/lib/python3.9/site-packages/sklearn/metrics/_classification.py:1344: UndefinedMetricWarning: Precision and F-score are ill-defined and being set to 0.0 in labels with no predicted samples. Use `zero_division` parameter to control this behavior.\n",
      "  _warn_prf(average, modifier, msg_start, len(result))\n",
      "/home/kevinluo/anaconda3/envs/yolov8/lib/python3.9/site-packages/sklearn/metrics/_classification.py:1344: UndefinedMetricWarning: Precision and F-score are ill-defined and being set to 0.0 in labels with no predicted samples. Use `zero_division` parameter to control this behavior.\n",
      "  _warn_prf(average, modifier, msg_start, len(result))\n",
      "/home/kevinluo/anaconda3/envs/yolov8/lib/python3.9/site-packages/sklearn/metrics/_classification.py:1344: UndefinedMetricWarning: Precision and F-score are ill-defined and being set to 0.0 in labels with no predicted samples. Use `zero_division` parameter to control this behavior.\n",
      "  _warn_prf(average, modifier, msg_start, len(result))\n"
     ]
    },
    {
     "name": "stdout",
     "output_type": "stream",
     "text": [
      "Train Loss: 0.6945, Train Acc: 0.4969\n",
      "Val Loss: 0.6932, Val Acc: 0.5011\n",
      "              precision    recall  f1-score   support\n",
      "\n",
      "      benign       0.00      0.00      0.00       225\n",
      "   malignant       0.50      1.00      0.67       226\n",
      "\n",
      "    accuracy                           0.50       451\n",
      "   macro avg       0.25      0.50      0.33       451\n",
      "weighted avg       0.25      0.50      0.33       451\n",
      "\n",
      "Epoch 18\n"
     ]
    },
    {
     "name": "stderr",
     "output_type": "stream",
     "text": [
      "100%|██████████| 127/127 [04:46<00:00,  2.26s/it]\n",
      "100%|██████████| 15/15 [00:30<00:00,  2.04s/it]\n",
      "/home/kevinluo/anaconda3/envs/yolov8/lib/python3.9/site-packages/sklearn/metrics/_classification.py:1344: UndefinedMetricWarning: Precision and F-score are ill-defined and being set to 0.0 in labels with no predicted samples. Use `zero_division` parameter to control this behavior.\n",
      "  _warn_prf(average, modifier, msg_start, len(result))\n",
      "/home/kevinluo/anaconda3/envs/yolov8/lib/python3.9/site-packages/sklearn/metrics/_classification.py:1344: UndefinedMetricWarning: Precision and F-score are ill-defined and being set to 0.0 in labels with no predicted samples. Use `zero_division` parameter to control this behavior.\n",
      "  _warn_prf(average, modifier, msg_start, len(result))\n",
      "/home/kevinluo/anaconda3/envs/yolov8/lib/python3.9/site-packages/sklearn/metrics/_classification.py:1344: UndefinedMetricWarning: Precision and F-score are ill-defined and being set to 0.0 in labels with no predicted samples. Use `zero_division` parameter to control this behavior.\n",
      "  _warn_prf(average, modifier, msg_start, len(result))\n"
     ]
    },
    {
     "name": "stdout",
     "output_type": "stream",
     "text": [
      "Train Loss: 0.6947, Train Acc: 0.4949\n",
      "Val Loss: 0.6931, Val Acc: 0.5011\n",
      "              precision    recall  f1-score   support\n",
      "\n",
      "      benign       0.00      0.00      0.00       225\n",
      "   malignant       0.50      1.00      0.67       226\n",
      "\n",
      "    accuracy                           0.50       451\n",
      "   macro avg       0.25      0.50      0.33       451\n",
      "weighted avg       0.25      0.50      0.33       451\n",
      "\n",
      "Epoch 19\n"
     ]
    },
    {
     "name": "stderr",
     "output_type": "stream",
     "text": [
      "100%|██████████| 127/127 [04:42<00:00,  2.22s/it]\n",
      "100%|██████████| 15/15 [00:20<00:00,  1.33s/it]\n",
      "/home/kevinluo/anaconda3/envs/yolov8/lib/python3.9/site-packages/sklearn/metrics/_classification.py:1344: UndefinedMetricWarning: Precision and F-score are ill-defined and being set to 0.0 in labels with no predicted samples. Use `zero_division` parameter to control this behavior.\n",
      "  _warn_prf(average, modifier, msg_start, len(result))\n",
      "/home/kevinluo/anaconda3/envs/yolov8/lib/python3.9/site-packages/sklearn/metrics/_classification.py:1344: UndefinedMetricWarning: Precision and F-score are ill-defined and being set to 0.0 in labels with no predicted samples. Use `zero_division` parameter to control this behavior.\n",
      "  _warn_prf(average, modifier, msg_start, len(result))\n",
      "/home/kevinluo/anaconda3/envs/yolov8/lib/python3.9/site-packages/sklearn/metrics/_classification.py:1344: UndefinedMetricWarning: Precision and F-score are ill-defined and being set to 0.0 in labels with no predicted samples. Use `zero_division` parameter to control this behavior.\n",
      "  _warn_prf(average, modifier, msg_start, len(result))\n"
     ]
    },
    {
     "name": "stdout",
     "output_type": "stream",
     "text": [
      "Train Loss: 0.6954, Train Acc: 0.4838\n",
      "Val Loss: 0.6933, Val Acc: 0.5011\n",
      "              precision    recall  f1-score   support\n",
      "\n",
      "      benign       0.00      0.00      0.00       225\n",
      "   malignant       0.50      1.00      0.67       226\n",
      "\n",
      "    accuracy                           0.50       451\n",
      "   macro avg       0.25      0.50      0.33       451\n",
      "weighted avg       0.25      0.50      0.33       451\n",
      "\n",
      "Epoch 20\n"
     ]
    },
    {
     "name": "stderr",
     "output_type": "stream",
     "text": [
      "100%|██████████| 127/127 [01:27<00:00,  1.45it/s]\n",
      "100%|██████████| 15/15 [00:08<00:00,  1.77it/s]\n",
      "/home/kevinluo/anaconda3/envs/yolov8/lib/python3.9/site-packages/sklearn/metrics/_classification.py:1344: UndefinedMetricWarning: Precision and F-score are ill-defined and being set to 0.0 in labels with no predicted samples. Use `zero_division` parameter to control this behavior.\n",
      "  _warn_prf(average, modifier, msg_start, len(result))\n",
      "/home/kevinluo/anaconda3/envs/yolov8/lib/python3.9/site-packages/sklearn/metrics/_classification.py:1344: UndefinedMetricWarning: Precision and F-score are ill-defined and being set to 0.0 in labels with no predicted samples. Use `zero_division` parameter to control this behavior.\n",
      "  _warn_prf(average, modifier, msg_start, len(result))\n",
      "/home/kevinluo/anaconda3/envs/yolov8/lib/python3.9/site-packages/sklearn/metrics/_classification.py:1344: UndefinedMetricWarning: Precision and F-score are ill-defined and being set to 0.0 in labels with no predicted samples. Use `zero_division` parameter to control this behavior.\n",
      "  _warn_prf(average, modifier, msg_start, len(result))\n"
     ]
    },
    {
     "name": "stdout",
     "output_type": "stream",
     "text": [
      "Train Loss: 0.6935, Train Acc: 0.4824\n",
      "Val Loss: 0.6942, Val Acc: 0.5011\n",
      "              precision    recall  f1-score   support\n",
      "\n",
      "      benign       0.00      0.00      0.00       225\n",
      "   malignant       0.50      1.00      0.67       226\n",
      "\n",
      "    accuracy                           0.50       451\n",
      "   macro avg       0.25      0.50      0.33       451\n",
      "weighted avg       0.25      0.50      0.33       451\n",
      "\n",
      "Epoch 21\n"
     ]
    },
    {
     "name": "stderr",
     "output_type": "stream",
     "text": [
      "100%|██████████| 127/127 [01:27<00:00,  1.45it/s]\n",
      "100%|██████████| 15/15 [00:08<00:00,  1.78it/s]\n",
      "/home/kevinluo/anaconda3/envs/yolov8/lib/python3.9/site-packages/sklearn/metrics/_classification.py:1344: UndefinedMetricWarning: Precision and F-score are ill-defined and being set to 0.0 in labels with no predicted samples. Use `zero_division` parameter to control this behavior.\n",
      "  _warn_prf(average, modifier, msg_start, len(result))\n",
      "/home/kevinluo/anaconda3/envs/yolov8/lib/python3.9/site-packages/sklearn/metrics/_classification.py:1344: UndefinedMetricWarning: Precision and F-score are ill-defined and being set to 0.0 in labels with no predicted samples. Use `zero_division` parameter to control this behavior.\n",
      "  _warn_prf(average, modifier, msg_start, len(result))\n",
      "/home/kevinluo/anaconda3/envs/yolov8/lib/python3.9/site-packages/sklearn/metrics/_classification.py:1344: UndefinedMetricWarning: Precision and F-score are ill-defined and being set to 0.0 in labels with no predicted samples. Use `zero_division` parameter to control this behavior.\n",
      "  _warn_prf(average, modifier, msg_start, len(result))\n"
     ]
    },
    {
     "name": "stdout",
     "output_type": "stream",
     "text": [
      "Train Loss: 0.6939, Train Acc: 0.4806\n",
      "Val Loss: 0.6932, Val Acc: 0.5011\n",
      "              precision    recall  f1-score   support\n",
      "\n",
      "      benign       0.00      0.00      0.00       225\n",
      "   malignant       0.50      1.00      0.67       226\n",
      "\n",
      "    accuracy                           0.50       451\n",
      "   macro avg       0.25      0.50      0.33       451\n",
      "weighted avg       0.25      0.50      0.33       451\n",
      "\n",
      "Epoch 22\n"
     ]
    },
    {
     "name": "stderr",
     "output_type": "stream",
     "text": [
      "100%|██████████| 127/127 [01:27<00:00,  1.45it/s]\n",
      "100%|██████████| 15/15 [00:08<00:00,  1.80it/s]\n",
      "/home/kevinluo/anaconda3/envs/yolov8/lib/python3.9/site-packages/sklearn/metrics/_classification.py:1344: UndefinedMetricWarning: Precision and F-score are ill-defined and being set to 0.0 in labels with no predicted samples. Use `zero_division` parameter to control this behavior.\n",
      "  _warn_prf(average, modifier, msg_start, len(result))\n",
      "/home/kevinluo/anaconda3/envs/yolov8/lib/python3.9/site-packages/sklearn/metrics/_classification.py:1344: UndefinedMetricWarning: Precision and F-score are ill-defined and being set to 0.0 in labels with no predicted samples. Use `zero_division` parameter to control this behavior.\n",
      "  _warn_prf(average, modifier, msg_start, len(result))\n",
      "/home/kevinluo/anaconda3/envs/yolov8/lib/python3.9/site-packages/sklearn/metrics/_classification.py:1344: UndefinedMetricWarning: Precision and F-score are ill-defined and being set to 0.0 in labels with no predicted samples. Use `zero_division` parameter to control this behavior.\n",
      "  _warn_prf(average, modifier, msg_start, len(result))\n"
     ]
    },
    {
     "name": "stdout",
     "output_type": "stream",
     "text": [
      "Train Loss: 0.6940, Train Acc: 0.5060\n",
      "Val Loss: 0.6932, Val Acc: 0.5011\n",
      "              precision    recall  f1-score   support\n",
      "\n",
      "      benign       0.00      0.00      0.00       225\n",
      "   malignant       0.50      1.00      0.67       226\n",
      "\n",
      "    accuracy                           0.50       451\n",
      "   macro avg       0.25      0.50      0.33       451\n",
      "weighted avg       0.25      0.50      0.33       451\n",
      "\n",
      "Epoch 23\n"
     ]
    },
    {
     "name": "stderr",
     "output_type": "stream",
     "text": [
      "100%|██████████| 127/127 [01:27<00:00,  1.45it/s]\n",
      "100%|██████████| 15/15 [00:08<00:00,  1.77it/s]\n",
      "/home/kevinluo/anaconda3/envs/yolov8/lib/python3.9/site-packages/sklearn/metrics/_classification.py:1344: UndefinedMetricWarning: Precision and F-score are ill-defined and being set to 0.0 in labels with no predicted samples. Use `zero_division` parameter to control this behavior.\n",
      "  _warn_prf(average, modifier, msg_start, len(result))\n",
      "/home/kevinluo/anaconda3/envs/yolov8/lib/python3.9/site-packages/sklearn/metrics/_classification.py:1344: UndefinedMetricWarning: Precision and F-score are ill-defined and being set to 0.0 in labels with no predicted samples. Use `zero_division` parameter to control this behavior.\n",
      "  _warn_prf(average, modifier, msg_start, len(result))\n",
      "/home/kevinluo/anaconda3/envs/yolov8/lib/python3.9/site-packages/sklearn/metrics/_classification.py:1344: UndefinedMetricWarning: Precision and F-score are ill-defined and being set to 0.0 in labels with no predicted samples. Use `zero_division` parameter to control this behavior.\n",
      "  _warn_prf(average, modifier, msg_start, len(result))\n"
     ]
    },
    {
     "name": "stdout",
     "output_type": "stream",
     "text": [
      "Train Loss: 0.6939, Train Acc: 0.4949\n",
      "Val Loss: 0.6932, Val Acc: 0.5011\n",
      "              precision    recall  f1-score   support\n",
      "\n",
      "      benign       0.00      0.00      0.00       225\n",
      "   malignant       0.50      1.00      0.67       226\n",
      "\n",
      "    accuracy                           0.50       451\n",
      "   macro avg       0.25      0.50      0.33       451\n",
      "weighted avg       0.25      0.50      0.33       451\n",
      "\n",
      "Epoch 24\n"
     ]
    },
    {
     "name": "stderr",
     "output_type": "stream",
     "text": [
      "100%|██████████| 127/127 [01:28<00:00,  1.44it/s]\n",
      "100%|██████████| 15/15 [00:08<00:00,  1.73it/s]\n",
      "/home/kevinluo/anaconda3/envs/yolov8/lib/python3.9/site-packages/sklearn/metrics/_classification.py:1344: UndefinedMetricWarning: Precision and F-score are ill-defined and being set to 0.0 in labels with no predicted samples. Use `zero_division` parameter to control this behavior.\n",
      "  _warn_prf(average, modifier, msg_start, len(result))\n",
      "/home/kevinluo/anaconda3/envs/yolov8/lib/python3.9/site-packages/sklearn/metrics/_classification.py:1344: UndefinedMetricWarning: Precision and F-score are ill-defined and being set to 0.0 in labels with no predicted samples. Use `zero_division` parameter to control this behavior.\n",
      "  _warn_prf(average, modifier, msg_start, len(result))\n",
      "/home/kevinluo/anaconda3/envs/yolov8/lib/python3.9/site-packages/sklearn/metrics/_classification.py:1344: UndefinedMetricWarning: Precision and F-score are ill-defined and being set to 0.0 in labels with no predicted samples. Use `zero_division` parameter to control this behavior.\n",
      "  _warn_prf(average, modifier, msg_start, len(result))\n"
     ]
    },
    {
     "name": "stdout",
     "output_type": "stream",
     "text": [
      "Train Loss: 0.6939, Train Acc: 0.4967\n",
      "Val Loss: 0.6932, Val Acc: 0.4989\n",
      "              precision    recall  f1-score   support\n",
      "\n",
      "      benign       0.50      1.00      0.67       225\n",
      "   malignant       0.00      0.00      0.00       226\n",
      "\n",
      "    accuracy                           0.50       451\n",
      "   macro avg       0.25      0.50      0.33       451\n",
      "weighted avg       0.25      0.50      0.33       451\n",
      "\n",
      "Epoch 25\n"
     ]
    },
    {
     "name": "stderr",
     "output_type": "stream",
     "text": [
      "100%|██████████| 127/127 [01:23<00:00,  1.52it/s]\n",
      "100%|██████████| 15/15 [00:08<00:00,  1.85it/s]\n",
      "/home/kevinluo/anaconda3/envs/yolov8/lib/python3.9/site-packages/sklearn/metrics/_classification.py:1344: UndefinedMetricWarning: Precision and F-score are ill-defined and being set to 0.0 in labels with no predicted samples. Use `zero_division` parameter to control this behavior.\n",
      "  _warn_prf(average, modifier, msg_start, len(result))\n",
      "/home/kevinluo/anaconda3/envs/yolov8/lib/python3.9/site-packages/sklearn/metrics/_classification.py:1344: UndefinedMetricWarning: Precision and F-score are ill-defined and being set to 0.0 in labels with no predicted samples. Use `zero_division` parameter to control this behavior.\n",
      "  _warn_prf(average, modifier, msg_start, len(result))\n",
      "/home/kevinluo/anaconda3/envs/yolov8/lib/python3.9/site-packages/sklearn/metrics/_classification.py:1344: UndefinedMetricWarning: Precision and F-score are ill-defined and being set to 0.0 in labels with no predicted samples. Use `zero_division` parameter to control this behavior.\n",
      "  _warn_prf(average, modifier, msg_start, len(result))\n"
     ]
    },
    {
     "name": "stdout",
     "output_type": "stream",
     "text": [
      "Train Loss: 0.6942, Train Acc: 0.4932\n",
      "Val Loss: 0.6932, Val Acc: 0.4989\n",
      "              precision    recall  f1-score   support\n",
      "\n",
      "      benign       0.50      1.00      0.67       225\n",
      "   malignant       0.00      0.00      0.00       226\n",
      "\n",
      "    accuracy                           0.50       451\n",
      "   macro avg       0.25      0.50      0.33       451\n",
      "weighted avg       0.25      0.50      0.33       451\n",
      "\n",
      "Fold 2\n",
      "Epoch 1\n"
     ]
    },
    {
     "name": "stderr",
     "output_type": "stream",
     "text": [
      "100%|██████████| 127/127 [01:22<00:00,  1.53it/s]\n",
      "100%|██████████| 15/15 [00:07<00:00,  1.91it/s]\n"
     ]
    },
    {
     "name": "stdout",
     "output_type": "stream",
     "text": [
      "Train Loss: 0.7833, Train Acc: 0.5668\n",
      "Val Loss: 0.6483, Val Acc: 0.6297\n",
      "              precision    recall  f1-score   support\n",
      "\n",
      "      benign       0.66      0.52      0.59       225\n",
      "   malignant       0.61      0.73      0.67       226\n",
      "\n",
      "    accuracy                           0.63       451\n",
      "   macro avg       0.64      0.63      0.63       451\n",
      "weighted avg       0.64      0.63      0.63       451\n",
      "\n",
      "Epoch 2\n"
     ]
    },
    {
     "name": "stderr",
     "output_type": "stream",
     "text": [
      "100%|██████████| 127/127 [01:22<00:00,  1.53it/s]\n",
      "100%|██████████| 15/15 [00:07<00:00,  1.90it/s]\n"
     ]
    },
    {
     "name": "stdout",
     "output_type": "stream",
     "text": [
      "Train Loss: 0.6647, Train Acc: 0.6008\n",
      "Val Loss: 0.6384, Val Acc: 0.6186\n",
      "              precision    recall  f1-score   support\n",
      "\n",
      "      benign       0.60      0.70      0.65       225\n",
      "   malignant       0.64      0.54      0.58       226\n",
      "\n",
      "    accuracy                           0.62       451\n",
      "   macro avg       0.62      0.62      0.62       451\n",
      "weighted avg       0.62      0.62      0.62       451\n",
      "\n",
      "Epoch 3\n"
     ]
    },
    {
     "name": "stderr",
     "output_type": "stream",
     "text": [
      "100%|██████████| 127/127 [01:22<00:00,  1.53it/s]\n",
      "100%|██████████| 15/15 [00:07<00:00,  1.91it/s]\n"
     ]
    },
    {
     "name": "stdout",
     "output_type": "stream",
     "text": [
      "Train Loss: 0.6607, Train Acc: 0.6033\n",
      "Val Loss: 0.6481, Val Acc: 0.6297\n",
      "              precision    recall  f1-score   support\n",
      "\n",
      "      benign       0.66      0.54      0.59       225\n",
      "   malignant       0.61      0.72      0.66       226\n",
      "\n",
      "    accuracy                           0.63       451\n",
      "   macro avg       0.63      0.63      0.63       451\n",
      "weighted avg       0.63      0.63      0.63       451\n",
      "\n",
      "Epoch 4\n"
     ]
    },
    {
     "name": "stderr",
     "output_type": "stream",
     "text": [
      "100%|██████████| 127/127 [01:23<00:00,  1.52it/s]\n",
      "100%|██████████| 15/15 [00:08<00:00,  1.87it/s]\n"
     ]
    },
    {
     "name": "stdout",
     "output_type": "stream",
     "text": [
      "Train Loss: 0.6703, Train Acc: 0.5902\n",
      "Val Loss: 0.6486, Val Acc: 0.6053\n",
      "              precision    recall  f1-score   support\n",
      "\n",
      "      benign       0.62      0.55      0.58       225\n",
      "   malignant       0.60      0.66      0.63       226\n",
      "\n",
      "    accuracy                           0.61       451\n",
      "   macro avg       0.61      0.61      0.60       451\n",
      "weighted avg       0.61      0.61      0.60       451\n",
      "\n",
      "Epoch 5\n"
     ]
    },
    {
     "name": "stderr",
     "output_type": "stream",
     "text": [
      "100%|██████████| 127/127 [01:22<00:00,  1.53it/s]\n",
      "100%|██████████| 15/15 [00:07<00:00,  1.90it/s]\n"
     ]
    },
    {
     "name": "stdout",
     "output_type": "stream",
     "text": [
      "Train Loss: 0.6695, Train Acc: 0.5932\n",
      "Val Loss: 0.6484, Val Acc: 0.6120\n",
      "              precision    recall  f1-score   support\n",
      "\n",
      "      benign       0.61      0.64      0.62       225\n",
      "   malignant       0.62      0.58      0.60       226\n",
      "\n",
      "    accuracy                           0.61       451\n",
      "   macro avg       0.61      0.61      0.61       451\n",
      "weighted avg       0.61      0.61      0.61       451\n",
      "\n",
      "Epoch 6\n"
     ]
    },
    {
     "name": "stderr",
     "output_type": "stream",
     "text": [
      "100%|██████████| 127/127 [01:22<00:00,  1.53it/s]\n",
      "100%|██████████| 15/15 [00:07<00:00,  1.90it/s]\n"
     ]
    },
    {
     "name": "stdout",
     "output_type": "stream",
     "text": [
      "Train Loss: 0.6733, Train Acc: 0.5905\n",
      "Val Loss: 0.6521, Val Acc: 0.6186\n",
      "              precision    recall  f1-score   support\n",
      "\n",
      "      benign       0.63      0.58      0.60       225\n",
      "   malignant       0.61      0.66      0.63       226\n",
      "\n",
      "    accuracy                           0.62       451\n",
      "   macro avg       0.62      0.62      0.62       451\n",
      "weighted avg       0.62      0.62      0.62       451\n",
      "\n",
      "Epoch 7\n"
     ]
    },
    {
     "name": "stderr",
     "output_type": "stream",
     "text": [
      "100%|██████████| 127/127 [01:23<00:00,  1.53it/s]\n",
      "100%|██████████| 15/15 [00:07<00:00,  1.89it/s]\n",
      "/home/kevinluo/anaconda3/envs/yolov8/lib/python3.9/site-packages/sklearn/metrics/_classification.py:1344: UndefinedMetricWarning: Precision and F-score are ill-defined and being set to 0.0 in labels with no predicted samples. Use `zero_division` parameter to control this behavior.\n",
      "  _warn_prf(average, modifier, msg_start, len(result))\n",
      "/home/kevinluo/anaconda3/envs/yolov8/lib/python3.9/site-packages/sklearn/metrics/_classification.py:1344: UndefinedMetricWarning: Precision and F-score are ill-defined and being set to 0.0 in labels with no predicted samples. Use `zero_division` parameter to control this behavior.\n",
      "  _warn_prf(average, modifier, msg_start, len(result))\n",
      "/home/kevinluo/anaconda3/envs/yolov8/lib/python3.9/site-packages/sklearn/metrics/_classification.py:1344: UndefinedMetricWarning: Precision and F-score are ill-defined and being set to 0.0 in labels with no predicted samples. Use `zero_division` parameter to control this behavior.\n",
      "  _warn_prf(average, modifier, msg_start, len(result))\n"
     ]
    },
    {
     "name": "stdout",
     "output_type": "stream",
     "text": [
      "Train Loss: 0.6889, Train Acc: 0.5522\n",
      "Val Loss: 0.6964, Val Acc: 0.4989\n",
      "              precision    recall  f1-score   support\n",
      "\n",
      "      benign       0.50      1.00      0.67       225\n",
      "   malignant       0.00      0.00      0.00       226\n",
      "\n",
      "    accuracy                           0.50       451\n",
      "   macro avg       0.25      0.50      0.33       451\n",
      "weighted avg       0.25      0.50      0.33       451\n",
      "\n",
      "Epoch 8\n"
     ]
    },
    {
     "name": "stderr",
     "output_type": "stream",
     "text": [
      "100%|██████████| 127/127 [01:22<00:00,  1.53it/s]\n",
      "100%|██████████| 15/15 [00:07<00:00,  1.90it/s]\n"
     ]
    },
    {
     "name": "stdout",
     "output_type": "stream",
     "text": [
      "Train Loss: 0.6917, Train Acc: 0.5618\n",
      "Val Loss: 0.6663, Val Acc: 0.5898\n",
      "              precision    recall  f1-score   support\n",
      "\n",
      "      benign       0.59      0.57      0.58       225\n",
      "   malignant       0.59      0.61      0.60       226\n",
      "\n",
      "    accuracy                           0.59       451\n",
      "   macro avg       0.59      0.59      0.59       451\n",
      "weighted avg       0.59      0.59      0.59       451\n",
      "\n",
      "Epoch 9\n"
     ]
    },
    {
     "name": "stderr",
     "output_type": "stream",
     "text": [
      "100%|██████████| 127/127 [01:22<00:00,  1.53it/s]\n",
      "100%|██████████| 15/15 [00:07<00:00,  1.91it/s]\n"
     ]
    },
    {
     "name": "stdout",
     "output_type": "stream",
     "text": [
      "Train Loss: 0.6830, Train Acc: 0.5591\n",
      "Val Loss: 0.6650, Val Acc: 0.5898\n",
      "              precision    recall  f1-score   support\n",
      "\n",
      "      benign       0.60      0.52      0.56       225\n",
      "   malignant       0.58      0.66      0.62       226\n",
      "\n",
      "    accuracy                           0.59       451\n",
      "   macro avg       0.59      0.59      0.59       451\n",
      "weighted avg       0.59      0.59      0.59       451\n",
      "\n",
      "Epoch 10\n"
     ]
    },
    {
     "name": "stderr",
     "output_type": "stream",
     "text": [
      "100%|██████████| 127/127 [01:22<00:00,  1.53it/s]\n",
      "100%|██████████| 15/15 [00:07<00:00,  1.90it/s]\n"
     ]
    },
    {
     "name": "stdout",
     "output_type": "stream",
     "text": [
      "Train Loss: 0.6802, Train Acc: 0.5710\n",
      "Val Loss: 0.6675, Val Acc: 0.5920\n",
      "              precision    recall  f1-score   support\n",
      "\n",
      "      benign       0.61      0.52      0.56       225\n",
      "   malignant       0.58      0.66      0.62       226\n",
      "\n",
      "    accuracy                           0.59       451\n",
      "   macro avg       0.59      0.59      0.59       451\n",
      "weighted avg       0.59      0.59      0.59       451\n",
      "\n",
      "Epoch 11\n"
     ]
    },
    {
     "name": "stderr",
     "output_type": "stream",
     "text": [
      "100%|██████████| 127/127 [01:22<00:00,  1.53it/s]\n",
      "100%|██████████| 15/15 [00:07<00:00,  1.90it/s]\n"
     ]
    },
    {
     "name": "stdout",
     "output_type": "stream",
     "text": [
      "Train Loss: 0.6817, Train Acc: 0.5641\n",
      "Val Loss: 0.6584, Val Acc: 0.5965\n",
      "              precision    recall  f1-score   support\n",
      "\n",
      "      benign       0.57      0.80      0.67       225\n",
      "   malignant       0.67      0.39      0.49       226\n",
      "\n",
      "    accuracy                           0.60       451\n",
      "   macro avg       0.62      0.60      0.58       451\n",
      "weighted avg       0.62      0.60      0.58       451\n",
      "\n",
      "Epoch 12\n"
     ]
    },
    {
     "name": "stderr",
     "output_type": "stream",
     "text": [
      "100%|██████████| 127/127 [01:22<00:00,  1.53it/s]\n",
      "100%|██████████| 15/15 [00:07<00:00,  1.91it/s]\n",
      "/home/kevinluo/anaconda3/envs/yolov8/lib/python3.9/site-packages/sklearn/metrics/_classification.py:1344: UndefinedMetricWarning: Precision and F-score are ill-defined and being set to 0.0 in labels with no predicted samples. Use `zero_division` parameter to control this behavior.\n",
      "  _warn_prf(average, modifier, msg_start, len(result))\n",
      "/home/kevinluo/anaconda3/envs/yolov8/lib/python3.9/site-packages/sklearn/metrics/_classification.py:1344: UndefinedMetricWarning: Precision and F-score are ill-defined and being set to 0.0 in labels with no predicted samples. Use `zero_division` parameter to control this behavior.\n",
      "  _warn_prf(average, modifier, msg_start, len(result))\n",
      "/home/kevinluo/anaconda3/envs/yolov8/lib/python3.9/site-packages/sklearn/metrics/_classification.py:1344: UndefinedMetricWarning: Precision and F-score are ill-defined and being set to 0.0 in labels with no predicted samples. Use `zero_division` parameter to control this behavior.\n",
      "  _warn_prf(average, modifier, msg_start, len(result))\n"
     ]
    },
    {
     "name": "stdout",
     "output_type": "stream",
     "text": [
      "Train Loss: 0.7210, Train Acc: 0.5038\n",
      "Val Loss: 0.6933, Val Acc: 0.5011\n",
      "              precision    recall  f1-score   support\n",
      "\n",
      "      benign       0.00      0.00      0.00       225\n",
      "   malignant       0.50      1.00      0.67       226\n",
      "\n",
      "    accuracy                           0.50       451\n",
      "   macro avg       0.25      0.50      0.33       451\n",
      "weighted avg       0.25      0.50      0.33       451\n",
      "\n",
      "Epoch 13\n"
     ]
    },
    {
     "name": "stderr",
     "output_type": "stream",
     "text": [
      "100%|██████████| 127/127 [01:22<00:00,  1.54it/s]\n",
      "100%|██████████| 15/15 [00:07<00:00,  1.90it/s]\n",
      "/home/kevinluo/anaconda3/envs/yolov8/lib/python3.9/site-packages/sklearn/metrics/_classification.py:1344: UndefinedMetricWarning: Precision and F-score are ill-defined and being set to 0.0 in labels with no predicted samples. Use `zero_division` parameter to control this behavior.\n",
      "  _warn_prf(average, modifier, msg_start, len(result))\n",
      "/home/kevinluo/anaconda3/envs/yolov8/lib/python3.9/site-packages/sklearn/metrics/_classification.py:1344: UndefinedMetricWarning: Precision and F-score are ill-defined and being set to 0.0 in labels with no predicted samples. Use `zero_division` parameter to control this behavior.\n",
      "  _warn_prf(average, modifier, msg_start, len(result))\n",
      "/home/kevinluo/anaconda3/envs/yolov8/lib/python3.9/site-packages/sklearn/metrics/_classification.py:1344: UndefinedMetricWarning: Precision and F-score are ill-defined and being set to 0.0 in labels with no predicted samples. Use `zero_division` parameter to control this behavior.\n",
      "  _warn_prf(average, modifier, msg_start, len(result))\n"
     ]
    },
    {
     "name": "stdout",
     "output_type": "stream",
     "text": [
      "Train Loss: 0.6978, Train Acc: 0.5065\n",
      "Val Loss: 0.6932, Val Acc: 0.5011\n",
      "              precision    recall  f1-score   support\n",
      "\n",
      "      benign       0.00      0.00      0.00       225\n",
      "   malignant       0.50      1.00      0.67       226\n",
      "\n",
      "    accuracy                           0.50       451\n",
      "   macro avg       0.25      0.50      0.33       451\n",
      "weighted avg       0.25      0.50      0.33       451\n",
      "\n",
      "Epoch 14\n"
     ]
    },
    {
     "name": "stderr",
     "output_type": "stream",
     "text": [
      "100%|██████████| 127/127 [01:22<00:00,  1.54it/s]\n",
      "100%|██████████| 15/15 [00:07<00:00,  1.90it/s]\n",
      "/home/kevinluo/anaconda3/envs/yolov8/lib/python3.9/site-packages/sklearn/metrics/_classification.py:1344: UndefinedMetricWarning: Precision and F-score are ill-defined and being set to 0.0 in labels with no predicted samples. Use `zero_division` parameter to control this behavior.\n",
      "  _warn_prf(average, modifier, msg_start, len(result))\n",
      "/home/kevinluo/anaconda3/envs/yolov8/lib/python3.9/site-packages/sklearn/metrics/_classification.py:1344: UndefinedMetricWarning: Precision and F-score are ill-defined and being set to 0.0 in labels with no predicted samples. Use `zero_division` parameter to control this behavior.\n",
      "  _warn_prf(average, modifier, msg_start, len(result))\n",
      "/home/kevinluo/anaconda3/envs/yolov8/lib/python3.9/site-packages/sklearn/metrics/_classification.py:1344: UndefinedMetricWarning: Precision and F-score are ill-defined and being set to 0.0 in labels with no predicted samples. Use `zero_division` parameter to control this behavior.\n",
      "  _warn_prf(average, modifier, msg_start, len(result))\n"
     ]
    },
    {
     "name": "stdout",
     "output_type": "stream",
     "text": [
      "Train Loss: 0.6955, Train Acc: 0.4979\n",
      "Val Loss: 0.6980, Val Acc: 0.4989\n",
      "              precision    recall  f1-score   support\n",
      "\n",
      "      benign       0.50      1.00      0.67       225\n",
      "   malignant       0.00      0.00      0.00       226\n",
      "\n",
      "    accuracy                           0.50       451\n",
      "   macro avg       0.25      0.50      0.33       451\n",
      "weighted avg       0.25      0.50      0.33       451\n",
      "\n",
      "Epoch 15\n"
     ]
    },
    {
     "name": "stderr",
     "output_type": "stream",
     "text": [
      "100%|██████████| 127/127 [01:22<00:00,  1.53it/s]\n",
      "100%|██████████| 15/15 [00:07<00:00,  1.90it/s]\n",
      "/home/kevinluo/anaconda3/envs/yolov8/lib/python3.9/site-packages/sklearn/metrics/_classification.py:1344: UndefinedMetricWarning: Precision and F-score are ill-defined and being set to 0.0 in labels with no predicted samples. Use `zero_division` parameter to control this behavior.\n",
      "  _warn_prf(average, modifier, msg_start, len(result))\n",
      "/home/kevinluo/anaconda3/envs/yolov8/lib/python3.9/site-packages/sklearn/metrics/_classification.py:1344: UndefinedMetricWarning: Precision and F-score are ill-defined and being set to 0.0 in labels with no predicted samples. Use `zero_division` parameter to control this behavior.\n",
      "  _warn_prf(average, modifier, msg_start, len(result))\n",
      "/home/kevinluo/anaconda3/envs/yolov8/lib/python3.9/site-packages/sklearn/metrics/_classification.py:1344: UndefinedMetricWarning: Precision and F-score are ill-defined and being set to 0.0 in labels with no predicted samples. Use `zero_division` parameter to control this behavior.\n",
      "  _warn_prf(average, modifier, msg_start, len(result))\n"
     ]
    },
    {
     "name": "stdout",
     "output_type": "stream",
     "text": [
      "Train Loss: 0.6966, Train Acc: 0.4937\n",
      "Val Loss: 0.6976, Val Acc: 0.5011\n",
      "              precision    recall  f1-score   support\n",
      "\n",
      "      benign       0.00      0.00      0.00       225\n",
      "   malignant       0.50      1.00      0.67       226\n",
      "\n",
      "    accuracy                           0.50       451\n",
      "   macro avg       0.25      0.50      0.33       451\n",
      "weighted avg       0.25      0.50      0.33       451\n",
      "\n",
      "Epoch 16\n"
     ]
    },
    {
     "name": "stderr",
     "output_type": "stream",
     "text": [
      "100%|██████████| 127/127 [01:22<00:00,  1.54it/s]\n",
      "100%|██████████| 15/15 [00:07<00:00,  1.90it/s]\n",
      "/home/kevinluo/anaconda3/envs/yolov8/lib/python3.9/site-packages/sklearn/metrics/_classification.py:1344: UndefinedMetricWarning: Precision and F-score are ill-defined and being set to 0.0 in labels with no predicted samples. Use `zero_division` parameter to control this behavior.\n",
      "  _warn_prf(average, modifier, msg_start, len(result))\n",
      "/home/kevinluo/anaconda3/envs/yolov8/lib/python3.9/site-packages/sklearn/metrics/_classification.py:1344: UndefinedMetricWarning: Precision and F-score are ill-defined and being set to 0.0 in labels with no predicted samples. Use `zero_division` parameter to control this behavior.\n",
      "  _warn_prf(average, modifier, msg_start, len(result))\n",
      "/home/kevinluo/anaconda3/envs/yolov8/lib/python3.9/site-packages/sklearn/metrics/_classification.py:1344: UndefinedMetricWarning: Precision and F-score are ill-defined and being set to 0.0 in labels with no predicted samples. Use `zero_division` parameter to control this behavior.\n",
      "  _warn_prf(average, modifier, msg_start, len(result))\n"
     ]
    },
    {
     "name": "stdout",
     "output_type": "stream",
     "text": [
      "Train Loss: 0.6967, Train Acc: 0.4954\n",
      "Val Loss: 0.6996, Val Acc: 0.5011\n",
      "              precision    recall  f1-score   support\n",
      "\n",
      "      benign       0.00      0.00      0.00       225\n",
      "   malignant       0.50      1.00      0.67       226\n",
      "\n",
      "    accuracy                           0.50       451\n",
      "   macro avg       0.25      0.50      0.33       451\n",
      "weighted avg       0.25      0.50      0.33       451\n",
      "\n",
      "Epoch 17\n"
     ]
    },
    {
     "name": "stderr",
     "output_type": "stream",
     "text": [
      "100%|██████████| 127/127 [01:22<00:00,  1.54it/s]\n",
      "100%|██████████| 15/15 [00:07<00:00,  1.90it/s]\n",
      "/home/kevinluo/anaconda3/envs/yolov8/lib/python3.9/site-packages/sklearn/metrics/_classification.py:1344: UndefinedMetricWarning: Precision and F-score are ill-defined and being set to 0.0 in labels with no predicted samples. Use `zero_division` parameter to control this behavior.\n",
      "  _warn_prf(average, modifier, msg_start, len(result))\n",
      "/home/kevinluo/anaconda3/envs/yolov8/lib/python3.9/site-packages/sklearn/metrics/_classification.py:1344: UndefinedMetricWarning: Precision and F-score are ill-defined and being set to 0.0 in labels with no predicted samples. Use `zero_division` parameter to control this behavior.\n",
      "  _warn_prf(average, modifier, msg_start, len(result))\n",
      "/home/kevinluo/anaconda3/envs/yolov8/lib/python3.9/site-packages/sklearn/metrics/_classification.py:1344: UndefinedMetricWarning: Precision and F-score are ill-defined and being set to 0.0 in labels with no predicted samples. Use `zero_division` parameter to control this behavior.\n",
      "  _warn_prf(average, modifier, msg_start, len(result))\n"
     ]
    },
    {
     "name": "stdout",
     "output_type": "stream",
     "text": [
      "Train Loss: 0.6960, Train Acc: 0.4972\n",
      "Val Loss: 0.6934, Val Acc: 0.4989\n",
      "              precision    recall  f1-score   support\n",
      "\n",
      "      benign       0.50      1.00      0.67       225\n",
      "   malignant       0.00      0.00      0.00       226\n",
      "\n",
      "    accuracy                           0.50       451\n",
      "   macro avg       0.25      0.50      0.33       451\n",
      "weighted avg       0.25      0.50      0.33       451\n",
      "\n",
      "Epoch 18\n"
     ]
    },
    {
     "name": "stderr",
     "output_type": "stream",
     "text": [
      "100%|██████████| 127/127 [01:22<00:00,  1.54it/s]\n",
      "100%|██████████| 15/15 [00:07<00:00,  1.91it/s]\n",
      "/home/kevinluo/anaconda3/envs/yolov8/lib/python3.9/site-packages/sklearn/metrics/_classification.py:1344: UndefinedMetricWarning: Precision and F-score are ill-defined and being set to 0.0 in labels with no predicted samples. Use `zero_division` parameter to control this behavior.\n",
      "  _warn_prf(average, modifier, msg_start, len(result))\n",
      "/home/kevinluo/anaconda3/envs/yolov8/lib/python3.9/site-packages/sklearn/metrics/_classification.py:1344: UndefinedMetricWarning: Precision and F-score are ill-defined and being set to 0.0 in labels with no predicted samples. Use `zero_division` parameter to control this behavior.\n",
      "  _warn_prf(average, modifier, msg_start, len(result))\n",
      "/home/kevinluo/anaconda3/envs/yolov8/lib/python3.9/site-packages/sklearn/metrics/_classification.py:1344: UndefinedMetricWarning: Precision and F-score are ill-defined and being set to 0.0 in labels with no predicted samples. Use `zero_division` parameter to control this behavior.\n",
      "  _warn_prf(average, modifier, msg_start, len(result))\n"
     ]
    },
    {
     "name": "stdout",
     "output_type": "stream",
     "text": [
      "Train Loss: 0.6956, Train Acc: 0.5053\n",
      "Val Loss: 0.7052, Val Acc: 0.4989\n",
      "              precision    recall  f1-score   support\n",
      "\n",
      "      benign       0.50      1.00      0.67       225\n",
      "   malignant       0.00      0.00      0.00       226\n",
      "\n",
      "    accuracy                           0.50       451\n",
      "   macro avg       0.25      0.50      0.33       451\n",
      "weighted avg       0.25      0.50      0.33       451\n",
      "\n",
      "Epoch 19\n"
     ]
    },
    {
     "name": "stderr",
     "output_type": "stream",
     "text": [
      "100%|██████████| 127/127 [01:22<00:00,  1.54it/s]\n",
      "100%|██████████| 15/15 [00:07<00:00,  1.91it/s]\n",
      "/home/kevinluo/anaconda3/envs/yolov8/lib/python3.9/site-packages/sklearn/metrics/_classification.py:1344: UndefinedMetricWarning: Precision and F-score are ill-defined and being set to 0.0 in labels with no predicted samples. Use `zero_division` parameter to control this behavior.\n",
      "  _warn_prf(average, modifier, msg_start, len(result))\n",
      "/home/kevinluo/anaconda3/envs/yolov8/lib/python3.9/site-packages/sklearn/metrics/_classification.py:1344: UndefinedMetricWarning: Precision and F-score are ill-defined and being set to 0.0 in labels with no predicted samples. Use `zero_division` parameter to control this behavior.\n",
      "  _warn_prf(average, modifier, msg_start, len(result))\n",
      "/home/kevinluo/anaconda3/envs/yolov8/lib/python3.9/site-packages/sklearn/metrics/_classification.py:1344: UndefinedMetricWarning: Precision and F-score are ill-defined and being set to 0.0 in labels with no predicted samples. Use `zero_division` parameter to control this behavior.\n",
      "  _warn_prf(average, modifier, msg_start, len(result))\n"
     ]
    },
    {
     "name": "stdout",
     "output_type": "stream",
     "text": [
      "Train Loss: 0.6970, Train Acc: 0.4888\n",
      "Val Loss: 0.6932, Val Acc: 0.5011\n",
      "              precision    recall  f1-score   support\n",
      "\n",
      "      benign       0.00      0.00      0.00       225\n",
      "   malignant       0.50      1.00      0.67       226\n",
      "\n",
      "    accuracy                           0.50       451\n",
      "   macro avg       0.25      0.50      0.33       451\n",
      "weighted avg       0.25      0.50      0.33       451\n",
      "\n",
      "Epoch 20\n"
     ]
    },
    {
     "name": "stderr",
     "output_type": "stream",
     "text": [
      "100%|██████████| 127/127 [01:22<00:00,  1.53it/s]\n",
      "100%|██████████| 15/15 [00:07<00:00,  1.90it/s]\n",
      "/home/kevinluo/anaconda3/envs/yolov8/lib/python3.9/site-packages/sklearn/metrics/_classification.py:1344: UndefinedMetricWarning: Precision and F-score are ill-defined and being set to 0.0 in labels with no predicted samples. Use `zero_division` parameter to control this behavior.\n",
      "  _warn_prf(average, modifier, msg_start, len(result))\n",
      "/home/kevinluo/anaconda3/envs/yolov8/lib/python3.9/site-packages/sklearn/metrics/_classification.py:1344: UndefinedMetricWarning: Precision and F-score are ill-defined and being set to 0.0 in labels with no predicted samples. Use `zero_division` parameter to control this behavior.\n",
      "  _warn_prf(average, modifier, msg_start, len(result))\n",
      "/home/kevinluo/anaconda3/envs/yolov8/lib/python3.9/site-packages/sklearn/metrics/_classification.py:1344: UndefinedMetricWarning: Precision and F-score are ill-defined and being set to 0.0 in labels with no predicted samples. Use `zero_division` parameter to control this behavior.\n",
      "  _warn_prf(average, modifier, msg_start, len(result))\n"
     ]
    },
    {
     "name": "stdout",
     "output_type": "stream",
     "text": [
      "Train Loss: 0.6956, Train Acc: 0.4917\n",
      "Val Loss: 0.6964, Val Acc: 0.5011\n",
      "              precision    recall  f1-score   support\n",
      "\n",
      "      benign       0.00      0.00      0.00       225\n",
      "   malignant       0.50      1.00      0.67       226\n",
      "\n",
      "    accuracy                           0.50       451\n",
      "   macro avg       0.25      0.50      0.33       451\n",
      "weighted avg       0.25      0.50      0.33       451\n",
      "\n",
      "Epoch 21\n"
     ]
    },
    {
     "name": "stderr",
     "output_type": "stream",
     "text": [
      "100%|██████████| 127/127 [01:22<00:00,  1.54it/s]\n",
      "100%|██████████| 15/15 [00:07<00:00,  1.90it/s]\n",
      "/home/kevinluo/anaconda3/envs/yolov8/lib/python3.9/site-packages/sklearn/metrics/_classification.py:1344: UndefinedMetricWarning: Precision and F-score are ill-defined and being set to 0.0 in labels with no predicted samples. Use `zero_division` parameter to control this behavior.\n",
      "  _warn_prf(average, modifier, msg_start, len(result))\n",
      "/home/kevinluo/anaconda3/envs/yolov8/lib/python3.9/site-packages/sklearn/metrics/_classification.py:1344: UndefinedMetricWarning: Precision and F-score are ill-defined and being set to 0.0 in labels with no predicted samples. Use `zero_division` parameter to control this behavior.\n",
      "  _warn_prf(average, modifier, msg_start, len(result))\n",
      "/home/kevinluo/anaconda3/envs/yolov8/lib/python3.9/site-packages/sklearn/metrics/_classification.py:1344: UndefinedMetricWarning: Precision and F-score are ill-defined and being set to 0.0 in labels with no predicted samples. Use `zero_division` parameter to control this behavior.\n",
      "  _warn_prf(average, modifier, msg_start, len(result))\n"
     ]
    },
    {
     "name": "stdout",
     "output_type": "stream",
     "text": [
      "Train Loss: 0.6950, Train Acc: 0.4981\n",
      "Val Loss: 0.6933, Val Acc: 0.4989\n",
      "              precision    recall  f1-score   support\n",
      "\n",
      "      benign       0.50      1.00      0.67       225\n",
      "   malignant       0.00      0.00      0.00       226\n",
      "\n",
      "    accuracy                           0.50       451\n",
      "   macro avg       0.25      0.50      0.33       451\n",
      "weighted avg       0.25      0.50      0.33       451\n",
      "\n",
      "Epoch 22\n"
     ]
    },
    {
     "name": "stderr",
     "output_type": "stream",
     "text": [
      "100%|██████████| 127/127 [01:23<00:00,  1.53it/s]\n",
      "100%|██████████| 15/15 [00:07<00:00,  1.90it/s]\n",
      "/home/kevinluo/anaconda3/envs/yolov8/lib/python3.9/site-packages/sklearn/metrics/_classification.py:1344: UndefinedMetricWarning: Precision and F-score are ill-defined and being set to 0.0 in labels with no predicted samples. Use `zero_division` parameter to control this behavior.\n",
      "  _warn_prf(average, modifier, msg_start, len(result))\n",
      "/home/kevinluo/anaconda3/envs/yolov8/lib/python3.9/site-packages/sklearn/metrics/_classification.py:1344: UndefinedMetricWarning: Precision and F-score are ill-defined and being set to 0.0 in labels with no predicted samples. Use `zero_division` parameter to control this behavior.\n",
      "  _warn_prf(average, modifier, msg_start, len(result))\n",
      "/home/kevinluo/anaconda3/envs/yolov8/lib/python3.9/site-packages/sklearn/metrics/_classification.py:1344: UndefinedMetricWarning: Precision and F-score are ill-defined and being set to 0.0 in labels with no predicted samples. Use `zero_division` parameter to control this behavior.\n",
      "  _warn_prf(average, modifier, msg_start, len(result))\n"
     ]
    },
    {
     "name": "stdout",
     "output_type": "stream",
     "text": [
      "Train Loss: 0.6946, Train Acc: 0.5075\n",
      "Val Loss: 0.7002, Val Acc: 0.4989\n",
      "              precision    recall  f1-score   support\n",
      "\n",
      "      benign       0.50      1.00      0.67       225\n",
      "   malignant       0.00      0.00      0.00       226\n",
      "\n",
      "    accuracy                           0.50       451\n",
      "   macro avg       0.25      0.50      0.33       451\n",
      "weighted avg       0.25      0.50      0.33       451\n",
      "\n",
      "Epoch 23\n"
     ]
    },
    {
     "name": "stderr",
     "output_type": "stream",
     "text": [
      "100%|██████████| 127/127 [01:23<00:00,  1.53it/s]\n",
      "100%|██████████| 15/15 [00:07<00:00,  1.90it/s]\n",
      "/home/kevinluo/anaconda3/envs/yolov8/lib/python3.9/site-packages/sklearn/metrics/_classification.py:1344: UndefinedMetricWarning: Precision and F-score are ill-defined and being set to 0.0 in labels with no predicted samples. Use `zero_division` parameter to control this behavior.\n",
      "  _warn_prf(average, modifier, msg_start, len(result))\n",
      "/home/kevinluo/anaconda3/envs/yolov8/lib/python3.9/site-packages/sklearn/metrics/_classification.py:1344: UndefinedMetricWarning: Precision and F-score are ill-defined and being set to 0.0 in labels with no predicted samples. Use `zero_division` parameter to control this behavior.\n",
      "  _warn_prf(average, modifier, msg_start, len(result))\n",
      "/home/kevinluo/anaconda3/envs/yolov8/lib/python3.9/site-packages/sklearn/metrics/_classification.py:1344: UndefinedMetricWarning: Precision and F-score are ill-defined and being set to 0.0 in labels with no predicted samples. Use `zero_division` parameter to control this behavior.\n",
      "  _warn_prf(average, modifier, msg_start, len(result))\n"
     ]
    },
    {
     "name": "stdout",
     "output_type": "stream",
     "text": [
      "Train Loss: 0.6946, Train Acc: 0.5098\n",
      "Val Loss: 0.6955, Val Acc: 0.4989\n",
      "              precision    recall  f1-score   support\n",
      "\n",
      "      benign       0.50      1.00      0.67       225\n",
      "   malignant       0.00      0.00      0.00       226\n",
      "\n",
      "    accuracy                           0.50       451\n",
      "   macro avg       0.25      0.50      0.33       451\n",
      "weighted avg       0.25      0.50      0.33       451\n",
      "\n",
      "Epoch 24\n"
     ]
    },
    {
     "name": "stderr",
     "output_type": "stream",
     "text": [
      "100%|██████████| 127/127 [01:23<00:00,  1.53it/s]\n",
      "100%|██████████| 15/15 [00:07<00:00,  1.90it/s]\n",
      "/home/kevinluo/anaconda3/envs/yolov8/lib/python3.9/site-packages/sklearn/metrics/_classification.py:1344: UndefinedMetricWarning: Precision and F-score are ill-defined and being set to 0.0 in labels with no predicted samples. Use `zero_division` parameter to control this behavior.\n",
      "  _warn_prf(average, modifier, msg_start, len(result))\n",
      "/home/kevinluo/anaconda3/envs/yolov8/lib/python3.9/site-packages/sklearn/metrics/_classification.py:1344: UndefinedMetricWarning: Precision and F-score are ill-defined and being set to 0.0 in labels with no predicted samples. Use `zero_division` parameter to control this behavior.\n",
      "  _warn_prf(average, modifier, msg_start, len(result))\n",
      "/home/kevinluo/anaconda3/envs/yolov8/lib/python3.9/site-packages/sklearn/metrics/_classification.py:1344: UndefinedMetricWarning: Precision and F-score are ill-defined and being set to 0.0 in labels with no predicted samples. Use `zero_division` parameter to control this behavior.\n",
      "  _warn_prf(average, modifier, msg_start, len(result))\n"
     ]
    },
    {
     "name": "stdout",
     "output_type": "stream",
     "text": [
      "Train Loss: 0.6950, Train Acc: 0.4974\n",
      "Val Loss: 0.6977, Val Acc: 0.5011\n",
      "              precision    recall  f1-score   support\n",
      "\n",
      "      benign       0.00      0.00      0.00       225\n",
      "   malignant       0.50      1.00      0.67       226\n",
      "\n",
      "    accuracy                           0.50       451\n",
      "   macro avg       0.25      0.50      0.33       451\n",
      "weighted avg       0.25      0.50      0.33       451\n",
      "\n",
      "Epoch 25\n"
     ]
    },
    {
     "name": "stderr",
     "output_type": "stream",
     "text": [
      "100%|██████████| 127/127 [01:23<00:00,  1.53it/s]\n",
      "100%|██████████| 15/15 [00:07<00:00,  1.90it/s]\n",
      "/home/kevinluo/anaconda3/envs/yolov8/lib/python3.9/site-packages/sklearn/metrics/_classification.py:1344: UndefinedMetricWarning: Precision and F-score are ill-defined and being set to 0.0 in labels with no predicted samples. Use `zero_division` parameter to control this behavior.\n",
      "  _warn_prf(average, modifier, msg_start, len(result))\n",
      "/home/kevinluo/anaconda3/envs/yolov8/lib/python3.9/site-packages/sklearn/metrics/_classification.py:1344: UndefinedMetricWarning: Precision and F-score are ill-defined and being set to 0.0 in labels with no predicted samples. Use `zero_division` parameter to control this behavior.\n",
      "  _warn_prf(average, modifier, msg_start, len(result))\n",
      "/home/kevinluo/anaconda3/envs/yolov8/lib/python3.9/site-packages/sklearn/metrics/_classification.py:1344: UndefinedMetricWarning: Precision and F-score are ill-defined and being set to 0.0 in labels with no predicted samples. Use `zero_division` parameter to control this behavior.\n",
      "  _warn_prf(average, modifier, msg_start, len(result))\n"
     ]
    },
    {
     "name": "stdout",
     "output_type": "stream",
     "text": [
      "Train Loss: 0.6947, Train Acc: 0.4974\n",
      "Val Loss: 0.6932, Val Acc: 0.4989\n",
      "              precision    recall  f1-score   support\n",
      "\n",
      "      benign       0.50      1.00      0.67       225\n",
      "   malignant       0.00      0.00      0.00       226\n",
      "\n",
      "    accuracy                           0.50       451\n",
      "   macro avg       0.25      0.50      0.33       451\n",
      "weighted avg       0.25      0.50      0.33       451\n",
      "\n",
      "Fold 3\n",
      "Epoch 1\n"
     ]
    },
    {
     "name": "stderr",
     "output_type": "stream",
     "text": [
      "100%|██████████| 127/127 [01:23<00:00,  1.53it/s]\n",
      "100%|██████████| 15/15 [00:07<00:00,  1.91it/s]\n"
     ]
    },
    {
     "name": "stdout",
     "output_type": "stream",
     "text": [
      "Train Loss: 0.8054, Train Acc: 0.5133\n",
      "Val Loss: 0.6928, Val Acc: 0.5222\n",
      "              precision    recall  f1-score   support\n",
      "\n",
      "      benign       0.54      0.25      0.34       224\n",
      "   malignant       0.52      0.80      0.63       226\n",
      "\n",
      "    accuracy                           0.52       450\n",
      "   macro avg       0.53      0.52      0.48       450\n",
      "weighted avg       0.53      0.52      0.48       450\n",
      "\n",
      "Epoch 2\n"
     ]
    },
    {
     "name": "stderr",
     "output_type": "stream",
     "text": [
      "100%|██████████| 127/127 [01:26<00:00,  1.47it/s]\n",
      "100%|██████████| 15/15 [00:07<00:00,  1.92it/s]\n"
     ]
    },
    {
     "name": "stdout",
     "output_type": "stream",
     "text": [
      "Train Loss: 0.7022, Train Acc: 0.4894\n",
      "Val Loss: 0.6947, Val Acc: 0.4800\n",
      "              precision    recall  f1-score   support\n",
      "\n",
      "      benign       0.48      0.66      0.56       224\n",
      "   malignant       0.47      0.30      0.37       226\n",
      "\n",
      "    accuracy                           0.48       450\n",
      "   macro avg       0.48      0.48      0.46       450\n",
      "weighted avg       0.48      0.48      0.46       450\n",
      "\n",
      "Epoch 3\n"
     ]
    },
    {
     "name": "stderr",
     "output_type": "stream",
     "text": [
      "100%|██████████| 127/127 [01:22<00:00,  1.54it/s]\n",
      "100%|██████████| 15/15 [00:07<00:00,  1.92it/s]\n"
     ]
    },
    {
     "name": "stdout",
     "output_type": "stream",
     "text": [
      "Train Loss: 0.6977, Train Acc: 0.5054\n",
      "Val Loss: 0.7375, Val Acc: 0.5044\n",
      "              precision    recall  f1-score   support\n",
      "\n",
      "      benign       0.51      0.21      0.30       224\n",
      "   malignant       0.50      0.80      0.62       226\n",
      "\n",
      "    accuracy                           0.50       450\n",
      "   macro avg       0.50      0.50      0.46       450\n",
      "weighted avg       0.50      0.50      0.46       450\n",
      "\n",
      "Epoch 4\n"
     ]
    },
    {
     "name": "stderr",
     "output_type": "stream",
     "text": [
      "100%|██████████| 127/127 [01:22<00:00,  1.54it/s]\n",
      "100%|██████████| 15/15 [00:07<00:00,  1.93it/s]\n",
      "/home/kevinluo/anaconda3/envs/yolov8/lib/python3.9/site-packages/sklearn/metrics/_classification.py:1344: UndefinedMetricWarning: Precision and F-score are ill-defined and being set to 0.0 in labels with no predicted samples. Use `zero_division` parameter to control this behavior.\n",
      "  _warn_prf(average, modifier, msg_start, len(result))\n",
      "/home/kevinluo/anaconda3/envs/yolov8/lib/python3.9/site-packages/sklearn/metrics/_classification.py:1344: UndefinedMetricWarning: Precision and F-score are ill-defined and being set to 0.0 in labels with no predicted samples. Use `zero_division` parameter to control this behavior.\n",
      "  _warn_prf(average, modifier, msg_start, len(result))\n",
      "/home/kevinluo/anaconda3/envs/yolov8/lib/python3.9/site-packages/sklearn/metrics/_classification.py:1344: UndefinedMetricWarning: Precision and F-score are ill-defined and being set to 0.0 in labels with no predicted samples. Use `zero_division` parameter to control this behavior.\n",
      "  _warn_prf(average, modifier, msg_start, len(result))\n"
     ]
    },
    {
     "name": "stdout",
     "output_type": "stream",
     "text": [
      "Train Loss: 0.7071, Train Acc: 0.5215\n",
      "Val Loss: 0.9665, Val Acc: 0.4978\n",
      "              precision    recall  f1-score   support\n",
      "\n",
      "      benign       0.50      1.00      0.66       224\n",
      "   malignant       0.00      0.00      0.00       226\n",
      "\n",
      "    accuracy                           0.50       450\n",
      "   macro avg       0.25      0.50      0.33       450\n",
      "weighted avg       0.25      0.50      0.33       450\n",
      "\n",
      "Epoch 5\n"
     ]
    },
    {
     "name": "stderr",
     "output_type": "stream",
     "text": [
      "100%|██████████| 127/127 [01:22<00:00,  1.54it/s]\n",
      "100%|██████████| 15/15 [00:07<00:00,  1.93it/s]\n",
      "/home/kevinluo/anaconda3/envs/yolov8/lib/python3.9/site-packages/sklearn/metrics/_classification.py:1344: UndefinedMetricWarning: Precision and F-score are ill-defined and being set to 0.0 in labels with no predicted samples. Use `zero_division` parameter to control this behavior.\n",
      "  _warn_prf(average, modifier, msg_start, len(result))\n",
      "/home/kevinluo/anaconda3/envs/yolov8/lib/python3.9/site-packages/sklearn/metrics/_classification.py:1344: UndefinedMetricWarning: Precision and F-score are ill-defined and being set to 0.0 in labels with no predicted samples. Use `zero_division` parameter to control this behavior.\n",
      "  _warn_prf(average, modifier, msg_start, len(result))\n",
      "/home/kevinluo/anaconda3/envs/yolov8/lib/python3.9/site-packages/sklearn/metrics/_classification.py:1344: UndefinedMetricWarning: Precision and F-score are ill-defined and being set to 0.0 in labels with no predicted samples. Use `zero_division` parameter to control this behavior.\n",
      "  _warn_prf(average, modifier, msg_start, len(result))\n"
     ]
    },
    {
     "name": "stdout",
     "output_type": "stream",
     "text": [
      "Train Loss: 0.7236, Train Acc: 0.4904\n",
      "Val Loss: 0.7287, Val Acc: 0.4978\n",
      "              precision    recall  f1-score   support\n",
      "\n",
      "      benign       0.50      1.00      0.66       224\n",
      "   malignant       0.00      0.00      0.00       226\n",
      "\n",
      "    accuracy                           0.50       450\n",
      "   macro avg       0.25      0.50      0.33       450\n",
      "weighted avg       0.25      0.50      0.33       450\n",
      "\n",
      "Epoch 6\n"
     ]
    },
    {
     "name": "stderr",
     "output_type": "stream",
     "text": [
      "100%|██████████| 127/127 [01:22<00:00,  1.53it/s]\n",
      "100%|██████████| 15/15 [00:08<00:00,  1.74it/s]\n",
      "/home/kevinluo/anaconda3/envs/yolov8/lib/python3.9/site-packages/sklearn/metrics/_classification.py:1344: UndefinedMetricWarning: Precision and F-score are ill-defined and being set to 0.0 in labels with no predicted samples. Use `zero_division` parameter to control this behavior.\n",
      "  _warn_prf(average, modifier, msg_start, len(result))\n",
      "/home/kevinluo/anaconda3/envs/yolov8/lib/python3.9/site-packages/sklearn/metrics/_classification.py:1344: UndefinedMetricWarning: Precision and F-score are ill-defined and being set to 0.0 in labels with no predicted samples. Use `zero_division` parameter to control this behavior.\n",
      "  _warn_prf(average, modifier, msg_start, len(result))\n",
      "/home/kevinluo/anaconda3/envs/yolov8/lib/python3.9/site-packages/sklearn/metrics/_classification.py:1344: UndefinedMetricWarning: Precision and F-score are ill-defined and being set to 0.0 in labels with no predicted samples. Use `zero_division` parameter to control this behavior.\n",
      "  _warn_prf(average, modifier, msg_start, len(result))\n"
     ]
    },
    {
     "name": "stdout",
     "output_type": "stream",
     "text": [
      "Train Loss: 0.7010, Train Acc: 0.4928\n",
      "Val Loss: 0.6960, Val Acc: 0.4978\n",
      "              precision    recall  f1-score   support\n",
      "\n",
      "      benign       0.50      1.00      0.66       224\n",
      "   malignant       0.00      0.00      0.00       226\n",
      "\n",
      "    accuracy                           0.50       450\n",
      "   macro avg       0.25      0.50      0.33       450\n",
      "weighted avg       0.25      0.50      0.33       450\n",
      "\n",
      "Epoch 7\n"
     ]
    },
    {
     "name": "stderr",
     "output_type": "stream",
     "text": [
      "100%|██████████| 127/127 [01:25<00:00,  1.49it/s]\n",
      "100%|██████████| 15/15 [00:07<00:00,  1.93it/s]\n",
      "/home/kevinluo/anaconda3/envs/yolov8/lib/python3.9/site-packages/sklearn/metrics/_classification.py:1344: UndefinedMetricWarning: Precision and F-score are ill-defined and being set to 0.0 in labels with no predicted samples. Use `zero_division` parameter to control this behavior.\n",
      "  _warn_prf(average, modifier, msg_start, len(result))\n",
      "/home/kevinluo/anaconda3/envs/yolov8/lib/python3.9/site-packages/sklearn/metrics/_classification.py:1344: UndefinedMetricWarning: Precision and F-score are ill-defined and being set to 0.0 in labels with no predicted samples. Use `zero_division` parameter to control this behavior.\n",
      "  _warn_prf(average, modifier, msg_start, len(result))\n",
      "/home/kevinluo/anaconda3/envs/yolov8/lib/python3.9/site-packages/sklearn/metrics/_classification.py:1344: UndefinedMetricWarning: Precision and F-score are ill-defined and being set to 0.0 in labels with no predicted samples. Use `zero_division` parameter to control this behavior.\n",
      "  _warn_prf(average, modifier, msg_start, len(result))\n"
     ]
    },
    {
     "name": "stdout",
     "output_type": "stream",
     "text": [
      "Train Loss: 0.6982, Train Acc: 0.5032\n",
      "Val Loss: 0.6948, Val Acc: 0.4978\n",
      "              precision    recall  f1-score   support\n",
      "\n",
      "      benign       0.50      1.00      0.66       224\n",
      "   malignant       0.00      0.00      0.00       226\n",
      "\n",
      "    accuracy                           0.50       450\n",
      "   macro avg       0.25      0.50      0.33       450\n",
      "weighted avg       0.25      0.50      0.33       450\n",
      "\n",
      "Epoch 8\n"
     ]
    },
    {
     "name": "stderr",
     "output_type": "stream",
     "text": [
      "100%|██████████| 127/127 [01:22<00:00,  1.54it/s]\n",
      "100%|██████████| 15/15 [00:07<00:00,  1.93it/s]\n",
      "/home/kevinluo/anaconda3/envs/yolov8/lib/python3.9/site-packages/sklearn/metrics/_classification.py:1344: UndefinedMetricWarning: Precision and F-score are ill-defined and being set to 0.0 in labels with no predicted samples. Use `zero_division` parameter to control this behavior.\n",
      "  _warn_prf(average, modifier, msg_start, len(result))\n",
      "/home/kevinluo/anaconda3/envs/yolov8/lib/python3.9/site-packages/sklearn/metrics/_classification.py:1344: UndefinedMetricWarning: Precision and F-score are ill-defined and being set to 0.0 in labels with no predicted samples. Use `zero_division` parameter to control this behavior.\n",
      "  _warn_prf(average, modifier, msg_start, len(result))\n",
      "/home/kevinluo/anaconda3/envs/yolov8/lib/python3.9/site-packages/sklearn/metrics/_classification.py:1344: UndefinedMetricWarning: Precision and F-score are ill-defined and being set to 0.0 in labels with no predicted samples. Use `zero_division` parameter to control this behavior.\n",
      "  _warn_prf(average, modifier, msg_start, len(result))\n"
     ]
    },
    {
     "name": "stdout",
     "output_type": "stream",
     "text": [
      "Train Loss: 0.6981, Train Acc: 0.4946\n",
      "Val Loss: 0.6931, Val Acc: 0.5022\n",
      "              precision    recall  f1-score   support\n",
      "\n",
      "      benign       0.00      0.00      0.00       224\n",
      "   malignant       0.50      1.00      0.67       226\n",
      "\n",
      "    accuracy                           0.50       450\n",
      "   macro avg       0.25      0.50      0.33       450\n",
      "weighted avg       0.25      0.50      0.34       450\n",
      "\n",
      "Epoch 9\n"
     ]
    },
    {
     "name": "stderr",
     "output_type": "stream",
     "text": [
      "100%|██████████| 127/127 [01:22<00:00,  1.54it/s]\n",
      "100%|██████████| 15/15 [00:07<00:00,  1.93it/s]\n",
      "/home/kevinluo/anaconda3/envs/yolov8/lib/python3.9/site-packages/sklearn/metrics/_classification.py:1344: UndefinedMetricWarning: Precision and F-score are ill-defined and being set to 0.0 in labels with no predicted samples. Use `zero_division` parameter to control this behavior.\n",
      "  _warn_prf(average, modifier, msg_start, len(result))\n",
      "/home/kevinluo/anaconda3/envs/yolov8/lib/python3.9/site-packages/sklearn/metrics/_classification.py:1344: UndefinedMetricWarning: Precision and F-score are ill-defined and being set to 0.0 in labels with no predicted samples. Use `zero_division` parameter to control this behavior.\n",
      "  _warn_prf(average, modifier, msg_start, len(result))\n",
      "/home/kevinluo/anaconda3/envs/yolov8/lib/python3.9/site-packages/sklearn/metrics/_classification.py:1344: UndefinedMetricWarning: Precision and F-score are ill-defined and being set to 0.0 in labels with no predicted samples. Use `zero_division` parameter to control this behavior.\n",
      "  _warn_prf(average, modifier, msg_start, len(result))\n"
     ]
    },
    {
     "name": "stdout",
     "output_type": "stream",
     "text": [
      "Train Loss: 0.6996, Train Acc: 0.4963\n",
      "Val Loss: 0.6937, Val Acc: 0.5022\n",
      "              precision    recall  f1-score   support\n",
      "\n",
      "      benign       0.00      0.00      0.00       224\n",
      "   malignant       0.50      1.00      0.67       226\n",
      "\n",
      "    accuracy                           0.50       450\n",
      "   macro avg       0.25      0.50      0.33       450\n",
      "weighted avg       0.25      0.50      0.34       450\n",
      "\n",
      "Epoch 10\n"
     ]
    },
    {
     "name": "stderr",
     "output_type": "stream",
     "text": [
      "100%|██████████| 127/127 [01:22<00:00,  1.54it/s]\n",
      "100%|██████████| 15/15 [00:07<00:00,  1.93it/s]\n",
      "/home/kevinluo/anaconda3/envs/yolov8/lib/python3.9/site-packages/sklearn/metrics/_classification.py:1344: UndefinedMetricWarning: Precision and F-score are ill-defined and being set to 0.0 in labels with no predicted samples. Use `zero_division` parameter to control this behavior.\n",
      "  _warn_prf(average, modifier, msg_start, len(result))\n",
      "/home/kevinluo/anaconda3/envs/yolov8/lib/python3.9/site-packages/sklearn/metrics/_classification.py:1344: UndefinedMetricWarning: Precision and F-score are ill-defined and being set to 0.0 in labels with no predicted samples. Use `zero_division` parameter to control this behavior.\n",
      "  _warn_prf(average, modifier, msg_start, len(result))\n",
      "/home/kevinluo/anaconda3/envs/yolov8/lib/python3.9/site-packages/sklearn/metrics/_classification.py:1344: UndefinedMetricWarning: Precision and F-score are ill-defined and being set to 0.0 in labels with no predicted samples. Use `zero_division` parameter to control this behavior.\n",
      "  _warn_prf(average, modifier, msg_start, len(result))\n"
     ]
    },
    {
     "name": "stdout",
     "output_type": "stream",
     "text": [
      "Train Loss: 0.6956, Train Acc: 0.5015\n",
      "Val Loss: 0.6940, Val Acc: 0.5022\n",
      "              precision    recall  f1-score   support\n",
      "\n",
      "      benign       0.00      0.00      0.00       224\n",
      "   malignant       0.50      1.00      0.67       226\n",
      "\n",
      "    accuracy                           0.50       450\n",
      "   macro avg       0.25      0.50      0.33       450\n",
      "weighted avg       0.25      0.50      0.34       450\n",
      "\n",
      "Epoch 11\n"
     ]
    },
    {
     "name": "stderr",
     "output_type": "stream",
     "text": [
      "100%|██████████| 127/127 [01:22<00:00,  1.54it/s]\n",
      "100%|██████████| 15/15 [00:07<00:00,  1.90it/s]\n",
      "/home/kevinluo/anaconda3/envs/yolov8/lib/python3.9/site-packages/sklearn/metrics/_classification.py:1344: UndefinedMetricWarning: Precision and F-score are ill-defined and being set to 0.0 in labels with no predicted samples. Use `zero_division` parameter to control this behavior.\n",
      "  _warn_prf(average, modifier, msg_start, len(result))\n",
      "/home/kevinluo/anaconda3/envs/yolov8/lib/python3.9/site-packages/sklearn/metrics/_classification.py:1344: UndefinedMetricWarning: Precision and F-score are ill-defined and being set to 0.0 in labels with no predicted samples. Use `zero_division` parameter to control this behavior.\n",
      "  _warn_prf(average, modifier, msg_start, len(result))\n",
      "/home/kevinluo/anaconda3/envs/yolov8/lib/python3.9/site-packages/sklearn/metrics/_classification.py:1344: UndefinedMetricWarning: Precision and F-score are ill-defined and being set to 0.0 in labels with no predicted samples. Use `zero_division` parameter to control this behavior.\n",
      "  _warn_prf(average, modifier, msg_start, len(result))\n"
     ]
    },
    {
     "name": "stdout",
     "output_type": "stream",
     "text": [
      "Train Loss: 0.6953, Train Acc: 0.4965\n",
      "Val Loss: 0.6936, Val Acc: 0.5022\n",
      "              precision    recall  f1-score   support\n",
      "\n",
      "      benign       0.00      0.00      0.00       224\n",
      "   malignant       0.50      1.00      0.67       226\n",
      "\n",
      "    accuracy                           0.50       450\n",
      "   macro avg       0.25      0.50      0.33       450\n",
      "weighted avg       0.25      0.50      0.34       450\n",
      "\n",
      "Epoch 12\n"
     ]
    },
    {
     "name": "stderr",
     "output_type": "stream",
     "text": [
      "100%|██████████| 127/127 [01:22<00:00,  1.54it/s]\n",
      "100%|██████████| 15/15 [00:07<00:00,  1.93it/s]\n",
      "/home/kevinluo/anaconda3/envs/yolov8/lib/python3.9/site-packages/sklearn/metrics/_classification.py:1344: UndefinedMetricWarning: Precision and F-score are ill-defined and being set to 0.0 in labels with no predicted samples. Use `zero_division` parameter to control this behavior.\n",
      "  _warn_prf(average, modifier, msg_start, len(result))\n",
      "/home/kevinluo/anaconda3/envs/yolov8/lib/python3.9/site-packages/sklearn/metrics/_classification.py:1344: UndefinedMetricWarning: Precision and F-score are ill-defined and being set to 0.0 in labels with no predicted samples. Use `zero_division` parameter to control this behavior.\n",
      "  _warn_prf(average, modifier, msg_start, len(result))\n",
      "/home/kevinluo/anaconda3/envs/yolov8/lib/python3.9/site-packages/sklearn/metrics/_classification.py:1344: UndefinedMetricWarning: Precision and F-score are ill-defined and being set to 0.0 in labels with no predicted samples. Use `zero_division` parameter to control this behavior.\n",
      "  _warn_prf(average, modifier, msg_start, len(result))\n"
     ]
    },
    {
     "name": "stdout",
     "output_type": "stream",
     "text": [
      "Train Loss: 0.6947, Train Acc: 0.4998\n",
      "Val Loss: 0.6950, Val Acc: 0.5022\n",
      "              precision    recall  f1-score   support\n",
      "\n",
      "      benign       0.00      0.00      0.00       224\n",
      "   malignant       0.50      1.00      0.67       226\n",
      "\n",
      "    accuracy                           0.50       450\n",
      "   macro avg       0.25      0.50      0.33       450\n",
      "weighted avg       0.25      0.50      0.34       450\n",
      "\n",
      "Epoch 13\n"
     ]
    },
    {
     "name": "stderr",
     "output_type": "stream",
     "text": [
      "100%|██████████| 127/127 [01:22<00:00,  1.54it/s]\n",
      "100%|██████████| 15/15 [00:07<00:00,  1.93it/s]\n",
      "/home/kevinluo/anaconda3/envs/yolov8/lib/python3.9/site-packages/sklearn/metrics/_classification.py:1344: UndefinedMetricWarning: Precision and F-score are ill-defined and being set to 0.0 in labels with no predicted samples. Use `zero_division` parameter to control this behavior.\n",
      "  _warn_prf(average, modifier, msg_start, len(result))\n",
      "/home/kevinluo/anaconda3/envs/yolov8/lib/python3.9/site-packages/sklearn/metrics/_classification.py:1344: UndefinedMetricWarning: Precision and F-score are ill-defined and being set to 0.0 in labels with no predicted samples. Use `zero_division` parameter to control this behavior.\n",
      "  _warn_prf(average, modifier, msg_start, len(result))\n",
      "/home/kevinluo/anaconda3/envs/yolov8/lib/python3.9/site-packages/sklearn/metrics/_classification.py:1344: UndefinedMetricWarning: Precision and F-score are ill-defined and being set to 0.0 in labels with no predicted samples. Use `zero_division` parameter to control this behavior.\n",
      "  _warn_prf(average, modifier, msg_start, len(result))\n"
     ]
    },
    {
     "name": "stdout",
     "output_type": "stream",
     "text": [
      "Train Loss: 0.6964, Train Acc: 0.4928\n",
      "Val Loss: 0.6943, Val Acc: 0.4978\n",
      "              precision    recall  f1-score   support\n",
      "\n",
      "      benign       0.50      1.00      0.66       224\n",
      "   malignant       0.00      0.00      0.00       226\n",
      "\n",
      "    accuracy                           0.50       450\n",
      "   macro avg       0.25      0.50      0.33       450\n",
      "weighted avg       0.25      0.50      0.33       450\n",
      "\n",
      "Epoch 14\n"
     ]
    },
    {
     "name": "stderr",
     "output_type": "stream",
     "text": [
      "100%|██████████| 127/127 [01:22<00:00,  1.54it/s]\n",
      "100%|██████████| 15/15 [00:07<00:00,  1.92it/s]\n",
      "/home/kevinluo/anaconda3/envs/yolov8/lib/python3.9/site-packages/sklearn/metrics/_classification.py:1344: UndefinedMetricWarning: Precision and F-score are ill-defined and being set to 0.0 in labels with no predicted samples. Use `zero_division` parameter to control this behavior.\n",
      "  _warn_prf(average, modifier, msg_start, len(result))\n",
      "/home/kevinluo/anaconda3/envs/yolov8/lib/python3.9/site-packages/sklearn/metrics/_classification.py:1344: UndefinedMetricWarning: Precision and F-score are ill-defined and being set to 0.0 in labels with no predicted samples. Use `zero_division` parameter to control this behavior.\n",
      "  _warn_prf(average, modifier, msg_start, len(result))\n",
      "/home/kevinluo/anaconda3/envs/yolov8/lib/python3.9/site-packages/sklearn/metrics/_classification.py:1344: UndefinedMetricWarning: Precision and F-score are ill-defined and being set to 0.0 in labels with no predicted samples. Use `zero_division` parameter to control this behavior.\n",
      "  _warn_prf(average, modifier, msg_start, len(result))\n"
     ]
    },
    {
     "name": "stdout",
     "output_type": "stream",
     "text": [
      "Train Loss: 0.6942, Train Acc: 0.5037\n",
      "Val Loss: 0.6932, Val Acc: 0.5022\n",
      "              precision    recall  f1-score   support\n",
      "\n",
      "      benign       0.00      0.00      0.00       224\n",
      "   malignant       0.50      1.00      0.67       226\n",
      "\n",
      "    accuracy                           0.50       450\n",
      "   macro avg       0.25      0.50      0.33       450\n",
      "weighted avg       0.25      0.50      0.34       450\n",
      "\n",
      "Epoch 15\n"
     ]
    },
    {
     "name": "stderr",
     "output_type": "stream",
     "text": [
      "100%|██████████| 127/127 [01:22<00:00,  1.54it/s]\n",
      "100%|██████████| 15/15 [00:07<00:00,  1.93it/s]\n",
      "/home/kevinluo/anaconda3/envs/yolov8/lib/python3.9/site-packages/sklearn/metrics/_classification.py:1344: UndefinedMetricWarning: Precision and F-score are ill-defined and being set to 0.0 in labels with no predicted samples. Use `zero_division` parameter to control this behavior.\n",
      "  _warn_prf(average, modifier, msg_start, len(result))\n",
      "/home/kevinluo/anaconda3/envs/yolov8/lib/python3.9/site-packages/sklearn/metrics/_classification.py:1344: UndefinedMetricWarning: Precision and F-score are ill-defined and being set to 0.0 in labels with no predicted samples. Use `zero_division` parameter to control this behavior.\n",
      "  _warn_prf(average, modifier, msg_start, len(result))\n",
      "/home/kevinluo/anaconda3/envs/yolov8/lib/python3.9/site-packages/sklearn/metrics/_classification.py:1344: UndefinedMetricWarning: Precision and F-score are ill-defined and being set to 0.0 in labels with no predicted samples. Use `zero_division` parameter to control this behavior.\n",
      "  _warn_prf(average, modifier, msg_start, len(result))\n"
     ]
    },
    {
     "name": "stdout",
     "output_type": "stream",
     "text": [
      "Train Loss: 0.6942, Train Acc: 0.4980\n",
      "Val Loss: 0.6944, Val Acc: 0.5022\n",
      "              precision    recall  f1-score   support\n",
      "\n",
      "      benign       0.00      0.00      0.00       224\n",
      "   malignant       0.50      1.00      0.67       226\n",
      "\n",
      "    accuracy                           0.50       450\n",
      "   macro avg       0.25      0.50      0.33       450\n",
      "weighted avg       0.25      0.50      0.34       450\n",
      "\n",
      "Epoch 16\n"
     ]
    },
    {
     "name": "stderr",
     "output_type": "stream",
     "text": [
      "100%|██████████| 127/127 [01:22<00:00,  1.54it/s]\n",
      "100%|██████████| 15/15 [00:07<00:00,  1.93it/s]\n",
      "/home/kevinluo/anaconda3/envs/yolov8/lib/python3.9/site-packages/sklearn/metrics/_classification.py:1344: UndefinedMetricWarning: Precision and F-score are ill-defined and being set to 0.0 in labels with no predicted samples. Use `zero_division` parameter to control this behavior.\n",
      "  _warn_prf(average, modifier, msg_start, len(result))\n",
      "/home/kevinluo/anaconda3/envs/yolov8/lib/python3.9/site-packages/sklearn/metrics/_classification.py:1344: UndefinedMetricWarning: Precision and F-score are ill-defined and being set to 0.0 in labels with no predicted samples. Use `zero_division` parameter to control this behavior.\n",
      "  _warn_prf(average, modifier, msg_start, len(result))\n",
      "/home/kevinluo/anaconda3/envs/yolov8/lib/python3.9/site-packages/sklearn/metrics/_classification.py:1344: UndefinedMetricWarning: Precision and F-score are ill-defined and being set to 0.0 in labels with no predicted samples. Use `zero_division` parameter to control this behavior.\n",
      "  _warn_prf(average, modifier, msg_start, len(result))\n"
     ]
    },
    {
     "name": "stdout",
     "output_type": "stream",
     "text": [
      "Train Loss: 0.6948, Train Acc: 0.4998\n",
      "Val Loss: 0.6932, Val Acc: 0.4978\n",
      "              precision    recall  f1-score   support\n",
      "\n",
      "      benign       0.50      1.00      0.66       224\n",
      "   malignant       0.00      0.00      0.00       226\n",
      "\n",
      "    accuracy                           0.50       450\n",
      "   macro avg       0.25      0.50      0.33       450\n",
      "weighted avg       0.25      0.50      0.33       450\n",
      "\n",
      "Epoch 17\n"
     ]
    },
    {
     "name": "stderr",
     "output_type": "stream",
     "text": [
      "100%|██████████| 127/127 [01:22<00:00,  1.54it/s]\n",
      "100%|██████████| 15/15 [00:07<00:00,  1.93it/s]\n",
      "/home/kevinluo/anaconda3/envs/yolov8/lib/python3.9/site-packages/sklearn/metrics/_classification.py:1344: UndefinedMetricWarning: Precision and F-score are ill-defined and being set to 0.0 in labels with no predicted samples. Use `zero_division` parameter to control this behavior.\n",
      "  _warn_prf(average, modifier, msg_start, len(result))\n",
      "/home/kevinluo/anaconda3/envs/yolov8/lib/python3.9/site-packages/sklearn/metrics/_classification.py:1344: UndefinedMetricWarning: Precision and F-score are ill-defined and being set to 0.0 in labels with no predicted samples. Use `zero_division` parameter to control this behavior.\n",
      "  _warn_prf(average, modifier, msg_start, len(result))\n",
      "/home/kevinluo/anaconda3/envs/yolov8/lib/python3.9/site-packages/sklearn/metrics/_classification.py:1344: UndefinedMetricWarning: Precision and F-score are ill-defined and being set to 0.0 in labels with no predicted samples. Use `zero_division` parameter to control this behavior.\n",
      "  _warn_prf(average, modifier, msg_start, len(result))\n"
     ]
    },
    {
     "name": "stdout",
     "output_type": "stream",
     "text": [
      "Train Loss: 0.6946, Train Acc: 0.4884\n",
      "Val Loss: 0.6932, Val Acc: 0.4978\n",
      "              precision    recall  f1-score   support\n",
      "\n",
      "      benign       0.50      1.00      0.66       224\n",
      "   malignant       0.00      0.00      0.00       226\n",
      "\n",
      "    accuracy                           0.50       450\n",
      "   macro avg       0.25      0.50      0.33       450\n",
      "weighted avg       0.25      0.50      0.33       450\n",
      "\n",
      "Epoch 18\n"
     ]
    },
    {
     "name": "stderr",
     "output_type": "stream",
     "text": [
      "100%|██████████| 127/127 [01:22<00:00,  1.54it/s]\n",
      "100%|██████████| 15/15 [00:07<00:00,  1.93it/s]\n",
      "/home/kevinluo/anaconda3/envs/yolov8/lib/python3.9/site-packages/sklearn/metrics/_classification.py:1344: UndefinedMetricWarning: Precision and F-score are ill-defined and being set to 0.0 in labels with no predicted samples. Use `zero_division` parameter to control this behavior.\n",
      "  _warn_prf(average, modifier, msg_start, len(result))\n",
      "/home/kevinluo/anaconda3/envs/yolov8/lib/python3.9/site-packages/sklearn/metrics/_classification.py:1344: UndefinedMetricWarning: Precision and F-score are ill-defined and being set to 0.0 in labels with no predicted samples. Use `zero_division` parameter to control this behavior.\n",
      "  _warn_prf(average, modifier, msg_start, len(result))\n",
      "/home/kevinluo/anaconda3/envs/yolov8/lib/python3.9/site-packages/sklearn/metrics/_classification.py:1344: UndefinedMetricWarning: Precision and F-score are ill-defined and being set to 0.0 in labels with no predicted samples. Use `zero_division` parameter to control this behavior.\n",
      "  _warn_prf(average, modifier, msg_start, len(result))\n"
     ]
    },
    {
     "name": "stdout",
     "output_type": "stream",
     "text": [
      "Train Loss: 0.6942, Train Acc: 0.4956\n",
      "Val Loss: 0.6938, Val Acc: 0.4978\n",
      "              precision    recall  f1-score   support\n",
      "\n",
      "      benign       0.50      1.00      0.66       224\n",
      "   malignant       0.00      0.00      0.00       226\n",
      "\n",
      "    accuracy                           0.50       450\n",
      "   macro avg       0.25      0.50      0.33       450\n",
      "weighted avg       0.25      0.50      0.33       450\n",
      "\n",
      "Epoch 19\n"
     ]
    },
    {
     "name": "stderr",
     "output_type": "stream",
     "text": [
      "100%|██████████| 127/127 [01:22<00:00,  1.54it/s]\n",
      "100%|██████████| 15/15 [00:07<00:00,  1.94it/s]\n",
      "/home/kevinluo/anaconda3/envs/yolov8/lib/python3.9/site-packages/sklearn/metrics/_classification.py:1344: UndefinedMetricWarning: Precision and F-score are ill-defined and being set to 0.0 in labels with no predicted samples. Use `zero_division` parameter to control this behavior.\n",
      "  _warn_prf(average, modifier, msg_start, len(result))\n",
      "/home/kevinluo/anaconda3/envs/yolov8/lib/python3.9/site-packages/sklearn/metrics/_classification.py:1344: UndefinedMetricWarning: Precision and F-score are ill-defined and being set to 0.0 in labels with no predicted samples. Use `zero_division` parameter to control this behavior.\n",
      "  _warn_prf(average, modifier, msg_start, len(result))\n",
      "/home/kevinluo/anaconda3/envs/yolov8/lib/python3.9/site-packages/sklearn/metrics/_classification.py:1344: UndefinedMetricWarning: Precision and F-score are ill-defined and being set to 0.0 in labels with no predicted samples. Use `zero_division` parameter to control this behavior.\n",
      "  _warn_prf(average, modifier, msg_start, len(result))\n"
     ]
    },
    {
     "name": "stdout",
     "output_type": "stream",
     "text": [
      "Train Loss: 0.6942, Train Acc: 0.5012\n",
      "Val Loss: 0.6933, Val Acc: 0.5022\n",
      "              precision    recall  f1-score   support\n",
      "\n",
      "      benign       0.00      0.00      0.00       224\n",
      "   malignant       0.50      1.00      0.67       226\n",
      "\n",
      "    accuracy                           0.50       450\n",
      "   macro avg       0.25      0.50      0.33       450\n",
      "weighted avg       0.25      0.50      0.34       450\n",
      "\n",
      "Epoch 20\n"
     ]
    },
    {
     "name": "stderr",
     "output_type": "stream",
     "text": [
      "100%|██████████| 127/127 [01:22<00:00,  1.54it/s]\n",
      "100%|██████████| 15/15 [00:07<00:00,  1.91it/s]\n",
      "/home/kevinluo/anaconda3/envs/yolov8/lib/python3.9/site-packages/sklearn/metrics/_classification.py:1344: UndefinedMetricWarning: Precision and F-score are ill-defined and being set to 0.0 in labels with no predicted samples. Use `zero_division` parameter to control this behavior.\n",
      "  _warn_prf(average, modifier, msg_start, len(result))\n",
      "/home/kevinluo/anaconda3/envs/yolov8/lib/python3.9/site-packages/sklearn/metrics/_classification.py:1344: UndefinedMetricWarning: Precision and F-score are ill-defined and being set to 0.0 in labels with no predicted samples. Use `zero_division` parameter to control this behavior.\n",
      "  _warn_prf(average, modifier, msg_start, len(result))\n",
      "/home/kevinluo/anaconda3/envs/yolov8/lib/python3.9/site-packages/sklearn/metrics/_classification.py:1344: UndefinedMetricWarning: Precision and F-score are ill-defined and being set to 0.0 in labels with no predicted samples. Use `zero_division` parameter to control this behavior.\n",
      "  _warn_prf(average, modifier, msg_start, len(result))\n"
     ]
    },
    {
     "name": "stdout",
     "output_type": "stream",
     "text": [
      "Train Loss: 0.6940, Train Acc: 0.4993\n",
      "Val Loss: 0.6931, Val Acc: 0.5022\n",
      "              precision    recall  f1-score   support\n",
      "\n",
      "      benign       0.00      0.00      0.00       224\n",
      "   malignant       0.50      1.00      0.67       226\n",
      "\n",
      "    accuracy                           0.50       450\n",
      "   macro avg       0.25      0.50      0.33       450\n",
      "weighted avg       0.25      0.50      0.34       450\n",
      "\n",
      "Epoch 21\n"
     ]
    },
    {
     "name": "stderr",
     "output_type": "stream",
     "text": [
      "100%|██████████| 127/127 [01:22<00:00,  1.54it/s]\n",
      "100%|██████████| 15/15 [00:07<00:00,  1.93it/s]\n",
      "/home/kevinluo/anaconda3/envs/yolov8/lib/python3.9/site-packages/sklearn/metrics/_classification.py:1344: UndefinedMetricWarning: Precision and F-score are ill-defined and being set to 0.0 in labels with no predicted samples. Use `zero_division` parameter to control this behavior.\n",
      "  _warn_prf(average, modifier, msg_start, len(result))\n",
      "/home/kevinluo/anaconda3/envs/yolov8/lib/python3.9/site-packages/sklearn/metrics/_classification.py:1344: UndefinedMetricWarning: Precision and F-score are ill-defined and being set to 0.0 in labels with no predicted samples. Use `zero_division` parameter to control this behavior.\n",
      "  _warn_prf(average, modifier, msg_start, len(result))\n",
      "/home/kevinluo/anaconda3/envs/yolov8/lib/python3.9/site-packages/sklearn/metrics/_classification.py:1344: UndefinedMetricWarning: Precision and F-score are ill-defined and being set to 0.0 in labels with no predicted samples. Use `zero_division` parameter to control this behavior.\n",
      "  _warn_prf(average, modifier, msg_start, len(result))\n"
     ]
    },
    {
     "name": "stdout",
     "output_type": "stream",
     "text": [
      "Train Loss: 0.6946, Train Acc: 0.5042\n",
      "Val Loss: 0.6947, Val Acc: 0.5022\n",
      "              precision    recall  f1-score   support\n",
      "\n",
      "      benign       0.00      0.00      0.00       224\n",
      "   malignant       0.50      1.00      0.67       226\n",
      "\n",
      "    accuracy                           0.50       450\n",
      "   macro avg       0.25      0.50      0.33       450\n",
      "weighted avg       0.25      0.50      0.34       450\n",
      "\n",
      "Epoch 22\n"
     ]
    },
    {
     "name": "stderr",
     "output_type": "stream",
     "text": [
      "100%|██████████| 127/127 [01:22<00:00,  1.54it/s]\n",
      "100%|██████████| 15/15 [00:07<00:00,  1.93it/s]\n",
      "/home/kevinluo/anaconda3/envs/yolov8/lib/python3.9/site-packages/sklearn/metrics/_classification.py:1344: UndefinedMetricWarning: Precision and F-score are ill-defined and being set to 0.0 in labels with no predicted samples. Use `zero_division` parameter to control this behavior.\n",
      "  _warn_prf(average, modifier, msg_start, len(result))\n",
      "/home/kevinluo/anaconda3/envs/yolov8/lib/python3.9/site-packages/sklearn/metrics/_classification.py:1344: UndefinedMetricWarning: Precision and F-score are ill-defined and being set to 0.0 in labels with no predicted samples. Use `zero_division` parameter to control this behavior.\n",
      "  _warn_prf(average, modifier, msg_start, len(result))\n",
      "/home/kevinluo/anaconda3/envs/yolov8/lib/python3.9/site-packages/sklearn/metrics/_classification.py:1344: UndefinedMetricWarning: Precision and F-score are ill-defined and being set to 0.0 in labels with no predicted samples. Use `zero_division` parameter to control this behavior.\n",
      "  _warn_prf(average, modifier, msg_start, len(result))\n"
     ]
    },
    {
     "name": "stdout",
     "output_type": "stream",
     "text": [
      "Train Loss: 0.6942, Train Acc: 0.4938\n",
      "Val Loss: 0.6933, Val Acc: 0.5022\n",
      "              precision    recall  f1-score   support\n",
      "\n",
      "      benign       0.00      0.00      0.00       224\n",
      "   malignant       0.50      1.00      0.67       226\n",
      "\n",
      "    accuracy                           0.50       450\n",
      "   macro avg       0.25      0.50      0.33       450\n",
      "weighted avg       0.25      0.50      0.34       450\n",
      "\n",
      "Epoch 23\n"
     ]
    },
    {
     "name": "stderr",
     "output_type": "stream",
     "text": [
      "100%|██████████| 127/127 [01:22<00:00,  1.54it/s]\n",
      "100%|██████████| 15/15 [00:07<00:00,  1.93it/s]\n",
      "/home/kevinluo/anaconda3/envs/yolov8/lib/python3.9/site-packages/sklearn/metrics/_classification.py:1344: UndefinedMetricWarning: Precision and F-score are ill-defined and being set to 0.0 in labels with no predicted samples. Use `zero_division` parameter to control this behavior.\n",
      "  _warn_prf(average, modifier, msg_start, len(result))\n",
      "/home/kevinluo/anaconda3/envs/yolov8/lib/python3.9/site-packages/sklearn/metrics/_classification.py:1344: UndefinedMetricWarning: Precision and F-score are ill-defined and being set to 0.0 in labels with no predicted samples. Use `zero_division` parameter to control this behavior.\n",
      "  _warn_prf(average, modifier, msg_start, len(result))\n",
      "/home/kevinluo/anaconda3/envs/yolov8/lib/python3.9/site-packages/sklearn/metrics/_classification.py:1344: UndefinedMetricWarning: Precision and F-score are ill-defined and being set to 0.0 in labels with no predicted samples. Use `zero_division` parameter to control this behavior.\n",
      "  _warn_prf(average, modifier, msg_start, len(result))\n"
     ]
    },
    {
     "name": "stdout",
     "output_type": "stream",
     "text": [
      "Train Loss: 0.6941, Train Acc: 0.4899\n",
      "Val Loss: 0.6951, Val Acc: 0.4978\n",
      "              precision    recall  f1-score   support\n",
      "\n",
      "      benign       0.50      1.00      0.66       224\n",
      "   malignant       0.00      0.00      0.00       226\n",
      "\n",
      "    accuracy                           0.50       450\n",
      "   macro avg       0.25      0.50      0.33       450\n",
      "weighted avg       0.25      0.50      0.33       450\n",
      "\n",
      "Epoch 24\n"
     ]
    },
    {
     "name": "stderr",
     "output_type": "stream",
     "text": [
      "100%|██████████| 127/127 [01:22<00:00,  1.54it/s]\n",
      "100%|██████████| 15/15 [00:07<00:00,  1.92it/s]\n",
      "/home/kevinluo/anaconda3/envs/yolov8/lib/python3.9/site-packages/sklearn/metrics/_classification.py:1344: UndefinedMetricWarning: Precision and F-score are ill-defined and being set to 0.0 in labels with no predicted samples. Use `zero_division` parameter to control this behavior.\n",
      "  _warn_prf(average, modifier, msg_start, len(result))\n",
      "/home/kevinluo/anaconda3/envs/yolov8/lib/python3.9/site-packages/sklearn/metrics/_classification.py:1344: UndefinedMetricWarning: Precision and F-score are ill-defined and being set to 0.0 in labels with no predicted samples. Use `zero_division` parameter to control this behavior.\n",
      "  _warn_prf(average, modifier, msg_start, len(result))\n",
      "/home/kevinluo/anaconda3/envs/yolov8/lib/python3.9/site-packages/sklearn/metrics/_classification.py:1344: UndefinedMetricWarning: Precision and F-score are ill-defined and being set to 0.0 in labels with no predicted samples. Use `zero_division` parameter to control this behavior.\n",
      "  _warn_prf(average, modifier, msg_start, len(result))\n"
     ]
    },
    {
     "name": "stdout",
     "output_type": "stream",
     "text": [
      "Train Loss: 0.6947, Train Acc: 0.5077\n",
      "Val Loss: 0.6933, Val Acc: 0.5022\n",
      "              precision    recall  f1-score   support\n",
      "\n",
      "      benign       0.00      0.00      0.00       224\n",
      "   malignant       0.50      1.00      0.67       226\n",
      "\n",
      "    accuracy                           0.50       450\n",
      "   macro avg       0.25      0.50      0.33       450\n",
      "weighted avg       0.25      0.50      0.34       450\n",
      "\n",
      "Epoch 25\n"
     ]
    },
    {
     "name": "stderr",
     "output_type": "stream",
     "text": [
      "100%|██████████| 127/127 [01:26<00:00,  1.48it/s]\n",
      "100%|██████████| 15/15 [00:08<00:00,  1.75it/s]\n",
      "/home/kevinluo/anaconda3/envs/yolov8/lib/python3.9/site-packages/sklearn/metrics/_classification.py:1344: UndefinedMetricWarning: Precision and F-score are ill-defined and being set to 0.0 in labels with no predicted samples. Use `zero_division` parameter to control this behavior.\n",
      "  _warn_prf(average, modifier, msg_start, len(result))\n",
      "/home/kevinluo/anaconda3/envs/yolov8/lib/python3.9/site-packages/sklearn/metrics/_classification.py:1344: UndefinedMetricWarning: Precision and F-score are ill-defined and being set to 0.0 in labels with no predicted samples. Use `zero_division` parameter to control this behavior.\n",
      "  _warn_prf(average, modifier, msg_start, len(result))\n",
      "/home/kevinluo/anaconda3/envs/yolov8/lib/python3.9/site-packages/sklearn/metrics/_classification.py:1344: UndefinedMetricWarning: Precision and F-score are ill-defined and being set to 0.0 in labels with no predicted samples. Use `zero_division` parameter to control this behavior.\n",
      "  _warn_prf(average, modifier, msg_start, len(result))\n"
     ]
    },
    {
     "name": "stdout",
     "output_type": "stream",
     "text": [
      "Train Loss: 0.6951, Train Acc: 0.4968\n",
      "Val Loss: 0.6939, Val Acc: 0.5022\n",
      "              precision    recall  f1-score   support\n",
      "\n",
      "      benign       0.00      0.00      0.00       224\n",
      "   malignant       0.50      1.00      0.67       226\n",
      "\n",
      "    accuracy                           0.50       450\n",
      "   macro avg       0.25      0.50      0.33       450\n",
      "weighted avg       0.25      0.50      0.34       450\n",
      "\n",
      "Fold 4\n",
      "Epoch 1\n"
     ]
    },
    {
     "name": "stderr",
     "output_type": "stream",
     "text": [
      "100%|██████████| 127/127 [01:22<00:00,  1.55it/s]\n",
      "100%|██████████| 15/15 [00:07<00:00,  1.92it/s]\n"
     ]
    },
    {
     "name": "stdout",
     "output_type": "stream",
     "text": [
      "Train Loss: 0.8450, Train Acc: 0.5731\n",
      "Val Loss: 0.6763, Val Acc: 0.5467\n",
      "              precision    recall  f1-score   support\n",
      "\n",
      "      benign       0.53      0.89      0.66       224\n",
      "   malignant       0.65      0.21      0.32       226\n",
      "\n",
      "    accuracy                           0.55       450\n",
      "   macro avg       0.59      0.55      0.49       450\n",
      "weighted avg       0.59      0.55      0.49       450\n",
      "\n",
      "Epoch 2\n"
     ]
    },
    {
     "name": "stderr",
     "output_type": "stream",
     "text": [
      "100%|██████████| 127/127 [01:25<00:00,  1.48it/s]\n",
      "100%|██████████| 15/15 [00:07<00:00,  1.92it/s]\n"
     ]
    },
    {
     "name": "stdout",
     "output_type": "stream",
     "text": [
      "Train Loss: 0.6647, Train Acc: 0.5962\n",
      "Val Loss: 0.6814, Val Acc: 0.5489\n",
      "              precision    recall  f1-score   support\n",
      "\n",
      "      benign       0.53      0.93      0.67       224\n",
      "   malignant       0.72      0.17      0.27       226\n",
      "\n",
      "    accuracy                           0.55       450\n",
      "   macro avg       0.62      0.55      0.47       450\n",
      "weighted avg       0.62      0.55      0.47       450\n",
      "\n",
      "Epoch 3\n"
     ]
    },
    {
     "name": "stderr",
     "output_type": "stream",
     "text": [
      "100%|██████████| 127/127 [01:21<00:00,  1.55it/s]\n",
      "100%|██████████| 15/15 [00:07<00:00,  1.92it/s]\n"
     ]
    },
    {
     "name": "stdout",
     "output_type": "stream",
     "text": [
      "Train Loss: 0.6848, Train Acc: 0.5701\n",
      "Val Loss: 0.6548, Val Acc: 0.6044\n",
      "              precision    recall  f1-score   support\n",
      "\n",
      "      benign       0.59      0.70      0.64       224\n",
      "   malignant       0.63      0.51      0.57       226\n",
      "\n",
      "    accuracy                           0.60       450\n",
      "   macro avg       0.61      0.60      0.60       450\n",
      "weighted avg       0.61      0.60      0.60       450\n",
      "\n",
      "Epoch 4\n"
     ]
    },
    {
     "name": "stderr",
     "output_type": "stream",
     "text": [
      "100%|██████████| 127/127 [01:21<00:00,  1.55it/s]\n",
      "100%|██████████| 15/15 [00:07<00:00,  1.92it/s]\n"
     ]
    },
    {
     "name": "stdout",
     "output_type": "stream",
     "text": [
      "Train Loss: 0.6731, Train Acc: 0.5837\n",
      "Val Loss: 0.6661, Val Acc: 0.5644\n",
      "              precision    recall  f1-score   support\n",
      "\n",
      "      benign       0.54      0.76      0.64       224\n",
      "   malignant       0.61      0.37      0.46       226\n",
      "\n",
      "    accuracy                           0.56       450\n",
      "   macro avg       0.58      0.57      0.55       450\n",
      "weighted avg       0.58      0.56      0.55       450\n",
      "\n",
      "Epoch 5\n"
     ]
    },
    {
     "name": "stderr",
     "output_type": "stream",
     "text": [
      "100%|██████████| 127/127 [01:21<00:00,  1.55it/s]\n",
      "100%|██████████| 15/15 [00:07<00:00,  1.92it/s]\n"
     ]
    },
    {
     "name": "stdout",
     "output_type": "stream",
     "text": [
      "Train Loss: 0.6667, Train Acc: 0.5906\n",
      "Val Loss: 0.6707, Val Acc: 0.5600\n",
      "              precision    recall  f1-score   support\n",
      "\n",
      "      benign       0.54      0.82      0.65       224\n",
      "   malignant       0.63      0.31      0.41       226\n",
      "\n",
      "    accuracy                           0.56       450\n",
      "   macro avg       0.58      0.56      0.53       450\n",
      "weighted avg       0.58      0.56      0.53       450\n",
      "\n",
      "Epoch 6\n"
     ]
    },
    {
     "name": "stderr",
     "output_type": "stream",
     "text": [
      "100%|██████████| 127/127 [01:21<00:00,  1.55it/s]\n",
      "100%|██████████| 15/15 [00:07<00:00,  1.92it/s]\n"
     ]
    },
    {
     "name": "stdout",
     "output_type": "stream",
     "text": [
      "Train Loss: 0.6677, Train Acc: 0.5864\n",
      "Val Loss: 0.6659, Val Acc: 0.6067\n",
      "              precision    recall  f1-score   support\n",
      "\n",
      "      benign       0.64      0.49      0.55       224\n",
      "   malignant       0.59      0.72      0.65       226\n",
      "\n",
      "    accuracy                           0.61       450\n",
      "   macro avg       0.61      0.61      0.60       450\n",
      "weighted avg       0.61      0.61      0.60       450\n",
      "\n",
      "Epoch 7\n"
     ]
    },
    {
     "name": "stderr",
     "output_type": "stream",
     "text": [
      "100%|██████████| 127/127 [01:21<00:00,  1.55it/s]\n",
      "100%|██████████| 15/15 [00:07<00:00,  1.92it/s]\n"
     ]
    },
    {
     "name": "stdout",
     "output_type": "stream",
     "text": [
      "Train Loss: 0.6626, Train Acc: 0.5935\n",
      "Val Loss: 0.6464, Val Acc: 0.6667\n",
      "              precision    recall  f1-score   support\n",
      "\n",
      "      benign       0.78      0.46      0.58       224\n",
      "   malignant       0.62      0.88      0.73       226\n",
      "\n",
      "    accuracy                           0.67       450\n",
      "   macro avg       0.70      0.67      0.65       450\n",
      "weighted avg       0.70      0.67      0.65       450\n",
      "\n",
      "Epoch 8\n"
     ]
    },
    {
     "name": "stderr",
     "output_type": "stream",
     "text": [
      "100%|██████████| 127/127 [01:21<00:00,  1.55it/s]\n",
      "100%|██████████| 15/15 [00:07<00:00,  1.92it/s]\n",
      "/home/kevinluo/anaconda3/envs/yolov8/lib/python3.9/site-packages/sklearn/metrics/_classification.py:1344: UndefinedMetricWarning: Precision and F-score are ill-defined and being set to 0.0 in labels with no predicted samples. Use `zero_division` parameter to control this behavior.\n",
      "  _warn_prf(average, modifier, msg_start, len(result))\n",
      "/home/kevinluo/anaconda3/envs/yolov8/lib/python3.9/site-packages/sklearn/metrics/_classification.py:1344: UndefinedMetricWarning: Precision and F-score are ill-defined and being set to 0.0 in labels with no predicted samples. Use `zero_division` parameter to control this behavior.\n",
      "  _warn_prf(average, modifier, msg_start, len(result))\n",
      "/home/kevinluo/anaconda3/envs/yolov8/lib/python3.9/site-packages/sklearn/metrics/_classification.py:1344: UndefinedMetricWarning: Precision and F-score are ill-defined and being set to 0.0 in labels with no predicted samples. Use `zero_division` parameter to control this behavior.\n",
      "  _warn_prf(average, modifier, msg_start, len(result))\n"
     ]
    },
    {
     "name": "stdout",
     "output_type": "stream",
     "text": [
      "Train Loss: 0.6815, Train Acc: 0.5768\n",
      "Val Loss: 0.6933, Val Acc: 0.5022\n",
      "              precision    recall  f1-score   support\n",
      "\n",
      "      benign       0.00      0.00      0.00       224\n",
      "   malignant       0.50      1.00      0.67       226\n",
      "\n",
      "    accuracy                           0.50       450\n",
      "   macro avg       0.25      0.50      0.33       450\n",
      "weighted avg       0.25      0.50      0.34       450\n",
      "\n",
      "Epoch 9\n"
     ]
    },
    {
     "name": "stderr",
     "output_type": "stream",
     "text": [
      "100%|██████████| 127/127 [01:21<00:00,  1.55it/s]\n",
      "100%|██████████| 15/15 [00:07<00:00,  1.92it/s]\n"
     ]
    },
    {
     "name": "stdout",
     "output_type": "stream",
     "text": [
      "Train Loss: 0.7135, Train Acc: 0.4993\n",
      "Val Loss: 0.6931, Val Acc: 0.5067\n",
      "              precision    recall  f1-score   support\n",
      "\n",
      "      benign       1.00      0.01      0.02       224\n",
      "   malignant       0.50      1.00      0.67       226\n",
      "\n",
      "    accuracy                           0.51       450\n",
      "   macro avg       0.75      0.50      0.34       450\n",
      "weighted avg       0.75      0.51      0.35       450\n",
      "\n",
      "Epoch 10\n"
     ]
    },
    {
     "name": "stderr",
     "output_type": "stream",
     "text": [
      "100%|██████████| 127/127 [01:22<00:00,  1.55it/s]\n",
      "100%|██████████| 15/15 [00:07<00:00,  1.89it/s]\n",
      "/home/kevinluo/anaconda3/envs/yolov8/lib/python3.9/site-packages/sklearn/metrics/_classification.py:1344: UndefinedMetricWarning: Precision and F-score are ill-defined and being set to 0.0 in labels with no predicted samples. Use `zero_division` parameter to control this behavior.\n",
      "  _warn_prf(average, modifier, msg_start, len(result))\n",
      "/home/kevinluo/anaconda3/envs/yolov8/lib/python3.9/site-packages/sklearn/metrics/_classification.py:1344: UndefinedMetricWarning: Precision and F-score are ill-defined and being set to 0.0 in labels with no predicted samples. Use `zero_division` parameter to control this behavior.\n",
      "  _warn_prf(average, modifier, msg_start, len(result))\n",
      "/home/kevinluo/anaconda3/envs/yolov8/lib/python3.9/site-packages/sklearn/metrics/_classification.py:1344: UndefinedMetricWarning: Precision and F-score are ill-defined and being set to 0.0 in labels with no predicted samples. Use `zero_division` parameter to control this behavior.\n",
      "  _warn_prf(average, modifier, msg_start, len(result))\n"
     ]
    },
    {
     "name": "stdout",
     "output_type": "stream",
     "text": [
      "Train Loss: 0.7034, Train Acc: 0.4921\n",
      "Val Loss: 0.7015, Val Acc: 0.4978\n",
      "              precision    recall  f1-score   support\n",
      "\n",
      "      benign       0.50      1.00      0.66       224\n",
      "   malignant       0.00      0.00      0.00       226\n",
      "\n",
      "    accuracy                           0.50       450\n",
      "   macro avg       0.25      0.50      0.33       450\n",
      "weighted avg       0.25      0.50      0.33       450\n",
      "\n",
      "Epoch 11\n"
     ]
    },
    {
     "name": "stderr",
     "output_type": "stream",
     "text": [
      "100%|██████████| 127/127 [01:24<00:00,  1.50it/s]\n",
      "100%|██████████| 15/15 [00:08<00:00,  1.82it/s]\n",
      "/home/kevinluo/anaconda3/envs/yolov8/lib/python3.9/site-packages/sklearn/metrics/_classification.py:1344: UndefinedMetricWarning: Precision and F-score are ill-defined and being set to 0.0 in labels with no predicted samples. Use `zero_division` parameter to control this behavior.\n",
      "  _warn_prf(average, modifier, msg_start, len(result))\n",
      "/home/kevinluo/anaconda3/envs/yolov8/lib/python3.9/site-packages/sklearn/metrics/_classification.py:1344: UndefinedMetricWarning: Precision and F-score are ill-defined and being set to 0.0 in labels with no predicted samples. Use `zero_division` parameter to control this behavior.\n",
      "  _warn_prf(average, modifier, msg_start, len(result))\n",
      "/home/kevinluo/anaconda3/envs/yolov8/lib/python3.9/site-packages/sklearn/metrics/_classification.py:1344: UndefinedMetricWarning: Precision and F-score are ill-defined and being set to 0.0 in labels with no predicted samples. Use `zero_division` parameter to control this behavior.\n",
      "  _warn_prf(average, modifier, msg_start, len(result))\n"
     ]
    },
    {
     "name": "stdout",
     "output_type": "stream",
     "text": [
      "Train Loss: 0.6996, Train Acc: 0.5025\n",
      "Val Loss: 0.6932, Val Acc: 0.5022\n",
      "              precision    recall  f1-score   support\n",
      "\n",
      "      benign       0.00      0.00      0.00       224\n",
      "   malignant       0.50      1.00      0.67       226\n",
      "\n",
      "    accuracy                           0.50       450\n",
      "   macro avg       0.25      0.50      0.33       450\n",
      "weighted avg       0.25      0.50      0.34       450\n",
      "\n",
      "Epoch 12\n"
     ]
    },
    {
     "name": "stderr",
     "output_type": "stream",
     "text": [
      "100%|██████████| 127/127 [01:26<00:00,  1.47it/s]\n",
      "100%|██████████| 15/15 [00:08<00:00,  1.81it/s]\n",
      "/home/kevinluo/anaconda3/envs/yolov8/lib/python3.9/site-packages/sklearn/metrics/_classification.py:1344: UndefinedMetricWarning: Precision and F-score are ill-defined and being set to 0.0 in labels with no predicted samples. Use `zero_division` parameter to control this behavior.\n",
      "  _warn_prf(average, modifier, msg_start, len(result))\n",
      "/home/kevinluo/anaconda3/envs/yolov8/lib/python3.9/site-packages/sklearn/metrics/_classification.py:1344: UndefinedMetricWarning: Precision and F-score are ill-defined and being set to 0.0 in labels with no predicted samples. Use `zero_division` parameter to control this behavior.\n",
      "  _warn_prf(average, modifier, msg_start, len(result))\n",
      "/home/kevinluo/anaconda3/envs/yolov8/lib/python3.9/site-packages/sklearn/metrics/_classification.py:1344: UndefinedMetricWarning: Precision and F-score are ill-defined and being set to 0.0 in labels with no predicted samples. Use `zero_division` parameter to control this behavior.\n",
      "  _warn_prf(average, modifier, msg_start, len(result))\n"
     ]
    },
    {
     "name": "stdout",
     "output_type": "stream",
     "text": [
      "Train Loss: 0.6967, Train Acc: 0.4830\n",
      "Val Loss: 0.6932, Val Acc: 0.4978\n",
      "              precision    recall  f1-score   support\n",
      "\n",
      "      benign       0.50      1.00      0.66       224\n",
      "   malignant       0.00      0.00      0.00       226\n",
      "\n",
      "    accuracy                           0.50       450\n",
      "   macro avg       0.25      0.50      0.33       450\n",
      "weighted avg       0.25      0.50      0.33       450\n",
      "\n",
      "Epoch 13\n"
     ]
    },
    {
     "name": "stderr",
     "output_type": "stream",
     "text": [
      "100%|██████████| 127/127 [01:25<00:00,  1.49it/s]\n",
      "100%|██████████| 15/15 [00:08<00:00,  1.83it/s]\n",
      "/home/kevinluo/anaconda3/envs/yolov8/lib/python3.9/site-packages/sklearn/metrics/_classification.py:1344: UndefinedMetricWarning: Precision and F-score are ill-defined and being set to 0.0 in labels with no predicted samples. Use `zero_division` parameter to control this behavior.\n",
      "  _warn_prf(average, modifier, msg_start, len(result))\n",
      "/home/kevinluo/anaconda3/envs/yolov8/lib/python3.9/site-packages/sklearn/metrics/_classification.py:1344: UndefinedMetricWarning: Precision and F-score are ill-defined and being set to 0.0 in labels with no predicted samples. Use `zero_division` parameter to control this behavior.\n",
      "  _warn_prf(average, modifier, msg_start, len(result))\n",
      "/home/kevinluo/anaconda3/envs/yolov8/lib/python3.9/site-packages/sklearn/metrics/_classification.py:1344: UndefinedMetricWarning: Precision and F-score are ill-defined and being set to 0.0 in labels with no predicted samples. Use `zero_division` parameter to control this behavior.\n",
      "  _warn_prf(average, modifier, msg_start, len(result))\n"
     ]
    },
    {
     "name": "stdout",
     "output_type": "stream",
     "text": [
      "Train Loss: 0.6966, Train Acc: 0.4919\n",
      "Val Loss: 0.6958, Val Acc: 0.4978\n",
      "              precision    recall  f1-score   support\n",
      "\n",
      "      benign       0.50      1.00      0.66       224\n",
      "   malignant       0.00      0.00      0.00       226\n",
      "\n",
      "    accuracy                           0.50       450\n",
      "   macro avg       0.25      0.50      0.33       450\n",
      "weighted avg       0.25      0.50      0.33       450\n",
      "\n",
      "Epoch 14\n"
     ]
    },
    {
     "name": "stderr",
     "output_type": "stream",
     "text": [
      "100%|██████████| 127/127 [01:25<00:00,  1.48it/s]\n",
      "100%|██████████| 15/15 [00:08<00:00,  1.82it/s]\n",
      "/home/kevinluo/anaconda3/envs/yolov8/lib/python3.9/site-packages/sklearn/metrics/_classification.py:1344: UndefinedMetricWarning: Precision and F-score are ill-defined and being set to 0.0 in labels with no predicted samples. Use `zero_division` parameter to control this behavior.\n",
      "  _warn_prf(average, modifier, msg_start, len(result))\n",
      "/home/kevinluo/anaconda3/envs/yolov8/lib/python3.9/site-packages/sklearn/metrics/_classification.py:1344: UndefinedMetricWarning: Precision and F-score are ill-defined and being set to 0.0 in labels with no predicted samples. Use `zero_division` parameter to control this behavior.\n",
      "  _warn_prf(average, modifier, msg_start, len(result))\n",
      "/home/kevinluo/anaconda3/envs/yolov8/lib/python3.9/site-packages/sklearn/metrics/_classification.py:1344: UndefinedMetricWarning: Precision and F-score are ill-defined and being set to 0.0 in labels with no predicted samples. Use `zero_division` parameter to control this behavior.\n",
      "  _warn_prf(average, modifier, msg_start, len(result))\n"
     ]
    },
    {
     "name": "stdout",
     "output_type": "stream",
     "text": [
      "Train Loss: 0.6954, Train Acc: 0.5096\n",
      "Val Loss: 0.6940, Val Acc: 0.5022\n",
      "              precision    recall  f1-score   support\n",
      "\n",
      "      benign       0.00      0.00      0.00       224\n",
      "   malignant       0.50      1.00      0.67       226\n",
      "\n",
      "    accuracy                           0.50       450\n",
      "   macro avg       0.25      0.50      0.33       450\n",
      "weighted avg       0.25      0.50      0.34       450\n",
      "\n",
      "Epoch 15\n"
     ]
    },
    {
     "name": "stderr",
     "output_type": "stream",
     "text": [
      "100%|██████████| 127/127 [01:25<00:00,  1.48it/s]\n",
      "100%|██████████| 15/15 [00:08<00:00,  1.83it/s]\n",
      "/home/kevinluo/anaconda3/envs/yolov8/lib/python3.9/site-packages/sklearn/metrics/_classification.py:1344: UndefinedMetricWarning: Precision and F-score are ill-defined and being set to 0.0 in labels with no predicted samples. Use `zero_division` parameter to control this behavior.\n",
      "  _warn_prf(average, modifier, msg_start, len(result))\n",
      "/home/kevinluo/anaconda3/envs/yolov8/lib/python3.9/site-packages/sklearn/metrics/_classification.py:1344: UndefinedMetricWarning: Precision and F-score are ill-defined and being set to 0.0 in labels with no predicted samples. Use `zero_division` parameter to control this behavior.\n",
      "  _warn_prf(average, modifier, msg_start, len(result))\n",
      "/home/kevinluo/anaconda3/envs/yolov8/lib/python3.9/site-packages/sklearn/metrics/_classification.py:1344: UndefinedMetricWarning: Precision and F-score are ill-defined and being set to 0.0 in labels with no predicted samples. Use `zero_division` parameter to control this behavior.\n",
      "  _warn_prf(average, modifier, msg_start, len(result))\n"
     ]
    },
    {
     "name": "stdout",
     "output_type": "stream",
     "text": [
      "Train Loss: 0.6943, Train Acc: 0.5039\n",
      "Val Loss: 0.6948, Val Acc: 0.4978\n",
      "              precision    recall  f1-score   support\n",
      "\n",
      "      benign       0.50      1.00      0.66       224\n",
      "   malignant       0.00      0.00      0.00       226\n",
      "\n",
      "    accuracy                           0.50       450\n",
      "   macro avg       0.25      0.50      0.33       450\n",
      "weighted avg       0.25      0.50      0.33       450\n",
      "\n",
      "Epoch 16\n"
     ]
    },
    {
     "name": "stderr",
     "output_type": "stream",
     "text": [
      "100%|██████████| 127/127 [01:25<00:00,  1.48it/s]\n",
      "100%|██████████| 15/15 [00:08<00:00,  1.82it/s]\n",
      "/home/kevinluo/anaconda3/envs/yolov8/lib/python3.9/site-packages/sklearn/metrics/_classification.py:1344: UndefinedMetricWarning: Precision and F-score are ill-defined and being set to 0.0 in labels with no predicted samples. Use `zero_division` parameter to control this behavior.\n",
      "  _warn_prf(average, modifier, msg_start, len(result))\n",
      "/home/kevinluo/anaconda3/envs/yolov8/lib/python3.9/site-packages/sklearn/metrics/_classification.py:1344: UndefinedMetricWarning: Precision and F-score are ill-defined and being set to 0.0 in labels with no predicted samples. Use `zero_division` parameter to control this behavior.\n",
      "  _warn_prf(average, modifier, msg_start, len(result))\n",
      "/home/kevinluo/anaconda3/envs/yolov8/lib/python3.9/site-packages/sklearn/metrics/_classification.py:1344: UndefinedMetricWarning: Precision and F-score are ill-defined and being set to 0.0 in labels with no predicted samples. Use `zero_division` parameter to control this behavior.\n",
      "  _warn_prf(average, modifier, msg_start, len(result))\n"
     ]
    },
    {
     "name": "stdout",
     "output_type": "stream",
     "text": [
      "Train Loss: 0.6953, Train Acc: 0.4948\n",
      "Val Loss: 0.6937, Val Acc: 0.4978\n",
      "              precision    recall  f1-score   support\n",
      "\n",
      "      benign       0.50      1.00      0.66       224\n",
      "   malignant       0.00      0.00      0.00       226\n",
      "\n",
      "    accuracy                           0.50       450\n",
      "   macro avg       0.25      0.50      0.33       450\n",
      "weighted avg       0.25      0.50      0.33       450\n",
      "\n",
      "Epoch 17\n"
     ]
    },
    {
     "name": "stderr",
     "output_type": "stream",
     "text": [
      "100%|██████████| 127/127 [01:25<00:00,  1.48it/s]\n",
      "100%|██████████| 15/15 [00:08<00:00,  1.81it/s]\n",
      "/home/kevinluo/anaconda3/envs/yolov8/lib/python3.9/site-packages/sklearn/metrics/_classification.py:1344: UndefinedMetricWarning: Precision and F-score are ill-defined and being set to 0.0 in labels with no predicted samples. Use `zero_division` parameter to control this behavior.\n",
      "  _warn_prf(average, modifier, msg_start, len(result))\n",
      "/home/kevinluo/anaconda3/envs/yolov8/lib/python3.9/site-packages/sklearn/metrics/_classification.py:1344: UndefinedMetricWarning: Precision and F-score are ill-defined and being set to 0.0 in labels with no predicted samples. Use `zero_division` parameter to control this behavior.\n",
      "  _warn_prf(average, modifier, msg_start, len(result))\n",
      "/home/kevinluo/anaconda3/envs/yolov8/lib/python3.9/site-packages/sklearn/metrics/_classification.py:1344: UndefinedMetricWarning: Precision and F-score are ill-defined and being set to 0.0 in labels with no predicted samples. Use `zero_division` parameter to control this behavior.\n",
      "  _warn_prf(average, modifier, msg_start, len(result))\n"
     ]
    },
    {
     "name": "stdout",
     "output_type": "stream",
     "text": [
      "Train Loss: 0.6945, Train Acc: 0.5084\n",
      "Val Loss: 0.6931, Val Acc: 0.5022\n",
      "              precision    recall  f1-score   support\n",
      "\n",
      "      benign       0.00      0.00      0.00       224\n",
      "   malignant       0.50      1.00      0.67       226\n",
      "\n",
      "    accuracy                           0.50       450\n",
      "   macro avg       0.25      0.50      0.33       450\n",
      "weighted avg       0.25      0.50      0.34       450\n",
      "\n",
      "Epoch 18\n"
     ]
    },
    {
     "name": "stderr",
     "output_type": "stream",
     "text": [
      "100%|██████████| 127/127 [01:25<00:00,  1.48it/s]\n",
      "100%|██████████| 15/15 [00:08<00:00,  1.83it/s]\n",
      "/home/kevinluo/anaconda3/envs/yolov8/lib/python3.9/site-packages/sklearn/metrics/_classification.py:1344: UndefinedMetricWarning: Precision and F-score are ill-defined and being set to 0.0 in labels with no predicted samples. Use `zero_division` parameter to control this behavior.\n",
      "  _warn_prf(average, modifier, msg_start, len(result))\n",
      "/home/kevinluo/anaconda3/envs/yolov8/lib/python3.9/site-packages/sklearn/metrics/_classification.py:1344: UndefinedMetricWarning: Precision and F-score are ill-defined and being set to 0.0 in labels with no predicted samples. Use `zero_division` parameter to control this behavior.\n",
      "  _warn_prf(average, modifier, msg_start, len(result))\n",
      "/home/kevinluo/anaconda3/envs/yolov8/lib/python3.9/site-packages/sklearn/metrics/_classification.py:1344: UndefinedMetricWarning: Precision and F-score are ill-defined and being set to 0.0 in labels with no predicted samples. Use `zero_division` parameter to control this behavior.\n",
      "  _warn_prf(average, modifier, msg_start, len(result))\n"
     ]
    },
    {
     "name": "stdout",
     "output_type": "stream",
     "text": [
      "Train Loss: 0.6942, Train Acc: 0.5086\n",
      "Val Loss: 0.6968, Val Acc: 0.4978\n",
      "              precision    recall  f1-score   support\n",
      "\n",
      "      benign       0.50      1.00      0.66       224\n",
      "   malignant       0.00      0.00      0.00       226\n",
      "\n",
      "    accuracy                           0.50       450\n",
      "   macro avg       0.25      0.50      0.33       450\n",
      "weighted avg       0.25      0.50      0.33       450\n",
      "\n",
      "Epoch 19\n"
     ]
    },
    {
     "name": "stderr",
     "output_type": "stream",
     "text": [
      "100%|██████████| 127/127 [01:25<00:00,  1.48it/s]\n",
      "100%|██████████| 15/15 [00:08<00:00,  1.83it/s]\n",
      "/home/kevinluo/anaconda3/envs/yolov8/lib/python3.9/site-packages/sklearn/metrics/_classification.py:1344: UndefinedMetricWarning: Precision and F-score are ill-defined and being set to 0.0 in labels with no predicted samples. Use `zero_division` parameter to control this behavior.\n",
      "  _warn_prf(average, modifier, msg_start, len(result))\n",
      "/home/kevinluo/anaconda3/envs/yolov8/lib/python3.9/site-packages/sklearn/metrics/_classification.py:1344: UndefinedMetricWarning: Precision and F-score are ill-defined and being set to 0.0 in labels with no predicted samples. Use `zero_division` parameter to control this behavior.\n",
      "  _warn_prf(average, modifier, msg_start, len(result))\n",
      "/home/kevinluo/anaconda3/envs/yolov8/lib/python3.9/site-packages/sklearn/metrics/_classification.py:1344: UndefinedMetricWarning: Precision and F-score are ill-defined and being set to 0.0 in labels with no predicted samples. Use `zero_division` parameter to control this behavior.\n",
      "  _warn_prf(average, modifier, msg_start, len(result))\n"
     ]
    },
    {
     "name": "stdout",
     "output_type": "stream",
     "text": [
      "Train Loss: 0.6960, Train Acc: 0.4808\n",
      "Val Loss: 0.6932, Val Acc: 0.4978\n",
      "              precision    recall  f1-score   support\n",
      "\n",
      "      benign       0.50      1.00      0.66       224\n",
      "   malignant       0.00      0.00      0.00       226\n",
      "\n",
      "    accuracy                           0.50       450\n",
      "   macro avg       0.25      0.50      0.33       450\n",
      "weighted avg       0.25      0.50      0.33       450\n",
      "\n",
      "Epoch 20\n"
     ]
    },
    {
     "name": "stderr",
     "output_type": "stream",
     "text": [
      "100%|██████████| 127/127 [01:25<00:00,  1.48it/s]\n",
      "100%|██████████| 15/15 [00:08<00:00,  1.81it/s]\n",
      "/home/kevinluo/anaconda3/envs/yolov8/lib/python3.9/site-packages/sklearn/metrics/_classification.py:1344: UndefinedMetricWarning: Precision and F-score are ill-defined and being set to 0.0 in labels with no predicted samples. Use `zero_division` parameter to control this behavior.\n",
      "  _warn_prf(average, modifier, msg_start, len(result))\n",
      "/home/kevinluo/anaconda3/envs/yolov8/lib/python3.9/site-packages/sklearn/metrics/_classification.py:1344: UndefinedMetricWarning: Precision and F-score are ill-defined and being set to 0.0 in labels with no predicted samples. Use `zero_division` parameter to control this behavior.\n",
      "  _warn_prf(average, modifier, msg_start, len(result))\n",
      "/home/kevinluo/anaconda3/envs/yolov8/lib/python3.9/site-packages/sklearn/metrics/_classification.py:1344: UndefinedMetricWarning: Precision and F-score are ill-defined and being set to 0.0 in labels with no predicted samples. Use `zero_division` parameter to control this behavior.\n",
      "  _warn_prf(average, modifier, msg_start, len(result))\n"
     ]
    },
    {
     "name": "stdout",
     "output_type": "stream",
     "text": [
      "Train Loss: 0.6940, Train Acc: 0.5007\n",
      "Val Loss: 0.6948, Val Acc: 0.4978\n",
      "              precision    recall  f1-score   support\n",
      "\n",
      "      benign       0.50      1.00      0.66       224\n",
      "   malignant       0.00      0.00      0.00       226\n",
      "\n",
      "    accuracy                           0.50       450\n",
      "   macro avg       0.25      0.50      0.33       450\n",
      "weighted avg       0.25      0.50      0.33       450\n",
      "\n",
      "Epoch 21\n"
     ]
    },
    {
     "name": "stderr",
     "output_type": "stream",
     "text": [
      "100%|██████████| 127/127 [01:25<00:00,  1.48it/s]\n",
      "100%|██████████| 15/15 [00:08<00:00,  1.82it/s]\n",
      "/home/kevinluo/anaconda3/envs/yolov8/lib/python3.9/site-packages/sklearn/metrics/_classification.py:1344: UndefinedMetricWarning: Precision and F-score are ill-defined and being set to 0.0 in labels with no predicted samples. Use `zero_division` parameter to control this behavior.\n",
      "  _warn_prf(average, modifier, msg_start, len(result))\n",
      "/home/kevinluo/anaconda3/envs/yolov8/lib/python3.9/site-packages/sklearn/metrics/_classification.py:1344: UndefinedMetricWarning: Precision and F-score are ill-defined and being set to 0.0 in labels with no predicted samples. Use `zero_division` parameter to control this behavior.\n",
      "  _warn_prf(average, modifier, msg_start, len(result))\n",
      "/home/kevinluo/anaconda3/envs/yolov8/lib/python3.9/site-packages/sklearn/metrics/_classification.py:1344: UndefinedMetricWarning: Precision and F-score are ill-defined and being set to 0.0 in labels with no predicted samples. Use `zero_division` parameter to control this behavior.\n",
      "  _warn_prf(average, modifier, msg_start, len(result))\n"
     ]
    },
    {
     "name": "stdout",
     "output_type": "stream",
     "text": [
      "Train Loss: 0.6939, Train Acc: 0.4906\n",
      "Val Loss: 0.6971, Val Acc: 0.5022\n",
      "              precision    recall  f1-score   support\n",
      "\n",
      "      benign       0.00      0.00      0.00       224\n",
      "   malignant       0.50      1.00      0.67       226\n",
      "\n",
      "    accuracy                           0.50       450\n",
      "   macro avg       0.25      0.50      0.33       450\n",
      "weighted avg       0.25      0.50      0.34       450\n",
      "\n",
      "Epoch 22\n"
     ]
    },
    {
     "name": "stderr",
     "output_type": "stream",
     "text": [
      "100%|██████████| 127/127 [01:25<00:00,  1.48it/s]\n",
      "100%|██████████| 15/15 [00:08<00:00,  1.81it/s]\n",
      "/home/kevinluo/anaconda3/envs/yolov8/lib/python3.9/site-packages/sklearn/metrics/_classification.py:1344: UndefinedMetricWarning: Precision and F-score are ill-defined and being set to 0.0 in labels with no predicted samples. Use `zero_division` parameter to control this behavior.\n",
      "  _warn_prf(average, modifier, msg_start, len(result))\n",
      "/home/kevinluo/anaconda3/envs/yolov8/lib/python3.9/site-packages/sklearn/metrics/_classification.py:1344: UndefinedMetricWarning: Precision and F-score are ill-defined and being set to 0.0 in labels with no predicted samples. Use `zero_division` parameter to control this behavior.\n",
      "  _warn_prf(average, modifier, msg_start, len(result))\n",
      "/home/kevinluo/anaconda3/envs/yolov8/lib/python3.9/site-packages/sklearn/metrics/_classification.py:1344: UndefinedMetricWarning: Precision and F-score are ill-defined and being set to 0.0 in labels with no predicted samples. Use `zero_division` parameter to control this behavior.\n",
      "  _warn_prf(average, modifier, msg_start, len(result))\n"
     ]
    },
    {
     "name": "stdout",
     "output_type": "stream",
     "text": [
      "Train Loss: 0.6952, Train Acc: 0.4965\n",
      "Val Loss: 0.6949, Val Acc: 0.4978\n",
      "              precision    recall  f1-score   support\n",
      "\n",
      "      benign       0.50      1.00      0.66       224\n",
      "   malignant       0.00      0.00      0.00       226\n",
      "\n",
      "    accuracy                           0.50       450\n",
      "   macro avg       0.25      0.50      0.33       450\n",
      "weighted avg       0.25      0.50      0.33       450\n",
      "\n",
      "Epoch 23\n"
     ]
    },
    {
     "name": "stderr",
     "output_type": "stream",
     "text": [
      "100%|██████████| 127/127 [01:26<00:00,  1.48it/s]\n",
      "100%|██████████| 15/15 [00:08<00:00,  1.82it/s]\n",
      "/home/kevinluo/anaconda3/envs/yolov8/lib/python3.9/site-packages/sklearn/metrics/_classification.py:1344: UndefinedMetricWarning: Precision and F-score are ill-defined and being set to 0.0 in labels with no predicted samples. Use `zero_division` parameter to control this behavior.\n",
      "  _warn_prf(average, modifier, msg_start, len(result))\n",
      "/home/kevinluo/anaconda3/envs/yolov8/lib/python3.9/site-packages/sklearn/metrics/_classification.py:1344: UndefinedMetricWarning: Precision and F-score are ill-defined and being set to 0.0 in labels with no predicted samples. Use `zero_division` parameter to control this behavior.\n",
      "  _warn_prf(average, modifier, msg_start, len(result))\n",
      "/home/kevinluo/anaconda3/envs/yolov8/lib/python3.9/site-packages/sklearn/metrics/_classification.py:1344: UndefinedMetricWarning: Precision and F-score are ill-defined and being set to 0.0 in labels with no predicted samples. Use `zero_division` parameter to control this behavior.\n",
      "  _warn_prf(average, modifier, msg_start, len(result))\n"
     ]
    },
    {
     "name": "stdout",
     "output_type": "stream",
     "text": [
      "Train Loss: 0.6943, Train Acc: 0.5086\n",
      "Val Loss: 0.6931, Val Acc: 0.5022\n",
      "              precision    recall  f1-score   support\n",
      "\n",
      "      benign       0.00      0.00      0.00       224\n",
      "   malignant       0.50      1.00      0.67       226\n",
      "\n",
      "    accuracy                           0.50       450\n",
      "   macro avg       0.25      0.50      0.33       450\n",
      "weighted avg       0.25      0.50      0.34       450\n",
      "\n",
      "Epoch 24\n"
     ]
    },
    {
     "name": "stderr",
     "output_type": "stream",
     "text": [
      "100%|██████████| 127/127 [01:26<00:00,  1.48it/s]\n",
      "100%|██████████| 15/15 [00:08<00:00,  1.82it/s]\n",
      "/home/kevinluo/anaconda3/envs/yolov8/lib/python3.9/site-packages/sklearn/metrics/_classification.py:1344: UndefinedMetricWarning: Precision and F-score are ill-defined and being set to 0.0 in labels with no predicted samples. Use `zero_division` parameter to control this behavior.\n",
      "  _warn_prf(average, modifier, msg_start, len(result))\n",
      "/home/kevinluo/anaconda3/envs/yolov8/lib/python3.9/site-packages/sklearn/metrics/_classification.py:1344: UndefinedMetricWarning: Precision and F-score are ill-defined and being set to 0.0 in labels with no predicted samples. Use `zero_division` parameter to control this behavior.\n",
      "  _warn_prf(average, modifier, msg_start, len(result))\n",
      "/home/kevinluo/anaconda3/envs/yolov8/lib/python3.9/site-packages/sklearn/metrics/_classification.py:1344: UndefinedMetricWarning: Precision and F-score are ill-defined and being set to 0.0 in labels with no predicted samples. Use `zero_division` parameter to control this behavior.\n",
      "  _warn_prf(average, modifier, msg_start, len(result))\n"
     ]
    },
    {
     "name": "stdout",
     "output_type": "stream",
     "text": [
      "Train Loss: 0.6942, Train Acc: 0.4933\n",
      "Val Loss: 0.6932, Val Acc: 0.4978\n",
      "              precision    recall  f1-score   support\n",
      "\n",
      "      benign       0.50      1.00      0.66       224\n",
      "   malignant       0.00      0.00      0.00       226\n",
      "\n",
      "    accuracy                           0.50       450\n",
      "   macro avg       0.25      0.50      0.33       450\n",
      "weighted avg       0.25      0.50      0.33       450\n",
      "\n",
      "Epoch 25\n"
     ]
    },
    {
     "name": "stderr",
     "output_type": "stream",
     "text": [
      "100%|██████████| 127/127 [01:26<00:00,  1.47it/s]\n",
      "100%|██████████| 15/15 [00:08<00:00,  1.81it/s]\n",
      "/home/kevinluo/anaconda3/envs/yolov8/lib/python3.9/site-packages/sklearn/metrics/_classification.py:1344: UndefinedMetricWarning: Precision and F-score are ill-defined and being set to 0.0 in labels with no predicted samples. Use `zero_division` parameter to control this behavior.\n",
      "  _warn_prf(average, modifier, msg_start, len(result))\n",
      "/home/kevinluo/anaconda3/envs/yolov8/lib/python3.9/site-packages/sklearn/metrics/_classification.py:1344: UndefinedMetricWarning: Precision and F-score are ill-defined and being set to 0.0 in labels with no predicted samples. Use `zero_division` parameter to control this behavior.\n",
      "  _warn_prf(average, modifier, msg_start, len(result))\n",
      "/home/kevinluo/anaconda3/envs/yolov8/lib/python3.9/site-packages/sklearn/metrics/_classification.py:1344: UndefinedMetricWarning: Precision and F-score are ill-defined and being set to 0.0 in labels with no predicted samples. Use `zero_division` parameter to control this behavior.\n",
      "  _warn_prf(average, modifier, msg_start, len(result))\n"
     ]
    },
    {
     "name": "stdout",
     "output_type": "stream",
     "text": [
      "Train Loss: 0.6935, Train Acc: 0.5094\n",
      "Val Loss: 0.6947, Val Acc: 0.5022\n",
      "              precision    recall  f1-score   support\n",
      "\n",
      "      benign       0.00      0.00      0.00       224\n",
      "   malignant       0.50      1.00      0.67       226\n",
      "\n",
      "    accuracy                           0.50       450\n",
      "   macro avg       0.25      0.50      0.33       450\n",
      "weighted avg       0.25      0.50      0.34       450\n",
      "\n",
      "Fold 5\n",
      "Epoch 1\n"
     ]
    },
    {
     "name": "stderr",
     "output_type": "stream",
     "text": [
      "100%|██████████| 127/127 [01:26<00:00,  1.46it/s]\n",
      "100%|██████████| 15/15 [00:08<00:00,  1.76it/s]\n"
     ]
    },
    {
     "name": "stdout",
     "output_type": "stream",
     "text": [
      "Train Loss: 0.7753, Train Acc: 0.5629\n",
      "Val Loss: 0.6466, Val Acc: 0.6578\n",
      "              precision    recall  f1-score   support\n",
      "\n",
      "      benign       0.77      0.45      0.56       224\n",
      "   malignant       0.61      0.87      0.72       226\n",
      "\n",
      "    accuracy                           0.66       450\n",
      "   macro avg       0.69      0.66      0.64       450\n",
      "weighted avg       0.69      0.66      0.64       450\n",
      "\n",
      "Epoch 2\n"
     ]
    },
    {
     "name": "stderr",
     "output_type": "stream",
     "text": [
      "100%|██████████| 127/127 [01:28<00:00,  1.43it/s]\n",
      "100%|██████████| 15/15 [00:08<00:00,  1.77it/s]\n"
     ]
    },
    {
     "name": "stdout",
     "output_type": "stream",
     "text": [
      "Train Loss: 0.6687, Train Acc: 0.5886\n",
      "Val Loss: 0.6138, Val Acc: 0.6844\n",
      "              precision    recall  f1-score   support\n",
      "\n",
      "      benign       0.68      0.68      0.68       224\n",
      "   malignant       0.68      0.69      0.69       226\n",
      "\n",
      "    accuracy                           0.68       450\n",
      "   macro avg       0.68      0.68      0.68       450\n",
      "weighted avg       0.68      0.68      0.68       450\n",
      "\n",
      "Epoch 3\n"
     ]
    },
    {
     "name": "stderr",
     "output_type": "stream",
     "text": [
      "100%|██████████| 127/127 [01:28<00:00,  1.43it/s]\n",
      "100%|██████████| 15/15 [00:08<00:00,  1.77it/s]\n"
     ]
    },
    {
     "name": "stdout",
     "output_type": "stream",
     "text": [
      "Train Loss: 0.6777, Train Acc: 0.5671\n",
      "Val Loss: 0.6625, Val Acc: 0.6267\n",
      "              precision    recall  f1-score   support\n",
      "\n",
      "      benign       0.60      0.74      0.66       224\n",
      "   malignant       0.66      0.52      0.58       226\n",
      "\n",
      "    accuracy                           0.63       450\n",
      "   macro avg       0.63      0.63      0.62       450\n",
      "weighted avg       0.63      0.63      0.62       450\n",
      "\n",
      "Epoch 4\n"
     ]
    },
    {
     "name": "stderr",
     "output_type": "stream",
     "text": [
      "100%|██████████| 127/127 [01:28<00:00,  1.44it/s]\n",
      "100%|██████████| 15/15 [00:08<00:00,  1.83it/s]\n"
     ]
    },
    {
     "name": "stdout",
     "output_type": "stream",
     "text": [
      "Train Loss: 0.6870, Train Acc: 0.5624\n",
      "Val Loss: 0.6615, Val Acc: 0.6444\n",
      "              precision    recall  f1-score   support\n",
      "\n",
      "      benign       0.63      0.68      0.66       224\n",
      "   malignant       0.66      0.61      0.63       226\n",
      "\n",
      "    accuracy                           0.64       450\n",
      "   macro avg       0.65      0.64      0.64       450\n",
      "weighted avg       0.65      0.64      0.64       450\n",
      "\n",
      "Epoch 5\n"
     ]
    },
    {
     "name": "stderr",
     "output_type": "stream",
     "text": [
      "100%|██████████| 127/127 [01:26<00:00,  1.47it/s]\n",
      "100%|██████████| 15/15 [00:08<00:00,  1.84it/s]\n"
     ]
    },
    {
     "name": "stdout",
     "output_type": "stream",
     "text": [
      "Train Loss: 0.6779, Train Acc: 0.5691\n",
      "Val Loss: 0.6641, Val Acc: 0.5800\n",
      "              precision    recall  f1-score   support\n",
      "\n",
      "      benign       0.55      0.83      0.66       224\n",
      "   malignant       0.66      0.33      0.44       226\n",
      "\n",
      "    accuracy                           0.58       450\n",
      "   macro avg       0.61      0.58      0.55       450\n",
      "weighted avg       0.61      0.58      0.55       450\n",
      "\n",
      "Epoch 6\n"
     ]
    },
    {
     "name": "stderr",
     "output_type": "stream",
     "text": [
      "100%|██████████| 127/127 [01:26<00:00,  1.47it/s]\n",
      "100%|██████████| 15/15 [00:08<00:00,  1.83it/s]\n"
     ]
    },
    {
     "name": "stdout",
     "output_type": "stream",
     "text": [
      "Train Loss: 0.6806, Train Acc: 0.5634\n",
      "Val Loss: 0.6589, Val Acc: 0.6000\n",
      "              precision    recall  f1-score   support\n",
      "\n",
      "      benign       0.57      0.80      0.67       224\n",
      "   malignant       0.67      0.40      0.50       226\n",
      "\n",
      "    accuracy                           0.60       450\n",
      "   macro avg       0.62      0.60      0.58       450\n",
      "weighted avg       0.62      0.60      0.58       450\n",
      "\n",
      "Epoch 7\n"
     ]
    },
    {
     "name": "stderr",
     "output_type": "stream",
     "text": [
      "100%|██████████| 127/127 [01:26<00:00,  1.48it/s]\n",
      "100%|██████████| 15/15 [00:08<00:00,  1.82it/s]\n"
     ]
    },
    {
     "name": "stdout",
     "output_type": "stream",
     "text": [
      "Train Loss: 0.6986, Train Acc: 0.5308\n",
      "Val Loss: 0.6937, Val Acc: 0.5111\n",
      "              precision    recall  f1-score   support\n",
      "\n",
      "      benign       1.00      0.02      0.04       224\n",
      "   malignant       0.51      1.00      0.67       226\n",
      "\n",
      "    accuracy                           0.51       450\n",
      "   macro avg       0.75      0.51      0.35       450\n",
      "weighted avg       0.75      0.51      0.36       450\n",
      "\n",
      "Epoch 8\n"
     ]
    },
    {
     "name": "stderr",
     "output_type": "stream",
     "text": [
      "100%|██████████| 127/127 [01:26<00:00,  1.47it/s]\n",
      "100%|██████████| 15/15 [00:08<00:00,  1.82it/s]\n",
      "/home/kevinluo/anaconda3/envs/yolov8/lib/python3.9/site-packages/sklearn/metrics/_classification.py:1344: UndefinedMetricWarning: Precision and F-score are ill-defined and being set to 0.0 in labels with no predicted samples. Use `zero_division` parameter to control this behavior.\n",
      "  _warn_prf(average, modifier, msg_start, len(result))\n",
      "/home/kevinluo/anaconda3/envs/yolov8/lib/python3.9/site-packages/sklearn/metrics/_classification.py:1344: UndefinedMetricWarning: Precision and F-score are ill-defined and being set to 0.0 in labels with no predicted samples. Use `zero_division` parameter to control this behavior.\n",
      "  _warn_prf(average, modifier, msg_start, len(result))\n",
      "/home/kevinluo/anaconda3/envs/yolov8/lib/python3.9/site-packages/sklearn/metrics/_classification.py:1344: UndefinedMetricWarning: Precision and F-score are ill-defined and being set to 0.0 in labels with no predicted samples. Use `zero_division` parameter to control this behavior.\n",
      "  _warn_prf(average, modifier, msg_start, len(result))\n"
     ]
    },
    {
     "name": "stdout",
     "output_type": "stream",
     "text": [
      "Train Loss: 0.7092, Train Acc: 0.4931\n",
      "Val Loss: 0.6995, Val Acc: 0.4978\n",
      "              precision    recall  f1-score   support\n",
      "\n",
      "      benign       0.50      1.00      0.66       224\n",
      "   malignant       0.00      0.00      0.00       226\n",
      "\n",
      "    accuracy                           0.50       450\n",
      "   macro avg       0.25      0.50      0.33       450\n",
      "weighted avg       0.25      0.50      0.33       450\n",
      "\n",
      "Epoch 9\n"
     ]
    },
    {
     "name": "stderr",
     "output_type": "stream",
     "text": [
      "100%|██████████| 127/127 [01:26<00:00,  1.47it/s]\n",
      "100%|██████████| 15/15 [00:08<00:00,  1.80it/s]\n",
      "/home/kevinluo/anaconda3/envs/yolov8/lib/python3.9/site-packages/sklearn/metrics/_classification.py:1344: UndefinedMetricWarning: Precision and F-score are ill-defined and being set to 0.0 in labels with no predicted samples. Use `zero_division` parameter to control this behavior.\n",
      "  _warn_prf(average, modifier, msg_start, len(result))\n",
      "/home/kevinluo/anaconda3/envs/yolov8/lib/python3.9/site-packages/sklearn/metrics/_classification.py:1344: UndefinedMetricWarning: Precision and F-score are ill-defined and being set to 0.0 in labels with no predicted samples. Use `zero_division` parameter to control this behavior.\n",
      "  _warn_prf(average, modifier, msg_start, len(result))\n",
      "/home/kevinluo/anaconda3/envs/yolov8/lib/python3.9/site-packages/sklearn/metrics/_classification.py:1344: UndefinedMetricWarning: Precision and F-score are ill-defined and being set to 0.0 in labels with no predicted samples. Use `zero_division` parameter to control this behavior.\n",
      "  _warn_prf(average, modifier, msg_start, len(result))\n"
     ]
    },
    {
     "name": "stdout",
     "output_type": "stream",
     "text": [
      "Train Loss: 0.6978, Train Acc: 0.4990\n",
      "Val Loss: 0.6998, Val Acc: 0.4978\n",
      "              precision    recall  f1-score   support\n",
      "\n",
      "      benign       0.50      1.00      0.66       224\n",
      "   malignant       0.00      0.00      0.00       226\n",
      "\n",
      "    accuracy                           0.50       450\n",
      "   macro avg       0.25      0.50      0.33       450\n",
      "weighted avg       0.25      0.50      0.33       450\n",
      "\n",
      "Epoch 10\n"
     ]
    },
    {
     "name": "stderr",
     "output_type": "stream",
     "text": [
      "100%|██████████| 127/127 [01:26<00:00,  1.47it/s]\n",
      "100%|██████████| 15/15 [00:08<00:00,  1.82it/s]\n",
      "/home/kevinluo/anaconda3/envs/yolov8/lib/python3.9/site-packages/sklearn/metrics/_classification.py:1344: UndefinedMetricWarning: Precision and F-score are ill-defined and being set to 0.0 in labels with no predicted samples. Use `zero_division` parameter to control this behavior.\n",
      "  _warn_prf(average, modifier, msg_start, len(result))\n",
      "/home/kevinluo/anaconda3/envs/yolov8/lib/python3.9/site-packages/sklearn/metrics/_classification.py:1344: UndefinedMetricWarning: Precision and F-score are ill-defined and being set to 0.0 in labels with no predicted samples. Use `zero_division` parameter to control this behavior.\n",
      "  _warn_prf(average, modifier, msg_start, len(result))\n",
      "/home/kevinluo/anaconda3/envs/yolov8/lib/python3.9/site-packages/sklearn/metrics/_classification.py:1344: UndefinedMetricWarning: Precision and F-score are ill-defined and being set to 0.0 in labels with no predicted samples. Use `zero_division` parameter to control this behavior.\n",
      "  _warn_prf(average, modifier, msg_start, len(result))\n"
     ]
    },
    {
     "name": "stdout",
     "output_type": "stream",
     "text": [
      "Train Loss: 0.6976, Train Acc: 0.4928\n",
      "Val Loss: 0.7004, Val Acc: 0.4978\n",
      "              precision    recall  f1-score   support\n",
      "\n",
      "      benign       0.50      1.00      0.66       224\n",
      "   malignant       0.00      0.00      0.00       226\n",
      "\n",
      "    accuracy                           0.50       450\n",
      "   macro avg       0.25      0.50      0.33       450\n",
      "weighted avg       0.25      0.50      0.33       450\n",
      "\n",
      "Epoch 11\n"
     ]
    },
    {
     "name": "stderr",
     "output_type": "stream",
     "text": [
      "100%|██████████| 127/127 [01:26<00:00,  1.47it/s]\n",
      "100%|██████████| 15/15 [00:08<00:00,  1.82it/s]\n",
      "/home/kevinluo/anaconda3/envs/yolov8/lib/python3.9/site-packages/sklearn/metrics/_classification.py:1344: UndefinedMetricWarning: Precision and F-score are ill-defined and being set to 0.0 in labels with no predicted samples. Use `zero_division` parameter to control this behavior.\n",
      "  _warn_prf(average, modifier, msg_start, len(result))\n",
      "/home/kevinluo/anaconda3/envs/yolov8/lib/python3.9/site-packages/sklearn/metrics/_classification.py:1344: UndefinedMetricWarning: Precision and F-score are ill-defined and being set to 0.0 in labels with no predicted samples. Use `zero_division` parameter to control this behavior.\n",
      "  _warn_prf(average, modifier, msg_start, len(result))\n",
      "/home/kevinluo/anaconda3/envs/yolov8/lib/python3.9/site-packages/sklearn/metrics/_classification.py:1344: UndefinedMetricWarning: Precision and F-score are ill-defined and being set to 0.0 in labels with no predicted samples. Use `zero_division` parameter to control this behavior.\n",
      "  _warn_prf(average, modifier, msg_start, len(result))\n"
     ]
    },
    {
     "name": "stdout",
     "output_type": "stream",
     "text": [
      "Train Loss: 0.6955, Train Acc: 0.5059\n",
      "Val Loss: 0.7045, Val Acc: 0.4978\n",
      "              precision    recall  f1-score   support\n",
      "\n",
      "      benign       0.50      1.00      0.66       224\n",
      "   malignant       0.00      0.00      0.00       226\n",
      "\n",
      "    accuracy                           0.50       450\n",
      "   macro avg       0.25      0.50      0.33       450\n",
      "weighted avg       0.25      0.50      0.33       450\n",
      "\n",
      "Epoch 12\n"
     ]
    },
    {
     "name": "stderr",
     "output_type": "stream",
     "text": [
      "100%|██████████| 127/127 [01:26<00:00,  1.46it/s]\n",
      "100%|██████████| 15/15 [00:08<00:00,  1.81it/s]\n",
      "/home/kevinluo/anaconda3/envs/yolov8/lib/python3.9/site-packages/sklearn/metrics/_classification.py:1344: UndefinedMetricWarning: Precision and F-score are ill-defined and being set to 0.0 in labels with no predicted samples. Use `zero_division` parameter to control this behavior.\n",
      "  _warn_prf(average, modifier, msg_start, len(result))\n",
      "/home/kevinluo/anaconda3/envs/yolov8/lib/python3.9/site-packages/sklearn/metrics/_classification.py:1344: UndefinedMetricWarning: Precision and F-score are ill-defined and being set to 0.0 in labels with no predicted samples. Use `zero_division` parameter to control this behavior.\n",
      "  _warn_prf(average, modifier, msg_start, len(result))\n",
      "/home/kevinluo/anaconda3/envs/yolov8/lib/python3.9/site-packages/sklearn/metrics/_classification.py:1344: UndefinedMetricWarning: Precision and F-score are ill-defined and being set to 0.0 in labels with no predicted samples. Use `zero_division` parameter to control this behavior.\n",
      "  _warn_prf(average, modifier, msg_start, len(result))\n"
     ]
    },
    {
     "name": "stdout",
     "output_type": "stream",
     "text": [
      "Train Loss: 0.6977, Train Acc: 0.4926\n",
      "Val Loss: 0.6967, Val Acc: 0.5022\n",
      "              precision    recall  f1-score   support\n",
      "\n",
      "      benign       0.00      0.00      0.00       224\n",
      "   malignant       0.50      1.00      0.67       226\n",
      "\n",
      "    accuracy                           0.50       450\n",
      "   macro avg       0.25      0.50      0.33       450\n",
      "weighted avg       0.25      0.50      0.34       450\n",
      "\n",
      "Epoch 13\n"
     ]
    },
    {
     "name": "stderr",
     "output_type": "stream",
     "text": [
      "100%|██████████| 127/127 [01:26<00:00,  1.46it/s]\n",
      "100%|██████████| 15/15 [00:08<00:00,  1.81it/s]\n",
      "/home/kevinluo/anaconda3/envs/yolov8/lib/python3.9/site-packages/sklearn/metrics/_classification.py:1344: UndefinedMetricWarning: Precision and F-score are ill-defined and being set to 0.0 in labels with no predicted samples. Use `zero_division` parameter to control this behavior.\n",
      "  _warn_prf(average, modifier, msg_start, len(result))\n",
      "/home/kevinluo/anaconda3/envs/yolov8/lib/python3.9/site-packages/sklearn/metrics/_classification.py:1344: UndefinedMetricWarning: Precision and F-score are ill-defined and being set to 0.0 in labels with no predicted samples. Use `zero_division` parameter to control this behavior.\n",
      "  _warn_prf(average, modifier, msg_start, len(result))\n",
      "/home/kevinluo/anaconda3/envs/yolov8/lib/python3.9/site-packages/sklearn/metrics/_classification.py:1344: UndefinedMetricWarning: Precision and F-score are ill-defined and being set to 0.0 in labels with no predicted samples. Use `zero_division` parameter to control this behavior.\n",
      "  _warn_prf(average, modifier, msg_start, len(result))\n"
     ]
    },
    {
     "name": "stdout",
     "output_type": "stream",
     "text": [
      "Train Loss: 0.6951, Train Acc: 0.5123\n",
      "Val Loss: 0.6936, Val Acc: 0.5022\n",
      "              precision    recall  f1-score   support\n",
      "\n",
      "      benign       0.00      0.00      0.00       224\n",
      "   malignant       0.50      1.00      0.67       226\n",
      "\n",
      "    accuracy                           0.50       450\n",
      "   macro avg       0.25      0.50      0.33       450\n",
      "weighted avg       0.25      0.50      0.34       450\n",
      "\n",
      "Epoch 14\n"
     ]
    },
    {
     "name": "stderr",
     "output_type": "stream",
     "text": [
      "100%|██████████| 127/127 [01:26<00:00,  1.47it/s]\n",
      "100%|██████████| 15/15 [00:08<00:00,  1.83it/s]\n",
      "/home/kevinluo/anaconda3/envs/yolov8/lib/python3.9/site-packages/sklearn/metrics/_classification.py:1344: UndefinedMetricWarning: Precision and F-score are ill-defined and being set to 0.0 in labels with no predicted samples. Use `zero_division` parameter to control this behavior.\n",
      "  _warn_prf(average, modifier, msg_start, len(result))\n",
      "/home/kevinluo/anaconda3/envs/yolov8/lib/python3.9/site-packages/sklearn/metrics/_classification.py:1344: UndefinedMetricWarning: Precision and F-score are ill-defined and being set to 0.0 in labels with no predicted samples. Use `zero_division` parameter to control this behavior.\n",
      "  _warn_prf(average, modifier, msg_start, len(result))\n",
      "/home/kevinluo/anaconda3/envs/yolov8/lib/python3.9/site-packages/sklearn/metrics/_classification.py:1344: UndefinedMetricWarning: Precision and F-score are ill-defined and being set to 0.0 in labels with no predicted samples. Use `zero_division` parameter to control this behavior.\n",
      "  _warn_prf(average, modifier, msg_start, len(result))\n"
     ]
    },
    {
     "name": "stdout",
     "output_type": "stream",
     "text": [
      "Train Loss: 0.6950, Train Acc: 0.4941\n",
      "Val Loss: 0.6933, Val Acc: 0.4978\n",
      "              precision    recall  f1-score   support\n",
      "\n",
      "      benign       0.50      1.00      0.66       224\n",
      "   malignant       0.00      0.00      0.00       226\n",
      "\n",
      "    accuracy                           0.50       450\n",
      "   macro avg       0.25      0.50      0.33       450\n",
      "weighted avg       0.25      0.50      0.33       450\n",
      "\n",
      "Epoch 15\n"
     ]
    },
    {
     "name": "stderr",
     "output_type": "stream",
     "text": [
      "100%|██████████| 127/127 [01:26<00:00,  1.47it/s]\n",
      "100%|██████████| 15/15 [00:08<00:00,  1.83it/s]\n",
      "/home/kevinluo/anaconda3/envs/yolov8/lib/python3.9/site-packages/sklearn/metrics/_classification.py:1344: UndefinedMetricWarning: Precision and F-score are ill-defined and being set to 0.0 in labels with no predicted samples. Use `zero_division` parameter to control this behavior.\n",
      "  _warn_prf(average, modifier, msg_start, len(result))\n",
      "/home/kevinluo/anaconda3/envs/yolov8/lib/python3.9/site-packages/sklearn/metrics/_classification.py:1344: UndefinedMetricWarning: Precision and F-score are ill-defined and being set to 0.0 in labels with no predicted samples. Use `zero_division` parameter to control this behavior.\n",
      "  _warn_prf(average, modifier, msg_start, len(result))\n",
      "/home/kevinluo/anaconda3/envs/yolov8/lib/python3.9/site-packages/sklearn/metrics/_classification.py:1344: UndefinedMetricWarning: Precision and F-score are ill-defined and being set to 0.0 in labels with no predicted samples. Use `zero_division` parameter to control this behavior.\n",
      "  _warn_prf(average, modifier, msg_start, len(result))\n"
     ]
    },
    {
     "name": "stdout",
     "output_type": "stream",
     "text": [
      "Train Loss: 0.6947, Train Acc: 0.4965\n",
      "Val Loss: 0.6932, Val Acc: 0.5022\n",
      "              precision    recall  f1-score   support\n",
      "\n",
      "      benign       0.00      0.00      0.00       224\n",
      "   malignant       0.50      1.00      0.67       226\n",
      "\n",
      "    accuracy                           0.50       450\n",
      "   macro avg       0.25      0.50      0.33       450\n",
      "weighted avg       0.25      0.50      0.34       450\n",
      "\n",
      "Epoch 16\n"
     ]
    },
    {
     "name": "stderr",
     "output_type": "stream",
     "text": [
      "100%|██████████| 127/127 [01:26<00:00,  1.47it/s]\n",
      "100%|██████████| 15/15 [00:08<00:00,  1.81it/s]\n",
      "/home/kevinluo/anaconda3/envs/yolov8/lib/python3.9/site-packages/sklearn/metrics/_classification.py:1344: UndefinedMetricWarning: Precision and F-score are ill-defined and being set to 0.0 in labels with no predicted samples. Use `zero_division` parameter to control this behavior.\n",
      "  _warn_prf(average, modifier, msg_start, len(result))\n",
      "/home/kevinluo/anaconda3/envs/yolov8/lib/python3.9/site-packages/sklearn/metrics/_classification.py:1344: UndefinedMetricWarning: Precision and F-score are ill-defined and being set to 0.0 in labels with no predicted samples. Use `zero_division` parameter to control this behavior.\n",
      "  _warn_prf(average, modifier, msg_start, len(result))\n",
      "/home/kevinluo/anaconda3/envs/yolov8/lib/python3.9/site-packages/sklearn/metrics/_classification.py:1344: UndefinedMetricWarning: Precision and F-score are ill-defined and being set to 0.0 in labels with no predicted samples. Use `zero_division` parameter to control this behavior.\n",
      "  _warn_prf(average, modifier, msg_start, len(result))\n"
     ]
    },
    {
     "name": "stdout",
     "output_type": "stream",
     "text": [
      "Train Loss: 0.6953, Train Acc: 0.5025\n",
      "Val Loss: 0.6984, Val Acc: 0.4978\n",
      "              precision    recall  f1-score   support\n",
      "\n",
      "      benign       0.50      1.00      0.66       224\n",
      "   malignant       0.00      0.00      0.00       226\n",
      "\n",
      "    accuracy                           0.50       450\n",
      "   macro avg       0.25      0.50      0.33       450\n",
      "weighted avg       0.25      0.50      0.33       450\n",
      "\n",
      "Epoch 17\n"
     ]
    },
    {
     "name": "stderr",
     "output_type": "stream",
     "text": [
      "100%|██████████| 127/127 [01:26<00:00,  1.47it/s]\n",
      "100%|██████████| 15/15 [00:08<00:00,  1.83it/s]\n",
      "/home/kevinluo/anaconda3/envs/yolov8/lib/python3.9/site-packages/sklearn/metrics/_classification.py:1344: UndefinedMetricWarning: Precision and F-score are ill-defined and being set to 0.0 in labels with no predicted samples. Use `zero_division` parameter to control this behavior.\n",
      "  _warn_prf(average, modifier, msg_start, len(result))\n",
      "/home/kevinluo/anaconda3/envs/yolov8/lib/python3.9/site-packages/sklearn/metrics/_classification.py:1344: UndefinedMetricWarning: Precision and F-score are ill-defined and being set to 0.0 in labels with no predicted samples. Use `zero_division` parameter to control this behavior.\n",
      "  _warn_prf(average, modifier, msg_start, len(result))\n",
      "/home/kevinluo/anaconda3/envs/yolov8/lib/python3.9/site-packages/sklearn/metrics/_classification.py:1344: UndefinedMetricWarning: Precision and F-score are ill-defined and being set to 0.0 in labels with no predicted samples. Use `zero_division` parameter to control this behavior.\n",
      "  _warn_prf(average, modifier, msg_start, len(result))\n"
     ]
    },
    {
     "name": "stdout",
     "output_type": "stream",
     "text": [
      "Train Loss: 0.6959, Train Acc: 0.4808\n",
      "Val Loss: 0.6932, Val Acc: 0.4978\n",
      "              precision    recall  f1-score   support\n",
      "\n",
      "      benign       0.50      1.00      0.66       224\n",
      "   malignant       0.00      0.00      0.00       226\n",
      "\n",
      "    accuracy                           0.50       450\n",
      "   macro avg       0.25      0.50      0.33       450\n",
      "weighted avg       0.25      0.50      0.33       450\n",
      "\n",
      "Epoch 18\n"
     ]
    },
    {
     "name": "stderr",
     "output_type": "stream",
     "text": [
      "100%|██████████| 127/127 [01:26<00:00,  1.47it/s]\n",
      "100%|██████████| 15/15 [00:08<00:00,  1.82it/s]\n",
      "/home/kevinluo/anaconda3/envs/yolov8/lib/python3.9/site-packages/sklearn/metrics/_classification.py:1344: UndefinedMetricWarning: Precision and F-score are ill-defined and being set to 0.0 in labels with no predicted samples. Use `zero_division` parameter to control this behavior.\n",
      "  _warn_prf(average, modifier, msg_start, len(result))\n",
      "/home/kevinluo/anaconda3/envs/yolov8/lib/python3.9/site-packages/sklearn/metrics/_classification.py:1344: UndefinedMetricWarning: Precision and F-score are ill-defined and being set to 0.0 in labels with no predicted samples. Use `zero_division` parameter to control this behavior.\n",
      "  _warn_prf(average, modifier, msg_start, len(result))\n",
      "/home/kevinluo/anaconda3/envs/yolov8/lib/python3.9/site-packages/sklearn/metrics/_classification.py:1344: UndefinedMetricWarning: Precision and F-score are ill-defined and being set to 0.0 in labels with no predicted samples. Use `zero_division` parameter to control this behavior.\n",
      "  _warn_prf(average, modifier, msg_start, len(result))\n"
     ]
    },
    {
     "name": "stdout",
     "output_type": "stream",
     "text": [
      "Train Loss: 0.6943, Train Acc: 0.4956\n",
      "Val Loss: 0.6931, Val Acc: 0.5022\n",
      "              precision    recall  f1-score   support\n",
      "\n",
      "      benign       0.00      0.00      0.00       224\n",
      "   malignant       0.50      1.00      0.67       226\n",
      "\n",
      "    accuracy                           0.50       450\n",
      "   macro avg       0.25      0.50      0.33       450\n",
      "weighted avg       0.25      0.50      0.34       450\n",
      "\n",
      "Epoch 19\n"
     ]
    },
    {
     "name": "stderr",
     "output_type": "stream",
     "text": [
      "100%|██████████| 127/127 [01:26<00:00,  1.47it/s]\n",
      "100%|██████████| 15/15 [00:08<00:00,  1.79it/s]\n",
      "/home/kevinluo/anaconda3/envs/yolov8/lib/python3.9/site-packages/sklearn/metrics/_classification.py:1344: UndefinedMetricWarning: Precision and F-score are ill-defined and being set to 0.0 in labels with no predicted samples. Use `zero_division` parameter to control this behavior.\n",
      "  _warn_prf(average, modifier, msg_start, len(result))\n",
      "/home/kevinluo/anaconda3/envs/yolov8/lib/python3.9/site-packages/sklearn/metrics/_classification.py:1344: UndefinedMetricWarning: Precision and F-score are ill-defined and being set to 0.0 in labels with no predicted samples. Use `zero_division` parameter to control this behavior.\n",
      "  _warn_prf(average, modifier, msg_start, len(result))\n",
      "/home/kevinluo/anaconda3/envs/yolov8/lib/python3.9/site-packages/sklearn/metrics/_classification.py:1344: UndefinedMetricWarning: Precision and F-score are ill-defined and being set to 0.0 in labels with no predicted samples. Use `zero_division` parameter to control this behavior.\n",
      "  _warn_prf(average, modifier, msg_start, len(result))\n"
     ]
    },
    {
     "name": "stdout",
     "output_type": "stream",
     "text": [
      "Train Loss: 0.6943, Train Acc: 0.4840\n",
      "Val Loss: 0.6998, Val Acc: 0.4978\n",
      "              precision    recall  f1-score   support\n",
      "\n",
      "      benign       0.50      1.00      0.66       224\n",
      "   malignant       0.00      0.00      0.00       226\n",
      "\n",
      "    accuracy                           0.50       450\n",
      "   macro avg       0.25      0.50      0.33       450\n",
      "weighted avg       0.25      0.50      0.33       450\n",
      "\n",
      "Epoch 20\n"
     ]
    },
    {
     "name": "stderr",
     "output_type": "stream",
     "text": [
      "100%|██████████| 127/127 [01:27<00:00,  1.45it/s]\n",
      "100%|██████████| 15/15 [00:08<00:00,  1.79it/s]\n",
      "/home/kevinluo/anaconda3/envs/yolov8/lib/python3.9/site-packages/sklearn/metrics/_classification.py:1344: UndefinedMetricWarning: Precision and F-score are ill-defined and being set to 0.0 in labels with no predicted samples. Use `zero_division` parameter to control this behavior.\n",
      "  _warn_prf(average, modifier, msg_start, len(result))\n",
      "/home/kevinluo/anaconda3/envs/yolov8/lib/python3.9/site-packages/sklearn/metrics/_classification.py:1344: UndefinedMetricWarning: Precision and F-score are ill-defined and being set to 0.0 in labels with no predicted samples. Use `zero_division` parameter to control this behavior.\n",
      "  _warn_prf(average, modifier, msg_start, len(result))\n",
      "/home/kevinluo/anaconda3/envs/yolov8/lib/python3.9/site-packages/sklearn/metrics/_classification.py:1344: UndefinedMetricWarning: Precision and F-score are ill-defined and being set to 0.0 in labels with no predicted samples. Use `zero_division` parameter to control this behavior.\n",
      "  _warn_prf(average, modifier, msg_start, len(result))\n"
     ]
    },
    {
     "name": "stdout",
     "output_type": "stream",
     "text": [
      "Train Loss: 0.6942, Train Acc: 0.4961\n",
      "Val Loss: 0.6932, Val Acc: 0.5022\n",
      "              precision    recall  f1-score   support\n",
      "\n",
      "      benign       0.00      0.00      0.00       224\n",
      "   malignant       0.50      1.00      0.67       226\n",
      "\n",
      "    accuracy                           0.50       450\n",
      "   macro avg       0.25      0.50      0.33       450\n",
      "weighted avg       0.25      0.50      0.34       450\n",
      "\n",
      "Epoch 21\n"
     ]
    },
    {
     "name": "stderr",
     "output_type": "stream",
     "text": [
      "100%|██████████| 127/127 [01:27<00:00,  1.45it/s]\n",
      "100%|██████████| 15/15 [00:08<00:00,  1.78it/s]\n",
      "/home/kevinluo/anaconda3/envs/yolov8/lib/python3.9/site-packages/sklearn/metrics/_classification.py:1344: UndefinedMetricWarning: Precision and F-score are ill-defined and being set to 0.0 in labels with no predicted samples. Use `zero_division` parameter to control this behavior.\n",
      "  _warn_prf(average, modifier, msg_start, len(result))\n",
      "/home/kevinluo/anaconda3/envs/yolov8/lib/python3.9/site-packages/sklearn/metrics/_classification.py:1344: UndefinedMetricWarning: Precision and F-score are ill-defined and being set to 0.0 in labels with no predicted samples. Use `zero_division` parameter to control this behavior.\n",
      "  _warn_prf(average, modifier, msg_start, len(result))\n",
      "/home/kevinluo/anaconda3/envs/yolov8/lib/python3.9/site-packages/sklearn/metrics/_classification.py:1344: UndefinedMetricWarning: Precision and F-score are ill-defined and being set to 0.0 in labels with no predicted samples. Use `zero_division` parameter to control this behavior.\n",
      "  _warn_prf(average, modifier, msg_start, len(result))\n"
     ]
    },
    {
     "name": "stdout",
     "output_type": "stream",
     "text": [
      "Train Loss: 0.6946, Train Acc: 0.4948\n",
      "Val Loss: 0.6951, Val Acc: 0.5022\n",
      "              precision    recall  f1-score   support\n",
      "\n",
      "      benign       0.00      0.00      0.00       224\n",
      "   malignant       0.50      1.00      0.67       226\n",
      "\n",
      "    accuracy                           0.50       450\n",
      "   macro avg       0.25      0.50      0.33       450\n",
      "weighted avg       0.25      0.50      0.34       450\n",
      "\n",
      "Epoch 22\n"
     ]
    },
    {
     "name": "stderr",
     "output_type": "stream",
     "text": [
      "100%|██████████| 127/127 [01:27<00:00,  1.45it/s]\n",
      "100%|██████████| 15/15 [00:08<00:00,  1.80it/s]\n",
      "/home/kevinluo/anaconda3/envs/yolov8/lib/python3.9/site-packages/sklearn/metrics/_classification.py:1344: UndefinedMetricWarning: Precision and F-score are ill-defined and being set to 0.0 in labels with no predicted samples. Use `zero_division` parameter to control this behavior.\n",
      "  _warn_prf(average, modifier, msg_start, len(result))\n",
      "/home/kevinluo/anaconda3/envs/yolov8/lib/python3.9/site-packages/sklearn/metrics/_classification.py:1344: UndefinedMetricWarning: Precision and F-score are ill-defined and being set to 0.0 in labels with no predicted samples. Use `zero_division` parameter to control this behavior.\n",
      "  _warn_prf(average, modifier, msg_start, len(result))\n",
      "/home/kevinluo/anaconda3/envs/yolov8/lib/python3.9/site-packages/sklearn/metrics/_classification.py:1344: UndefinedMetricWarning: Precision and F-score are ill-defined and being set to 0.0 in labels with no predicted samples. Use `zero_division` parameter to control this behavior.\n",
      "  _warn_prf(average, modifier, msg_start, len(result))\n"
     ]
    },
    {
     "name": "stdout",
     "output_type": "stream",
     "text": [
      "Train Loss: 0.6955, Train Acc: 0.5059\n",
      "Val Loss: 0.6960, Val Acc: 0.4978\n",
      "              precision    recall  f1-score   support\n",
      "\n",
      "      benign       0.50      1.00      0.66       224\n",
      "   malignant       0.00      0.00      0.00       226\n",
      "\n",
      "    accuracy                           0.50       450\n",
      "   macro avg       0.25      0.50      0.33       450\n",
      "weighted avg       0.25      0.50      0.33       450\n",
      "\n",
      "Epoch 23\n"
     ]
    },
    {
     "name": "stderr",
     "output_type": "stream",
     "text": [
      "100%|██████████| 127/127 [01:27<00:00,  1.45it/s]\n",
      "100%|██████████| 15/15 [00:08<00:00,  1.78it/s]\n",
      "/home/kevinluo/anaconda3/envs/yolov8/lib/python3.9/site-packages/sklearn/metrics/_classification.py:1344: UndefinedMetricWarning: Precision and F-score are ill-defined and being set to 0.0 in labels with no predicted samples. Use `zero_division` parameter to control this behavior.\n",
      "  _warn_prf(average, modifier, msg_start, len(result))\n",
      "/home/kevinluo/anaconda3/envs/yolov8/lib/python3.9/site-packages/sklearn/metrics/_classification.py:1344: UndefinedMetricWarning: Precision and F-score are ill-defined and being set to 0.0 in labels with no predicted samples. Use `zero_division` parameter to control this behavior.\n",
      "  _warn_prf(average, modifier, msg_start, len(result))\n",
      "/home/kevinluo/anaconda3/envs/yolov8/lib/python3.9/site-packages/sklearn/metrics/_classification.py:1344: UndefinedMetricWarning: Precision and F-score are ill-defined and being set to 0.0 in labels with no predicted samples. Use `zero_division` parameter to control this behavior.\n",
      "  _warn_prf(average, modifier, msg_start, len(result))\n"
     ]
    },
    {
     "name": "stdout",
     "output_type": "stream",
     "text": [
      "Train Loss: 0.6943, Train Acc: 0.4951\n",
      "Val Loss: 0.6934, Val Acc: 0.5022\n",
      "              precision    recall  f1-score   support\n",
      "\n",
      "      benign       0.00      0.00      0.00       224\n",
      "   malignant       0.50      1.00      0.67       226\n",
      "\n",
      "    accuracy                           0.50       450\n",
      "   macro avg       0.25      0.50      0.33       450\n",
      "weighted avg       0.25      0.50      0.34       450\n",
      "\n",
      "Epoch 24\n"
     ]
    },
    {
     "name": "stderr",
     "output_type": "stream",
     "text": [
      "100%|██████████| 127/127 [01:28<00:00,  1.44it/s]\n",
      "100%|██████████| 15/15 [00:08<00:00,  1.77it/s]\n",
      "/home/kevinluo/anaconda3/envs/yolov8/lib/python3.9/site-packages/sklearn/metrics/_classification.py:1344: UndefinedMetricWarning: Precision and F-score are ill-defined and being set to 0.0 in labels with no predicted samples. Use `zero_division` parameter to control this behavior.\n",
      "  _warn_prf(average, modifier, msg_start, len(result))\n",
      "/home/kevinluo/anaconda3/envs/yolov8/lib/python3.9/site-packages/sklearn/metrics/_classification.py:1344: UndefinedMetricWarning: Precision and F-score are ill-defined and being set to 0.0 in labels with no predicted samples. Use `zero_division` parameter to control this behavior.\n",
      "  _warn_prf(average, modifier, msg_start, len(result))\n",
      "/home/kevinluo/anaconda3/envs/yolov8/lib/python3.9/site-packages/sklearn/metrics/_classification.py:1344: UndefinedMetricWarning: Precision and F-score are ill-defined and being set to 0.0 in labels with no predicted samples. Use `zero_division` parameter to control this behavior.\n",
      "  _warn_prf(average, modifier, msg_start, len(result))\n"
     ]
    },
    {
     "name": "stdout",
     "output_type": "stream",
     "text": [
      "Train Loss: 0.6956, Train Acc: 0.5062\n",
      "Val Loss: 0.6933, Val Acc: 0.4978\n",
      "              precision    recall  f1-score   support\n",
      "\n",
      "      benign       0.50      1.00      0.66       224\n",
      "   malignant       0.00      0.00      0.00       226\n",
      "\n",
      "    accuracy                           0.50       450\n",
      "   macro avg       0.25      0.50      0.33       450\n",
      "weighted avg       0.25      0.50      0.33       450\n",
      "\n",
      "Epoch 25\n"
     ]
    },
    {
     "name": "stderr",
     "output_type": "stream",
     "text": [
      "100%|██████████| 127/127 [01:28<00:00,  1.44it/s]\n",
      "100%|██████████| 15/15 [00:08<00:00,  1.82it/s]\n",
      "/home/kevinluo/anaconda3/envs/yolov8/lib/python3.9/site-packages/sklearn/metrics/_classification.py:1344: UndefinedMetricWarning: Precision and F-score are ill-defined and being set to 0.0 in labels with no predicted samples. Use `zero_division` parameter to control this behavior.\n",
      "  _warn_prf(average, modifier, msg_start, len(result))\n",
      "/home/kevinluo/anaconda3/envs/yolov8/lib/python3.9/site-packages/sklearn/metrics/_classification.py:1344: UndefinedMetricWarning: Precision and F-score are ill-defined and being set to 0.0 in labels with no predicted samples. Use `zero_division` parameter to control this behavior.\n",
      "  _warn_prf(average, modifier, msg_start, len(result))\n",
      "/home/kevinluo/anaconda3/envs/yolov8/lib/python3.9/site-packages/sklearn/metrics/_classification.py:1344: UndefinedMetricWarning: Precision and F-score are ill-defined and being set to 0.0 in labels with no predicted samples. Use `zero_division` parameter to control this behavior.\n",
      "  _warn_prf(average, modifier, msg_start, len(result))\n"
     ]
    },
    {
     "name": "stdout",
     "output_type": "stream",
     "text": [
      "Train Loss: 0.6963, Train Acc: 0.4872\n",
      "Val Loss: 0.6939, Val Acc: 0.4978\n",
      "              precision    recall  f1-score   support\n",
      "\n",
      "      benign       0.50      1.00      0.66       224\n",
      "   malignant       0.00      0.00      0.00       226\n",
      "\n",
      "    accuracy                           0.50       450\n",
      "   macro avg       0.25      0.50      0.33       450\n",
      "weighted avg       0.25      0.50      0.33       450\n",
      "\n",
      "Fold 6\n",
      "Epoch 1\n"
     ]
    },
    {
     "name": "stderr",
     "output_type": "stream",
     "text": [
      "100%|██████████| 127/127 [01:26<00:00,  1.47it/s]\n",
      "100%|██████████| 15/15 [00:08<00:00,  1.80it/s]\n",
      "/home/kevinluo/anaconda3/envs/yolov8/lib/python3.9/site-packages/sklearn/metrics/_classification.py:1344: UndefinedMetricWarning: Precision and F-score are ill-defined and being set to 0.0 in labels with no predicted samples. Use `zero_division` parameter to control this behavior.\n",
      "  _warn_prf(average, modifier, msg_start, len(result))\n",
      "/home/kevinluo/anaconda3/envs/yolov8/lib/python3.9/site-packages/sklearn/metrics/_classification.py:1344: UndefinedMetricWarning: Precision and F-score are ill-defined and being set to 0.0 in labels with no predicted samples. Use `zero_division` parameter to control this behavior.\n",
      "  _warn_prf(average, modifier, msg_start, len(result))\n",
      "/home/kevinluo/anaconda3/envs/yolov8/lib/python3.9/site-packages/sklearn/metrics/_classification.py:1344: UndefinedMetricWarning: Precision and F-score are ill-defined and being set to 0.0 in labels with no predicted samples. Use `zero_division` parameter to control this behavior.\n",
      "  _warn_prf(average, modifier, msg_start, len(result))\n"
     ]
    },
    {
     "name": "stdout",
     "output_type": "stream",
     "text": [
      "Train Loss: 0.7933, Train Acc: 0.5175\n",
      "Val Loss: 0.7039, Val Acc: 0.4978\n",
      "              precision    recall  f1-score   support\n",
      "\n",
      "      benign       0.50      1.00      0.66       224\n",
      "   malignant       0.00      0.00      0.00       226\n",
      "\n",
      "    accuracy                           0.50       450\n",
      "   macro avg       0.25      0.50      0.33       450\n",
      "weighted avg       0.25      0.50      0.33       450\n",
      "\n",
      "Epoch 2\n"
     ]
    },
    {
     "name": "stderr",
     "output_type": "stream",
     "text": [
      "100%|██████████| 127/127 [01:26<00:00,  1.47it/s]\n",
      "100%|██████████| 15/15 [00:08<00:00,  1.81it/s]\n",
      "/home/kevinluo/anaconda3/envs/yolov8/lib/python3.9/site-packages/sklearn/metrics/_classification.py:1344: UndefinedMetricWarning: Precision and F-score are ill-defined and being set to 0.0 in labels with no predicted samples. Use `zero_division` parameter to control this behavior.\n",
      "  _warn_prf(average, modifier, msg_start, len(result))\n",
      "/home/kevinluo/anaconda3/envs/yolov8/lib/python3.9/site-packages/sklearn/metrics/_classification.py:1344: UndefinedMetricWarning: Precision and F-score are ill-defined and being set to 0.0 in labels with no predicted samples. Use `zero_division` parameter to control this behavior.\n",
      "  _warn_prf(average, modifier, msg_start, len(result))\n",
      "/home/kevinluo/anaconda3/envs/yolov8/lib/python3.9/site-packages/sklearn/metrics/_classification.py:1344: UndefinedMetricWarning: Precision and F-score are ill-defined and being set to 0.0 in labels with no predicted samples. Use `zero_division` parameter to control this behavior.\n",
      "  _warn_prf(average, modifier, msg_start, len(result))\n"
     ]
    },
    {
     "name": "stdout",
     "output_type": "stream",
     "text": [
      "Train Loss: 0.7148, Train Acc: 0.4904\n",
      "Val Loss: 0.6921, Val Acc: 0.5022\n",
      "              precision    recall  f1-score   support\n",
      "\n",
      "      benign       0.00      0.00      0.00       224\n",
      "   malignant       0.50      1.00      0.67       226\n",
      "\n",
      "    accuracy                           0.50       450\n",
      "   macro avg       0.25      0.50      0.33       450\n",
      "weighted avg       0.25      0.50      0.34       450\n",
      "\n",
      "Epoch 3\n"
     ]
    },
    {
     "name": "stderr",
     "output_type": "stream",
     "text": [
      "100%|██████████| 127/127 [01:24<00:00,  1.50it/s]\n",
      "100%|██████████| 15/15 [00:08<00:00,  1.72it/s]\n"
     ]
    },
    {
     "name": "stdout",
     "output_type": "stream",
     "text": [
      "Train Loss: 0.6929, Train Acc: 0.5183\n",
      "Val Loss: 0.6904, Val Acc: 0.5822\n",
      "              precision    recall  f1-score   support\n",
      "\n",
      "      benign       0.60      0.50      0.54       224\n",
      "   malignant       0.57      0.66      0.61       226\n",
      "\n",
      "    accuracy                           0.58       450\n",
      "   macro avg       0.58      0.58      0.58       450\n",
      "weighted avg       0.58      0.58      0.58       450\n",
      "\n",
      "Epoch 4\n"
     ]
    },
    {
     "name": "stderr",
     "output_type": "stream",
     "text": [
      "100%|██████████| 127/127 [01:23<00:00,  1.52it/s]\n",
      "100%|██████████| 15/15 [00:07<00:00,  1.92it/s]\n"
     ]
    },
    {
     "name": "stdout",
     "output_type": "stream",
     "text": [
      "Train Loss: 0.6765, Train Acc: 0.5807\n",
      "Val Loss: 0.6831, Val Acc: 0.5867\n",
      "              precision    recall  f1-score   support\n",
      "\n",
      "      benign       0.60      0.51      0.55       224\n",
      "   malignant       0.58      0.66      0.62       226\n",
      "\n",
      "    accuracy                           0.59       450\n",
      "   macro avg       0.59      0.59      0.58       450\n",
      "weighted avg       0.59      0.59      0.58       450\n",
      "\n",
      "Epoch 5\n"
     ]
    },
    {
     "name": "stderr",
     "output_type": "stream",
     "text": [
      "100%|██████████| 127/127 [01:22<00:00,  1.55it/s]\n",
      "100%|██████████| 15/15 [00:07<00:00,  1.92it/s]\n"
     ]
    },
    {
     "name": "stdout",
     "output_type": "stream",
     "text": [
      "Train Loss: 0.6741, Train Acc: 0.5859\n",
      "Val Loss: 0.6789, Val Acc: 0.5711\n",
      "              precision    recall  f1-score   support\n",
      "\n",
      "      benign       0.56      0.60      0.58       224\n",
      "   malignant       0.58      0.54      0.56       226\n",
      "\n",
      "    accuracy                           0.57       450\n",
      "   macro avg       0.57      0.57      0.57       450\n",
      "weighted avg       0.57      0.57      0.57       450\n",
      "\n",
      "Epoch 6\n"
     ]
    },
    {
     "name": "stderr",
     "output_type": "stream",
     "text": [
      "100%|██████████| 127/127 [01:22<00:00,  1.55it/s]\n",
      "100%|██████████| 15/15 [00:07<00:00,  1.92it/s]\n",
      "/home/kevinluo/anaconda3/envs/yolov8/lib/python3.9/site-packages/sklearn/metrics/_classification.py:1344: UndefinedMetricWarning: Precision and F-score are ill-defined and being set to 0.0 in labels with no predicted samples. Use `zero_division` parameter to control this behavior.\n",
      "  _warn_prf(average, modifier, msg_start, len(result))\n",
      "/home/kevinluo/anaconda3/envs/yolov8/lib/python3.9/site-packages/sklearn/metrics/_classification.py:1344: UndefinedMetricWarning: Precision and F-score are ill-defined and being set to 0.0 in labels with no predicted samples. Use `zero_division` parameter to control this behavior.\n",
      "  _warn_prf(average, modifier, msg_start, len(result))\n",
      "/home/kevinluo/anaconda3/envs/yolov8/lib/python3.9/site-packages/sklearn/metrics/_classification.py:1344: UndefinedMetricWarning: Precision and F-score are ill-defined and being set to 0.0 in labels with no predicted samples. Use `zero_division` parameter to control this behavior.\n",
      "  _warn_prf(average, modifier, msg_start, len(result))\n"
     ]
    },
    {
     "name": "stdout",
     "output_type": "stream",
     "text": [
      "Train Loss: 0.6905, Train Acc: 0.5590\n",
      "Val Loss: 0.7037, Val Acc: 0.4978\n",
      "              precision    recall  f1-score   support\n",
      "\n",
      "      benign       0.50      1.00      0.66       224\n",
      "   malignant       0.00      0.00      0.00       226\n",
      "\n",
      "    accuracy                           0.50       450\n",
      "   macro avg       0.25      0.50      0.33       450\n",
      "weighted avg       0.25      0.50      0.33       450\n",
      "\n",
      "Epoch 7\n"
     ]
    },
    {
     "name": "stderr",
     "output_type": "stream",
     "text": [
      "100%|██████████| 127/127 [01:22<00:00,  1.55it/s]\n",
      "100%|██████████| 15/15 [00:07<00:00,  1.92it/s]\n",
      "/home/kevinluo/anaconda3/envs/yolov8/lib/python3.9/site-packages/sklearn/metrics/_classification.py:1344: UndefinedMetricWarning: Precision and F-score are ill-defined and being set to 0.0 in labels with no predicted samples. Use `zero_division` parameter to control this behavior.\n",
      "  _warn_prf(average, modifier, msg_start, len(result))\n",
      "/home/kevinluo/anaconda3/envs/yolov8/lib/python3.9/site-packages/sklearn/metrics/_classification.py:1344: UndefinedMetricWarning: Precision and F-score are ill-defined and being set to 0.0 in labels with no predicted samples. Use `zero_division` parameter to control this behavior.\n",
      "  _warn_prf(average, modifier, msg_start, len(result))\n",
      "/home/kevinluo/anaconda3/envs/yolov8/lib/python3.9/site-packages/sklearn/metrics/_classification.py:1344: UndefinedMetricWarning: Precision and F-score are ill-defined and being set to 0.0 in labels with no predicted samples. Use `zero_division` parameter to control this behavior.\n",
      "  _warn_prf(average, modifier, msg_start, len(result))\n"
     ]
    },
    {
     "name": "stdout",
     "output_type": "stream",
     "text": [
      "Train Loss: 0.6996, Train Acc: 0.5067\n",
      "Val Loss: 0.7035, Val Acc: 0.4978\n",
      "              precision    recall  f1-score   support\n",
      "\n",
      "      benign       0.50      1.00      0.66       224\n",
      "   malignant       0.00      0.00      0.00       226\n",
      "\n",
      "    accuracy                           0.50       450\n",
      "   macro avg       0.25      0.50      0.33       450\n",
      "weighted avg       0.25      0.50      0.33       450\n",
      "\n",
      "Epoch 8\n"
     ]
    },
    {
     "name": "stderr",
     "output_type": "stream",
     "text": [
      "100%|██████████| 127/127 [01:22<00:00,  1.55it/s]\n",
      "100%|██████████| 15/15 [00:07<00:00,  1.92it/s]\n",
      "/home/kevinluo/anaconda3/envs/yolov8/lib/python3.9/site-packages/sklearn/metrics/_classification.py:1344: UndefinedMetricWarning: Precision and F-score are ill-defined and being set to 0.0 in labels with no predicted samples. Use `zero_division` parameter to control this behavior.\n",
      "  _warn_prf(average, modifier, msg_start, len(result))\n",
      "/home/kevinluo/anaconda3/envs/yolov8/lib/python3.9/site-packages/sklearn/metrics/_classification.py:1344: UndefinedMetricWarning: Precision and F-score are ill-defined and being set to 0.0 in labels with no predicted samples. Use `zero_division` parameter to control this behavior.\n",
      "  _warn_prf(average, modifier, msg_start, len(result))\n",
      "/home/kevinluo/anaconda3/envs/yolov8/lib/python3.9/site-packages/sklearn/metrics/_classification.py:1344: UndefinedMetricWarning: Precision and F-score are ill-defined and being set to 0.0 in labels with no predicted samples. Use `zero_division` parameter to control this behavior.\n",
      "  _warn_prf(average, modifier, msg_start, len(result))\n"
     ]
    },
    {
     "name": "stdout",
     "output_type": "stream",
     "text": [
      "Train Loss: 0.6992, Train Acc: 0.4958\n",
      "Val Loss: 0.7014, Val Acc: 0.4978\n",
      "              precision    recall  f1-score   support\n",
      "\n",
      "      benign       0.50      1.00      0.66       224\n",
      "   malignant       0.00      0.00      0.00       226\n",
      "\n",
      "    accuracy                           0.50       450\n",
      "   macro avg       0.25      0.50      0.33       450\n",
      "weighted avg       0.25      0.50      0.33       450\n",
      "\n",
      "Epoch 9\n"
     ]
    },
    {
     "name": "stderr",
     "output_type": "stream",
     "text": [
      "100%|██████████| 127/127 [01:22<00:00,  1.54it/s]\n",
      "100%|██████████| 15/15 [00:07<00:00,  1.92it/s]\n",
      "/home/kevinluo/anaconda3/envs/yolov8/lib/python3.9/site-packages/sklearn/metrics/_classification.py:1344: UndefinedMetricWarning: Precision and F-score are ill-defined and being set to 0.0 in labels with no predicted samples. Use `zero_division` parameter to control this behavior.\n",
      "  _warn_prf(average, modifier, msg_start, len(result))\n",
      "/home/kevinluo/anaconda3/envs/yolov8/lib/python3.9/site-packages/sklearn/metrics/_classification.py:1344: UndefinedMetricWarning: Precision and F-score are ill-defined and being set to 0.0 in labels with no predicted samples. Use `zero_division` parameter to control this behavior.\n",
      "  _warn_prf(average, modifier, msg_start, len(result))\n",
      "/home/kevinluo/anaconda3/envs/yolov8/lib/python3.9/site-packages/sklearn/metrics/_classification.py:1344: UndefinedMetricWarning: Precision and F-score are ill-defined and being set to 0.0 in labels with no predicted samples. Use `zero_division` parameter to control this behavior.\n",
      "  _warn_prf(average, modifier, msg_start, len(result))\n"
     ]
    },
    {
     "name": "stdout",
     "output_type": "stream",
     "text": [
      "Train Loss: 0.7005, Train Acc: 0.5044\n",
      "Val Loss: 0.6942, Val Acc: 0.4978\n",
      "              precision    recall  f1-score   support\n",
      "\n",
      "      benign       0.50      1.00      0.66       224\n",
      "   malignant       0.00      0.00      0.00       226\n",
      "\n",
      "    accuracy                           0.50       450\n",
      "   macro avg       0.25      0.50      0.33       450\n",
      "weighted avg       0.25      0.50      0.33       450\n",
      "\n",
      "Epoch 10\n"
     ]
    },
    {
     "name": "stderr",
     "output_type": "stream",
     "text": [
      "100%|██████████| 127/127 [01:21<00:00,  1.55it/s]\n",
      "100%|██████████| 15/15 [00:07<00:00,  1.92it/s]\n",
      "/home/kevinluo/anaconda3/envs/yolov8/lib/python3.9/site-packages/sklearn/metrics/_classification.py:1344: UndefinedMetricWarning: Precision and F-score are ill-defined and being set to 0.0 in labels with no predicted samples. Use `zero_division` parameter to control this behavior.\n",
      "  _warn_prf(average, modifier, msg_start, len(result))\n",
      "/home/kevinluo/anaconda3/envs/yolov8/lib/python3.9/site-packages/sklearn/metrics/_classification.py:1344: UndefinedMetricWarning: Precision and F-score are ill-defined and being set to 0.0 in labels with no predicted samples. Use `zero_division` parameter to control this behavior.\n",
      "  _warn_prf(average, modifier, msg_start, len(result))\n",
      "/home/kevinluo/anaconda3/envs/yolov8/lib/python3.9/site-packages/sklearn/metrics/_classification.py:1344: UndefinedMetricWarning: Precision and F-score are ill-defined and being set to 0.0 in labels with no predicted samples. Use `zero_division` parameter to control this behavior.\n",
      "  _warn_prf(average, modifier, msg_start, len(result))\n"
     ]
    },
    {
     "name": "stdout",
     "output_type": "stream",
     "text": [
      "Train Loss: 0.6975, Train Acc: 0.4879\n",
      "Val Loss: 0.6943, Val Acc: 0.4978\n",
      "              precision    recall  f1-score   support\n",
      "\n",
      "      benign       0.50      1.00      0.66       224\n",
      "   malignant       0.00      0.00      0.00       226\n",
      "\n",
      "    accuracy                           0.50       450\n",
      "   macro avg       0.25      0.50      0.33       450\n",
      "weighted avg       0.25      0.50      0.33       450\n",
      "\n",
      "Epoch 11\n"
     ]
    },
    {
     "name": "stderr",
     "output_type": "stream",
     "text": [
      "100%|██████████| 127/127 [01:25<00:00,  1.48it/s]\n",
      "100%|██████████| 15/15 [00:07<00:00,  1.92it/s]\n",
      "/home/kevinluo/anaconda3/envs/yolov8/lib/python3.9/site-packages/sklearn/metrics/_classification.py:1344: UndefinedMetricWarning: Precision and F-score are ill-defined and being set to 0.0 in labels with no predicted samples. Use `zero_division` parameter to control this behavior.\n",
      "  _warn_prf(average, modifier, msg_start, len(result))\n",
      "/home/kevinluo/anaconda3/envs/yolov8/lib/python3.9/site-packages/sklearn/metrics/_classification.py:1344: UndefinedMetricWarning: Precision and F-score are ill-defined and being set to 0.0 in labels with no predicted samples. Use `zero_division` parameter to control this behavior.\n",
      "  _warn_prf(average, modifier, msg_start, len(result))\n",
      "/home/kevinluo/anaconda3/envs/yolov8/lib/python3.9/site-packages/sklearn/metrics/_classification.py:1344: UndefinedMetricWarning: Precision and F-score are ill-defined and being set to 0.0 in labels with no predicted samples. Use `zero_division` parameter to control this behavior.\n",
      "  _warn_prf(average, modifier, msg_start, len(result))\n"
     ]
    },
    {
     "name": "stdout",
     "output_type": "stream",
     "text": [
      "Train Loss: 0.6978, Train Acc: 0.4973\n",
      "Val Loss: 0.6950, Val Acc: 0.5022\n",
      "              precision    recall  f1-score   support\n",
      "\n",
      "      benign       0.00      0.00      0.00       224\n",
      "   malignant       0.50      1.00      0.67       226\n",
      "\n",
      "    accuracy                           0.50       450\n",
      "   macro avg       0.25      0.50      0.33       450\n",
      "weighted avg       0.25      0.50      0.34       450\n",
      "\n",
      "Epoch 12\n"
     ]
    },
    {
     "name": "stderr",
     "output_type": "stream",
     "text": [
      "100%|██████████| 127/127 [01:22<00:00,  1.55it/s]\n",
      "100%|██████████| 15/15 [00:07<00:00,  1.91it/s]\n",
      "/home/kevinluo/anaconda3/envs/yolov8/lib/python3.9/site-packages/sklearn/metrics/_classification.py:1344: UndefinedMetricWarning: Precision and F-score are ill-defined and being set to 0.0 in labels with no predicted samples. Use `zero_division` parameter to control this behavior.\n",
      "  _warn_prf(average, modifier, msg_start, len(result))\n",
      "/home/kevinluo/anaconda3/envs/yolov8/lib/python3.9/site-packages/sklearn/metrics/_classification.py:1344: UndefinedMetricWarning: Precision and F-score are ill-defined and being set to 0.0 in labels with no predicted samples. Use `zero_division` parameter to control this behavior.\n",
      "  _warn_prf(average, modifier, msg_start, len(result))\n",
      "/home/kevinluo/anaconda3/envs/yolov8/lib/python3.9/site-packages/sklearn/metrics/_classification.py:1344: UndefinedMetricWarning: Precision and F-score are ill-defined and being set to 0.0 in labels with no predicted samples. Use `zero_division` parameter to control this behavior.\n",
      "  _warn_prf(average, modifier, msg_start, len(result))\n"
     ]
    },
    {
     "name": "stdout",
     "output_type": "stream",
     "text": [
      "Train Loss: 0.6957, Train Acc: 0.5096\n",
      "Val Loss: 0.6951, Val Acc: 0.4978\n",
      "              precision    recall  f1-score   support\n",
      "\n",
      "      benign       0.50      1.00      0.66       224\n",
      "   malignant       0.00      0.00      0.00       226\n",
      "\n",
      "    accuracy                           0.50       450\n",
      "   macro avg       0.25      0.50      0.33       450\n",
      "weighted avg       0.25      0.50      0.33       450\n",
      "\n",
      "Epoch 13\n"
     ]
    },
    {
     "name": "stderr",
     "output_type": "stream",
     "text": [
      "100%|██████████| 127/127 [01:25<00:00,  1.48it/s]\n",
      "100%|██████████| 15/15 [00:07<00:00,  1.93it/s]\n",
      "/home/kevinluo/anaconda3/envs/yolov8/lib/python3.9/site-packages/sklearn/metrics/_classification.py:1344: UndefinedMetricWarning: Precision and F-score are ill-defined and being set to 0.0 in labels with no predicted samples. Use `zero_division` parameter to control this behavior.\n",
      "  _warn_prf(average, modifier, msg_start, len(result))\n",
      "/home/kevinluo/anaconda3/envs/yolov8/lib/python3.9/site-packages/sklearn/metrics/_classification.py:1344: UndefinedMetricWarning: Precision and F-score are ill-defined and being set to 0.0 in labels with no predicted samples. Use `zero_division` parameter to control this behavior.\n",
      "  _warn_prf(average, modifier, msg_start, len(result))\n",
      "/home/kevinluo/anaconda3/envs/yolov8/lib/python3.9/site-packages/sklearn/metrics/_classification.py:1344: UndefinedMetricWarning: Precision and F-score are ill-defined and being set to 0.0 in labels with no predicted samples. Use `zero_division` parameter to control this behavior.\n",
      "  _warn_prf(average, modifier, msg_start, len(result))\n"
     ]
    },
    {
     "name": "stdout",
     "output_type": "stream",
     "text": [
      "Train Loss: 0.6952, Train Acc: 0.4938\n",
      "Val Loss: 0.7062, Val Acc: 0.4978\n",
      "              precision    recall  f1-score   support\n",
      "\n",
      "      benign       0.50      1.00      0.66       224\n",
      "   malignant       0.00      0.00      0.00       226\n",
      "\n",
      "    accuracy                           0.50       450\n",
      "   macro avg       0.25      0.50      0.33       450\n",
      "weighted avg       0.25      0.50      0.33       450\n",
      "\n",
      "Epoch 14\n"
     ]
    },
    {
     "name": "stderr",
     "output_type": "stream",
     "text": [
      "100%|██████████| 127/127 [01:22<00:00,  1.55it/s]\n",
      "100%|██████████| 15/15 [00:07<00:00,  1.92it/s]\n",
      "/home/kevinluo/anaconda3/envs/yolov8/lib/python3.9/site-packages/sklearn/metrics/_classification.py:1344: UndefinedMetricWarning: Precision and F-score are ill-defined and being set to 0.0 in labels with no predicted samples. Use `zero_division` parameter to control this behavior.\n",
      "  _warn_prf(average, modifier, msg_start, len(result))\n",
      "/home/kevinluo/anaconda3/envs/yolov8/lib/python3.9/site-packages/sklearn/metrics/_classification.py:1344: UndefinedMetricWarning: Precision and F-score are ill-defined and being set to 0.0 in labels with no predicted samples. Use `zero_division` parameter to control this behavior.\n",
      "  _warn_prf(average, modifier, msg_start, len(result))\n",
      "/home/kevinluo/anaconda3/envs/yolov8/lib/python3.9/site-packages/sklearn/metrics/_classification.py:1344: UndefinedMetricWarning: Precision and F-score are ill-defined and being set to 0.0 in labels with no predicted samples. Use `zero_division` parameter to control this behavior.\n",
      "  _warn_prf(average, modifier, msg_start, len(result))\n"
     ]
    },
    {
     "name": "stdout",
     "output_type": "stream",
     "text": [
      "Train Loss: 0.6968, Train Acc: 0.5017\n",
      "Val Loss: 0.6934, Val Acc: 0.4978\n",
      "              precision    recall  f1-score   support\n",
      "\n",
      "      benign       0.50      1.00      0.66       224\n",
      "   malignant       0.00      0.00      0.00       226\n",
      "\n",
      "    accuracy                           0.50       450\n",
      "   macro avg       0.25      0.50      0.33       450\n",
      "weighted avg       0.25      0.50      0.33       450\n",
      "\n",
      "Epoch 15\n"
     ]
    },
    {
     "name": "stderr",
     "output_type": "stream",
     "text": [
      "100%|██████████| 127/127 [01:22<00:00,  1.54it/s]\n",
      "100%|██████████| 15/15 [00:08<00:00,  1.87it/s]\n",
      "/home/kevinluo/anaconda3/envs/yolov8/lib/python3.9/site-packages/sklearn/metrics/_classification.py:1344: UndefinedMetricWarning: Precision and F-score are ill-defined and being set to 0.0 in labels with no predicted samples. Use `zero_division` parameter to control this behavior.\n",
      "  _warn_prf(average, modifier, msg_start, len(result))\n",
      "/home/kevinluo/anaconda3/envs/yolov8/lib/python3.9/site-packages/sklearn/metrics/_classification.py:1344: UndefinedMetricWarning: Precision and F-score are ill-defined and being set to 0.0 in labels with no predicted samples. Use `zero_division` parameter to control this behavior.\n",
      "  _warn_prf(average, modifier, msg_start, len(result))\n",
      "/home/kevinluo/anaconda3/envs/yolov8/lib/python3.9/site-packages/sklearn/metrics/_classification.py:1344: UndefinedMetricWarning: Precision and F-score are ill-defined and being set to 0.0 in labels with no predicted samples. Use `zero_division` parameter to control this behavior.\n",
      "  _warn_prf(average, modifier, msg_start, len(result))\n"
     ]
    },
    {
     "name": "stdout",
     "output_type": "stream",
     "text": [
      "Train Loss: 0.6937, Train Acc: 0.5116\n",
      "Val Loss: 0.6938, Val Acc: 0.5022\n",
      "              precision    recall  f1-score   support\n",
      "\n",
      "      benign       0.00      0.00      0.00       224\n",
      "   malignant       0.50      1.00      0.67       226\n",
      "\n",
      "    accuracy                           0.50       450\n",
      "   macro avg       0.25      0.50      0.33       450\n",
      "weighted avg       0.25      0.50      0.34       450\n",
      "\n",
      "Epoch 16\n"
     ]
    },
    {
     "name": "stderr",
     "output_type": "stream",
     "text": [
      "100%|██████████| 127/127 [01:22<00:00,  1.53it/s]\n",
      "100%|██████████| 15/15 [00:07<00:00,  1.90it/s]\n",
      "/home/kevinluo/anaconda3/envs/yolov8/lib/python3.9/site-packages/sklearn/metrics/_classification.py:1344: UndefinedMetricWarning: Precision and F-score are ill-defined and being set to 0.0 in labels with no predicted samples. Use `zero_division` parameter to control this behavior.\n",
      "  _warn_prf(average, modifier, msg_start, len(result))\n",
      "/home/kevinluo/anaconda3/envs/yolov8/lib/python3.9/site-packages/sklearn/metrics/_classification.py:1344: UndefinedMetricWarning: Precision and F-score are ill-defined and being set to 0.0 in labels with no predicted samples. Use `zero_division` parameter to control this behavior.\n",
      "  _warn_prf(average, modifier, msg_start, len(result))\n",
      "/home/kevinluo/anaconda3/envs/yolov8/lib/python3.9/site-packages/sklearn/metrics/_classification.py:1344: UndefinedMetricWarning: Precision and F-score are ill-defined and being set to 0.0 in labels with no predicted samples. Use `zero_division` parameter to control this behavior.\n",
      "  _warn_prf(average, modifier, msg_start, len(result))\n"
     ]
    },
    {
     "name": "stdout",
     "output_type": "stream",
     "text": [
      "Train Loss: 0.6948, Train Acc: 0.5010\n",
      "Val Loss: 0.6976, Val Acc: 0.5022\n",
      "              precision    recall  f1-score   support\n",
      "\n",
      "      benign       0.00      0.00      0.00       224\n",
      "   malignant       0.50      1.00      0.67       226\n",
      "\n",
      "    accuracy                           0.50       450\n",
      "   macro avg       0.25      0.50      0.33       450\n",
      "weighted avg       0.25      0.50      0.34       450\n",
      "\n",
      "Epoch 17\n"
     ]
    },
    {
     "name": "stderr",
     "output_type": "stream",
     "text": [
      "100%|██████████| 127/127 [01:22<00:00,  1.53it/s]\n",
      "100%|██████████| 15/15 [00:07<00:00,  1.88it/s]\n",
      "/home/kevinluo/anaconda3/envs/yolov8/lib/python3.9/site-packages/sklearn/metrics/_classification.py:1344: UndefinedMetricWarning: Precision and F-score are ill-defined and being set to 0.0 in labels with no predicted samples. Use `zero_division` parameter to control this behavior.\n",
      "  _warn_prf(average, modifier, msg_start, len(result))\n",
      "/home/kevinluo/anaconda3/envs/yolov8/lib/python3.9/site-packages/sklearn/metrics/_classification.py:1344: UndefinedMetricWarning: Precision and F-score are ill-defined and being set to 0.0 in labels with no predicted samples. Use `zero_division` parameter to control this behavior.\n",
      "  _warn_prf(average, modifier, msg_start, len(result))\n",
      "/home/kevinluo/anaconda3/envs/yolov8/lib/python3.9/site-packages/sklearn/metrics/_classification.py:1344: UndefinedMetricWarning: Precision and F-score are ill-defined and being set to 0.0 in labels with no predicted samples. Use `zero_division` parameter to control this behavior.\n",
      "  _warn_prf(average, modifier, msg_start, len(result))\n"
     ]
    },
    {
     "name": "stdout",
     "output_type": "stream",
     "text": [
      "Train Loss: 0.6945, Train Acc: 0.5000\n",
      "Val Loss: 0.6942, Val Acc: 0.5022\n",
      "              precision    recall  f1-score   support\n",
      "\n",
      "      benign       0.00      0.00      0.00       224\n",
      "   malignant       0.50      1.00      0.67       226\n",
      "\n",
      "    accuracy                           0.50       450\n",
      "   macro avg       0.25      0.50      0.33       450\n",
      "weighted avg       0.25      0.50      0.34       450\n",
      "\n",
      "Epoch 18\n"
     ]
    },
    {
     "name": "stderr",
     "output_type": "stream",
     "text": [
      "100%|██████████| 127/127 [01:22<00:00,  1.53it/s]\n",
      "100%|██████████| 15/15 [00:07<00:00,  1.91it/s]\n",
      "/home/kevinluo/anaconda3/envs/yolov8/lib/python3.9/site-packages/sklearn/metrics/_classification.py:1344: UndefinedMetricWarning: Precision and F-score are ill-defined and being set to 0.0 in labels with no predicted samples. Use `zero_division` parameter to control this behavior.\n",
      "  _warn_prf(average, modifier, msg_start, len(result))\n",
      "/home/kevinluo/anaconda3/envs/yolov8/lib/python3.9/site-packages/sklearn/metrics/_classification.py:1344: UndefinedMetricWarning: Precision and F-score are ill-defined and being set to 0.0 in labels with no predicted samples. Use `zero_division` parameter to control this behavior.\n",
      "  _warn_prf(average, modifier, msg_start, len(result))\n",
      "/home/kevinluo/anaconda3/envs/yolov8/lib/python3.9/site-packages/sklearn/metrics/_classification.py:1344: UndefinedMetricWarning: Precision and F-score are ill-defined and being set to 0.0 in labels with no predicted samples. Use `zero_division` parameter to control this behavior.\n",
      "  _warn_prf(average, modifier, msg_start, len(result))\n"
     ]
    },
    {
     "name": "stdout",
     "output_type": "stream",
     "text": [
      "Train Loss: 0.6941, Train Acc: 0.5052\n",
      "Val Loss: 0.7094, Val Acc: 0.4978\n",
      "              precision    recall  f1-score   support\n",
      "\n",
      "      benign       0.50      1.00      0.66       224\n",
      "   malignant       0.00      0.00      0.00       226\n",
      "\n",
      "    accuracy                           0.50       450\n",
      "   macro avg       0.25      0.50      0.33       450\n",
      "weighted avg       0.25      0.50      0.33       450\n",
      "\n",
      "Epoch 19\n"
     ]
    },
    {
     "name": "stderr",
     "output_type": "stream",
     "text": [
      "100%|██████████| 127/127 [01:22<00:00,  1.53it/s]\n",
      "100%|██████████| 15/15 [00:07<00:00,  1.89it/s]\n",
      "/home/kevinluo/anaconda3/envs/yolov8/lib/python3.9/site-packages/sklearn/metrics/_classification.py:1344: UndefinedMetricWarning: Precision and F-score are ill-defined and being set to 0.0 in labels with no predicted samples. Use `zero_division` parameter to control this behavior.\n",
      "  _warn_prf(average, modifier, msg_start, len(result))\n",
      "/home/kevinluo/anaconda3/envs/yolov8/lib/python3.9/site-packages/sklearn/metrics/_classification.py:1344: UndefinedMetricWarning: Precision and F-score are ill-defined and being set to 0.0 in labels with no predicted samples. Use `zero_division` parameter to control this behavior.\n",
      "  _warn_prf(average, modifier, msg_start, len(result))\n",
      "/home/kevinluo/anaconda3/envs/yolov8/lib/python3.9/site-packages/sklearn/metrics/_classification.py:1344: UndefinedMetricWarning: Precision and F-score are ill-defined and being set to 0.0 in labels with no predicted samples. Use `zero_division` parameter to control this behavior.\n",
      "  _warn_prf(average, modifier, msg_start, len(result))\n"
     ]
    },
    {
     "name": "stdout",
     "output_type": "stream",
     "text": [
      "Train Loss: 0.6950, Train Acc: 0.4975\n",
      "Val Loss: 0.6933, Val Acc: 0.5022\n",
      "              precision    recall  f1-score   support\n",
      "\n",
      "      benign       0.00      0.00      0.00       224\n",
      "   malignant       0.50      1.00      0.67       226\n",
      "\n",
      "    accuracy                           0.50       450\n",
      "   macro avg       0.25      0.50      0.33       450\n",
      "weighted avg       0.25      0.50      0.34       450\n",
      "\n",
      "Epoch 20\n"
     ]
    },
    {
     "name": "stderr",
     "output_type": "stream",
     "text": [
      "100%|██████████| 127/127 [01:22<00:00,  1.53it/s]\n",
      "100%|██████████| 15/15 [00:07<00:00,  1.90it/s]\n",
      "/home/kevinluo/anaconda3/envs/yolov8/lib/python3.9/site-packages/sklearn/metrics/_classification.py:1344: UndefinedMetricWarning: Precision and F-score are ill-defined and being set to 0.0 in labels with no predicted samples. Use `zero_division` parameter to control this behavior.\n",
      "  _warn_prf(average, modifier, msg_start, len(result))\n",
      "/home/kevinluo/anaconda3/envs/yolov8/lib/python3.9/site-packages/sklearn/metrics/_classification.py:1344: UndefinedMetricWarning: Precision and F-score are ill-defined and being set to 0.0 in labels with no predicted samples. Use `zero_division` parameter to control this behavior.\n",
      "  _warn_prf(average, modifier, msg_start, len(result))\n",
      "/home/kevinluo/anaconda3/envs/yolov8/lib/python3.9/site-packages/sklearn/metrics/_classification.py:1344: UndefinedMetricWarning: Precision and F-score are ill-defined and being set to 0.0 in labels with no predicted samples. Use `zero_division` parameter to control this behavior.\n",
      "  _warn_prf(average, modifier, msg_start, len(result))\n"
     ]
    },
    {
     "name": "stdout",
     "output_type": "stream",
     "text": [
      "Train Loss: 0.6945, Train Acc: 0.5007\n",
      "Val Loss: 0.6947, Val Acc: 0.5022\n",
      "              precision    recall  f1-score   support\n",
      "\n",
      "      benign       0.00      0.00      0.00       224\n",
      "   malignant       0.50      1.00      0.67       226\n",
      "\n",
      "    accuracy                           0.50       450\n",
      "   macro avg       0.25      0.50      0.33       450\n",
      "weighted avg       0.25      0.50      0.34       450\n",
      "\n",
      "Epoch 21\n"
     ]
    },
    {
     "name": "stderr",
     "output_type": "stream",
     "text": [
      "100%|██████████| 127/127 [01:22<00:00,  1.54it/s]\n",
      "100%|██████████| 15/15 [00:07<00:00,  1.92it/s]\n",
      "/home/kevinluo/anaconda3/envs/yolov8/lib/python3.9/site-packages/sklearn/metrics/_classification.py:1344: UndefinedMetricWarning: Precision and F-score are ill-defined and being set to 0.0 in labels with no predicted samples. Use `zero_division` parameter to control this behavior.\n",
      "  _warn_prf(average, modifier, msg_start, len(result))\n",
      "/home/kevinluo/anaconda3/envs/yolov8/lib/python3.9/site-packages/sklearn/metrics/_classification.py:1344: UndefinedMetricWarning: Precision and F-score are ill-defined and being set to 0.0 in labels with no predicted samples. Use `zero_division` parameter to control this behavior.\n",
      "  _warn_prf(average, modifier, msg_start, len(result))\n",
      "/home/kevinluo/anaconda3/envs/yolov8/lib/python3.9/site-packages/sklearn/metrics/_classification.py:1344: UndefinedMetricWarning: Precision and F-score are ill-defined and being set to 0.0 in labels with no predicted samples. Use `zero_division` parameter to control this behavior.\n",
      "  _warn_prf(average, modifier, msg_start, len(result))\n"
     ]
    },
    {
     "name": "stdout",
     "output_type": "stream",
     "text": [
      "Train Loss: 0.6945, Train Acc: 0.4975\n",
      "Val Loss: 0.6933, Val Acc: 0.4978\n",
      "              precision    recall  f1-score   support\n",
      "\n",
      "      benign       0.50      1.00      0.66       224\n",
      "   malignant       0.00      0.00      0.00       226\n",
      "\n",
      "    accuracy                           0.50       450\n",
      "   macro avg       0.25      0.50      0.33       450\n",
      "weighted avg       0.25      0.50      0.33       450\n",
      "\n",
      "Epoch 22\n"
     ]
    },
    {
     "name": "stderr",
     "output_type": "stream",
     "text": [
      "100%|██████████| 127/127 [01:22<00:00,  1.54it/s]\n",
      "100%|██████████| 15/15 [00:07<00:00,  1.92it/s]\n",
      "/home/kevinluo/anaconda3/envs/yolov8/lib/python3.9/site-packages/sklearn/metrics/_classification.py:1344: UndefinedMetricWarning: Precision and F-score are ill-defined and being set to 0.0 in labels with no predicted samples. Use `zero_division` parameter to control this behavior.\n",
      "  _warn_prf(average, modifier, msg_start, len(result))\n",
      "/home/kevinluo/anaconda3/envs/yolov8/lib/python3.9/site-packages/sklearn/metrics/_classification.py:1344: UndefinedMetricWarning: Precision and F-score are ill-defined and being set to 0.0 in labels with no predicted samples. Use `zero_division` parameter to control this behavior.\n",
      "  _warn_prf(average, modifier, msg_start, len(result))\n",
      "/home/kevinluo/anaconda3/envs/yolov8/lib/python3.9/site-packages/sklearn/metrics/_classification.py:1344: UndefinedMetricWarning: Precision and F-score are ill-defined and being set to 0.0 in labels with no predicted samples. Use `zero_division` parameter to control this behavior.\n",
      "  _warn_prf(average, modifier, msg_start, len(result))\n"
     ]
    },
    {
     "name": "stdout",
     "output_type": "stream",
     "text": [
      "Train Loss: 0.6943, Train Acc: 0.4948\n",
      "Val Loss: 0.6932, Val Acc: 0.4978\n",
      "              precision    recall  f1-score   support\n",
      "\n",
      "      benign       0.50      1.00      0.66       224\n",
      "   malignant       0.00      0.00      0.00       226\n",
      "\n",
      "    accuracy                           0.50       450\n",
      "   macro avg       0.25      0.50      0.33       450\n",
      "weighted avg       0.25      0.50      0.33       450\n",
      "\n",
      "Epoch 23\n"
     ]
    },
    {
     "name": "stderr",
     "output_type": "stream",
     "text": [
      "100%|██████████| 127/127 [01:21<00:00,  1.55it/s]\n",
      "100%|██████████| 15/15 [00:07<00:00,  1.92it/s]\n"
     ]
    },
    {
     "name": "stdout",
     "output_type": "stream",
     "text": [
      "Train Loss: 0.6935, Train Acc: 0.5037\n",
      "Val Loss: 0.6938, Val Acc: 0.5000\n",
      "              precision    recall  f1-score   support\n",
      "\n",
      "      benign       0.00      0.00      0.00       224\n",
      "   malignant       0.50      1.00      0.67       226\n",
      "\n",
      "    accuracy                           0.50       450\n",
      "   macro avg       0.25      0.50      0.33       450\n",
      "weighted avg       0.25      0.50      0.33       450\n",
      "\n",
      "Epoch 24\n"
     ]
    },
    {
     "name": "stderr",
     "output_type": "stream",
     "text": [
      "100%|██████████| 127/127 [01:21<00:00,  1.55it/s]\n",
      "100%|██████████| 15/15 [00:07<00:00,  1.92it/s]\n"
     ]
    },
    {
     "name": "stdout",
     "output_type": "stream",
     "text": [
      "Train Loss: 0.6938, Train Acc: 0.5032\n",
      "Val Loss: 0.6939, Val Acc: 0.5000\n",
      "              precision    recall  f1-score   support\n",
      "\n",
      "      benign       0.00      0.00      0.00       224\n",
      "   malignant       0.50      1.00      0.67       226\n",
      "\n",
      "    accuracy                           0.50       450\n",
      "   macro avg       0.25      0.50      0.33       450\n",
      "weighted avg       0.25      0.50      0.33       450\n",
      "\n",
      "Epoch 25\n"
     ]
    },
    {
     "name": "stderr",
     "output_type": "stream",
     "text": [
      "100%|██████████| 127/127 [01:22<00:00,  1.54it/s]\n",
      "100%|██████████| 15/15 [00:08<00:00,  1.71it/s]\n",
      "/home/kevinluo/anaconda3/envs/yolov8/lib/python3.9/site-packages/sklearn/metrics/_classification.py:1344: UndefinedMetricWarning: Precision and F-score are ill-defined and being set to 0.0 in labels with no predicted samples. Use `zero_division` parameter to control this behavior.\n",
      "  _warn_prf(average, modifier, msg_start, len(result))\n",
      "/home/kevinluo/anaconda3/envs/yolov8/lib/python3.9/site-packages/sklearn/metrics/_classification.py:1344: UndefinedMetricWarning: Precision and F-score are ill-defined and being set to 0.0 in labels with no predicted samples. Use `zero_division` parameter to control this behavior.\n",
      "  _warn_prf(average, modifier, msg_start, len(result))\n",
      "/home/kevinluo/anaconda3/envs/yolov8/lib/python3.9/site-packages/sklearn/metrics/_classification.py:1344: UndefinedMetricWarning: Precision and F-score are ill-defined and being set to 0.0 in labels with no predicted samples. Use `zero_division` parameter to control this behavior.\n",
      "  _warn_prf(average, modifier, msg_start, len(result))\n"
     ]
    },
    {
     "name": "stdout",
     "output_type": "stream",
     "text": [
      "Train Loss: 0.6942, Train Acc: 0.4886\n",
      "Val Loss: 0.6939, Val Acc: 0.4978\n",
      "              precision    recall  f1-score   support\n",
      "\n",
      "      benign       0.50      1.00      0.66       224\n",
      "   malignant       0.00      0.00      0.00       226\n",
      "\n",
      "    accuracy                           0.50       450\n",
      "   macro avg       0.25      0.50      0.33       450\n",
      "weighted avg       0.25      0.50      0.33       450\n",
      "\n",
      "Fold 7\n",
      "Epoch 1\n"
     ]
    },
    {
     "name": "stderr",
     "output_type": "stream",
     "text": [
      "100%|██████████| 127/127 [01:24<00:00,  1.49it/s]\n",
      "100%|██████████| 15/15 [00:07<00:00,  1.90it/s]\n"
     ]
    },
    {
     "name": "stdout",
     "output_type": "stream",
     "text": [
      "Train Loss: 0.7576, Train Acc: 0.5763\n",
      "Val Loss: 0.6606, Val Acc: 0.6022\n",
      "              precision    recall  f1-score   support\n",
      "\n",
      "      benign       0.61      0.55      0.58       224\n",
      "   malignant       0.59      0.65      0.62       226\n",
      "\n",
      "    accuracy                           0.60       450\n",
      "   macro avg       0.60      0.60      0.60       450\n",
      "weighted avg       0.60      0.60      0.60       450\n",
      "\n",
      "Epoch 2\n"
     ]
    },
    {
     "name": "stderr",
     "output_type": "stream",
     "text": [
      "100%|██████████| 127/127 [01:22<00:00,  1.55it/s]\n",
      "100%|██████████| 15/15 [00:07<00:00,  1.90it/s]\n"
     ]
    },
    {
     "name": "stdout",
     "output_type": "stream",
     "text": [
      "Train Loss: 0.6770, Train Acc: 0.5760\n",
      "Val Loss: 0.6919, Val Acc: 0.5756\n",
      "              precision    recall  f1-score   support\n",
      "\n",
      "      benign       0.55      0.75      0.64       224\n",
      "   malignant       0.62      0.41      0.49       226\n",
      "\n",
      "    accuracy                           0.58       450\n",
      "   macro avg       0.59      0.58      0.56       450\n",
      "weighted avg       0.59      0.58      0.56       450\n",
      "\n",
      "Epoch 3\n"
     ]
    },
    {
     "name": "stderr",
     "output_type": "stream",
     "text": [
      "100%|██████████| 127/127 [01:22<00:00,  1.54it/s]\n",
      "100%|██████████| 15/15 [00:07<00:00,  1.91it/s]\n"
     ]
    },
    {
     "name": "stdout",
     "output_type": "stream",
     "text": [
      "Train Loss: 0.6530, Train Acc: 0.6180\n",
      "Val Loss: 0.6653, Val Acc: 0.6022\n",
      "              precision    recall  f1-score   support\n",
      "\n",
      "      benign       0.64      0.45      0.53       224\n",
      "   malignant       0.58      0.75      0.66       226\n",
      "\n",
      "    accuracy                           0.60       450\n",
      "   macro avg       0.61      0.60      0.59       450\n",
      "weighted avg       0.61      0.60      0.59       450\n",
      "\n",
      "Epoch 4\n"
     ]
    },
    {
     "name": "stderr",
     "output_type": "stream",
     "text": [
      "100%|██████████| 127/127 [01:21<00:00,  1.55it/s]\n",
      "100%|██████████| 15/15 [00:07<00:00,  1.90it/s]\n"
     ]
    },
    {
     "name": "stdout",
     "output_type": "stream",
     "text": [
      "Train Loss: 0.6579, Train Acc: 0.6046\n",
      "Val Loss: 0.6681, Val Acc: 0.6044\n",
      "              precision    recall  f1-score   support\n",
      "\n",
      "      benign       0.62      0.54      0.58       224\n",
      "   malignant       0.60      0.66      0.63       226\n",
      "\n",
      "    accuracy                           0.60       450\n",
      "   macro avg       0.61      0.60      0.60       450\n",
      "weighted avg       0.61      0.60      0.60       450\n",
      "\n",
      "Epoch 5\n"
     ]
    },
    {
     "name": "stderr",
     "output_type": "stream",
     "text": [
      "100%|██████████| 127/127 [01:22<00:00,  1.54it/s]\n",
      "100%|██████████| 15/15 [00:08<00:00,  1.87it/s]\n"
     ]
    },
    {
     "name": "stdout",
     "output_type": "stream",
     "text": [
      "Train Loss: 0.6545, Train Acc: 0.6123\n",
      "Val Loss: 0.6752, Val Acc: 0.5956\n",
      "              precision    recall  f1-score   support\n",
      "\n",
      "      benign       0.58      0.69      0.63       224\n",
      "   malignant       0.62      0.50      0.55       226\n",
      "\n",
      "    accuracy                           0.60       450\n",
      "   macro avg       0.60      0.60      0.59       450\n",
      "weighted avg       0.60      0.60      0.59       450\n",
      "\n",
      "Epoch 6\n"
     ]
    },
    {
     "name": "stderr",
     "output_type": "stream",
     "text": [
      "100%|██████████| 127/127 [01:22<00:00,  1.54it/s]\n",
      "100%|██████████| 15/15 [00:07<00:00,  1.88it/s]\n"
     ]
    },
    {
     "name": "stdout",
     "output_type": "stream",
     "text": [
      "Train Loss: 0.6632, Train Acc: 0.5965\n",
      "Val Loss: 0.6712, Val Acc: 0.5844\n",
      "              precision    recall  f1-score   support\n",
      "\n",
      "      benign       0.65      0.36      0.46       224\n",
      "   malignant       0.56      0.81      0.66       226\n",
      "\n",
      "    accuracy                           0.58       450\n",
      "   macro avg       0.61      0.58      0.56       450\n",
      "weighted avg       0.60      0.58      0.56       450\n",
      "\n",
      "Epoch 7\n"
     ]
    },
    {
     "name": "stderr",
     "output_type": "stream",
     "text": [
      "100%|██████████| 127/127 [01:22<00:00,  1.55it/s]\n",
      "100%|██████████| 15/15 [00:07<00:00,  1.91it/s]\n",
      "/home/kevinluo/anaconda3/envs/yolov8/lib/python3.9/site-packages/sklearn/metrics/_classification.py:1344: UndefinedMetricWarning: Precision and F-score are ill-defined and being set to 0.0 in labels with no predicted samples. Use `zero_division` parameter to control this behavior.\n",
      "  _warn_prf(average, modifier, msg_start, len(result))\n",
      "/home/kevinluo/anaconda3/envs/yolov8/lib/python3.9/site-packages/sklearn/metrics/_classification.py:1344: UndefinedMetricWarning: Precision and F-score are ill-defined and being set to 0.0 in labels with no predicted samples. Use `zero_division` parameter to control this behavior.\n",
      "  _warn_prf(average, modifier, msg_start, len(result))\n",
      "/home/kevinluo/anaconda3/envs/yolov8/lib/python3.9/site-packages/sklearn/metrics/_classification.py:1344: UndefinedMetricWarning: Precision and F-score are ill-defined and being set to 0.0 in labels with no predicted samples. Use `zero_division` parameter to control this behavior.\n",
      "  _warn_prf(average, modifier, msg_start, len(result))\n"
     ]
    },
    {
     "name": "stdout",
     "output_type": "stream",
     "text": [
      "Train Loss: 0.7216, Train Acc: 0.5084\n",
      "Val Loss: 0.6941, Val Acc: 0.5022\n",
      "              precision    recall  f1-score   support\n",
      "\n",
      "      benign       0.00      0.00      0.00       224\n",
      "   malignant       0.50      1.00      0.67       226\n",
      "\n",
      "    accuracy                           0.50       450\n",
      "   macro avg       0.25      0.50      0.33       450\n",
      "weighted avg       0.25      0.50      0.34       450\n",
      "\n",
      "Epoch 8\n"
     ]
    },
    {
     "name": "stderr",
     "output_type": "stream",
     "text": [
      "100%|██████████| 127/127 [01:22<00:00,  1.54it/s]\n",
      "100%|██████████| 15/15 [00:07<00:00,  1.91it/s]\n",
      "/home/kevinluo/anaconda3/envs/yolov8/lib/python3.9/site-packages/sklearn/metrics/_classification.py:1344: UndefinedMetricWarning: Precision and F-score are ill-defined and being set to 0.0 in labels with no predicted samples. Use `zero_division` parameter to control this behavior.\n",
      "  _warn_prf(average, modifier, msg_start, len(result))\n",
      "/home/kevinluo/anaconda3/envs/yolov8/lib/python3.9/site-packages/sklearn/metrics/_classification.py:1344: UndefinedMetricWarning: Precision and F-score are ill-defined and being set to 0.0 in labels with no predicted samples. Use `zero_division` parameter to control this behavior.\n",
      "  _warn_prf(average, modifier, msg_start, len(result))\n",
      "/home/kevinluo/anaconda3/envs/yolov8/lib/python3.9/site-packages/sklearn/metrics/_classification.py:1344: UndefinedMetricWarning: Precision and F-score are ill-defined and being set to 0.0 in labels with no predicted samples. Use `zero_division` parameter to control this behavior.\n",
      "  _warn_prf(average, modifier, msg_start, len(result))\n"
     ]
    },
    {
     "name": "stdout",
     "output_type": "stream",
     "text": [
      "Train Loss: 0.7026, Train Acc: 0.5000\n",
      "Val Loss: 0.7010, Val Acc: 0.5022\n",
      "              precision    recall  f1-score   support\n",
      "\n",
      "      benign       0.00      0.00      0.00       224\n",
      "   malignant       0.50      1.00      0.67       226\n",
      "\n",
      "    accuracy                           0.50       450\n",
      "   macro avg       0.25      0.50      0.33       450\n",
      "weighted avg       0.25      0.50      0.34       450\n",
      "\n",
      "Epoch 9\n"
     ]
    },
    {
     "name": "stderr",
     "output_type": "stream",
     "text": [
      "100%|██████████| 127/127 [01:26<00:00,  1.47it/s]\n",
      "100%|██████████| 15/15 [00:07<00:00,  1.89it/s]\n",
      "/home/kevinluo/anaconda3/envs/yolov8/lib/python3.9/site-packages/sklearn/metrics/_classification.py:1344: UndefinedMetricWarning: Precision and F-score are ill-defined and being set to 0.0 in labels with no predicted samples. Use `zero_division` parameter to control this behavior.\n",
      "  _warn_prf(average, modifier, msg_start, len(result))\n",
      "/home/kevinluo/anaconda3/envs/yolov8/lib/python3.9/site-packages/sklearn/metrics/_classification.py:1344: UndefinedMetricWarning: Precision and F-score are ill-defined and being set to 0.0 in labels with no predicted samples. Use `zero_division` parameter to control this behavior.\n",
      "  _warn_prf(average, modifier, msg_start, len(result))\n",
      "/home/kevinluo/anaconda3/envs/yolov8/lib/python3.9/site-packages/sklearn/metrics/_classification.py:1344: UndefinedMetricWarning: Precision and F-score are ill-defined and being set to 0.0 in labels with no predicted samples. Use `zero_division` parameter to control this behavior.\n",
      "  _warn_prf(average, modifier, msg_start, len(result))\n"
     ]
    },
    {
     "name": "stdout",
     "output_type": "stream",
     "text": [
      "Train Loss: 0.7067, Train Acc: 0.4936\n",
      "Val Loss: 0.6977, Val Acc: 0.4978\n",
      "              precision    recall  f1-score   support\n",
      "\n",
      "      benign       0.50      1.00      0.66       224\n",
      "   malignant       0.00      0.00      0.00       226\n",
      "\n",
      "    accuracy                           0.50       450\n",
      "   macro avg       0.25      0.50      0.33       450\n",
      "weighted avg       0.25      0.50      0.33       450\n",
      "\n",
      "Epoch 10\n"
     ]
    },
    {
     "name": "stderr",
     "output_type": "stream",
     "text": [
      "100%|██████████| 127/127 [01:22<00:00,  1.55it/s]\n",
      "100%|██████████| 15/15 [00:07<00:00,  1.90it/s]\n",
      "/home/kevinluo/anaconda3/envs/yolov8/lib/python3.9/site-packages/sklearn/metrics/_classification.py:1344: UndefinedMetricWarning: Precision and F-score are ill-defined and being set to 0.0 in labels with no predicted samples. Use `zero_division` parameter to control this behavior.\n",
      "  _warn_prf(average, modifier, msg_start, len(result))\n",
      "/home/kevinluo/anaconda3/envs/yolov8/lib/python3.9/site-packages/sklearn/metrics/_classification.py:1344: UndefinedMetricWarning: Precision and F-score are ill-defined and being set to 0.0 in labels with no predicted samples. Use `zero_division` parameter to control this behavior.\n",
      "  _warn_prf(average, modifier, msg_start, len(result))\n",
      "/home/kevinluo/anaconda3/envs/yolov8/lib/python3.9/site-packages/sklearn/metrics/_classification.py:1344: UndefinedMetricWarning: Precision and F-score are ill-defined and being set to 0.0 in labels with no predicted samples. Use `zero_division` parameter to control this behavior.\n",
      "  _warn_prf(average, modifier, msg_start, len(result))\n"
     ]
    },
    {
     "name": "stdout",
     "output_type": "stream",
     "text": [
      "Train Loss: 0.6989, Train Acc: 0.4882\n",
      "Val Loss: 0.6942, Val Acc: 0.5022\n",
      "              precision    recall  f1-score   support\n",
      "\n",
      "      benign       0.00      0.00      0.00       224\n",
      "   malignant       0.50      1.00      0.67       226\n",
      "\n",
      "    accuracy                           0.50       450\n",
      "   macro avg       0.25      0.50      0.33       450\n",
      "weighted avg       0.25      0.50      0.34       450\n",
      "\n",
      "Epoch 11\n"
     ]
    },
    {
     "name": "stderr",
     "output_type": "stream",
     "text": [
      "100%|██████████| 127/127 [01:22<00:00,  1.55it/s]\n",
      "100%|██████████| 15/15 [00:08<00:00,  1.85it/s]\n",
      "/home/kevinluo/anaconda3/envs/yolov8/lib/python3.9/site-packages/sklearn/metrics/_classification.py:1344: UndefinedMetricWarning: Precision and F-score are ill-defined and being set to 0.0 in labels with no predicted samples. Use `zero_division` parameter to control this behavior.\n",
      "  _warn_prf(average, modifier, msg_start, len(result))\n",
      "/home/kevinluo/anaconda3/envs/yolov8/lib/python3.9/site-packages/sklearn/metrics/_classification.py:1344: UndefinedMetricWarning: Precision and F-score are ill-defined and being set to 0.0 in labels with no predicted samples. Use `zero_division` parameter to control this behavior.\n",
      "  _warn_prf(average, modifier, msg_start, len(result))\n",
      "/home/kevinluo/anaconda3/envs/yolov8/lib/python3.9/site-packages/sklearn/metrics/_classification.py:1344: UndefinedMetricWarning: Precision and F-score are ill-defined and being set to 0.0 in labels with no predicted samples. Use `zero_division` parameter to control this behavior.\n",
      "  _warn_prf(average, modifier, msg_start, len(result))\n"
     ]
    },
    {
     "name": "stdout",
     "output_type": "stream",
     "text": [
      "Train Loss: 0.6995, Train Acc: 0.4879\n",
      "Val Loss: 0.6946, Val Acc: 0.4978\n",
      "              precision    recall  f1-score   support\n",
      "\n",
      "      benign       0.50      1.00      0.66       224\n",
      "   malignant       0.00      0.00      0.00       226\n",
      "\n",
      "    accuracy                           0.50       450\n",
      "   macro avg       0.25      0.50      0.33       450\n",
      "weighted avg       0.25      0.50      0.33       450\n",
      "\n",
      "Epoch 12\n"
     ]
    },
    {
     "name": "stderr",
     "output_type": "stream",
     "text": [
      "100%|██████████| 127/127 [01:22<00:00,  1.55it/s]\n",
      "100%|██████████| 15/15 [00:07<00:00,  1.90it/s]\n",
      "/home/kevinluo/anaconda3/envs/yolov8/lib/python3.9/site-packages/sklearn/metrics/_classification.py:1344: UndefinedMetricWarning: Precision and F-score are ill-defined and being set to 0.0 in labels with no predicted samples. Use `zero_division` parameter to control this behavior.\n",
      "  _warn_prf(average, modifier, msg_start, len(result))\n",
      "/home/kevinluo/anaconda3/envs/yolov8/lib/python3.9/site-packages/sklearn/metrics/_classification.py:1344: UndefinedMetricWarning: Precision and F-score are ill-defined and being set to 0.0 in labels with no predicted samples. Use `zero_division` parameter to control this behavior.\n",
      "  _warn_prf(average, modifier, msg_start, len(result))\n",
      "/home/kevinluo/anaconda3/envs/yolov8/lib/python3.9/site-packages/sklearn/metrics/_classification.py:1344: UndefinedMetricWarning: Precision and F-score are ill-defined and being set to 0.0 in labels with no predicted samples. Use `zero_division` parameter to control this behavior.\n",
      "  _warn_prf(average, modifier, msg_start, len(result))\n"
     ]
    },
    {
     "name": "stdout",
     "output_type": "stream",
     "text": [
      "Train Loss: 0.6958, Train Acc: 0.5101\n",
      "Val Loss: 0.7006, Val Acc: 0.5022\n",
      "              precision    recall  f1-score   support\n",
      "\n",
      "      benign       0.00      0.00      0.00       224\n",
      "   malignant       0.50      1.00      0.67       226\n",
      "\n",
      "    accuracy                           0.50       450\n",
      "   macro avg       0.25      0.50      0.33       450\n",
      "weighted avg       0.25      0.50      0.34       450\n",
      "\n",
      "Epoch 13\n"
     ]
    },
    {
     "name": "stderr",
     "output_type": "stream",
     "text": [
      "100%|██████████| 127/127 [01:22<00:00,  1.54it/s]\n",
      "100%|██████████| 15/15 [00:07<00:00,  1.91it/s]\n",
      "/home/kevinluo/anaconda3/envs/yolov8/lib/python3.9/site-packages/sklearn/metrics/_classification.py:1344: UndefinedMetricWarning: Precision and F-score are ill-defined and being set to 0.0 in labels with no predicted samples. Use `zero_division` parameter to control this behavior.\n",
      "  _warn_prf(average, modifier, msg_start, len(result))\n",
      "/home/kevinluo/anaconda3/envs/yolov8/lib/python3.9/site-packages/sklearn/metrics/_classification.py:1344: UndefinedMetricWarning: Precision and F-score are ill-defined and being set to 0.0 in labels with no predicted samples. Use `zero_division` parameter to control this behavior.\n",
      "  _warn_prf(average, modifier, msg_start, len(result))\n",
      "/home/kevinluo/anaconda3/envs/yolov8/lib/python3.9/site-packages/sklearn/metrics/_classification.py:1344: UndefinedMetricWarning: Precision and F-score are ill-defined and being set to 0.0 in labels with no predicted samples. Use `zero_division` parameter to control this behavior.\n",
      "  _warn_prf(average, modifier, msg_start, len(result))\n"
     ]
    },
    {
     "name": "stdout",
     "output_type": "stream",
     "text": [
      "Train Loss: 0.6961, Train Acc: 0.4983\n",
      "Val Loss: 0.6947, Val Acc: 0.4978\n",
      "              precision    recall  f1-score   support\n",
      "\n",
      "      benign       0.50      1.00      0.66       224\n",
      "   malignant       0.00      0.00      0.00       226\n",
      "\n",
      "    accuracy                           0.50       450\n",
      "   macro avg       0.25      0.50      0.33       450\n",
      "weighted avg       0.25      0.50      0.33       450\n",
      "\n",
      "Epoch 14\n"
     ]
    },
    {
     "name": "stderr",
     "output_type": "stream",
     "text": [
      "100%|██████████| 127/127 [01:21<00:00,  1.55it/s]\n",
      "100%|██████████| 15/15 [00:07<00:00,  1.90it/s]\n",
      "/home/kevinluo/anaconda3/envs/yolov8/lib/python3.9/site-packages/sklearn/metrics/_classification.py:1344: UndefinedMetricWarning: Precision and F-score are ill-defined and being set to 0.0 in labels with no predicted samples. Use `zero_division` parameter to control this behavior.\n",
      "  _warn_prf(average, modifier, msg_start, len(result))\n",
      "/home/kevinluo/anaconda3/envs/yolov8/lib/python3.9/site-packages/sklearn/metrics/_classification.py:1344: UndefinedMetricWarning: Precision and F-score are ill-defined and being set to 0.0 in labels with no predicted samples. Use `zero_division` parameter to control this behavior.\n",
      "  _warn_prf(average, modifier, msg_start, len(result))\n",
      "/home/kevinluo/anaconda3/envs/yolov8/lib/python3.9/site-packages/sklearn/metrics/_classification.py:1344: UndefinedMetricWarning: Precision and F-score are ill-defined and being set to 0.0 in labels with no predicted samples. Use `zero_division` parameter to control this behavior.\n",
      "  _warn_prf(average, modifier, msg_start, len(result))\n"
     ]
    },
    {
     "name": "stdout",
     "output_type": "stream",
     "text": [
      "Train Loss: 0.6949, Train Acc: 0.5035\n",
      "Val Loss: 0.6935, Val Acc: 0.5022\n",
      "              precision    recall  f1-score   support\n",
      "\n",
      "      benign       0.00      0.00      0.00       224\n",
      "   malignant       0.50      1.00      0.67       226\n",
      "\n",
      "    accuracy                           0.50       450\n",
      "   macro avg       0.25      0.50      0.33       450\n",
      "weighted avg       0.25      0.50      0.34       450\n",
      "\n",
      "Epoch 15\n"
     ]
    },
    {
     "name": "stderr",
     "output_type": "stream",
     "text": [
      "100%|██████████| 127/127 [01:22<00:00,  1.54it/s]\n",
      "100%|██████████| 15/15 [00:07<00:00,  1.89it/s]\n",
      "/home/kevinluo/anaconda3/envs/yolov8/lib/python3.9/site-packages/sklearn/metrics/_classification.py:1344: UndefinedMetricWarning: Precision and F-score are ill-defined and being set to 0.0 in labels with no predicted samples. Use `zero_division` parameter to control this behavior.\n",
      "  _warn_prf(average, modifier, msg_start, len(result))\n",
      "/home/kevinluo/anaconda3/envs/yolov8/lib/python3.9/site-packages/sklearn/metrics/_classification.py:1344: UndefinedMetricWarning: Precision and F-score are ill-defined and being set to 0.0 in labels with no predicted samples. Use `zero_division` parameter to control this behavior.\n",
      "  _warn_prf(average, modifier, msg_start, len(result))\n",
      "/home/kevinluo/anaconda3/envs/yolov8/lib/python3.9/site-packages/sklearn/metrics/_classification.py:1344: UndefinedMetricWarning: Precision and F-score are ill-defined and being set to 0.0 in labels with no predicted samples. Use `zero_division` parameter to control this behavior.\n",
      "  _warn_prf(average, modifier, msg_start, len(result))\n"
     ]
    },
    {
     "name": "stdout",
     "output_type": "stream",
     "text": [
      "Train Loss: 0.6954, Train Acc: 0.5049\n",
      "Val Loss: 0.6979, Val Acc: 0.4978\n",
      "              precision    recall  f1-score   support\n",
      "\n",
      "      benign       0.50      1.00      0.66       224\n",
      "   malignant       0.00      0.00      0.00       226\n",
      "\n",
      "    accuracy                           0.50       450\n",
      "   macro avg       0.25      0.50      0.33       450\n",
      "weighted avg       0.25      0.50      0.33       450\n",
      "\n",
      "Epoch 16\n"
     ]
    },
    {
     "name": "stderr",
     "output_type": "stream",
     "text": [
      "100%|██████████| 127/127 [01:22<00:00,  1.55it/s]\n",
      "100%|██████████| 15/15 [00:07<00:00,  1.90it/s]\n",
      "/home/kevinluo/anaconda3/envs/yolov8/lib/python3.9/site-packages/sklearn/metrics/_classification.py:1344: UndefinedMetricWarning: Precision and F-score are ill-defined and being set to 0.0 in labels with no predicted samples. Use `zero_division` parameter to control this behavior.\n",
      "  _warn_prf(average, modifier, msg_start, len(result))\n",
      "/home/kevinluo/anaconda3/envs/yolov8/lib/python3.9/site-packages/sklearn/metrics/_classification.py:1344: UndefinedMetricWarning: Precision and F-score are ill-defined and being set to 0.0 in labels with no predicted samples. Use `zero_division` parameter to control this behavior.\n",
      "  _warn_prf(average, modifier, msg_start, len(result))\n",
      "/home/kevinluo/anaconda3/envs/yolov8/lib/python3.9/site-packages/sklearn/metrics/_classification.py:1344: UndefinedMetricWarning: Precision and F-score are ill-defined and being set to 0.0 in labels with no predicted samples. Use `zero_division` parameter to control this behavior.\n",
      "  _warn_prf(average, modifier, msg_start, len(result))\n"
     ]
    },
    {
     "name": "stdout",
     "output_type": "stream",
     "text": [
      "Train Loss: 0.6948, Train Acc: 0.4943\n",
      "Val Loss: 0.6940, Val Acc: 0.5022\n",
      "              precision    recall  f1-score   support\n",
      "\n",
      "      benign       0.00      0.00      0.00       224\n",
      "   malignant       0.50      1.00      0.67       226\n",
      "\n",
      "    accuracy                           0.50       450\n",
      "   macro avg       0.25      0.50      0.33       450\n",
      "weighted avg       0.25      0.50      0.34       450\n",
      "\n",
      "Epoch 17\n"
     ]
    },
    {
     "name": "stderr",
     "output_type": "stream",
     "text": [
      "100%|██████████| 127/127 [01:22<00:00,  1.55it/s]\n",
      "100%|██████████| 15/15 [00:07<00:00,  1.90it/s]\n",
      "/home/kevinluo/anaconda3/envs/yolov8/lib/python3.9/site-packages/sklearn/metrics/_classification.py:1344: UndefinedMetricWarning: Precision and F-score are ill-defined and being set to 0.0 in labels with no predicted samples. Use `zero_division` parameter to control this behavior.\n",
      "  _warn_prf(average, modifier, msg_start, len(result))\n",
      "/home/kevinluo/anaconda3/envs/yolov8/lib/python3.9/site-packages/sklearn/metrics/_classification.py:1344: UndefinedMetricWarning: Precision and F-score are ill-defined and being set to 0.0 in labels with no predicted samples. Use `zero_division` parameter to control this behavior.\n",
      "  _warn_prf(average, modifier, msg_start, len(result))\n",
      "/home/kevinluo/anaconda3/envs/yolov8/lib/python3.9/site-packages/sklearn/metrics/_classification.py:1344: UndefinedMetricWarning: Precision and F-score are ill-defined and being set to 0.0 in labels with no predicted samples. Use `zero_division` parameter to control this behavior.\n",
      "  _warn_prf(average, modifier, msg_start, len(result))\n"
     ]
    },
    {
     "name": "stdout",
     "output_type": "stream",
     "text": [
      "Train Loss: 0.6954, Train Acc: 0.4923\n",
      "Val Loss: 0.6937, Val Acc: 0.5022\n",
      "              precision    recall  f1-score   support\n",
      "\n",
      "      benign       0.00      0.00      0.00       224\n",
      "   malignant       0.50      1.00      0.67       226\n",
      "\n",
      "    accuracy                           0.50       450\n",
      "   macro avg       0.25      0.50      0.33       450\n",
      "weighted avg       0.25      0.50      0.34       450\n",
      "\n",
      "Epoch 18\n"
     ]
    },
    {
     "name": "stderr",
     "output_type": "stream",
     "text": [
      "100%|██████████| 127/127 [01:22<00:00,  1.55it/s]\n",
      "100%|██████████| 15/15 [00:07<00:00,  1.89it/s]\n",
      "/home/kevinluo/anaconda3/envs/yolov8/lib/python3.9/site-packages/sklearn/metrics/_classification.py:1344: UndefinedMetricWarning: Precision and F-score are ill-defined and being set to 0.0 in labels with no predicted samples. Use `zero_division` parameter to control this behavior.\n",
      "  _warn_prf(average, modifier, msg_start, len(result))\n",
      "/home/kevinluo/anaconda3/envs/yolov8/lib/python3.9/site-packages/sklearn/metrics/_classification.py:1344: UndefinedMetricWarning: Precision and F-score are ill-defined and being set to 0.0 in labels with no predicted samples. Use `zero_division` parameter to control this behavior.\n",
      "  _warn_prf(average, modifier, msg_start, len(result))\n",
      "/home/kevinluo/anaconda3/envs/yolov8/lib/python3.9/site-packages/sklearn/metrics/_classification.py:1344: UndefinedMetricWarning: Precision and F-score are ill-defined and being set to 0.0 in labels with no predicted samples. Use `zero_division` parameter to control this behavior.\n",
      "  _warn_prf(average, modifier, msg_start, len(result))\n"
     ]
    },
    {
     "name": "stdout",
     "output_type": "stream",
     "text": [
      "Train Loss: 0.6956, Train Acc: 0.4842\n",
      "Val Loss: 0.6976, Val Acc: 0.5022\n",
      "              precision    recall  f1-score   support\n",
      "\n",
      "      benign       0.00      0.00      0.00       224\n",
      "   malignant       0.50      1.00      0.67       226\n",
      "\n",
      "    accuracy                           0.50       450\n",
      "   macro avg       0.25      0.50      0.33       450\n",
      "weighted avg       0.25      0.50      0.34       450\n",
      "\n",
      "Epoch 19\n"
     ]
    },
    {
     "name": "stderr",
     "output_type": "stream",
     "text": [
      "100%|██████████| 127/127 [01:22<00:00,  1.54it/s]\n",
      "100%|██████████| 15/15 [00:07<00:00,  1.90it/s]\n",
      "/home/kevinluo/anaconda3/envs/yolov8/lib/python3.9/site-packages/sklearn/metrics/_classification.py:1344: UndefinedMetricWarning: Precision and F-score are ill-defined and being set to 0.0 in labels with no predicted samples. Use `zero_division` parameter to control this behavior.\n",
      "  _warn_prf(average, modifier, msg_start, len(result))\n",
      "/home/kevinluo/anaconda3/envs/yolov8/lib/python3.9/site-packages/sklearn/metrics/_classification.py:1344: UndefinedMetricWarning: Precision and F-score are ill-defined and being set to 0.0 in labels with no predicted samples. Use `zero_division` parameter to control this behavior.\n",
      "  _warn_prf(average, modifier, msg_start, len(result))\n",
      "/home/kevinluo/anaconda3/envs/yolov8/lib/python3.9/site-packages/sklearn/metrics/_classification.py:1344: UndefinedMetricWarning: Precision and F-score are ill-defined and being set to 0.0 in labels with no predicted samples. Use `zero_division` parameter to control this behavior.\n",
      "  _warn_prf(average, modifier, msg_start, len(result))\n"
     ]
    },
    {
     "name": "stdout",
     "output_type": "stream",
     "text": [
      "Train Loss: 0.6953, Train Acc: 0.4975\n",
      "Val Loss: 0.6954, Val Acc: 0.4978\n",
      "              precision    recall  f1-score   support\n",
      "\n",
      "      benign       0.50      1.00      0.66       224\n",
      "   malignant       0.00      0.00      0.00       226\n",
      "\n",
      "    accuracy                           0.50       450\n",
      "   macro avg       0.25      0.50      0.33       450\n",
      "weighted avg       0.25      0.50      0.33       450\n",
      "\n",
      "Epoch 20\n"
     ]
    },
    {
     "name": "stderr",
     "output_type": "stream",
     "text": [
      "100%|██████████| 127/127 [01:22<00:00,  1.55it/s]\n",
      "100%|██████████| 15/15 [00:07<00:00,  1.91it/s]\n",
      "/home/kevinluo/anaconda3/envs/yolov8/lib/python3.9/site-packages/sklearn/metrics/_classification.py:1344: UndefinedMetricWarning: Precision and F-score are ill-defined and being set to 0.0 in labels with no predicted samples. Use `zero_division` parameter to control this behavior.\n",
      "  _warn_prf(average, modifier, msg_start, len(result))\n",
      "/home/kevinluo/anaconda3/envs/yolov8/lib/python3.9/site-packages/sklearn/metrics/_classification.py:1344: UndefinedMetricWarning: Precision and F-score are ill-defined and being set to 0.0 in labels with no predicted samples. Use `zero_division` parameter to control this behavior.\n",
      "  _warn_prf(average, modifier, msg_start, len(result))\n",
      "/home/kevinluo/anaconda3/envs/yolov8/lib/python3.9/site-packages/sklearn/metrics/_classification.py:1344: UndefinedMetricWarning: Precision and F-score are ill-defined and being set to 0.0 in labels with no predicted samples. Use `zero_division` parameter to control this behavior.\n",
      "  _warn_prf(average, modifier, msg_start, len(result))\n"
     ]
    },
    {
     "name": "stdout",
     "output_type": "stream",
     "text": [
      "Train Loss: 0.6944, Train Acc: 0.4990\n",
      "Val Loss: 0.6934, Val Acc: 0.5022\n",
      "              precision    recall  f1-score   support\n",
      "\n",
      "      benign       0.00      0.00      0.00       224\n",
      "   malignant       0.50      1.00      0.67       226\n",
      "\n",
      "    accuracy                           0.50       450\n",
      "   macro avg       0.25      0.50      0.33       450\n",
      "weighted avg       0.25      0.50      0.34       450\n",
      "\n",
      "Epoch 21\n"
     ]
    },
    {
     "name": "stderr",
     "output_type": "stream",
     "text": [
      "100%|██████████| 127/127 [01:22<00:00,  1.54it/s]\n",
      "100%|██████████| 15/15 [00:07<00:00,  1.89it/s]\n",
      "/home/kevinluo/anaconda3/envs/yolov8/lib/python3.9/site-packages/sklearn/metrics/_classification.py:1344: UndefinedMetricWarning: Precision and F-score are ill-defined and being set to 0.0 in labels with no predicted samples. Use `zero_division` parameter to control this behavior.\n",
      "  _warn_prf(average, modifier, msg_start, len(result))\n",
      "/home/kevinluo/anaconda3/envs/yolov8/lib/python3.9/site-packages/sklearn/metrics/_classification.py:1344: UndefinedMetricWarning: Precision and F-score are ill-defined and being set to 0.0 in labels with no predicted samples. Use `zero_division` parameter to control this behavior.\n",
      "  _warn_prf(average, modifier, msg_start, len(result))\n",
      "/home/kevinluo/anaconda3/envs/yolov8/lib/python3.9/site-packages/sklearn/metrics/_classification.py:1344: UndefinedMetricWarning: Precision and F-score are ill-defined and being set to 0.0 in labels with no predicted samples. Use `zero_division` parameter to control this behavior.\n",
      "  _warn_prf(average, modifier, msg_start, len(result))\n"
     ]
    },
    {
     "name": "stdout",
     "output_type": "stream",
     "text": [
      "Train Loss: 0.6950, Train Acc: 0.4973\n",
      "Val Loss: 0.6933, Val Acc: 0.5022\n",
      "              precision    recall  f1-score   support\n",
      "\n",
      "      benign       0.00      0.00      0.00       224\n",
      "   malignant       0.50      1.00      0.67       226\n",
      "\n",
      "    accuracy                           0.50       450\n",
      "   macro avg       0.25      0.50      0.33       450\n",
      "weighted avg       0.25      0.50      0.34       450\n",
      "\n",
      "Epoch 22\n"
     ]
    },
    {
     "name": "stderr",
     "output_type": "stream",
     "text": [
      "100%|██████████| 127/127 [01:21<00:00,  1.55it/s]\n",
      "100%|██████████| 15/15 [00:08<00:00,  1.87it/s]\n",
      "/home/kevinluo/anaconda3/envs/yolov8/lib/python3.9/site-packages/sklearn/metrics/_classification.py:1344: UndefinedMetricWarning: Precision and F-score are ill-defined and being set to 0.0 in labels with no predicted samples. Use `zero_division` parameter to control this behavior.\n",
      "  _warn_prf(average, modifier, msg_start, len(result))\n",
      "/home/kevinluo/anaconda3/envs/yolov8/lib/python3.9/site-packages/sklearn/metrics/_classification.py:1344: UndefinedMetricWarning: Precision and F-score are ill-defined and being set to 0.0 in labels with no predicted samples. Use `zero_division` parameter to control this behavior.\n",
      "  _warn_prf(average, modifier, msg_start, len(result))\n",
      "/home/kevinluo/anaconda3/envs/yolov8/lib/python3.9/site-packages/sklearn/metrics/_classification.py:1344: UndefinedMetricWarning: Precision and F-score are ill-defined and being set to 0.0 in labels with no predicted samples. Use `zero_division` parameter to control this behavior.\n",
      "  _warn_prf(average, modifier, msg_start, len(result))\n"
     ]
    },
    {
     "name": "stdout",
     "output_type": "stream",
     "text": [
      "Train Loss: 0.6946, Train Acc: 0.4978\n",
      "Val Loss: 0.6932, Val Acc: 0.5022\n",
      "              precision    recall  f1-score   support\n",
      "\n",
      "      benign       0.00      0.00      0.00       224\n",
      "   malignant       0.50      1.00      0.67       226\n",
      "\n",
      "    accuracy                           0.50       450\n",
      "   macro avg       0.25      0.50      0.33       450\n",
      "weighted avg       0.25      0.50      0.34       450\n",
      "\n",
      "Epoch 23\n"
     ]
    },
    {
     "name": "stderr",
     "output_type": "stream",
     "text": [
      "100%|██████████| 127/127 [01:21<00:00,  1.55it/s]\n",
      "100%|██████████| 15/15 [00:07<00:00,  1.91it/s]\n",
      "/home/kevinluo/anaconda3/envs/yolov8/lib/python3.9/site-packages/sklearn/metrics/_classification.py:1344: UndefinedMetricWarning: Precision and F-score are ill-defined and being set to 0.0 in labels with no predicted samples. Use `zero_division` parameter to control this behavior.\n",
      "  _warn_prf(average, modifier, msg_start, len(result))\n",
      "/home/kevinluo/anaconda3/envs/yolov8/lib/python3.9/site-packages/sklearn/metrics/_classification.py:1344: UndefinedMetricWarning: Precision and F-score are ill-defined and being set to 0.0 in labels with no predicted samples. Use `zero_division` parameter to control this behavior.\n",
      "  _warn_prf(average, modifier, msg_start, len(result))\n",
      "/home/kevinluo/anaconda3/envs/yolov8/lib/python3.9/site-packages/sklearn/metrics/_classification.py:1344: UndefinedMetricWarning: Precision and F-score are ill-defined and being set to 0.0 in labels with no predicted samples. Use `zero_division` parameter to control this behavior.\n",
      "  _warn_prf(average, modifier, msg_start, len(result))\n"
     ]
    },
    {
     "name": "stdout",
     "output_type": "stream",
     "text": [
      "Train Loss: 0.6943, Train Acc: 0.5000\n",
      "Val Loss: 0.6934, Val Acc: 0.5022\n",
      "              precision    recall  f1-score   support\n",
      "\n",
      "      benign       0.00      0.00      0.00       224\n",
      "   malignant       0.50      1.00      0.67       226\n",
      "\n",
      "    accuracy                           0.50       450\n",
      "   macro avg       0.25      0.50      0.33       450\n",
      "weighted avg       0.25      0.50      0.34       450\n",
      "\n",
      "Epoch 24\n"
     ]
    },
    {
     "name": "stderr",
     "output_type": "stream",
     "text": [
      "100%|██████████| 127/127 [01:21<00:00,  1.55it/s]\n",
      "100%|██████████| 15/15 [00:07<00:00,  1.90it/s]\n",
      "/home/kevinluo/anaconda3/envs/yolov8/lib/python3.9/site-packages/sklearn/metrics/_classification.py:1344: UndefinedMetricWarning: Precision and F-score are ill-defined and being set to 0.0 in labels with no predicted samples. Use `zero_division` parameter to control this behavior.\n",
      "  _warn_prf(average, modifier, msg_start, len(result))\n",
      "/home/kevinluo/anaconda3/envs/yolov8/lib/python3.9/site-packages/sklearn/metrics/_classification.py:1344: UndefinedMetricWarning: Precision and F-score are ill-defined and being set to 0.0 in labels with no predicted samples. Use `zero_division` parameter to control this behavior.\n",
      "  _warn_prf(average, modifier, msg_start, len(result))\n",
      "/home/kevinluo/anaconda3/envs/yolov8/lib/python3.9/site-packages/sklearn/metrics/_classification.py:1344: UndefinedMetricWarning: Precision and F-score are ill-defined and being set to 0.0 in labels with no predicted samples. Use `zero_division` parameter to control this behavior.\n",
      "  _warn_prf(average, modifier, msg_start, len(result))\n"
     ]
    },
    {
     "name": "stdout",
     "output_type": "stream",
     "text": [
      "Train Loss: 0.6941, Train Acc: 0.4879\n",
      "Val Loss: 0.6933, Val Acc: 0.5022\n",
      "              precision    recall  f1-score   support\n",
      "\n",
      "      benign       0.00      0.00      0.00       224\n",
      "   malignant       0.50      1.00      0.67       226\n",
      "\n",
      "    accuracy                           0.50       450\n",
      "   macro avg       0.25      0.50      0.33       450\n",
      "weighted avg       0.25      0.50      0.34       450\n",
      "\n",
      "Epoch 25\n"
     ]
    },
    {
     "name": "stderr",
     "output_type": "stream",
     "text": [
      "100%|██████████| 127/127 [01:21<00:00,  1.55it/s]\n",
      "100%|██████████| 15/15 [00:07<00:00,  1.91it/s]\n",
      "/home/kevinluo/anaconda3/envs/yolov8/lib/python3.9/site-packages/sklearn/metrics/_classification.py:1344: UndefinedMetricWarning: Precision and F-score are ill-defined and being set to 0.0 in labels with no predicted samples. Use `zero_division` parameter to control this behavior.\n",
      "  _warn_prf(average, modifier, msg_start, len(result))\n",
      "/home/kevinluo/anaconda3/envs/yolov8/lib/python3.9/site-packages/sklearn/metrics/_classification.py:1344: UndefinedMetricWarning: Precision and F-score are ill-defined and being set to 0.0 in labels with no predicted samples. Use `zero_division` parameter to control this behavior.\n",
      "  _warn_prf(average, modifier, msg_start, len(result))\n",
      "/home/kevinluo/anaconda3/envs/yolov8/lib/python3.9/site-packages/sklearn/metrics/_classification.py:1344: UndefinedMetricWarning: Precision and F-score are ill-defined and being set to 0.0 in labels with no predicted samples. Use `zero_division` parameter to control this behavior.\n",
      "  _warn_prf(average, modifier, msg_start, len(result))\n"
     ]
    },
    {
     "name": "stdout",
     "output_type": "stream",
     "text": [
      "Train Loss: 0.6938, Train Acc: 0.5000\n",
      "Val Loss: 0.6931, Val Acc: 0.5022\n",
      "              precision    recall  f1-score   support\n",
      "\n",
      "      benign       0.00      0.00      0.00       224\n",
      "   malignant       0.50      1.00      0.67       226\n",
      "\n",
      "    accuracy                           0.50       450\n",
      "   macro avg       0.25      0.50      0.33       450\n",
      "weighted avg       0.25      0.50      0.34       450\n",
      "\n",
      "Fold 8\n",
      "Epoch 1\n"
     ]
    },
    {
     "name": "stderr",
     "output_type": "stream",
     "text": [
      "100%|██████████| 127/127 [01:21<00:00,  1.55it/s]\n",
      "100%|██████████| 15/15 [00:07<00:00,  1.92it/s]\n"
     ]
    },
    {
     "name": "stdout",
     "output_type": "stream",
     "text": [
      "Train Loss: 0.7489, Train Acc: 0.5881\n",
      "Val Loss: 0.6654, Val Acc: 0.5889\n",
      "              precision    recall  f1-score   support\n",
      "\n",
      "      benign       0.58      0.65      0.61       224\n",
      "   malignant       0.60      0.53      0.56       226\n",
      "\n",
      "    accuracy                           0.59       450\n",
      "   macro avg       0.59      0.59      0.59       450\n",
      "weighted avg       0.59      0.59      0.59       450\n",
      "\n",
      "Epoch 2\n"
     ]
    },
    {
     "name": "stderr",
     "output_type": "stream",
     "text": [
      "100%|██████████| 127/127 [01:21<00:00,  1.55it/s]\n",
      "100%|██████████| 15/15 [00:07<00:00,  1.92it/s]\n"
     ]
    },
    {
     "name": "stdout",
     "output_type": "stream",
     "text": [
      "Train Loss: 0.6805, Train Acc: 0.5921\n",
      "Val Loss: 0.6976, Val Acc: 0.4978\n",
      "              precision    recall  f1-score   support\n",
      "\n",
      "      benign       0.50      0.99      0.66       224\n",
      "   malignant       0.50      0.01      0.03       226\n",
      "\n",
      "    accuracy                           0.50       450\n",
      "   macro avg       0.50      0.50      0.34       450\n",
      "weighted avg       0.50      0.50      0.34       450\n",
      "\n",
      "Epoch 3\n"
     ]
    },
    {
     "name": "stderr",
     "output_type": "stream",
     "text": [
      "100%|██████████| 127/127 [01:21<00:00,  1.56it/s]\n",
      "100%|██████████| 15/15 [00:07<00:00,  1.92it/s]\n",
      "/home/kevinluo/anaconda3/envs/yolov8/lib/python3.9/site-packages/sklearn/metrics/_classification.py:1344: UndefinedMetricWarning: Precision and F-score are ill-defined and being set to 0.0 in labels with no predicted samples. Use `zero_division` parameter to control this behavior.\n",
      "  _warn_prf(average, modifier, msg_start, len(result))\n",
      "/home/kevinluo/anaconda3/envs/yolov8/lib/python3.9/site-packages/sklearn/metrics/_classification.py:1344: UndefinedMetricWarning: Precision and F-score are ill-defined and being set to 0.0 in labels with no predicted samples. Use `zero_division` parameter to control this behavior.\n",
      "  _warn_prf(average, modifier, msg_start, len(result))\n",
      "/home/kevinluo/anaconda3/envs/yolov8/lib/python3.9/site-packages/sklearn/metrics/_classification.py:1344: UndefinedMetricWarning: Precision and F-score are ill-defined and being set to 0.0 in labels with no predicted samples. Use `zero_division` parameter to control this behavior.\n",
      "  _warn_prf(average, modifier, msg_start, len(result))\n"
     ]
    },
    {
     "name": "stdout",
     "output_type": "stream",
     "text": [
      "Train Loss: 0.7167, Train Acc: 0.4983\n",
      "Val Loss: 0.6958, Val Acc: 0.4978\n",
      "              precision    recall  f1-score   support\n",
      "\n",
      "      benign       0.50      1.00      0.66       224\n",
      "   malignant       0.00      0.00      0.00       226\n",
      "\n",
      "    accuracy                           0.50       450\n",
      "   macro avg       0.25      0.50      0.33       450\n",
      "weighted avg       0.25      0.50      0.33       450\n",
      "\n",
      "Epoch 4\n"
     ]
    },
    {
     "name": "stderr",
     "output_type": "stream",
     "text": [
      "100%|██████████| 127/127 [01:21<00:00,  1.55it/s]\n",
      "100%|██████████| 15/15 [00:07<00:00,  1.92it/s]\n",
      "/home/kevinluo/anaconda3/envs/yolov8/lib/python3.9/site-packages/sklearn/metrics/_classification.py:1344: UndefinedMetricWarning: Precision and F-score are ill-defined and being set to 0.0 in labels with no predicted samples. Use `zero_division` parameter to control this behavior.\n",
      "  _warn_prf(average, modifier, msg_start, len(result))\n",
      "/home/kevinluo/anaconda3/envs/yolov8/lib/python3.9/site-packages/sklearn/metrics/_classification.py:1344: UndefinedMetricWarning: Precision and F-score are ill-defined and being set to 0.0 in labels with no predicted samples. Use `zero_division` parameter to control this behavior.\n",
      "  _warn_prf(average, modifier, msg_start, len(result))\n",
      "/home/kevinluo/anaconda3/envs/yolov8/lib/python3.9/site-packages/sklearn/metrics/_classification.py:1344: UndefinedMetricWarning: Precision and F-score are ill-defined and being set to 0.0 in labels with no predicted samples. Use `zero_division` parameter to control this behavior.\n",
      "  _warn_prf(average, modifier, msg_start, len(result))\n"
     ]
    },
    {
     "name": "stdout",
     "output_type": "stream",
     "text": [
      "Train Loss: 0.7007, Train Acc: 0.5096\n",
      "Val Loss: 0.6959, Val Acc: 0.4978\n",
      "              precision    recall  f1-score   support\n",
      "\n",
      "      benign       0.50      1.00      0.66       224\n",
      "   malignant       0.00      0.00      0.00       226\n",
      "\n",
      "    accuracy                           0.50       450\n",
      "   macro avg       0.25      0.50      0.33       450\n",
      "weighted avg       0.25      0.50      0.33       450\n",
      "\n",
      "Epoch 5\n"
     ]
    },
    {
     "name": "stderr",
     "output_type": "stream",
     "text": [
      "100%|██████████| 127/127 [01:22<00:00,  1.55it/s]\n",
      "100%|██████████| 15/15 [00:07<00:00,  1.92it/s]\n",
      "/home/kevinluo/anaconda3/envs/yolov8/lib/python3.9/site-packages/sklearn/metrics/_classification.py:1344: UndefinedMetricWarning: Precision and F-score are ill-defined and being set to 0.0 in labels with no predicted samples. Use `zero_division` parameter to control this behavior.\n",
      "  _warn_prf(average, modifier, msg_start, len(result))\n",
      "/home/kevinluo/anaconda3/envs/yolov8/lib/python3.9/site-packages/sklearn/metrics/_classification.py:1344: UndefinedMetricWarning: Precision and F-score are ill-defined and being set to 0.0 in labels with no predicted samples. Use `zero_division` parameter to control this behavior.\n",
      "  _warn_prf(average, modifier, msg_start, len(result))\n",
      "/home/kevinluo/anaconda3/envs/yolov8/lib/python3.9/site-packages/sklearn/metrics/_classification.py:1344: UndefinedMetricWarning: Precision and F-score are ill-defined and being set to 0.0 in labels with no predicted samples. Use `zero_division` parameter to control this behavior.\n",
      "  _warn_prf(average, modifier, msg_start, len(result))\n"
     ]
    },
    {
     "name": "stdout",
     "output_type": "stream",
     "text": [
      "Train Loss: 0.6997, Train Acc: 0.4943\n",
      "Val Loss: 0.6932, Val Acc: 0.4978\n",
      "              precision    recall  f1-score   support\n",
      "\n",
      "      benign       0.50      1.00      0.66       224\n",
      "   malignant       0.00      0.00      0.00       226\n",
      "\n",
      "    accuracy                           0.50       450\n",
      "   macro avg       0.25      0.50      0.33       450\n",
      "weighted avg       0.25      0.50      0.33       450\n",
      "\n",
      "Epoch 6\n"
     ]
    },
    {
     "name": "stderr",
     "output_type": "stream",
     "text": [
      "100%|██████████| 127/127 [01:21<00:00,  1.55it/s]\n",
      "100%|██████████| 15/15 [00:07<00:00,  1.91it/s]\n",
      "/home/kevinluo/anaconda3/envs/yolov8/lib/python3.9/site-packages/sklearn/metrics/_classification.py:1344: UndefinedMetricWarning: Precision and F-score are ill-defined and being set to 0.0 in labels with no predicted samples. Use `zero_division` parameter to control this behavior.\n",
      "  _warn_prf(average, modifier, msg_start, len(result))\n",
      "/home/kevinluo/anaconda3/envs/yolov8/lib/python3.9/site-packages/sklearn/metrics/_classification.py:1344: UndefinedMetricWarning: Precision and F-score are ill-defined and being set to 0.0 in labels with no predicted samples. Use `zero_division` parameter to control this behavior.\n",
      "  _warn_prf(average, modifier, msg_start, len(result))\n",
      "/home/kevinluo/anaconda3/envs/yolov8/lib/python3.9/site-packages/sklearn/metrics/_classification.py:1344: UndefinedMetricWarning: Precision and F-score are ill-defined and being set to 0.0 in labels with no predicted samples. Use `zero_division` parameter to control this behavior.\n",
      "  _warn_prf(average, modifier, msg_start, len(result))\n"
     ]
    },
    {
     "name": "stdout",
     "output_type": "stream",
     "text": [
      "Train Loss: 0.7016, Train Acc: 0.4854\n",
      "Val Loss: 0.6968, Val Acc: 0.5022\n",
      "              precision    recall  f1-score   support\n",
      "\n",
      "      benign       0.00      0.00      0.00       224\n",
      "   malignant       0.50      1.00      0.67       226\n",
      "\n",
      "    accuracy                           0.50       450\n",
      "   macro avg       0.25      0.50      0.33       450\n",
      "weighted avg       0.25      0.50      0.34       450\n",
      "\n",
      "Epoch 7\n"
     ]
    },
    {
     "name": "stderr",
     "output_type": "stream",
     "text": [
      "100%|██████████| 127/127 [01:21<00:00,  1.55it/s]\n",
      "100%|██████████| 15/15 [00:07<00:00,  1.92it/s]\n",
      "/home/kevinluo/anaconda3/envs/yolov8/lib/python3.9/site-packages/sklearn/metrics/_classification.py:1344: UndefinedMetricWarning: Precision and F-score are ill-defined and being set to 0.0 in labels with no predicted samples. Use `zero_division` parameter to control this behavior.\n",
      "  _warn_prf(average, modifier, msg_start, len(result))\n",
      "/home/kevinluo/anaconda3/envs/yolov8/lib/python3.9/site-packages/sklearn/metrics/_classification.py:1344: UndefinedMetricWarning: Precision and F-score are ill-defined and being set to 0.0 in labels with no predicted samples. Use `zero_division` parameter to control this behavior.\n",
      "  _warn_prf(average, modifier, msg_start, len(result))\n",
      "/home/kevinluo/anaconda3/envs/yolov8/lib/python3.9/site-packages/sklearn/metrics/_classification.py:1344: UndefinedMetricWarning: Precision and F-score are ill-defined and being set to 0.0 in labels with no predicted samples. Use `zero_division` parameter to control this behavior.\n",
      "  _warn_prf(average, modifier, msg_start, len(result))\n"
     ]
    },
    {
     "name": "stdout",
     "output_type": "stream",
     "text": [
      "Train Loss: 0.6950, Train Acc: 0.4975\n",
      "Val Loss: 0.6932, Val Acc: 0.4978\n",
      "              precision    recall  f1-score   support\n",
      "\n",
      "      benign       0.50      1.00      0.66       224\n",
      "   malignant       0.00      0.00      0.00       226\n",
      "\n",
      "    accuracy                           0.50       450\n",
      "   macro avg       0.25      0.50      0.33       450\n",
      "weighted avg       0.25      0.50      0.33       450\n",
      "\n",
      "Epoch 8\n"
     ]
    },
    {
     "name": "stderr",
     "output_type": "stream",
     "text": [
      "100%|██████████| 127/127 [01:21<00:00,  1.55it/s]\n",
      "100%|██████████| 15/15 [00:07<00:00,  1.92it/s]\n",
      "/home/kevinluo/anaconda3/envs/yolov8/lib/python3.9/site-packages/sklearn/metrics/_classification.py:1344: UndefinedMetricWarning: Precision and F-score are ill-defined and being set to 0.0 in labels with no predicted samples. Use `zero_division` parameter to control this behavior.\n",
      "  _warn_prf(average, modifier, msg_start, len(result))\n",
      "/home/kevinluo/anaconda3/envs/yolov8/lib/python3.9/site-packages/sklearn/metrics/_classification.py:1344: UndefinedMetricWarning: Precision and F-score are ill-defined and being set to 0.0 in labels with no predicted samples. Use `zero_division` parameter to control this behavior.\n",
      "  _warn_prf(average, modifier, msg_start, len(result))\n",
      "/home/kevinluo/anaconda3/envs/yolov8/lib/python3.9/site-packages/sklearn/metrics/_classification.py:1344: UndefinedMetricWarning: Precision and F-score are ill-defined and being set to 0.0 in labels with no predicted samples. Use `zero_division` parameter to control this behavior.\n",
      "  _warn_prf(average, modifier, msg_start, len(result))\n"
     ]
    },
    {
     "name": "stdout",
     "output_type": "stream",
     "text": [
      "Train Loss: 0.6949, Train Acc: 0.4884\n",
      "Val Loss: 0.6934, Val Acc: 0.5022\n",
      "              precision    recall  f1-score   support\n",
      "\n",
      "      benign       0.00      0.00      0.00       224\n",
      "   malignant       0.50      1.00      0.67       226\n",
      "\n",
      "    accuracy                           0.50       450\n",
      "   macro avg       0.25      0.50      0.33       450\n",
      "weighted avg       0.25      0.50      0.34       450\n",
      "\n",
      "Epoch 9\n"
     ]
    },
    {
     "name": "stderr",
     "output_type": "stream",
     "text": [
      "100%|██████████| 127/127 [01:21<00:00,  1.55it/s]\n",
      "100%|██████████| 15/15 [00:07<00:00,  1.92it/s]\n",
      "/home/kevinluo/anaconda3/envs/yolov8/lib/python3.9/site-packages/sklearn/metrics/_classification.py:1344: UndefinedMetricWarning: Precision and F-score are ill-defined and being set to 0.0 in labels with no predicted samples. Use `zero_division` parameter to control this behavior.\n",
      "  _warn_prf(average, modifier, msg_start, len(result))\n",
      "/home/kevinluo/anaconda3/envs/yolov8/lib/python3.9/site-packages/sklearn/metrics/_classification.py:1344: UndefinedMetricWarning: Precision and F-score are ill-defined and being set to 0.0 in labels with no predicted samples. Use `zero_division` parameter to control this behavior.\n",
      "  _warn_prf(average, modifier, msg_start, len(result))\n",
      "/home/kevinluo/anaconda3/envs/yolov8/lib/python3.9/site-packages/sklearn/metrics/_classification.py:1344: UndefinedMetricWarning: Precision and F-score are ill-defined and being set to 0.0 in labels with no predicted samples. Use `zero_division` parameter to control this behavior.\n",
      "  _warn_prf(average, modifier, msg_start, len(result))\n"
     ]
    },
    {
     "name": "stdout",
     "output_type": "stream",
     "text": [
      "Train Loss: 0.6941, Train Acc: 0.5054\n",
      "Val Loss: 0.6960, Val Acc: 0.4978\n",
      "              precision    recall  f1-score   support\n",
      "\n",
      "      benign       0.50      1.00      0.66       224\n",
      "   malignant       0.00      0.00      0.00       226\n",
      "\n",
      "    accuracy                           0.50       450\n",
      "   macro avg       0.25      0.50      0.33       450\n",
      "weighted avg       0.25      0.50      0.33       450\n",
      "\n",
      "Epoch 10\n"
     ]
    },
    {
     "name": "stderr",
     "output_type": "stream",
     "text": [
      "100%|██████████| 127/127 [01:21<00:00,  1.55it/s]\n",
      "100%|██████████| 15/15 [00:07<00:00,  1.92it/s]\n",
      "/home/kevinluo/anaconda3/envs/yolov8/lib/python3.9/site-packages/sklearn/metrics/_classification.py:1344: UndefinedMetricWarning: Precision and F-score are ill-defined and being set to 0.0 in labels with no predicted samples. Use `zero_division` parameter to control this behavior.\n",
      "  _warn_prf(average, modifier, msg_start, len(result))\n",
      "/home/kevinluo/anaconda3/envs/yolov8/lib/python3.9/site-packages/sklearn/metrics/_classification.py:1344: UndefinedMetricWarning: Precision and F-score are ill-defined and being set to 0.0 in labels with no predicted samples. Use `zero_division` parameter to control this behavior.\n",
      "  _warn_prf(average, modifier, msg_start, len(result))\n",
      "/home/kevinluo/anaconda3/envs/yolov8/lib/python3.9/site-packages/sklearn/metrics/_classification.py:1344: UndefinedMetricWarning: Precision and F-score are ill-defined and being set to 0.0 in labels with no predicted samples. Use `zero_division` parameter to control this behavior.\n",
      "  _warn_prf(average, modifier, msg_start, len(result))\n"
     ]
    },
    {
     "name": "stdout",
     "output_type": "stream",
     "text": [
      "Train Loss: 0.6950, Train Acc: 0.5015\n",
      "Val Loss: 0.6936, Val Acc: 0.5022\n",
      "              precision    recall  f1-score   support\n",
      "\n",
      "      benign       0.00      0.00      0.00       224\n",
      "   malignant       0.50      1.00      0.67       226\n",
      "\n",
      "    accuracy                           0.50       450\n",
      "   macro avg       0.25      0.50      0.33       450\n",
      "weighted avg       0.25      0.50      0.34       450\n",
      "\n",
      "Epoch 11\n"
     ]
    },
    {
     "name": "stderr",
     "output_type": "stream",
     "text": [
      "100%|██████████| 127/127 [01:21<00:00,  1.55it/s]\n",
      "100%|██████████| 15/15 [00:07<00:00,  1.92it/s]\n",
      "/home/kevinluo/anaconda3/envs/yolov8/lib/python3.9/site-packages/sklearn/metrics/_classification.py:1344: UndefinedMetricWarning: Precision and F-score are ill-defined and being set to 0.0 in labels with no predicted samples. Use `zero_division` parameter to control this behavior.\n",
      "  _warn_prf(average, modifier, msg_start, len(result))\n",
      "/home/kevinluo/anaconda3/envs/yolov8/lib/python3.9/site-packages/sklearn/metrics/_classification.py:1344: UndefinedMetricWarning: Precision and F-score are ill-defined and being set to 0.0 in labels with no predicted samples. Use `zero_division` parameter to control this behavior.\n",
      "  _warn_prf(average, modifier, msg_start, len(result))\n",
      "/home/kevinluo/anaconda3/envs/yolov8/lib/python3.9/site-packages/sklearn/metrics/_classification.py:1344: UndefinedMetricWarning: Precision and F-score are ill-defined and being set to 0.0 in labels with no predicted samples. Use `zero_division` parameter to control this behavior.\n",
      "  _warn_prf(average, modifier, msg_start, len(result))\n"
     ]
    },
    {
     "name": "stdout",
     "output_type": "stream",
     "text": [
      "Train Loss: 0.6949, Train Acc: 0.4933\n",
      "Val Loss: 0.6933, Val Acc: 0.4978\n",
      "              precision    recall  f1-score   support\n",
      "\n",
      "      benign       0.50      1.00      0.66       224\n",
      "   malignant       0.00      0.00      0.00       226\n",
      "\n",
      "    accuracy                           0.50       450\n",
      "   macro avg       0.25      0.50      0.33       450\n",
      "weighted avg       0.25      0.50      0.33       450\n",
      "\n",
      "Epoch 12\n"
     ]
    },
    {
     "name": "stderr",
     "output_type": "stream",
     "text": [
      "100%|██████████| 127/127 [01:21<00:00,  1.55it/s]\n",
      "100%|██████████| 15/15 [00:07<00:00,  1.92it/s]\n",
      "/home/kevinluo/anaconda3/envs/yolov8/lib/python3.9/site-packages/sklearn/metrics/_classification.py:1344: UndefinedMetricWarning: Precision and F-score are ill-defined and being set to 0.0 in labels with no predicted samples. Use `zero_division` parameter to control this behavior.\n",
      "  _warn_prf(average, modifier, msg_start, len(result))\n",
      "/home/kevinluo/anaconda3/envs/yolov8/lib/python3.9/site-packages/sklearn/metrics/_classification.py:1344: UndefinedMetricWarning: Precision and F-score are ill-defined and being set to 0.0 in labels with no predicted samples. Use `zero_division` parameter to control this behavior.\n",
      "  _warn_prf(average, modifier, msg_start, len(result))\n",
      "/home/kevinluo/anaconda3/envs/yolov8/lib/python3.9/site-packages/sklearn/metrics/_classification.py:1344: UndefinedMetricWarning: Precision and F-score are ill-defined and being set to 0.0 in labels with no predicted samples. Use `zero_division` parameter to control this behavior.\n",
      "  _warn_prf(average, modifier, msg_start, len(result))\n"
     ]
    },
    {
     "name": "stdout",
     "output_type": "stream",
     "text": [
      "Train Loss: 0.6945, Train Acc: 0.4953\n",
      "Val Loss: 0.6932, Val Acc: 0.5022\n",
      "              precision    recall  f1-score   support\n",
      "\n",
      "      benign       0.00      0.00      0.00       224\n",
      "   malignant       0.50      1.00      0.67       226\n",
      "\n",
      "    accuracy                           0.50       450\n",
      "   macro avg       0.25      0.50      0.33       450\n",
      "weighted avg       0.25      0.50      0.34       450\n",
      "\n",
      "Epoch 13\n"
     ]
    },
    {
     "name": "stderr",
     "output_type": "stream",
     "text": [
      "100%|██████████| 127/127 [01:21<00:00,  1.55it/s]\n",
      "100%|██████████| 15/15 [00:07<00:00,  1.92it/s]\n",
      "/home/kevinluo/anaconda3/envs/yolov8/lib/python3.9/site-packages/sklearn/metrics/_classification.py:1344: UndefinedMetricWarning: Precision and F-score are ill-defined and being set to 0.0 in labels with no predicted samples. Use `zero_division` parameter to control this behavior.\n",
      "  _warn_prf(average, modifier, msg_start, len(result))\n",
      "/home/kevinluo/anaconda3/envs/yolov8/lib/python3.9/site-packages/sklearn/metrics/_classification.py:1344: UndefinedMetricWarning: Precision and F-score are ill-defined and being set to 0.0 in labels with no predicted samples. Use `zero_division` parameter to control this behavior.\n",
      "  _warn_prf(average, modifier, msg_start, len(result))\n",
      "/home/kevinluo/anaconda3/envs/yolov8/lib/python3.9/site-packages/sklearn/metrics/_classification.py:1344: UndefinedMetricWarning: Precision and F-score are ill-defined and being set to 0.0 in labels with no predicted samples. Use `zero_division` parameter to control this behavior.\n",
      "  _warn_prf(average, modifier, msg_start, len(result))\n"
     ]
    },
    {
     "name": "stdout",
     "output_type": "stream",
     "text": [
      "Train Loss: 0.6949, Train Acc: 0.4995\n",
      "Val Loss: 0.6937, Val Acc: 0.5022\n",
      "              precision    recall  f1-score   support\n",
      "\n",
      "      benign       0.00      0.00      0.00       224\n",
      "   malignant       0.50      1.00      0.67       226\n",
      "\n",
      "    accuracy                           0.50       450\n",
      "   macro avg       0.25      0.50      0.33       450\n",
      "weighted avg       0.25      0.50      0.34       450\n",
      "\n",
      "Epoch 14\n"
     ]
    },
    {
     "name": "stderr",
     "output_type": "stream",
     "text": [
      "100%|██████████| 127/127 [01:21<00:00,  1.55it/s]\n",
      "100%|██████████| 15/15 [00:07<00:00,  1.92it/s]\n",
      "/home/kevinluo/anaconda3/envs/yolov8/lib/python3.9/site-packages/sklearn/metrics/_classification.py:1344: UndefinedMetricWarning: Precision and F-score are ill-defined and being set to 0.0 in labels with no predicted samples. Use `zero_division` parameter to control this behavior.\n",
      "  _warn_prf(average, modifier, msg_start, len(result))\n",
      "/home/kevinluo/anaconda3/envs/yolov8/lib/python3.9/site-packages/sklearn/metrics/_classification.py:1344: UndefinedMetricWarning: Precision and F-score are ill-defined and being set to 0.0 in labels with no predicted samples. Use `zero_division` parameter to control this behavior.\n",
      "  _warn_prf(average, modifier, msg_start, len(result))\n",
      "/home/kevinluo/anaconda3/envs/yolov8/lib/python3.9/site-packages/sklearn/metrics/_classification.py:1344: UndefinedMetricWarning: Precision and F-score are ill-defined and being set to 0.0 in labels with no predicted samples. Use `zero_division` parameter to control this behavior.\n",
      "  _warn_prf(average, modifier, msg_start, len(result))\n"
     ]
    },
    {
     "name": "stdout",
     "output_type": "stream",
     "text": [
      "Train Loss: 0.6940, Train Acc: 0.5032\n",
      "Val Loss: 0.7023, Val Acc: 0.5022\n",
      "              precision    recall  f1-score   support\n",
      "\n",
      "      benign       0.00      0.00      0.00       224\n",
      "   malignant       0.50      1.00      0.67       226\n",
      "\n",
      "    accuracy                           0.50       450\n",
      "   macro avg       0.25      0.50      0.33       450\n",
      "weighted avg       0.25      0.50      0.34       450\n",
      "\n",
      "Epoch 15\n"
     ]
    },
    {
     "name": "stderr",
     "output_type": "stream",
     "text": [
      "100%|██████████| 127/127 [01:21<00:00,  1.55it/s]\n",
      "100%|██████████| 15/15 [00:07<00:00,  1.92it/s]\n",
      "/home/kevinluo/anaconda3/envs/yolov8/lib/python3.9/site-packages/sklearn/metrics/_classification.py:1344: UndefinedMetricWarning: Precision and F-score are ill-defined and being set to 0.0 in labels with no predicted samples. Use `zero_division` parameter to control this behavior.\n",
      "  _warn_prf(average, modifier, msg_start, len(result))\n",
      "/home/kevinluo/anaconda3/envs/yolov8/lib/python3.9/site-packages/sklearn/metrics/_classification.py:1344: UndefinedMetricWarning: Precision and F-score are ill-defined and being set to 0.0 in labels with no predicted samples. Use `zero_division` parameter to control this behavior.\n",
      "  _warn_prf(average, modifier, msg_start, len(result))\n",
      "/home/kevinluo/anaconda3/envs/yolov8/lib/python3.9/site-packages/sklearn/metrics/_classification.py:1344: UndefinedMetricWarning: Precision and F-score are ill-defined and being set to 0.0 in labels with no predicted samples. Use `zero_division` parameter to control this behavior.\n",
      "  _warn_prf(average, modifier, msg_start, len(result))\n"
     ]
    },
    {
     "name": "stdout",
     "output_type": "stream",
     "text": [
      "Train Loss: 0.6969, Train Acc: 0.5002\n",
      "Val Loss: 0.6936, Val Acc: 0.4978\n",
      "              precision    recall  f1-score   support\n",
      "\n",
      "      benign       0.50      1.00      0.66       224\n",
      "   malignant       0.00      0.00      0.00       226\n",
      "\n",
      "    accuracy                           0.50       450\n",
      "   macro avg       0.25      0.50      0.33       450\n",
      "weighted avg       0.25      0.50      0.33       450\n",
      "\n",
      "Epoch 16\n"
     ]
    },
    {
     "name": "stderr",
     "output_type": "stream",
     "text": [
      "100%|██████████| 127/127 [01:21<00:00,  1.55it/s]\n",
      "100%|██████████| 15/15 [00:07<00:00,  1.92it/s]\n",
      "/home/kevinluo/anaconda3/envs/yolov8/lib/python3.9/site-packages/sklearn/metrics/_classification.py:1344: UndefinedMetricWarning: Precision and F-score are ill-defined and being set to 0.0 in labels with no predicted samples. Use `zero_division` parameter to control this behavior.\n",
      "  _warn_prf(average, modifier, msg_start, len(result))\n",
      "/home/kevinluo/anaconda3/envs/yolov8/lib/python3.9/site-packages/sklearn/metrics/_classification.py:1344: UndefinedMetricWarning: Precision and F-score are ill-defined and being set to 0.0 in labels with no predicted samples. Use `zero_division` parameter to control this behavior.\n",
      "  _warn_prf(average, modifier, msg_start, len(result))\n",
      "/home/kevinluo/anaconda3/envs/yolov8/lib/python3.9/site-packages/sklearn/metrics/_classification.py:1344: UndefinedMetricWarning: Precision and F-score are ill-defined and being set to 0.0 in labels with no predicted samples. Use `zero_division` parameter to control this behavior.\n",
      "  _warn_prf(average, modifier, msg_start, len(result))\n"
     ]
    },
    {
     "name": "stdout",
     "output_type": "stream",
     "text": [
      "Train Loss: 0.6953, Train Acc: 0.5081\n",
      "Val Loss: 0.6941, Val Acc: 0.5022\n",
      "              precision    recall  f1-score   support\n",
      "\n",
      "      benign       0.00      0.00      0.00       224\n",
      "   malignant       0.50      1.00      0.67       226\n",
      "\n",
      "    accuracy                           0.50       450\n",
      "   macro avg       0.25      0.50      0.33       450\n",
      "weighted avg       0.25      0.50      0.34       450\n",
      "\n",
      "Epoch 17\n"
     ]
    },
    {
     "name": "stderr",
     "output_type": "stream",
     "text": [
      "100%|██████████| 127/127 [01:21<00:00,  1.55it/s]\n",
      "100%|██████████| 15/15 [00:07<00:00,  1.93it/s]\n",
      "/home/kevinluo/anaconda3/envs/yolov8/lib/python3.9/site-packages/sklearn/metrics/_classification.py:1344: UndefinedMetricWarning: Precision and F-score are ill-defined and being set to 0.0 in labels with no predicted samples. Use `zero_division` parameter to control this behavior.\n",
      "  _warn_prf(average, modifier, msg_start, len(result))\n",
      "/home/kevinluo/anaconda3/envs/yolov8/lib/python3.9/site-packages/sklearn/metrics/_classification.py:1344: UndefinedMetricWarning: Precision and F-score are ill-defined and being set to 0.0 in labels with no predicted samples. Use `zero_division` parameter to control this behavior.\n",
      "  _warn_prf(average, modifier, msg_start, len(result))\n",
      "/home/kevinluo/anaconda3/envs/yolov8/lib/python3.9/site-packages/sklearn/metrics/_classification.py:1344: UndefinedMetricWarning: Precision and F-score are ill-defined and being set to 0.0 in labels with no predicted samples. Use `zero_division` parameter to control this behavior.\n",
      "  _warn_prf(average, modifier, msg_start, len(result))\n"
     ]
    },
    {
     "name": "stdout",
     "output_type": "stream",
     "text": [
      "Train Loss: 0.6942, Train Acc: 0.4958\n",
      "Val Loss: 0.6935, Val Acc: 0.4978\n",
      "              precision    recall  f1-score   support\n",
      "\n",
      "      benign       0.50      1.00      0.66       224\n",
      "   malignant       0.00      0.00      0.00       226\n",
      "\n",
      "    accuracy                           0.50       450\n",
      "   macro avg       0.25      0.50      0.33       450\n",
      "weighted avg       0.25      0.50      0.33       450\n",
      "\n",
      "Epoch 18\n"
     ]
    },
    {
     "name": "stderr",
     "output_type": "stream",
     "text": [
      "100%|██████████| 127/127 [01:21<00:00,  1.55it/s]\n",
      "100%|██████████| 15/15 [00:07<00:00,  1.92it/s]\n",
      "/home/kevinluo/anaconda3/envs/yolov8/lib/python3.9/site-packages/sklearn/metrics/_classification.py:1344: UndefinedMetricWarning: Precision and F-score are ill-defined and being set to 0.0 in labels with no predicted samples. Use `zero_division` parameter to control this behavior.\n",
      "  _warn_prf(average, modifier, msg_start, len(result))\n",
      "/home/kevinluo/anaconda3/envs/yolov8/lib/python3.9/site-packages/sklearn/metrics/_classification.py:1344: UndefinedMetricWarning: Precision and F-score are ill-defined and being set to 0.0 in labels with no predicted samples. Use `zero_division` parameter to control this behavior.\n",
      "  _warn_prf(average, modifier, msg_start, len(result))\n",
      "/home/kevinluo/anaconda3/envs/yolov8/lib/python3.9/site-packages/sklearn/metrics/_classification.py:1344: UndefinedMetricWarning: Precision and F-score are ill-defined and being set to 0.0 in labels with no predicted samples. Use `zero_division` parameter to control this behavior.\n",
      "  _warn_prf(average, modifier, msg_start, len(result))\n"
     ]
    },
    {
     "name": "stdout",
     "output_type": "stream",
     "text": [
      "Train Loss: 0.6941, Train Acc: 0.5099\n",
      "Val Loss: 0.6934, Val Acc: 0.5022\n",
      "              precision    recall  f1-score   support\n",
      "\n",
      "      benign       0.00      0.00      0.00       224\n",
      "   malignant       0.50      1.00      0.67       226\n",
      "\n",
      "    accuracy                           0.50       450\n",
      "   macro avg       0.25      0.50      0.33       450\n",
      "weighted avg       0.25      0.50      0.34       450\n",
      "\n",
      "Epoch 19\n"
     ]
    },
    {
     "name": "stderr",
     "output_type": "stream",
     "text": [
      "100%|██████████| 127/127 [01:21<00:00,  1.56it/s]\n",
      "100%|██████████| 15/15 [00:07<00:00,  1.91it/s]\n",
      "/home/kevinluo/anaconda3/envs/yolov8/lib/python3.9/site-packages/sklearn/metrics/_classification.py:1344: UndefinedMetricWarning: Precision and F-score are ill-defined and being set to 0.0 in labels with no predicted samples. Use `zero_division` parameter to control this behavior.\n",
      "  _warn_prf(average, modifier, msg_start, len(result))\n",
      "/home/kevinluo/anaconda3/envs/yolov8/lib/python3.9/site-packages/sklearn/metrics/_classification.py:1344: UndefinedMetricWarning: Precision and F-score are ill-defined and being set to 0.0 in labels with no predicted samples. Use `zero_division` parameter to control this behavior.\n",
      "  _warn_prf(average, modifier, msg_start, len(result))\n",
      "/home/kevinluo/anaconda3/envs/yolov8/lib/python3.9/site-packages/sklearn/metrics/_classification.py:1344: UndefinedMetricWarning: Precision and F-score are ill-defined and being set to 0.0 in labels with no predicted samples. Use `zero_division` parameter to control this behavior.\n",
      "  _warn_prf(average, modifier, msg_start, len(result))\n"
     ]
    },
    {
     "name": "stdout",
     "output_type": "stream",
     "text": [
      "Train Loss: 0.6940, Train Acc: 0.5074\n",
      "Val Loss: 0.6932, Val Acc: 0.4978\n",
      "              precision    recall  f1-score   support\n",
      "\n",
      "      benign       0.50      1.00      0.66       224\n",
      "   malignant       0.00      0.00      0.00       226\n",
      "\n",
      "    accuracy                           0.50       450\n",
      "   macro avg       0.25      0.50      0.33       450\n",
      "weighted avg       0.25      0.50      0.33       450\n",
      "\n",
      "Epoch 20\n"
     ]
    },
    {
     "name": "stderr",
     "output_type": "stream",
     "text": [
      "100%|██████████| 127/127 [01:22<00:00,  1.54it/s]\n",
      "100%|██████████| 15/15 [00:07<00:00,  1.88it/s]\n",
      "/home/kevinluo/anaconda3/envs/yolov8/lib/python3.9/site-packages/sklearn/metrics/_classification.py:1344: UndefinedMetricWarning: Precision and F-score are ill-defined and being set to 0.0 in labels with no predicted samples. Use `zero_division` parameter to control this behavior.\n",
      "  _warn_prf(average, modifier, msg_start, len(result))\n",
      "/home/kevinluo/anaconda3/envs/yolov8/lib/python3.9/site-packages/sklearn/metrics/_classification.py:1344: UndefinedMetricWarning: Precision and F-score are ill-defined and being set to 0.0 in labels with no predicted samples. Use `zero_division` parameter to control this behavior.\n",
      "  _warn_prf(average, modifier, msg_start, len(result))\n",
      "/home/kevinluo/anaconda3/envs/yolov8/lib/python3.9/site-packages/sklearn/metrics/_classification.py:1344: UndefinedMetricWarning: Precision and F-score are ill-defined and being set to 0.0 in labels with no predicted samples. Use `zero_division` parameter to control this behavior.\n",
      "  _warn_prf(average, modifier, msg_start, len(result))\n"
     ]
    },
    {
     "name": "stdout",
     "output_type": "stream",
     "text": [
      "Train Loss: 0.6940, Train Acc: 0.5163\n",
      "Val Loss: 0.6947, Val Acc: 0.5022\n",
      "              precision    recall  f1-score   support\n",
      "\n",
      "      benign       0.00      0.00      0.00       224\n",
      "   malignant       0.50      1.00      0.67       226\n",
      "\n",
      "    accuracy                           0.50       450\n",
      "   macro avg       0.25      0.50      0.33       450\n",
      "weighted avg       0.25      0.50      0.34       450\n",
      "\n",
      "Epoch 21\n"
     ]
    },
    {
     "name": "stderr",
     "output_type": "stream",
     "text": [
      "100%|██████████| 127/127 [01:23<00:00,  1.52it/s]\n",
      "100%|██████████| 15/15 [00:07<00:00,  1.89it/s]\n",
      "/home/kevinluo/anaconda3/envs/yolov8/lib/python3.9/site-packages/sklearn/metrics/_classification.py:1344: UndefinedMetricWarning: Precision and F-score are ill-defined and being set to 0.0 in labels with no predicted samples. Use `zero_division` parameter to control this behavior.\n",
      "  _warn_prf(average, modifier, msg_start, len(result))\n",
      "/home/kevinluo/anaconda3/envs/yolov8/lib/python3.9/site-packages/sklearn/metrics/_classification.py:1344: UndefinedMetricWarning: Precision and F-score are ill-defined and being set to 0.0 in labels with no predicted samples. Use `zero_division` parameter to control this behavior.\n",
      "  _warn_prf(average, modifier, msg_start, len(result))\n",
      "/home/kevinluo/anaconda3/envs/yolov8/lib/python3.9/site-packages/sklearn/metrics/_classification.py:1344: UndefinedMetricWarning: Precision and F-score are ill-defined and being set to 0.0 in labels with no predicted samples. Use `zero_division` parameter to control this behavior.\n",
      "  _warn_prf(average, modifier, msg_start, len(result))\n"
     ]
    },
    {
     "name": "stdout",
     "output_type": "stream",
     "text": [
      "Train Loss: 0.6940, Train Acc: 0.4990\n",
      "Val Loss: 0.6932, Val Acc: 0.4978\n",
      "              precision    recall  f1-score   support\n",
      "\n",
      "      benign       0.50      1.00      0.66       224\n",
      "   malignant       0.00      0.00      0.00       226\n",
      "\n",
      "    accuracy                           0.50       450\n",
      "   macro avg       0.25      0.50      0.33       450\n",
      "weighted avg       0.25      0.50      0.33       450\n",
      "\n",
      "Epoch 22\n"
     ]
    },
    {
     "name": "stderr",
     "output_type": "stream",
     "text": [
      "100%|██████████| 127/127 [01:22<00:00,  1.54it/s]\n",
      "100%|██████████| 15/15 [00:07<00:00,  1.89it/s]\n",
      "/home/kevinluo/anaconda3/envs/yolov8/lib/python3.9/site-packages/sklearn/metrics/_classification.py:1344: UndefinedMetricWarning: Precision and F-score are ill-defined and being set to 0.0 in labels with no predicted samples. Use `zero_division` parameter to control this behavior.\n",
      "  _warn_prf(average, modifier, msg_start, len(result))\n",
      "/home/kevinluo/anaconda3/envs/yolov8/lib/python3.9/site-packages/sklearn/metrics/_classification.py:1344: UndefinedMetricWarning: Precision and F-score are ill-defined and being set to 0.0 in labels with no predicted samples. Use `zero_division` parameter to control this behavior.\n",
      "  _warn_prf(average, modifier, msg_start, len(result))\n",
      "/home/kevinluo/anaconda3/envs/yolov8/lib/python3.9/site-packages/sklearn/metrics/_classification.py:1344: UndefinedMetricWarning: Precision and F-score are ill-defined and being set to 0.0 in labels with no predicted samples. Use `zero_division` parameter to control this behavior.\n",
      "  _warn_prf(average, modifier, msg_start, len(result))\n"
     ]
    },
    {
     "name": "stdout",
     "output_type": "stream",
     "text": [
      "Train Loss: 0.6935, Train Acc: 0.5096\n",
      "Val Loss: 0.6941, Val Acc: 0.5022\n",
      "              precision    recall  f1-score   support\n",
      "\n",
      "      benign       0.00      0.00      0.00       224\n",
      "   malignant       0.50      1.00      0.67       226\n",
      "\n",
      "    accuracy                           0.50       450\n",
      "   macro avg       0.25      0.50      0.33       450\n",
      "weighted avg       0.25      0.50      0.34       450\n",
      "\n",
      "Epoch 23\n"
     ]
    },
    {
     "name": "stderr",
     "output_type": "stream",
     "text": [
      "100%|██████████| 127/127 [01:22<00:00,  1.54it/s]\n",
      "100%|██████████| 15/15 [00:08<00:00,  1.87it/s]\n",
      "/home/kevinluo/anaconda3/envs/yolov8/lib/python3.9/site-packages/sklearn/metrics/_classification.py:1344: UndefinedMetricWarning: Precision and F-score are ill-defined and being set to 0.0 in labels with no predicted samples. Use `zero_division` parameter to control this behavior.\n",
      "  _warn_prf(average, modifier, msg_start, len(result))\n",
      "/home/kevinluo/anaconda3/envs/yolov8/lib/python3.9/site-packages/sklearn/metrics/_classification.py:1344: UndefinedMetricWarning: Precision and F-score are ill-defined and being set to 0.0 in labels with no predicted samples. Use `zero_division` parameter to control this behavior.\n",
      "  _warn_prf(average, modifier, msg_start, len(result))\n",
      "/home/kevinluo/anaconda3/envs/yolov8/lib/python3.9/site-packages/sklearn/metrics/_classification.py:1344: UndefinedMetricWarning: Precision and F-score are ill-defined and being set to 0.0 in labels with no predicted samples. Use `zero_division` parameter to control this behavior.\n",
      "  _warn_prf(average, modifier, msg_start, len(result))\n"
     ]
    },
    {
     "name": "stdout",
     "output_type": "stream",
     "text": [
      "Train Loss: 0.6943, Train Acc: 0.4993\n",
      "Val Loss: 0.6931, Val Acc: 0.5022\n",
      "              precision    recall  f1-score   support\n",
      "\n",
      "      benign       0.00      0.00      0.00       224\n",
      "   malignant       0.50      1.00      0.67       226\n",
      "\n",
      "    accuracy                           0.50       450\n",
      "   macro avg       0.25      0.50      0.33       450\n",
      "weighted avg       0.25      0.50      0.34       450\n",
      "\n",
      "Epoch 24\n"
     ]
    },
    {
     "name": "stderr",
     "output_type": "stream",
     "text": [
      "100%|██████████| 127/127 [01:22<00:00,  1.53it/s]\n",
      "100%|██████████| 15/15 [00:07<00:00,  1.90it/s]\n",
      "/home/kevinluo/anaconda3/envs/yolov8/lib/python3.9/site-packages/sklearn/metrics/_classification.py:1344: UndefinedMetricWarning: Precision and F-score are ill-defined and being set to 0.0 in labels with no predicted samples. Use `zero_division` parameter to control this behavior.\n",
      "  _warn_prf(average, modifier, msg_start, len(result))\n",
      "/home/kevinluo/anaconda3/envs/yolov8/lib/python3.9/site-packages/sklearn/metrics/_classification.py:1344: UndefinedMetricWarning: Precision and F-score are ill-defined and being set to 0.0 in labels with no predicted samples. Use `zero_division` parameter to control this behavior.\n",
      "  _warn_prf(average, modifier, msg_start, len(result))\n",
      "/home/kevinluo/anaconda3/envs/yolov8/lib/python3.9/site-packages/sklearn/metrics/_classification.py:1344: UndefinedMetricWarning: Precision and F-score are ill-defined and being set to 0.0 in labels with no predicted samples. Use `zero_division` parameter to control this behavior.\n",
      "  _warn_prf(average, modifier, msg_start, len(result))\n"
     ]
    },
    {
     "name": "stdout",
     "output_type": "stream",
     "text": [
      "Train Loss: 0.6938, Train Acc: 0.5128\n",
      "Val Loss: 0.6966, Val Acc: 0.5022\n",
      "              precision    recall  f1-score   support\n",
      "\n",
      "      benign       0.00      0.00      0.00       224\n",
      "   malignant       0.50      1.00      0.67       226\n",
      "\n",
      "    accuracy                           0.50       450\n",
      "   macro avg       0.25      0.50      0.33       450\n",
      "weighted avg       0.25      0.50      0.34       450\n",
      "\n",
      "Epoch 25\n"
     ]
    },
    {
     "name": "stderr",
     "output_type": "stream",
     "text": [
      "100%|██████████| 127/127 [01:22<00:00,  1.54it/s]\n",
      "100%|██████████| 15/15 [00:07<00:00,  1.89it/s]\n"
     ]
    },
    {
     "name": "stdout",
     "output_type": "stream",
     "text": [
      "Train Loss: 0.6948, Train Acc: 0.4906\n",
      "Val Loss: 0.6934, Val Acc: 0.4933\n",
      "              precision    recall  f1-score   support\n",
      "\n",
      "      benign       0.40      0.04      0.07       224\n",
      "   malignant       0.50      0.95      0.65       226\n",
      "\n",
      "    accuracy                           0.49       450\n",
      "   macro avg       0.45      0.49      0.36       450\n",
      "weighted avg       0.45      0.49      0.36       450\n",
      "\n",
      "Fold 9\n",
      "Epoch 1\n"
     ]
    },
    {
     "name": "stderr",
     "output_type": "stream",
     "text": [
      "100%|██████████| 127/127 [01:22<00:00,  1.54it/s]\n",
      "100%|██████████| 15/15 [00:08<00:00,  1.87it/s]\n"
     ]
    },
    {
     "name": "stdout",
     "output_type": "stream",
     "text": [
      "Train Loss: 0.8442, Train Acc: 0.5777\n",
      "Val Loss: 0.6862, Val Acc: 0.5711\n",
      "              precision    recall  f1-score   support\n",
      "\n",
      "      benign       0.60      0.43      0.50       224\n",
      "   malignant       0.56      0.71      0.63       226\n",
      "\n",
      "    accuracy                           0.57       450\n",
      "   macro avg       0.58      0.57      0.56       450\n",
      "weighted avg       0.58      0.57      0.56       450\n",
      "\n",
      "Epoch 2\n"
     ]
    },
    {
     "name": "stderr",
     "output_type": "stream",
     "text": [
      "100%|██████████| 127/127 [01:22<00:00,  1.54it/s]\n",
      "100%|██████████| 15/15 [00:07<00:00,  1.88it/s]\n"
     ]
    },
    {
     "name": "stdout",
     "output_type": "stream",
     "text": [
      "Train Loss: 0.6620, Train Acc: 0.6071\n",
      "Val Loss: 0.6884, Val Acc: 0.5378\n",
      "              precision    recall  f1-score   support\n",
      "\n",
      "      benign       0.52      0.86      0.65       224\n",
      "   malignant       0.61      0.22      0.32       226\n",
      "\n",
      "    accuracy                           0.54       450\n",
      "   macro avg       0.57      0.54      0.49       450\n",
      "weighted avg       0.57      0.54      0.48       450\n",
      "\n",
      "Epoch 3\n"
     ]
    },
    {
     "name": "stderr",
     "output_type": "stream",
     "text": [
      "100%|██████████| 127/127 [01:22<00:00,  1.54it/s]\n",
      "100%|██████████| 15/15 [00:08<00:00,  1.87it/s]\n"
     ]
    },
    {
     "name": "stdout",
     "output_type": "stream",
     "text": [
      "Train Loss: 0.6625, Train Acc: 0.5967\n",
      "Val Loss: 0.6886, Val Acc: 0.5489\n",
      "              precision    recall  f1-score   support\n",
      "\n",
      "      benign       0.54      0.69      0.60       224\n",
      "   malignant       0.57      0.41      0.48       226\n",
      "\n",
      "    accuracy                           0.55       450\n",
      "   macro avg       0.55      0.55      0.54       450\n",
      "weighted avg       0.55      0.55      0.54       450\n",
      "\n",
      "Epoch 4\n"
     ]
    },
    {
     "name": "stderr",
     "output_type": "stream",
     "text": [
      "100%|██████████| 127/127 [01:23<00:00,  1.53it/s]\n",
      "100%|██████████| 15/15 [00:08<00:00,  1.87it/s]\n"
     ]
    },
    {
     "name": "stdout",
     "output_type": "stream",
     "text": [
      "Train Loss: 0.6768, Train Acc: 0.5750\n",
      "Val Loss: 0.6954, Val Acc: 0.5667\n",
      "              precision    recall  f1-score   support\n",
      "\n",
      "      benign       0.57      0.52      0.54       224\n",
      "   malignant       0.56      0.62      0.59       226\n",
      "\n",
      "    accuracy                           0.57       450\n",
      "   macro avg       0.57      0.57      0.57       450\n",
      "weighted avg       0.57      0.57      0.57       450\n",
      "\n",
      "Epoch 5\n"
     ]
    },
    {
     "name": "stderr",
     "output_type": "stream",
     "text": [
      "100%|██████████| 127/127 [01:22<00:00,  1.54it/s]\n",
      "100%|██████████| 15/15 [00:07<00:00,  1.89it/s]\n"
     ]
    },
    {
     "name": "stdout",
     "output_type": "stream",
     "text": [
      "Train Loss: 0.6934, Train Acc: 0.5521\n",
      "Val Loss: 0.6926, Val Acc: 0.5089\n",
      "              precision    recall  f1-score   support\n",
      "\n",
      "      benign       0.50      0.98      0.66       224\n",
      "   malignant       0.67      0.04      0.08       226\n",
      "\n",
      "    accuracy                           0.51       450\n",
      "   macro avg       0.59      0.51      0.37       450\n",
      "weighted avg       0.59      0.51      0.37       450\n",
      "\n",
      "Epoch 6\n"
     ]
    },
    {
     "name": "stderr",
     "output_type": "stream",
     "text": [
      "100%|██████████| 127/127 [01:22<00:00,  1.53it/s]\n",
      "100%|██████████| 15/15 [00:07<00:00,  1.89it/s]\n",
      "/home/kevinluo/anaconda3/envs/yolov8/lib/python3.9/site-packages/sklearn/metrics/_classification.py:1344: UndefinedMetricWarning: Precision and F-score are ill-defined and being set to 0.0 in labels with no predicted samples. Use `zero_division` parameter to control this behavior.\n",
      "  _warn_prf(average, modifier, msg_start, len(result))\n",
      "/home/kevinluo/anaconda3/envs/yolov8/lib/python3.9/site-packages/sklearn/metrics/_classification.py:1344: UndefinedMetricWarning: Precision and F-score are ill-defined and being set to 0.0 in labels with no predicted samples. Use `zero_division` parameter to control this behavior.\n",
      "  _warn_prf(average, modifier, msg_start, len(result))\n",
      "/home/kevinluo/anaconda3/envs/yolov8/lib/python3.9/site-packages/sklearn/metrics/_classification.py:1344: UndefinedMetricWarning: Precision and F-score are ill-defined and being set to 0.0 in labels with no predicted samples. Use `zero_division` parameter to control this behavior.\n",
      "  _warn_prf(average, modifier, msg_start, len(result))\n"
     ]
    },
    {
     "name": "stdout",
     "output_type": "stream",
     "text": [
      "Train Loss: 0.7121, Train Acc: 0.4874\n",
      "Val Loss: 0.7073, Val Acc: 0.5022\n",
      "              precision    recall  f1-score   support\n",
      "\n",
      "      benign       0.00      0.00      0.00       224\n",
      "   malignant       0.50      1.00      0.67       226\n",
      "\n",
      "    accuracy                           0.50       450\n",
      "   macro avg       0.25      0.50      0.33       450\n",
      "weighted avg       0.25      0.50      0.34       450\n",
      "\n",
      "Epoch 7\n"
     ]
    },
    {
     "name": "stderr",
     "output_type": "stream",
     "text": [
      "100%|██████████| 127/127 [01:22<00:00,  1.54it/s]\n",
      "100%|██████████| 15/15 [00:07<00:00,  1.90it/s]\n",
      "/home/kevinluo/anaconda3/envs/yolov8/lib/python3.9/site-packages/sklearn/metrics/_classification.py:1344: UndefinedMetricWarning: Precision and F-score are ill-defined and being set to 0.0 in labels with no predicted samples. Use `zero_division` parameter to control this behavior.\n",
      "  _warn_prf(average, modifier, msg_start, len(result))\n",
      "/home/kevinluo/anaconda3/envs/yolov8/lib/python3.9/site-packages/sklearn/metrics/_classification.py:1344: UndefinedMetricWarning: Precision and F-score are ill-defined and being set to 0.0 in labels with no predicted samples. Use `zero_division` parameter to control this behavior.\n",
      "  _warn_prf(average, modifier, msg_start, len(result))\n",
      "/home/kevinluo/anaconda3/envs/yolov8/lib/python3.9/site-packages/sklearn/metrics/_classification.py:1344: UndefinedMetricWarning: Precision and F-score are ill-defined and being set to 0.0 in labels with no predicted samples. Use `zero_division` parameter to control this behavior.\n",
      "  _warn_prf(average, modifier, msg_start, len(result))\n"
     ]
    },
    {
     "name": "stdout",
     "output_type": "stream",
     "text": [
      "Train Loss: 0.7065, Train Acc: 0.5106\n",
      "Val Loss: 0.7012, Val Acc: 0.5022\n",
      "              precision    recall  f1-score   support\n",
      "\n",
      "      benign       0.00      0.00      0.00       224\n",
      "   malignant       0.50      1.00      0.67       226\n",
      "\n",
      "    accuracy                           0.50       450\n",
      "   macro avg       0.25      0.50      0.33       450\n",
      "weighted avg       0.25      0.50      0.34       450\n",
      "\n",
      "Epoch 8\n"
     ]
    },
    {
     "name": "stderr",
     "output_type": "stream",
     "text": [
      "100%|██████████| 127/127 [01:22<00:00,  1.54it/s]\n",
      "100%|██████████| 15/15 [00:08<00:00,  1.87it/s]\n",
      "/home/kevinluo/anaconda3/envs/yolov8/lib/python3.9/site-packages/sklearn/metrics/_classification.py:1344: UndefinedMetricWarning: Precision and F-score are ill-defined and being set to 0.0 in labels with no predicted samples. Use `zero_division` parameter to control this behavior.\n",
      "  _warn_prf(average, modifier, msg_start, len(result))\n",
      "/home/kevinluo/anaconda3/envs/yolov8/lib/python3.9/site-packages/sklearn/metrics/_classification.py:1344: UndefinedMetricWarning: Precision and F-score are ill-defined and being set to 0.0 in labels with no predicted samples. Use `zero_division` parameter to control this behavior.\n",
      "  _warn_prf(average, modifier, msg_start, len(result))\n",
      "/home/kevinluo/anaconda3/envs/yolov8/lib/python3.9/site-packages/sklearn/metrics/_classification.py:1344: UndefinedMetricWarning: Precision and F-score are ill-defined and being set to 0.0 in labels with no predicted samples. Use `zero_division` parameter to control this behavior.\n",
      "  _warn_prf(average, modifier, msg_start, len(result))\n"
     ]
    },
    {
     "name": "stdout",
     "output_type": "stream",
     "text": [
      "Train Loss: 0.7011, Train Acc: 0.4830\n",
      "Val Loss: 0.6985, Val Acc: 0.5022\n",
      "              precision    recall  f1-score   support\n",
      "\n",
      "      benign       0.00      0.00      0.00       224\n",
      "   malignant       0.50      1.00      0.67       226\n",
      "\n",
      "    accuracy                           0.50       450\n",
      "   macro avg       0.25      0.50      0.33       450\n",
      "weighted avg       0.25      0.50      0.34       450\n",
      "\n",
      "Epoch 9\n"
     ]
    },
    {
     "name": "stderr",
     "output_type": "stream",
     "text": [
      "100%|██████████| 127/127 [01:22<00:00,  1.54it/s]\n",
      "100%|██████████| 15/15 [00:07<00:00,  1.88it/s]\n",
      "/home/kevinluo/anaconda3/envs/yolov8/lib/python3.9/site-packages/sklearn/metrics/_classification.py:1344: UndefinedMetricWarning: Precision and F-score are ill-defined and being set to 0.0 in labels with no predicted samples. Use `zero_division` parameter to control this behavior.\n",
      "  _warn_prf(average, modifier, msg_start, len(result))\n",
      "/home/kevinluo/anaconda3/envs/yolov8/lib/python3.9/site-packages/sklearn/metrics/_classification.py:1344: UndefinedMetricWarning: Precision and F-score are ill-defined and being set to 0.0 in labels with no predicted samples. Use `zero_division` parameter to control this behavior.\n",
      "  _warn_prf(average, modifier, msg_start, len(result))\n",
      "/home/kevinluo/anaconda3/envs/yolov8/lib/python3.9/site-packages/sklearn/metrics/_classification.py:1344: UndefinedMetricWarning: Precision and F-score are ill-defined and being set to 0.0 in labels with no predicted samples. Use `zero_division` parameter to control this behavior.\n",
      "  _warn_prf(average, modifier, msg_start, len(result))\n"
     ]
    },
    {
     "name": "stdout",
     "output_type": "stream",
     "text": [
      "Train Loss: 0.6968, Train Acc: 0.5037\n",
      "Val Loss: 0.6932, Val Acc: 0.5022\n",
      "              precision    recall  f1-score   support\n",
      "\n",
      "      benign       0.00      0.00      0.00       224\n",
      "   malignant       0.50      1.00      0.67       226\n",
      "\n",
      "    accuracy                           0.50       450\n",
      "   macro avg       0.25      0.50      0.33       450\n",
      "weighted avg       0.25      0.50      0.34       450\n",
      "\n",
      "Epoch 10\n"
     ]
    },
    {
     "name": "stderr",
     "output_type": "stream",
     "text": [
      "100%|██████████| 127/127 [01:22<00:00,  1.54it/s]\n",
      "100%|██████████| 15/15 [00:07<00:00,  1.91it/s]\n",
      "/home/kevinluo/anaconda3/envs/yolov8/lib/python3.9/site-packages/sklearn/metrics/_classification.py:1344: UndefinedMetricWarning: Precision and F-score are ill-defined and being set to 0.0 in labels with no predicted samples. Use `zero_division` parameter to control this behavior.\n",
      "  _warn_prf(average, modifier, msg_start, len(result))\n",
      "/home/kevinluo/anaconda3/envs/yolov8/lib/python3.9/site-packages/sklearn/metrics/_classification.py:1344: UndefinedMetricWarning: Precision and F-score are ill-defined and being set to 0.0 in labels with no predicted samples. Use `zero_division` parameter to control this behavior.\n",
      "  _warn_prf(average, modifier, msg_start, len(result))\n",
      "/home/kevinluo/anaconda3/envs/yolov8/lib/python3.9/site-packages/sklearn/metrics/_classification.py:1344: UndefinedMetricWarning: Precision and F-score are ill-defined and being set to 0.0 in labels with no predicted samples. Use `zero_division` parameter to control this behavior.\n",
      "  _warn_prf(average, modifier, msg_start, len(result))\n"
     ]
    },
    {
     "name": "stdout",
     "output_type": "stream",
     "text": [
      "Train Loss: 0.6986, Train Acc: 0.4956\n",
      "Val Loss: 0.6931, Val Acc: 0.5022\n",
      "              precision    recall  f1-score   support\n",
      "\n",
      "      benign       0.00      0.00      0.00       224\n",
      "   malignant       0.50      1.00      0.67       226\n",
      "\n",
      "    accuracy                           0.50       450\n",
      "   macro avg       0.25      0.50      0.33       450\n",
      "weighted avg       0.25      0.50      0.34       450\n",
      "\n",
      "Epoch 11\n"
     ]
    },
    {
     "name": "stderr",
     "output_type": "stream",
     "text": [
      "100%|██████████| 127/127 [01:22<00:00,  1.54it/s]\n",
      "100%|██████████| 15/15 [00:07<00:00,  1.91it/s]\n",
      "/home/kevinluo/anaconda3/envs/yolov8/lib/python3.9/site-packages/sklearn/metrics/_classification.py:1344: UndefinedMetricWarning: Precision and F-score are ill-defined and being set to 0.0 in labels with no predicted samples. Use `zero_division` parameter to control this behavior.\n",
      "  _warn_prf(average, modifier, msg_start, len(result))\n",
      "/home/kevinluo/anaconda3/envs/yolov8/lib/python3.9/site-packages/sklearn/metrics/_classification.py:1344: UndefinedMetricWarning: Precision and F-score are ill-defined and being set to 0.0 in labels with no predicted samples. Use `zero_division` parameter to control this behavior.\n",
      "  _warn_prf(average, modifier, msg_start, len(result))\n",
      "/home/kevinluo/anaconda3/envs/yolov8/lib/python3.9/site-packages/sklearn/metrics/_classification.py:1344: UndefinedMetricWarning: Precision and F-score are ill-defined and being set to 0.0 in labels with no predicted samples. Use `zero_division` parameter to control this behavior.\n",
      "  _warn_prf(average, modifier, msg_start, len(result))\n"
     ]
    },
    {
     "name": "stdout",
     "output_type": "stream",
     "text": [
      "Train Loss: 0.6962, Train Acc: 0.5002\n",
      "Val Loss: 0.6940, Val Acc: 0.4978\n",
      "              precision    recall  f1-score   support\n",
      "\n",
      "      benign       0.50      1.00      0.66       224\n",
      "   malignant       0.00      0.00      0.00       226\n",
      "\n",
      "    accuracy                           0.50       450\n",
      "   macro avg       0.25      0.50      0.33       450\n",
      "weighted avg       0.25      0.50      0.33       450\n",
      "\n",
      "Epoch 12\n"
     ]
    },
    {
     "name": "stderr",
     "output_type": "stream",
     "text": [
      "100%|██████████| 127/127 [01:22<00:00,  1.54it/s]\n",
      "100%|██████████| 15/15 [00:07<00:00,  1.89it/s]\n",
      "/home/kevinluo/anaconda3/envs/yolov8/lib/python3.9/site-packages/sklearn/metrics/_classification.py:1344: UndefinedMetricWarning: Precision and F-score are ill-defined and being set to 0.0 in labels with no predicted samples. Use `zero_division` parameter to control this behavior.\n",
      "  _warn_prf(average, modifier, msg_start, len(result))\n",
      "/home/kevinluo/anaconda3/envs/yolov8/lib/python3.9/site-packages/sklearn/metrics/_classification.py:1344: UndefinedMetricWarning: Precision and F-score are ill-defined and being set to 0.0 in labels with no predicted samples. Use `zero_division` parameter to control this behavior.\n",
      "  _warn_prf(average, modifier, msg_start, len(result))\n",
      "/home/kevinluo/anaconda3/envs/yolov8/lib/python3.9/site-packages/sklearn/metrics/_classification.py:1344: UndefinedMetricWarning: Precision and F-score are ill-defined and being set to 0.0 in labels with no predicted samples. Use `zero_division` parameter to control this behavior.\n",
      "  _warn_prf(average, modifier, msg_start, len(result))\n"
     ]
    },
    {
     "name": "stdout",
     "output_type": "stream",
     "text": [
      "Train Loss: 0.6954, Train Acc: 0.4943\n",
      "Val Loss: 0.6931, Val Acc: 0.5022\n",
      "              precision    recall  f1-score   support\n",
      "\n",
      "      benign       0.00      0.00      0.00       224\n",
      "   malignant       0.50      1.00      0.67       226\n",
      "\n",
      "    accuracy                           0.50       450\n",
      "   macro avg       0.25      0.50      0.33       450\n",
      "weighted avg       0.25      0.50      0.34       450\n",
      "\n",
      "Epoch 13\n"
     ]
    },
    {
     "name": "stderr",
     "output_type": "stream",
     "text": [
      "100%|██████████| 127/127 [01:22<00:00,  1.54it/s]\n",
      "100%|██████████| 15/15 [00:07<00:00,  1.89it/s]\n",
      "/home/kevinluo/anaconda3/envs/yolov8/lib/python3.9/site-packages/sklearn/metrics/_classification.py:1344: UndefinedMetricWarning: Precision and F-score are ill-defined and being set to 0.0 in labels with no predicted samples. Use `zero_division` parameter to control this behavior.\n",
      "  _warn_prf(average, modifier, msg_start, len(result))\n",
      "/home/kevinluo/anaconda3/envs/yolov8/lib/python3.9/site-packages/sklearn/metrics/_classification.py:1344: UndefinedMetricWarning: Precision and F-score are ill-defined and being set to 0.0 in labels with no predicted samples. Use `zero_division` parameter to control this behavior.\n",
      "  _warn_prf(average, modifier, msg_start, len(result))\n",
      "/home/kevinluo/anaconda3/envs/yolov8/lib/python3.9/site-packages/sklearn/metrics/_classification.py:1344: UndefinedMetricWarning: Precision and F-score are ill-defined and being set to 0.0 in labels with no predicted samples. Use `zero_division` parameter to control this behavior.\n",
      "  _warn_prf(average, modifier, msg_start, len(result))\n"
     ]
    },
    {
     "name": "stdout",
     "output_type": "stream",
     "text": [
      "Train Loss: 0.6959, Train Acc: 0.4916\n",
      "Val Loss: 0.6933, Val Acc: 0.5022\n",
      "              precision    recall  f1-score   support\n",
      "\n",
      "      benign       0.00      0.00      0.00       224\n",
      "   malignant       0.50      1.00      0.67       226\n",
      "\n",
      "    accuracy                           0.50       450\n",
      "   macro avg       0.25      0.50      0.33       450\n",
      "weighted avg       0.25      0.50      0.34       450\n",
      "\n",
      "Epoch 14\n"
     ]
    },
    {
     "name": "stderr",
     "output_type": "stream",
     "text": [
      "100%|██████████| 127/127 [01:22<00:00,  1.54it/s]\n",
      "100%|██████████| 15/15 [00:07<00:00,  1.90it/s]\n",
      "/home/kevinluo/anaconda3/envs/yolov8/lib/python3.9/site-packages/sklearn/metrics/_classification.py:1344: UndefinedMetricWarning: Precision and F-score are ill-defined and being set to 0.0 in labels with no predicted samples. Use `zero_division` parameter to control this behavior.\n",
      "  _warn_prf(average, modifier, msg_start, len(result))\n",
      "/home/kevinluo/anaconda3/envs/yolov8/lib/python3.9/site-packages/sklearn/metrics/_classification.py:1344: UndefinedMetricWarning: Precision and F-score are ill-defined and being set to 0.0 in labels with no predicted samples. Use `zero_division` parameter to control this behavior.\n",
      "  _warn_prf(average, modifier, msg_start, len(result))\n",
      "/home/kevinluo/anaconda3/envs/yolov8/lib/python3.9/site-packages/sklearn/metrics/_classification.py:1344: UndefinedMetricWarning: Precision and F-score are ill-defined and being set to 0.0 in labels with no predicted samples. Use `zero_division` parameter to control this behavior.\n",
      "  _warn_prf(average, modifier, msg_start, len(result))\n"
     ]
    },
    {
     "name": "stdout",
     "output_type": "stream",
     "text": [
      "Train Loss: 0.6941, Train Acc: 0.4985\n",
      "Val Loss: 0.6945, Val Acc: 0.4978\n",
      "              precision    recall  f1-score   support\n",
      "\n",
      "      benign       0.50      1.00      0.66       224\n",
      "   malignant       0.00      0.00      0.00       226\n",
      "\n",
      "    accuracy                           0.50       450\n",
      "   macro avg       0.25      0.50      0.33       450\n",
      "weighted avg       0.25      0.50      0.33       450\n",
      "\n",
      "Epoch 15\n"
     ]
    },
    {
     "name": "stderr",
     "output_type": "stream",
     "text": [
      "100%|██████████| 127/127 [01:23<00:00,  1.53it/s]\n",
      "100%|██████████| 15/15 [00:08<00:00,  1.86it/s]\n",
      "/home/kevinluo/anaconda3/envs/yolov8/lib/python3.9/site-packages/sklearn/metrics/_classification.py:1344: UndefinedMetricWarning: Precision and F-score are ill-defined and being set to 0.0 in labels with no predicted samples. Use `zero_division` parameter to control this behavior.\n",
      "  _warn_prf(average, modifier, msg_start, len(result))\n",
      "/home/kevinluo/anaconda3/envs/yolov8/lib/python3.9/site-packages/sklearn/metrics/_classification.py:1344: UndefinedMetricWarning: Precision and F-score are ill-defined and being set to 0.0 in labels with no predicted samples. Use `zero_division` parameter to control this behavior.\n",
      "  _warn_prf(average, modifier, msg_start, len(result))\n",
      "/home/kevinluo/anaconda3/envs/yolov8/lib/python3.9/site-packages/sklearn/metrics/_classification.py:1344: UndefinedMetricWarning: Precision and F-score are ill-defined and being set to 0.0 in labels with no predicted samples. Use `zero_division` parameter to control this behavior.\n",
      "  _warn_prf(average, modifier, msg_start, len(result))\n"
     ]
    },
    {
     "name": "stdout",
     "output_type": "stream",
     "text": [
      "Train Loss: 0.6948, Train Acc: 0.5032\n",
      "Val Loss: 0.6934, Val Acc: 0.4978\n",
      "              precision    recall  f1-score   support\n",
      "\n",
      "      benign       0.50      1.00      0.66       224\n",
      "   malignant       0.00      0.00      0.00       226\n",
      "\n",
      "    accuracy                           0.50       450\n",
      "   macro avg       0.25      0.50      0.33       450\n",
      "weighted avg       0.25      0.50      0.33       450\n",
      "\n",
      "Epoch 16\n"
     ]
    },
    {
     "name": "stderr",
     "output_type": "stream",
     "text": [
      "100%|██████████| 127/127 [01:23<00:00,  1.53it/s]\n",
      "100%|██████████| 15/15 [00:07<00:00,  1.89it/s]\n",
      "/home/kevinluo/anaconda3/envs/yolov8/lib/python3.9/site-packages/sklearn/metrics/_classification.py:1344: UndefinedMetricWarning: Precision and F-score are ill-defined and being set to 0.0 in labels with no predicted samples. Use `zero_division` parameter to control this behavior.\n",
      "  _warn_prf(average, modifier, msg_start, len(result))\n",
      "/home/kevinluo/anaconda3/envs/yolov8/lib/python3.9/site-packages/sklearn/metrics/_classification.py:1344: UndefinedMetricWarning: Precision and F-score are ill-defined and being set to 0.0 in labels with no predicted samples. Use `zero_division` parameter to control this behavior.\n",
      "  _warn_prf(average, modifier, msg_start, len(result))\n",
      "/home/kevinluo/anaconda3/envs/yolov8/lib/python3.9/site-packages/sklearn/metrics/_classification.py:1344: UndefinedMetricWarning: Precision and F-score are ill-defined and being set to 0.0 in labels with no predicted samples. Use `zero_division` parameter to control this behavior.\n",
      "  _warn_prf(average, modifier, msg_start, len(result))\n"
     ]
    },
    {
     "name": "stdout",
     "output_type": "stream",
     "text": [
      "Train Loss: 0.6972, Train Acc: 0.5027\n",
      "Val Loss: 0.6931, Val Acc: 0.5022\n",
      "              precision    recall  f1-score   support\n",
      "\n",
      "      benign       0.00      0.00      0.00       224\n",
      "   malignant       0.50      1.00      0.67       226\n",
      "\n",
      "    accuracy                           0.50       450\n",
      "   macro avg       0.25      0.50      0.33       450\n",
      "weighted avg       0.25      0.50      0.34       450\n",
      "\n",
      "Epoch 17\n"
     ]
    },
    {
     "name": "stderr",
     "output_type": "stream",
     "text": [
      "100%|██████████| 127/127 [01:22<00:00,  1.54it/s]\n",
      "100%|██████████| 15/15 [00:07<00:00,  1.88it/s]\n",
      "/home/kevinluo/anaconda3/envs/yolov8/lib/python3.9/site-packages/sklearn/metrics/_classification.py:1344: UndefinedMetricWarning: Precision and F-score are ill-defined and being set to 0.0 in labels with no predicted samples. Use `zero_division` parameter to control this behavior.\n",
      "  _warn_prf(average, modifier, msg_start, len(result))\n",
      "/home/kevinluo/anaconda3/envs/yolov8/lib/python3.9/site-packages/sklearn/metrics/_classification.py:1344: UndefinedMetricWarning: Precision and F-score are ill-defined and being set to 0.0 in labels with no predicted samples. Use `zero_division` parameter to control this behavior.\n",
      "  _warn_prf(average, modifier, msg_start, len(result))\n",
      "/home/kevinluo/anaconda3/envs/yolov8/lib/python3.9/site-packages/sklearn/metrics/_classification.py:1344: UndefinedMetricWarning: Precision and F-score are ill-defined and being set to 0.0 in labels with no predicted samples. Use `zero_division` parameter to control this behavior.\n",
      "  _warn_prf(average, modifier, msg_start, len(result))\n"
     ]
    },
    {
     "name": "stdout",
     "output_type": "stream",
     "text": [
      "Train Loss: 0.6936, Train Acc: 0.4958\n",
      "Val Loss: 0.6932, Val Acc: 0.5022\n",
      "              precision    recall  f1-score   support\n",
      "\n",
      "      benign       0.00      0.00      0.00       224\n",
      "   malignant       0.50      1.00      0.67       226\n",
      "\n",
      "    accuracy                           0.50       450\n",
      "   macro avg       0.25      0.50      0.33       450\n",
      "weighted avg       0.25      0.50      0.34       450\n",
      "\n",
      "Epoch 18\n"
     ]
    },
    {
     "name": "stderr",
     "output_type": "stream",
     "text": [
      "100%|██████████| 127/127 [01:22<00:00,  1.53it/s]\n",
      "100%|██████████| 15/15 [00:07<00:00,  1.89it/s]\n",
      "/home/kevinluo/anaconda3/envs/yolov8/lib/python3.9/site-packages/sklearn/metrics/_classification.py:1344: UndefinedMetricWarning: Precision and F-score are ill-defined and being set to 0.0 in labels with no predicted samples. Use `zero_division` parameter to control this behavior.\n",
      "  _warn_prf(average, modifier, msg_start, len(result))\n",
      "/home/kevinluo/anaconda3/envs/yolov8/lib/python3.9/site-packages/sklearn/metrics/_classification.py:1344: UndefinedMetricWarning: Precision and F-score are ill-defined and being set to 0.0 in labels with no predicted samples. Use `zero_division` parameter to control this behavior.\n",
      "  _warn_prf(average, modifier, msg_start, len(result))\n",
      "/home/kevinluo/anaconda3/envs/yolov8/lib/python3.9/site-packages/sklearn/metrics/_classification.py:1344: UndefinedMetricWarning: Precision and F-score are ill-defined and being set to 0.0 in labels with no predicted samples. Use `zero_division` parameter to control this behavior.\n",
      "  _warn_prf(average, modifier, msg_start, len(result))\n"
     ]
    },
    {
     "name": "stdout",
     "output_type": "stream",
     "text": [
      "Train Loss: 0.6939, Train Acc: 0.4990\n",
      "Val Loss: 0.6935, Val Acc: 0.5022\n",
      "              precision    recall  f1-score   support\n",
      "\n",
      "      benign       0.00      0.00      0.00       224\n",
      "   malignant       0.50      1.00      0.67       226\n",
      "\n",
      "    accuracy                           0.50       450\n",
      "   macro avg       0.25      0.50      0.33       450\n",
      "weighted avg       0.25      0.50      0.34       450\n",
      "\n",
      "Epoch 19\n"
     ]
    },
    {
     "name": "stderr",
     "output_type": "stream",
     "text": [
      "100%|██████████| 127/127 [01:22<00:00,  1.54it/s]\n",
      "100%|██████████| 15/15 [00:07<00:00,  1.89it/s]\n",
      "/home/kevinluo/anaconda3/envs/yolov8/lib/python3.9/site-packages/sklearn/metrics/_classification.py:1344: UndefinedMetricWarning: Precision and F-score are ill-defined and being set to 0.0 in labels with no predicted samples. Use `zero_division` parameter to control this behavior.\n",
      "  _warn_prf(average, modifier, msg_start, len(result))\n",
      "/home/kevinluo/anaconda3/envs/yolov8/lib/python3.9/site-packages/sklearn/metrics/_classification.py:1344: UndefinedMetricWarning: Precision and F-score are ill-defined and being set to 0.0 in labels with no predicted samples. Use `zero_division` parameter to control this behavior.\n",
      "  _warn_prf(average, modifier, msg_start, len(result))\n",
      "/home/kevinluo/anaconda3/envs/yolov8/lib/python3.9/site-packages/sklearn/metrics/_classification.py:1344: UndefinedMetricWarning: Precision and F-score are ill-defined and being set to 0.0 in labels with no predicted samples. Use `zero_division` parameter to control this behavior.\n",
      "  _warn_prf(average, modifier, msg_start, len(result))\n"
     ]
    },
    {
     "name": "stdout",
     "output_type": "stream",
     "text": [
      "Train Loss: 0.6942, Train Acc: 0.4983\n",
      "Val Loss: 0.6932, Val Acc: 0.4978\n",
      "              precision    recall  f1-score   support\n",
      "\n",
      "      benign       0.50      1.00      0.66       224\n",
      "   malignant       0.00      0.00      0.00       226\n",
      "\n",
      "    accuracy                           0.50       450\n",
      "   macro avg       0.25      0.50      0.33       450\n",
      "weighted avg       0.25      0.50      0.33       450\n",
      "\n",
      "Epoch 20\n"
     ]
    },
    {
     "name": "stderr",
     "output_type": "stream",
     "text": [
      "100%|██████████| 127/127 [01:22<00:00,  1.54it/s]\n",
      "100%|██████████| 15/15 [00:07<00:00,  1.89it/s]\n",
      "/home/kevinluo/anaconda3/envs/yolov8/lib/python3.9/site-packages/sklearn/metrics/_classification.py:1344: UndefinedMetricWarning: Precision and F-score are ill-defined and being set to 0.0 in labels with no predicted samples. Use `zero_division` parameter to control this behavior.\n",
      "  _warn_prf(average, modifier, msg_start, len(result))\n",
      "/home/kevinluo/anaconda3/envs/yolov8/lib/python3.9/site-packages/sklearn/metrics/_classification.py:1344: UndefinedMetricWarning: Precision and F-score are ill-defined and being set to 0.0 in labels with no predicted samples. Use `zero_division` parameter to control this behavior.\n",
      "  _warn_prf(average, modifier, msg_start, len(result))\n",
      "/home/kevinluo/anaconda3/envs/yolov8/lib/python3.9/site-packages/sklearn/metrics/_classification.py:1344: UndefinedMetricWarning: Precision and F-score are ill-defined and being set to 0.0 in labels with no predicted samples. Use `zero_division` parameter to control this behavior.\n",
      "  _warn_prf(average, modifier, msg_start, len(result))\n"
     ]
    },
    {
     "name": "stdout",
     "output_type": "stream",
     "text": [
      "Train Loss: 0.6936, Train Acc: 0.4990\n",
      "Val Loss: 0.6940, Val Acc: 0.5022\n",
      "              precision    recall  f1-score   support\n",
      "\n",
      "      benign       0.00      0.00      0.00       224\n",
      "   malignant       0.50      1.00      0.67       226\n",
      "\n",
      "    accuracy                           0.50       450\n",
      "   macro avg       0.25      0.50      0.33       450\n",
      "weighted avg       0.25      0.50      0.34       450\n",
      "\n",
      "Epoch 21\n"
     ]
    },
    {
     "name": "stderr",
     "output_type": "stream",
     "text": [
      "100%|██████████| 127/127 [01:22<00:00,  1.54it/s]\n",
      "100%|██████████| 15/15 [00:08<00:00,  1.87it/s]\n",
      "/home/kevinluo/anaconda3/envs/yolov8/lib/python3.9/site-packages/sklearn/metrics/_classification.py:1344: UndefinedMetricWarning: Precision and F-score are ill-defined and being set to 0.0 in labels with no predicted samples. Use `zero_division` parameter to control this behavior.\n",
      "  _warn_prf(average, modifier, msg_start, len(result))\n",
      "/home/kevinluo/anaconda3/envs/yolov8/lib/python3.9/site-packages/sklearn/metrics/_classification.py:1344: UndefinedMetricWarning: Precision and F-score are ill-defined and being set to 0.0 in labels with no predicted samples. Use `zero_division` parameter to control this behavior.\n",
      "  _warn_prf(average, modifier, msg_start, len(result))\n",
      "/home/kevinluo/anaconda3/envs/yolov8/lib/python3.9/site-packages/sklearn/metrics/_classification.py:1344: UndefinedMetricWarning: Precision and F-score are ill-defined and being set to 0.0 in labels with no predicted samples. Use `zero_division` parameter to control this behavior.\n",
      "  _warn_prf(average, modifier, msg_start, len(result))\n"
     ]
    },
    {
     "name": "stdout",
     "output_type": "stream",
     "text": [
      "Train Loss: 0.6943, Train Acc: 0.5012\n",
      "Val Loss: 0.6932, Val Acc: 0.4978\n",
      "              precision    recall  f1-score   support\n",
      "\n",
      "      benign       0.50      1.00      0.66       224\n",
      "   malignant       0.00      0.00      0.00       226\n",
      "\n",
      "    accuracy                           0.50       450\n",
      "   macro avg       0.25      0.50      0.33       450\n",
      "weighted avg       0.25      0.50      0.33       450\n",
      "\n",
      "Epoch 22\n"
     ]
    },
    {
     "name": "stderr",
     "output_type": "stream",
     "text": [
      "100%|██████████| 127/127 [01:22<00:00,  1.54it/s]\n",
      "100%|██████████| 15/15 [00:07<00:00,  1.90it/s]\n",
      "/home/kevinluo/anaconda3/envs/yolov8/lib/python3.9/site-packages/sklearn/metrics/_classification.py:1344: UndefinedMetricWarning: Precision and F-score are ill-defined and being set to 0.0 in labels with no predicted samples. Use `zero_division` parameter to control this behavior.\n",
      "  _warn_prf(average, modifier, msg_start, len(result))\n",
      "/home/kevinluo/anaconda3/envs/yolov8/lib/python3.9/site-packages/sklearn/metrics/_classification.py:1344: UndefinedMetricWarning: Precision and F-score are ill-defined and being set to 0.0 in labels with no predicted samples. Use `zero_division` parameter to control this behavior.\n",
      "  _warn_prf(average, modifier, msg_start, len(result))\n",
      "/home/kevinluo/anaconda3/envs/yolov8/lib/python3.9/site-packages/sklearn/metrics/_classification.py:1344: UndefinedMetricWarning: Precision and F-score are ill-defined and being set to 0.0 in labels with no predicted samples. Use `zero_division` parameter to control this behavior.\n",
      "  _warn_prf(average, modifier, msg_start, len(result))\n"
     ]
    },
    {
     "name": "stdout",
     "output_type": "stream",
     "text": [
      "Train Loss: 0.6943, Train Acc: 0.4993\n",
      "Val Loss: 0.6934, Val Acc: 0.5022\n",
      "              precision    recall  f1-score   support\n",
      "\n",
      "      benign       0.00      0.00      0.00       224\n",
      "   malignant       0.50      1.00      0.67       226\n",
      "\n",
      "    accuracy                           0.50       450\n",
      "   macro avg       0.25      0.50      0.33       450\n",
      "weighted avg       0.25      0.50      0.34       450\n",
      "\n",
      "Epoch 23\n"
     ]
    },
    {
     "name": "stderr",
     "output_type": "stream",
     "text": [
      "100%|██████████| 127/127 [01:22<00:00,  1.54it/s]\n",
      "100%|██████████| 15/15 [00:08<00:00,  1.87it/s]\n",
      "/home/kevinluo/anaconda3/envs/yolov8/lib/python3.9/site-packages/sklearn/metrics/_classification.py:1344: UndefinedMetricWarning: Precision and F-score are ill-defined and being set to 0.0 in labels with no predicted samples. Use `zero_division` parameter to control this behavior.\n",
      "  _warn_prf(average, modifier, msg_start, len(result))\n",
      "/home/kevinluo/anaconda3/envs/yolov8/lib/python3.9/site-packages/sklearn/metrics/_classification.py:1344: UndefinedMetricWarning: Precision and F-score are ill-defined and being set to 0.0 in labels with no predicted samples. Use `zero_division` parameter to control this behavior.\n",
      "  _warn_prf(average, modifier, msg_start, len(result))\n",
      "/home/kevinluo/anaconda3/envs/yolov8/lib/python3.9/site-packages/sklearn/metrics/_classification.py:1344: UndefinedMetricWarning: Precision and F-score are ill-defined and being set to 0.0 in labels with no predicted samples. Use `zero_division` parameter to control this behavior.\n",
      "  _warn_prf(average, modifier, msg_start, len(result))\n"
     ]
    },
    {
     "name": "stdout",
     "output_type": "stream",
     "text": [
      "Train Loss: 0.6935, Train Acc: 0.5005\n",
      "Val Loss: 0.6940, Val Acc: 0.5022\n",
      "              precision    recall  f1-score   support\n",
      "\n",
      "      benign       0.00      0.00      0.00       224\n",
      "   malignant       0.50      1.00      0.67       226\n",
      "\n",
      "    accuracy                           0.50       450\n",
      "   macro avg       0.25      0.50      0.33       450\n",
      "weighted avg       0.25      0.50      0.34       450\n",
      "\n",
      "Epoch 24\n"
     ]
    },
    {
     "name": "stderr",
     "output_type": "stream",
     "text": [
      "100%|██████████| 127/127 [01:22<00:00,  1.54it/s]\n",
      "100%|██████████| 15/15 [00:07<00:00,  1.90it/s]\n",
      "/home/kevinluo/anaconda3/envs/yolov8/lib/python3.9/site-packages/sklearn/metrics/_classification.py:1344: UndefinedMetricWarning: Precision and F-score are ill-defined and being set to 0.0 in labels with no predicted samples. Use `zero_division` parameter to control this behavior.\n",
      "  _warn_prf(average, modifier, msg_start, len(result))\n",
      "/home/kevinluo/anaconda3/envs/yolov8/lib/python3.9/site-packages/sklearn/metrics/_classification.py:1344: UndefinedMetricWarning: Precision and F-score are ill-defined and being set to 0.0 in labels with no predicted samples. Use `zero_division` parameter to control this behavior.\n",
      "  _warn_prf(average, modifier, msg_start, len(result))\n",
      "/home/kevinluo/anaconda3/envs/yolov8/lib/python3.9/site-packages/sklearn/metrics/_classification.py:1344: UndefinedMetricWarning: Precision and F-score are ill-defined and being set to 0.0 in labels with no predicted samples. Use `zero_division` parameter to control this behavior.\n",
      "  _warn_prf(average, modifier, msg_start, len(result))\n"
     ]
    },
    {
     "name": "stdout",
     "output_type": "stream",
     "text": [
      "Train Loss: 0.6945, Train Acc: 0.4901\n",
      "Val Loss: 0.6950, Val Acc: 0.5022\n",
      "              precision    recall  f1-score   support\n",
      "\n",
      "      benign       0.00      0.00      0.00       224\n",
      "   malignant       0.50      1.00      0.67       226\n",
      "\n",
      "    accuracy                           0.50       450\n",
      "   macro avg       0.25      0.50      0.33       450\n",
      "weighted avg       0.25      0.50      0.34       450\n",
      "\n",
      "Epoch 25\n"
     ]
    },
    {
     "name": "stderr",
     "output_type": "stream",
     "text": [
      "100%|██████████| 127/127 [01:22<00:00,  1.54it/s]\n",
      "100%|██████████| 15/15 [00:07<00:00,  1.89it/s]\n",
      "/home/kevinluo/anaconda3/envs/yolov8/lib/python3.9/site-packages/sklearn/metrics/_classification.py:1344: UndefinedMetricWarning: Precision and F-score are ill-defined and being set to 0.0 in labels with no predicted samples. Use `zero_division` parameter to control this behavior.\n",
      "  _warn_prf(average, modifier, msg_start, len(result))\n",
      "/home/kevinluo/anaconda3/envs/yolov8/lib/python3.9/site-packages/sklearn/metrics/_classification.py:1344: UndefinedMetricWarning: Precision and F-score are ill-defined and being set to 0.0 in labels with no predicted samples. Use `zero_division` parameter to control this behavior.\n",
      "  _warn_prf(average, modifier, msg_start, len(result))\n",
      "/home/kevinluo/anaconda3/envs/yolov8/lib/python3.9/site-packages/sklearn/metrics/_classification.py:1344: UndefinedMetricWarning: Precision and F-score are ill-defined and being set to 0.0 in labels with no predicted samples. Use `zero_division` parameter to control this behavior.\n",
      "  _warn_prf(average, modifier, msg_start, len(result))\n"
     ]
    },
    {
     "name": "stdout",
     "output_type": "stream",
     "text": [
      "Train Loss: 0.6936, Train Acc: 0.5074\n",
      "Val Loss: 0.6973, Val Acc: 0.4978\n",
      "              precision    recall  f1-score   support\n",
      "\n",
      "      benign       0.50      1.00      0.66       224\n",
      "   malignant       0.00      0.00      0.00       226\n",
      "\n",
      "    accuracy                           0.50       450\n",
      "   macro avg       0.25      0.50      0.33       450\n",
      "weighted avg       0.25      0.50      0.33       450\n",
      "\n",
      "Fold 10\n",
      "Epoch 1\n"
     ]
    },
    {
     "name": "stderr",
     "output_type": "stream",
     "text": [
      "100%|██████████| 127/127 [01:22<00:00,  1.54it/s]\n",
      "100%|██████████| 15/15 [00:07<00:00,  1.88it/s]\n"
     ]
    },
    {
     "name": "stdout",
     "output_type": "stream",
     "text": [
      "Train Loss: 0.7457, Train Acc: 0.5706\n",
      "Val Loss: 0.6736, Val Acc: 0.5711\n",
      "              precision    recall  f1-score   support\n",
      "\n",
      "      benign       0.61      0.39      0.47       225\n",
      "   malignant       0.55      0.76      0.64       225\n",
      "\n",
      "    accuracy                           0.57       450\n",
      "   macro avg       0.58      0.57      0.56       450\n",
      "weighted avg       0.58      0.57      0.56       450\n",
      "\n",
      "Epoch 2\n"
     ]
    },
    {
     "name": "stderr",
     "output_type": "stream",
     "text": [
      "100%|██████████| 127/127 [01:23<00:00,  1.53it/s]\n",
      "100%|██████████| 15/15 [00:07<00:00,  1.89it/s]\n"
     ]
    },
    {
     "name": "stdout",
     "output_type": "stream",
     "text": [
      "Train Loss: 0.6777, Train Acc: 0.5780\n",
      "Val Loss: 0.6640, Val Acc: 0.5933\n",
      "              precision    recall  f1-score   support\n",
      "\n",
      "      benign       0.59      0.61      0.60       225\n",
      "   malignant       0.60      0.57      0.59       225\n",
      "\n",
      "    accuracy                           0.59       450\n",
      "   macro avg       0.59      0.59      0.59       450\n",
      "weighted avg       0.59      0.59      0.59       450\n",
      "\n",
      "Epoch 3\n"
     ]
    },
    {
     "name": "stderr",
     "output_type": "stream",
     "text": [
      "100%|██████████| 127/127 [01:22<00:00,  1.53it/s]\n",
      "100%|██████████| 15/15 [00:07<00:00,  1.89it/s]\n"
     ]
    },
    {
     "name": "stdout",
     "output_type": "stream",
     "text": [
      "Train Loss: 0.6814, Train Acc: 0.5728\n",
      "Val Loss: 0.6715, Val Acc: 0.5933\n",
      "              precision    recall  f1-score   support\n",
      "\n",
      "      benign       0.60      0.55      0.57       225\n",
      "   malignant       0.59      0.64      0.61       225\n",
      "\n",
      "    accuracy                           0.59       450\n",
      "   macro avg       0.59      0.59      0.59       450\n",
      "weighted avg       0.59      0.59      0.59       450\n",
      "\n",
      "Epoch 4\n"
     ]
    },
    {
     "name": "stderr",
     "output_type": "stream",
     "text": [
      "100%|██████████| 127/127 [01:23<00:00,  1.53it/s]\n",
      "100%|██████████| 15/15 [00:07<00:00,  1.88it/s]\n"
     ]
    },
    {
     "name": "stdout",
     "output_type": "stream",
     "text": [
      "Train Loss: 0.6806, Train Acc: 0.5743\n",
      "Val Loss: 0.6731, Val Acc: 0.5889\n",
      "              precision    recall  f1-score   support\n",
      "\n",
      "      benign       0.62      0.46      0.53       225\n",
      "   malignant       0.57      0.72      0.64       225\n",
      "\n",
      "    accuracy                           0.59       450\n",
      "   macro avg       0.59      0.59      0.58       450\n",
      "weighted avg       0.59      0.59      0.58       450\n",
      "\n",
      "Epoch 5\n"
     ]
    },
    {
     "name": "stderr",
     "output_type": "stream",
     "text": [
      "100%|██████████| 127/127 [01:22<00:00,  1.54it/s]\n",
      "100%|██████████| 15/15 [00:07<00:00,  1.88it/s]\n",
      "/home/kevinluo/anaconda3/envs/yolov8/lib/python3.9/site-packages/sklearn/metrics/_classification.py:1344: UndefinedMetricWarning: Precision and F-score are ill-defined and being set to 0.0 in labels with no predicted samples. Use `zero_division` parameter to control this behavior.\n",
      "  _warn_prf(average, modifier, msg_start, len(result))\n",
      "/home/kevinluo/anaconda3/envs/yolov8/lib/python3.9/site-packages/sklearn/metrics/_classification.py:1344: UndefinedMetricWarning: Precision and F-score are ill-defined and being set to 0.0 in labels with no predicted samples. Use `zero_division` parameter to control this behavior.\n",
      "  _warn_prf(average, modifier, msg_start, len(result))\n",
      "/home/kevinluo/anaconda3/envs/yolov8/lib/python3.9/site-packages/sklearn/metrics/_classification.py:1344: UndefinedMetricWarning: Precision and F-score are ill-defined and being set to 0.0 in labels with no predicted samples. Use `zero_division` parameter to control this behavior.\n",
      "  _warn_prf(average, modifier, msg_start, len(result))\n"
     ]
    },
    {
     "name": "stdout",
     "output_type": "stream",
     "text": [
      "Train Loss: 0.6999, Train Acc: 0.5390\n",
      "Val Loss: 0.7090, Val Acc: 0.5000\n",
      "              precision    recall  f1-score   support\n",
      "\n",
      "      benign       0.00      0.00      0.00       225\n",
      "   malignant       0.50      1.00      0.67       225\n",
      "\n",
      "    accuracy                           0.50       450\n",
      "   macro avg       0.25      0.50      0.33       450\n",
      "weighted avg       0.25      0.50      0.33       450\n",
      "\n",
      "Epoch 6\n"
     ]
    },
    {
     "name": "stderr",
     "output_type": "stream",
     "text": [
      "100%|██████████| 127/127 [01:22<00:00,  1.53it/s]\n",
      "100%|██████████| 15/15 [00:07<00:00,  1.91it/s]\n",
      "/home/kevinluo/anaconda3/envs/yolov8/lib/python3.9/site-packages/sklearn/metrics/_classification.py:1344: UndefinedMetricWarning: Precision and F-score are ill-defined and being set to 0.0 in labels with no predicted samples. Use `zero_division` parameter to control this behavior.\n",
      "  _warn_prf(average, modifier, msg_start, len(result))\n",
      "/home/kevinluo/anaconda3/envs/yolov8/lib/python3.9/site-packages/sklearn/metrics/_classification.py:1344: UndefinedMetricWarning: Precision and F-score are ill-defined and being set to 0.0 in labels with no predicted samples. Use `zero_division` parameter to control this behavior.\n",
      "  _warn_prf(average, modifier, msg_start, len(result))\n",
      "/home/kevinluo/anaconda3/envs/yolov8/lib/python3.9/site-packages/sklearn/metrics/_classification.py:1344: UndefinedMetricWarning: Precision and F-score are ill-defined and being set to 0.0 in labels with no predicted samples. Use `zero_division` parameter to control this behavior.\n",
      "  _warn_prf(average, modifier, msg_start, len(result))\n"
     ]
    },
    {
     "name": "stdout",
     "output_type": "stream",
     "text": [
      "Train Loss: 0.7062, Train Acc: 0.4921\n",
      "Val Loss: 0.6932, Val Acc: 0.5000\n",
      "              precision    recall  f1-score   support\n",
      "\n",
      "      benign       0.00      0.00      0.00       225\n",
      "   malignant       0.50      1.00      0.67       225\n",
      "\n",
      "    accuracy                           0.50       450\n",
      "   macro avg       0.25      0.50      0.33       450\n",
      "weighted avg       0.25      0.50      0.33       450\n",
      "\n",
      "Epoch 7\n"
     ]
    },
    {
     "name": "stderr",
     "output_type": "stream",
     "text": [
      "100%|██████████| 127/127 [01:23<00:00,  1.53it/s]\n",
      "100%|██████████| 15/15 [00:07<00:00,  1.93it/s]\n",
      "/home/kevinluo/anaconda3/envs/yolov8/lib/python3.9/site-packages/sklearn/metrics/_classification.py:1344: UndefinedMetricWarning: Precision and F-score are ill-defined and being set to 0.0 in labels with no predicted samples. Use `zero_division` parameter to control this behavior.\n",
      "  _warn_prf(average, modifier, msg_start, len(result))\n",
      "/home/kevinluo/anaconda3/envs/yolov8/lib/python3.9/site-packages/sklearn/metrics/_classification.py:1344: UndefinedMetricWarning: Precision and F-score are ill-defined and being set to 0.0 in labels with no predicted samples. Use `zero_division` parameter to control this behavior.\n",
      "  _warn_prf(average, modifier, msg_start, len(result))\n",
      "/home/kevinluo/anaconda3/envs/yolov8/lib/python3.9/site-packages/sklearn/metrics/_classification.py:1344: UndefinedMetricWarning: Precision and F-score are ill-defined and being set to 0.0 in labels with no predicted samples. Use `zero_division` parameter to control this behavior.\n",
      "  _warn_prf(average, modifier, msg_start, len(result))\n"
     ]
    },
    {
     "name": "stdout",
     "output_type": "stream",
     "text": [
      "Train Loss: 0.6987, Train Acc: 0.5047\n",
      "Val Loss: 0.6946, Val Acc: 0.5000\n",
      "              precision    recall  f1-score   support\n",
      "\n",
      "      benign       0.50      1.00      0.67       225\n",
      "   malignant       0.00      0.00      0.00       225\n",
      "\n",
      "    accuracy                           0.50       450\n",
      "   macro avg       0.25      0.50      0.33       450\n",
      "weighted avg       0.25      0.50      0.33       450\n",
      "\n",
      "Epoch 8\n"
     ]
    },
    {
     "name": "stderr",
     "output_type": "stream",
     "text": [
      "100%|██████████| 127/127 [01:23<00:00,  1.53it/s]\n",
      "100%|██████████| 15/15 [00:08<00:00,  1.76it/s]\n",
      "/home/kevinluo/anaconda3/envs/yolov8/lib/python3.9/site-packages/sklearn/metrics/_classification.py:1344: UndefinedMetricWarning: Precision and F-score are ill-defined and being set to 0.0 in labels with no predicted samples. Use `zero_division` parameter to control this behavior.\n",
      "  _warn_prf(average, modifier, msg_start, len(result))\n",
      "/home/kevinluo/anaconda3/envs/yolov8/lib/python3.9/site-packages/sklearn/metrics/_classification.py:1344: UndefinedMetricWarning: Precision and F-score are ill-defined and being set to 0.0 in labels with no predicted samples. Use `zero_division` parameter to control this behavior.\n",
      "  _warn_prf(average, modifier, msg_start, len(result))\n",
      "/home/kevinluo/anaconda3/envs/yolov8/lib/python3.9/site-packages/sklearn/metrics/_classification.py:1344: UndefinedMetricWarning: Precision and F-score are ill-defined and being set to 0.0 in labels with no predicted samples. Use `zero_division` parameter to control this behavior.\n",
      "  _warn_prf(average, modifier, msg_start, len(result))\n"
     ]
    },
    {
     "name": "stdout",
     "output_type": "stream",
     "text": [
      "Train Loss: 0.6974, Train Acc: 0.4889\n",
      "Val Loss: 0.6939, Val Acc: 0.5000\n",
      "              precision    recall  f1-score   support\n",
      "\n",
      "      benign       0.00      0.00      0.00       225\n",
      "   malignant       0.50      1.00      0.67       225\n",
      "\n",
      "    accuracy                           0.50       450\n",
      "   macro avg       0.25      0.50      0.33       450\n",
      "weighted avg       0.25      0.50      0.33       450\n",
      "\n",
      "Epoch 9\n"
     ]
    },
    {
     "name": "stderr",
     "output_type": "stream",
     "text": [
      "100%|██████████| 127/127 [01:27<00:00,  1.46it/s]\n",
      "100%|██████████| 15/15 [00:08<00:00,  1.79it/s]\n",
      "/home/kevinluo/anaconda3/envs/yolov8/lib/python3.9/site-packages/sklearn/metrics/_classification.py:1344: UndefinedMetricWarning: Precision and F-score are ill-defined and being set to 0.0 in labels with no predicted samples. Use `zero_division` parameter to control this behavior.\n",
      "  _warn_prf(average, modifier, msg_start, len(result))\n",
      "/home/kevinluo/anaconda3/envs/yolov8/lib/python3.9/site-packages/sklearn/metrics/_classification.py:1344: UndefinedMetricWarning: Precision and F-score are ill-defined and being set to 0.0 in labels with no predicted samples. Use `zero_division` parameter to control this behavior.\n",
      "  _warn_prf(average, modifier, msg_start, len(result))\n",
      "/home/kevinluo/anaconda3/envs/yolov8/lib/python3.9/site-packages/sklearn/metrics/_classification.py:1344: UndefinedMetricWarning: Precision and F-score are ill-defined and being set to 0.0 in labels with no predicted samples. Use `zero_division` parameter to control this behavior.\n",
      "  _warn_prf(average, modifier, msg_start, len(result))\n"
     ]
    },
    {
     "name": "stdout",
     "output_type": "stream",
     "text": [
      "Train Loss: 0.6949, Train Acc: 0.5094\n",
      "Val Loss: 0.6940, Val Acc: 0.5000\n",
      "              precision    recall  f1-score   support\n",
      "\n",
      "      benign       0.50      1.00      0.67       225\n",
      "   malignant       0.00      0.00      0.00       225\n",
      "\n",
      "    accuracy                           0.50       450\n",
      "   macro avg       0.25      0.50      0.33       450\n",
      "weighted avg       0.25      0.50      0.33       450\n",
      "\n",
      "Epoch 10\n"
     ]
    },
    {
     "name": "stderr",
     "output_type": "stream",
     "text": [
      "100%|██████████| 127/127 [01:27<00:00,  1.46it/s]\n",
      "100%|██████████| 15/15 [00:08<00:00,  1.74it/s]\n",
      "/home/kevinluo/anaconda3/envs/yolov8/lib/python3.9/site-packages/sklearn/metrics/_classification.py:1344: UndefinedMetricWarning: Precision and F-score are ill-defined and being set to 0.0 in labels with no predicted samples. Use `zero_division` parameter to control this behavior.\n",
      "  _warn_prf(average, modifier, msg_start, len(result))\n",
      "/home/kevinluo/anaconda3/envs/yolov8/lib/python3.9/site-packages/sklearn/metrics/_classification.py:1344: UndefinedMetricWarning: Precision and F-score are ill-defined and being set to 0.0 in labels with no predicted samples. Use `zero_division` parameter to control this behavior.\n",
      "  _warn_prf(average, modifier, msg_start, len(result))\n",
      "/home/kevinluo/anaconda3/envs/yolov8/lib/python3.9/site-packages/sklearn/metrics/_classification.py:1344: UndefinedMetricWarning: Precision and F-score are ill-defined and being set to 0.0 in labels with no predicted samples. Use `zero_division` parameter to control this behavior.\n",
      "  _warn_prf(average, modifier, msg_start, len(result))\n"
     ]
    },
    {
     "name": "stdout",
     "output_type": "stream",
     "text": [
      "Train Loss: 0.6958, Train Acc: 0.5054\n",
      "Val Loss: 0.7019, Val Acc: 0.5000\n",
      "              precision    recall  f1-score   support\n",
      "\n",
      "      benign       0.50      1.00      0.67       225\n",
      "   malignant       0.00      0.00      0.00       225\n",
      "\n",
      "    accuracy                           0.50       450\n",
      "   macro avg       0.25      0.50      0.33       450\n",
      "weighted avg       0.25      0.50      0.33       450\n",
      "\n",
      "Epoch 11\n"
     ]
    },
    {
     "name": "stderr",
     "output_type": "stream",
     "text": [
      "100%|██████████| 127/127 [01:27<00:00,  1.46it/s]\n",
      "100%|██████████| 15/15 [00:08<00:00,  1.79it/s]\n",
      "/home/kevinluo/anaconda3/envs/yolov8/lib/python3.9/site-packages/sklearn/metrics/_classification.py:1344: UndefinedMetricWarning: Precision and F-score are ill-defined and being set to 0.0 in labels with no predicted samples. Use `zero_division` parameter to control this behavior.\n",
      "  _warn_prf(average, modifier, msg_start, len(result))\n",
      "/home/kevinluo/anaconda3/envs/yolov8/lib/python3.9/site-packages/sklearn/metrics/_classification.py:1344: UndefinedMetricWarning: Precision and F-score are ill-defined and being set to 0.0 in labels with no predicted samples. Use `zero_division` parameter to control this behavior.\n",
      "  _warn_prf(average, modifier, msg_start, len(result))\n",
      "/home/kevinluo/anaconda3/envs/yolov8/lib/python3.9/site-packages/sklearn/metrics/_classification.py:1344: UndefinedMetricWarning: Precision and F-score are ill-defined and being set to 0.0 in labels with no predicted samples. Use `zero_division` parameter to control this behavior.\n",
      "  _warn_prf(average, modifier, msg_start, len(result))\n"
     ]
    },
    {
     "name": "stdout",
     "output_type": "stream",
     "text": [
      "Train Loss: 0.6954, Train Acc: 0.4993\n",
      "Val Loss: 0.6933, Val Acc: 0.5000\n",
      "              precision    recall  f1-score   support\n",
      "\n",
      "      benign       0.00      0.00      0.00       225\n",
      "   malignant       0.50      1.00      0.67       225\n",
      "\n",
      "    accuracy                           0.50       450\n",
      "   macro avg       0.25      0.50      0.33       450\n",
      "weighted avg       0.25      0.50      0.33       450\n",
      "\n",
      "Epoch 12\n"
     ]
    },
    {
     "name": "stderr",
     "output_type": "stream",
     "text": [
      "100%|██████████| 127/127 [01:27<00:00,  1.45it/s]\n",
      "100%|██████████| 15/15 [00:08<00:00,  1.76it/s]\n",
      "/home/kevinluo/anaconda3/envs/yolov8/lib/python3.9/site-packages/sklearn/metrics/_classification.py:1344: UndefinedMetricWarning: Precision and F-score are ill-defined and being set to 0.0 in labels with no predicted samples. Use `zero_division` parameter to control this behavior.\n",
      "  _warn_prf(average, modifier, msg_start, len(result))\n",
      "/home/kevinluo/anaconda3/envs/yolov8/lib/python3.9/site-packages/sklearn/metrics/_classification.py:1344: UndefinedMetricWarning: Precision and F-score are ill-defined and being set to 0.0 in labels with no predicted samples. Use `zero_division` parameter to control this behavior.\n",
      "  _warn_prf(average, modifier, msg_start, len(result))\n",
      "/home/kevinluo/anaconda3/envs/yolov8/lib/python3.9/site-packages/sklearn/metrics/_classification.py:1344: UndefinedMetricWarning: Precision and F-score are ill-defined and being set to 0.0 in labels with no predicted samples. Use `zero_division` parameter to control this behavior.\n",
      "  _warn_prf(average, modifier, msg_start, len(result))\n"
     ]
    },
    {
     "name": "stdout",
     "output_type": "stream",
     "text": [
      "Train Loss: 0.6944, Train Acc: 0.5020\n",
      "Val Loss: 0.6958, Val Acc: 0.5000\n",
      "              precision    recall  f1-score   support\n",
      "\n",
      "      benign       0.50      1.00      0.67       225\n",
      "   malignant       0.00      0.00      0.00       225\n",
      "\n",
      "    accuracy                           0.50       450\n",
      "   macro avg       0.25      0.50      0.33       450\n",
      "weighted avg       0.25      0.50      0.33       450\n",
      "\n",
      "Epoch 13\n"
     ]
    },
    {
     "name": "stderr",
     "output_type": "stream",
     "text": [
      "100%|██████████| 127/127 [01:26<00:00,  1.46it/s]\n",
      "100%|██████████| 15/15 [00:08<00:00,  1.79it/s]\n",
      "/home/kevinluo/anaconda3/envs/yolov8/lib/python3.9/site-packages/sklearn/metrics/_classification.py:1344: UndefinedMetricWarning: Precision and F-score are ill-defined and being set to 0.0 in labels with no predicted samples. Use `zero_division` parameter to control this behavior.\n",
      "  _warn_prf(average, modifier, msg_start, len(result))\n",
      "/home/kevinluo/anaconda3/envs/yolov8/lib/python3.9/site-packages/sklearn/metrics/_classification.py:1344: UndefinedMetricWarning: Precision and F-score are ill-defined and being set to 0.0 in labels with no predicted samples. Use `zero_division` parameter to control this behavior.\n",
      "  _warn_prf(average, modifier, msg_start, len(result))\n",
      "/home/kevinluo/anaconda3/envs/yolov8/lib/python3.9/site-packages/sklearn/metrics/_classification.py:1344: UndefinedMetricWarning: Precision and F-score are ill-defined and being set to 0.0 in labels with no predicted samples. Use `zero_division` parameter to control this behavior.\n",
      "  _warn_prf(average, modifier, msg_start, len(result))\n"
     ]
    },
    {
     "name": "stdout",
     "output_type": "stream",
     "text": [
      "Train Loss: 0.6949, Train Acc: 0.4886\n",
      "Val Loss: 0.6933, Val Acc: 0.5000\n",
      "              precision    recall  f1-score   support\n",
      "\n",
      "      benign       0.00      0.00      0.00       225\n",
      "   malignant       0.50      1.00      0.67       225\n",
      "\n",
      "    accuracy                           0.50       450\n",
      "   macro avg       0.25      0.50      0.33       450\n",
      "weighted avg       0.25      0.50      0.33       450\n",
      "\n",
      "Epoch 14\n"
     ]
    },
    {
     "name": "stderr",
     "output_type": "stream",
     "text": [
      "100%|██████████| 127/127 [01:29<00:00,  1.42it/s]\n",
      "100%|██████████| 15/15 [00:08<00:00,  1.77it/s]\n",
      "/home/kevinluo/anaconda3/envs/yolov8/lib/python3.9/site-packages/sklearn/metrics/_classification.py:1344: UndefinedMetricWarning: Precision and F-score are ill-defined and being set to 0.0 in labels with no predicted samples. Use `zero_division` parameter to control this behavior.\n",
      "  _warn_prf(average, modifier, msg_start, len(result))\n",
      "/home/kevinluo/anaconda3/envs/yolov8/lib/python3.9/site-packages/sklearn/metrics/_classification.py:1344: UndefinedMetricWarning: Precision and F-score are ill-defined and being set to 0.0 in labels with no predicted samples. Use `zero_division` parameter to control this behavior.\n",
      "  _warn_prf(average, modifier, msg_start, len(result))\n",
      "/home/kevinluo/anaconda3/envs/yolov8/lib/python3.9/site-packages/sklearn/metrics/_classification.py:1344: UndefinedMetricWarning: Precision and F-score are ill-defined and being set to 0.0 in labels with no predicted samples. Use `zero_division` parameter to control this behavior.\n",
      "  _warn_prf(average, modifier, msg_start, len(result))\n"
     ]
    },
    {
     "name": "stdout",
     "output_type": "stream",
     "text": [
      "Train Loss: 0.6948, Train Acc: 0.4956\n",
      "Val Loss: 0.6932, Val Acc: 0.5000\n",
      "              precision    recall  f1-score   support\n",
      "\n",
      "      benign       0.00      0.00      0.00       225\n",
      "   malignant       0.50      1.00      0.67       225\n",
      "\n",
      "    accuracy                           0.50       450\n",
      "   macro avg       0.25      0.50      0.33       450\n",
      "weighted avg       0.25      0.50      0.33       450\n",
      "\n",
      "Epoch 15\n"
     ]
    },
    {
     "name": "stderr",
     "output_type": "stream",
     "text": [
      "100%|██████████| 127/127 [01:27<00:00,  1.46it/s]\n",
      "100%|██████████| 15/15 [00:08<00:00,  1.80it/s]\n",
      "/home/kevinluo/anaconda3/envs/yolov8/lib/python3.9/site-packages/sklearn/metrics/_classification.py:1344: UndefinedMetricWarning: Precision and F-score are ill-defined and being set to 0.0 in labels with no predicted samples. Use `zero_division` parameter to control this behavior.\n",
      "  _warn_prf(average, modifier, msg_start, len(result))\n",
      "/home/kevinluo/anaconda3/envs/yolov8/lib/python3.9/site-packages/sklearn/metrics/_classification.py:1344: UndefinedMetricWarning: Precision and F-score are ill-defined and being set to 0.0 in labels with no predicted samples. Use `zero_division` parameter to control this behavior.\n",
      "  _warn_prf(average, modifier, msg_start, len(result))\n",
      "/home/kevinluo/anaconda3/envs/yolov8/lib/python3.9/site-packages/sklearn/metrics/_classification.py:1344: UndefinedMetricWarning: Precision and F-score are ill-defined and being set to 0.0 in labels with no predicted samples. Use `zero_division` parameter to control this behavior.\n",
      "  _warn_prf(average, modifier, msg_start, len(result))\n"
     ]
    },
    {
     "name": "stdout",
     "output_type": "stream",
     "text": [
      "Train Loss: 0.6940, Train Acc: 0.4963\n",
      "Val Loss: 0.6934, Val Acc: 0.5000\n",
      "              precision    recall  f1-score   support\n",
      "\n",
      "      benign       0.00      0.00      0.00       225\n",
      "   malignant       0.50      1.00      0.67       225\n",
      "\n",
      "    accuracy                           0.50       450\n",
      "   macro avg       0.25      0.50      0.33       450\n",
      "weighted avg       0.25      0.50      0.33       450\n",
      "\n",
      "Epoch 16\n"
     ]
    },
    {
     "name": "stderr",
     "output_type": "stream",
     "text": [
      "100%|██████████| 127/127 [01:27<00:00,  1.45it/s]\n",
      "100%|██████████| 15/15 [00:08<00:00,  1.75it/s]\n",
      "/home/kevinluo/anaconda3/envs/yolov8/lib/python3.9/site-packages/sklearn/metrics/_classification.py:1344: UndefinedMetricWarning: Precision and F-score are ill-defined and being set to 0.0 in labels with no predicted samples. Use `zero_division` parameter to control this behavior.\n",
      "  _warn_prf(average, modifier, msg_start, len(result))\n",
      "/home/kevinluo/anaconda3/envs/yolov8/lib/python3.9/site-packages/sklearn/metrics/_classification.py:1344: UndefinedMetricWarning: Precision and F-score are ill-defined and being set to 0.0 in labels with no predicted samples. Use `zero_division` parameter to control this behavior.\n",
      "  _warn_prf(average, modifier, msg_start, len(result))\n",
      "/home/kevinluo/anaconda3/envs/yolov8/lib/python3.9/site-packages/sklearn/metrics/_classification.py:1344: UndefinedMetricWarning: Precision and F-score are ill-defined and being set to 0.0 in labels with no predicted samples. Use `zero_division` parameter to control this behavior.\n",
      "  _warn_prf(average, modifier, msg_start, len(result))\n"
     ]
    },
    {
     "name": "stdout",
     "output_type": "stream",
     "text": [
      "Train Loss: 0.6939, Train Acc: 0.5057\n",
      "Val Loss: 0.6934, Val Acc: 0.5000\n",
      "              precision    recall  f1-score   support\n",
      "\n",
      "      benign       0.00      0.00      0.00       225\n",
      "   malignant       0.50      1.00      0.67       225\n",
      "\n",
      "    accuracy                           0.50       450\n",
      "   macro avg       0.25      0.50      0.33       450\n",
      "weighted avg       0.25      0.50      0.33       450\n",
      "\n",
      "Epoch 17\n"
     ]
    },
    {
     "name": "stderr",
     "output_type": "stream",
     "text": [
      "100%|██████████| 127/127 [01:27<00:00,  1.46it/s]\n",
      "100%|██████████| 15/15 [00:08<00:00,  1.79it/s]\n",
      "/home/kevinluo/anaconda3/envs/yolov8/lib/python3.9/site-packages/sklearn/metrics/_classification.py:1344: UndefinedMetricWarning: Precision and F-score are ill-defined and being set to 0.0 in labels with no predicted samples. Use `zero_division` parameter to control this behavior.\n",
      "  _warn_prf(average, modifier, msg_start, len(result))\n",
      "/home/kevinluo/anaconda3/envs/yolov8/lib/python3.9/site-packages/sklearn/metrics/_classification.py:1344: UndefinedMetricWarning: Precision and F-score are ill-defined and being set to 0.0 in labels with no predicted samples. Use `zero_division` parameter to control this behavior.\n",
      "  _warn_prf(average, modifier, msg_start, len(result))\n",
      "/home/kevinluo/anaconda3/envs/yolov8/lib/python3.9/site-packages/sklearn/metrics/_classification.py:1344: UndefinedMetricWarning: Precision and F-score are ill-defined and being set to 0.0 in labels with no predicted samples. Use `zero_division` parameter to control this behavior.\n",
      "  _warn_prf(average, modifier, msg_start, len(result))\n"
     ]
    },
    {
     "name": "stdout",
     "output_type": "stream",
     "text": [
      "Train Loss: 0.6942, Train Acc: 0.4926\n",
      "Val Loss: 0.6942, Val Acc: 0.5000\n",
      "              precision    recall  f1-score   support\n",
      "\n",
      "      benign       0.50      1.00      0.67       225\n",
      "   malignant       0.00      0.00      0.00       225\n",
      "\n",
      "    accuracy                           0.50       450\n",
      "   macro avg       0.25      0.50      0.33       450\n",
      "weighted avg       0.25      0.50      0.33       450\n",
      "\n",
      "Epoch 18\n"
     ]
    },
    {
     "name": "stderr",
     "output_type": "stream",
     "text": [
      "100%|██████████| 127/127 [01:26<00:00,  1.47it/s]\n",
      "100%|██████████| 15/15 [00:08<00:00,  1.74it/s]\n",
      "/home/kevinluo/anaconda3/envs/yolov8/lib/python3.9/site-packages/sklearn/metrics/_classification.py:1344: UndefinedMetricWarning: Precision and F-score are ill-defined and being set to 0.0 in labels with no predicted samples. Use `zero_division` parameter to control this behavior.\n",
      "  _warn_prf(average, modifier, msg_start, len(result))\n",
      "/home/kevinluo/anaconda3/envs/yolov8/lib/python3.9/site-packages/sklearn/metrics/_classification.py:1344: UndefinedMetricWarning: Precision and F-score are ill-defined and being set to 0.0 in labels with no predicted samples. Use `zero_division` parameter to control this behavior.\n",
      "  _warn_prf(average, modifier, msg_start, len(result))\n",
      "/home/kevinluo/anaconda3/envs/yolov8/lib/python3.9/site-packages/sklearn/metrics/_classification.py:1344: UndefinedMetricWarning: Precision and F-score are ill-defined and being set to 0.0 in labels with no predicted samples. Use `zero_division` parameter to control this behavior.\n",
      "  _warn_prf(average, modifier, msg_start, len(result))\n"
     ]
    },
    {
     "name": "stdout",
     "output_type": "stream",
     "text": [
      "Train Loss: 0.6963, Train Acc: 0.4948\n",
      "Val Loss: 0.6931, Val Acc: 0.5000\n",
      "              precision    recall  f1-score   support\n",
      "\n",
      "      benign       0.00      0.00      0.00       225\n",
      "   malignant       0.50      1.00      0.67       225\n",
      "\n",
      "    accuracy                           0.50       450\n",
      "   macro avg       0.25      0.50      0.33       450\n",
      "weighted avg       0.25      0.50      0.33       450\n",
      "\n",
      "Epoch 19\n"
     ]
    },
    {
     "name": "stderr",
     "output_type": "stream",
     "text": [
      "100%|██████████| 127/127 [01:27<00:00,  1.46it/s]\n",
      "100%|██████████| 15/15 [00:08<00:00,  1.77it/s]\n",
      "/home/kevinluo/anaconda3/envs/yolov8/lib/python3.9/site-packages/sklearn/metrics/_classification.py:1344: UndefinedMetricWarning: Precision and F-score are ill-defined and being set to 0.0 in labels with no predicted samples. Use `zero_division` parameter to control this behavior.\n",
      "  _warn_prf(average, modifier, msg_start, len(result))\n",
      "/home/kevinluo/anaconda3/envs/yolov8/lib/python3.9/site-packages/sklearn/metrics/_classification.py:1344: UndefinedMetricWarning: Precision and F-score are ill-defined and being set to 0.0 in labels with no predicted samples. Use `zero_division` parameter to control this behavior.\n",
      "  _warn_prf(average, modifier, msg_start, len(result))\n",
      "/home/kevinluo/anaconda3/envs/yolov8/lib/python3.9/site-packages/sklearn/metrics/_classification.py:1344: UndefinedMetricWarning: Precision and F-score are ill-defined and being set to 0.0 in labels with no predicted samples. Use `zero_division` parameter to control this behavior.\n",
      "  _warn_prf(average, modifier, msg_start, len(result))\n"
     ]
    },
    {
     "name": "stdout",
     "output_type": "stream",
     "text": [
      "Train Loss: 0.6945, Train Acc: 0.4968\n",
      "Val Loss: 0.7060, Val Acc: 0.5000\n",
      "              precision    recall  f1-score   support\n",
      "\n",
      "      benign       0.50      1.00      0.67       225\n",
      "   malignant       0.00      0.00      0.00       225\n",
      "\n",
      "    accuracy                           0.50       450\n",
      "   macro avg       0.25      0.50      0.33       450\n",
      "weighted avg       0.25      0.50      0.33       450\n",
      "\n",
      "Epoch 20\n"
     ]
    },
    {
     "name": "stderr",
     "output_type": "stream",
     "text": [
      "100%|██████████| 127/127 [01:28<00:00,  1.44it/s]\n",
      "100%|██████████| 15/15 [00:09<00:00,  1.59it/s]\n",
      "/home/kevinluo/anaconda3/envs/yolov8/lib/python3.9/site-packages/sklearn/metrics/_classification.py:1344: UndefinedMetricWarning: Precision and F-score are ill-defined and being set to 0.0 in labels with no predicted samples. Use `zero_division` parameter to control this behavior.\n",
      "  _warn_prf(average, modifier, msg_start, len(result))\n",
      "/home/kevinluo/anaconda3/envs/yolov8/lib/python3.9/site-packages/sklearn/metrics/_classification.py:1344: UndefinedMetricWarning: Precision and F-score are ill-defined and being set to 0.0 in labels with no predicted samples. Use `zero_division` parameter to control this behavior.\n",
      "  _warn_prf(average, modifier, msg_start, len(result))\n",
      "/home/kevinluo/anaconda3/envs/yolov8/lib/python3.9/site-packages/sklearn/metrics/_classification.py:1344: UndefinedMetricWarning: Precision and F-score are ill-defined and being set to 0.0 in labels with no predicted samples. Use `zero_division` parameter to control this behavior.\n",
      "  _warn_prf(average, modifier, msg_start, len(result))\n"
     ]
    },
    {
     "name": "stdout",
     "output_type": "stream",
     "text": [
      "Train Loss: 0.6948, Train Acc: 0.4916\n",
      "Val Loss: 0.6932, Val Acc: 0.5000\n",
      "              precision    recall  f1-score   support\n",
      "\n",
      "      benign       0.50      1.00      0.67       225\n",
      "   malignant       0.00      0.00      0.00       225\n",
      "\n",
      "    accuracy                           0.50       450\n",
      "   macro avg       0.25      0.50      0.33       450\n",
      "weighted avg       0.25      0.50      0.33       450\n",
      "\n",
      "Epoch 21\n"
     ]
    },
    {
     "name": "stderr",
     "output_type": "stream",
     "text": [
      "100%|██████████| 127/127 [01:27<00:00,  1.45it/s]\n",
      "100%|██████████| 15/15 [00:08<00:00,  1.80it/s]\n",
      "/home/kevinluo/anaconda3/envs/yolov8/lib/python3.9/site-packages/sklearn/metrics/_classification.py:1344: UndefinedMetricWarning: Precision and F-score are ill-defined and being set to 0.0 in labels with no predicted samples. Use `zero_division` parameter to control this behavior.\n",
      "  _warn_prf(average, modifier, msg_start, len(result))\n",
      "/home/kevinluo/anaconda3/envs/yolov8/lib/python3.9/site-packages/sklearn/metrics/_classification.py:1344: UndefinedMetricWarning: Precision and F-score are ill-defined and being set to 0.0 in labels with no predicted samples. Use `zero_division` parameter to control this behavior.\n",
      "  _warn_prf(average, modifier, msg_start, len(result))\n",
      "/home/kevinluo/anaconda3/envs/yolov8/lib/python3.9/site-packages/sklearn/metrics/_classification.py:1344: UndefinedMetricWarning: Precision and F-score are ill-defined and being set to 0.0 in labels with no predicted samples. Use `zero_division` parameter to control this behavior.\n",
      "  _warn_prf(average, modifier, msg_start, len(result))\n"
     ]
    },
    {
     "name": "stdout",
     "output_type": "stream",
     "text": [
      "Train Loss: 0.6934, Train Acc: 0.5059\n",
      "Val Loss: 0.6931, Val Acc: 0.5000\n",
      "              precision    recall  f1-score   support\n",
      "\n",
      "      benign       0.50      1.00      0.67       225\n",
      "   malignant       0.00      0.00      0.00       225\n",
      "\n",
      "    accuracy                           0.50       450\n",
      "   macro avg       0.25      0.50      0.33       450\n",
      "weighted avg       0.25      0.50      0.33       450\n",
      "\n",
      "Epoch 22\n"
     ]
    },
    {
     "name": "stderr",
     "output_type": "stream",
     "text": [
      "100%|██████████| 127/127 [01:27<00:00,  1.46it/s]\n",
      "100%|██████████| 15/15 [00:08<00:00,  1.81it/s]\n",
      "/home/kevinluo/anaconda3/envs/yolov8/lib/python3.9/site-packages/sklearn/metrics/_classification.py:1344: UndefinedMetricWarning: Precision and F-score are ill-defined and being set to 0.0 in labels with no predicted samples. Use `zero_division` parameter to control this behavior.\n",
      "  _warn_prf(average, modifier, msg_start, len(result))\n",
      "/home/kevinluo/anaconda3/envs/yolov8/lib/python3.9/site-packages/sklearn/metrics/_classification.py:1344: UndefinedMetricWarning: Precision and F-score are ill-defined and being set to 0.0 in labels with no predicted samples. Use `zero_division` parameter to control this behavior.\n",
      "  _warn_prf(average, modifier, msg_start, len(result))\n",
      "/home/kevinluo/anaconda3/envs/yolov8/lib/python3.9/site-packages/sklearn/metrics/_classification.py:1344: UndefinedMetricWarning: Precision and F-score are ill-defined and being set to 0.0 in labels with no predicted samples. Use `zero_division` parameter to control this behavior.\n",
      "  _warn_prf(average, modifier, msg_start, len(result))\n"
     ]
    },
    {
     "name": "stdout",
     "output_type": "stream",
     "text": [
      "Train Loss: 0.6936, Train Acc: 0.5143\n",
      "Val Loss: 0.6935, Val Acc: 0.5000\n",
      "              precision    recall  f1-score   support\n",
      "\n",
      "      benign       0.00      0.00      0.00       225\n",
      "   malignant       0.50      1.00      0.67       225\n",
      "\n",
      "    accuracy                           0.50       450\n",
      "   macro avg       0.25      0.50      0.33       450\n",
      "weighted avg       0.25      0.50      0.33       450\n",
      "\n",
      "Epoch 23\n"
     ]
    },
    {
     "name": "stderr",
     "output_type": "stream",
     "text": [
      "100%|██████████| 127/127 [01:27<00:00,  1.45it/s]\n",
      "100%|██████████| 15/15 [00:08<00:00,  1.78it/s]\n",
      "/home/kevinluo/anaconda3/envs/yolov8/lib/python3.9/site-packages/sklearn/metrics/_classification.py:1344: UndefinedMetricWarning: Precision and F-score are ill-defined and being set to 0.0 in labels with no predicted samples. Use `zero_division` parameter to control this behavior.\n",
      "  _warn_prf(average, modifier, msg_start, len(result))\n",
      "/home/kevinluo/anaconda3/envs/yolov8/lib/python3.9/site-packages/sklearn/metrics/_classification.py:1344: UndefinedMetricWarning: Precision and F-score are ill-defined and being set to 0.0 in labels with no predicted samples. Use `zero_division` parameter to control this behavior.\n",
      "  _warn_prf(average, modifier, msg_start, len(result))\n",
      "/home/kevinluo/anaconda3/envs/yolov8/lib/python3.9/site-packages/sklearn/metrics/_classification.py:1344: UndefinedMetricWarning: Precision and F-score are ill-defined and being set to 0.0 in labels with no predicted samples. Use `zero_division` parameter to control this behavior.\n",
      "  _warn_prf(average, modifier, msg_start, len(result))\n"
     ]
    },
    {
     "name": "stdout",
     "output_type": "stream",
     "text": [
      "Train Loss: 0.6936, Train Acc: 0.4963\n",
      "Val Loss: 0.6932, Val Acc: 0.5000\n",
      "              precision    recall  f1-score   support\n",
      "\n",
      "      benign       0.50      1.00      0.67       225\n",
      "   malignant       0.00      0.00      0.00       225\n",
      "\n",
      "    accuracy                           0.50       450\n",
      "   macro avg       0.25      0.50      0.33       450\n",
      "weighted avg       0.25      0.50      0.33       450\n",
      "\n",
      "Epoch 24\n"
     ]
    },
    {
     "name": "stderr",
     "output_type": "stream",
     "text": [
      "100%|██████████| 127/127 [01:26<00:00,  1.46it/s]\n",
      "100%|██████████| 15/15 [00:08<00:00,  1.87it/s]\n",
      "/home/kevinluo/anaconda3/envs/yolov8/lib/python3.9/site-packages/sklearn/metrics/_classification.py:1344: UndefinedMetricWarning: Precision and F-score are ill-defined and being set to 0.0 in labels with no predicted samples. Use `zero_division` parameter to control this behavior.\n",
      "  _warn_prf(average, modifier, msg_start, len(result))\n",
      "/home/kevinluo/anaconda3/envs/yolov8/lib/python3.9/site-packages/sklearn/metrics/_classification.py:1344: UndefinedMetricWarning: Precision and F-score are ill-defined and being set to 0.0 in labels with no predicted samples. Use `zero_division` parameter to control this behavior.\n",
      "  _warn_prf(average, modifier, msg_start, len(result))\n",
      "/home/kevinluo/anaconda3/envs/yolov8/lib/python3.9/site-packages/sklearn/metrics/_classification.py:1344: UndefinedMetricWarning: Precision and F-score are ill-defined and being set to 0.0 in labels with no predicted samples. Use `zero_division` parameter to control this behavior.\n",
      "  _warn_prf(average, modifier, msg_start, len(result))\n"
     ]
    },
    {
     "name": "stdout",
     "output_type": "stream",
     "text": [
      "Train Loss: 0.6935, Train Acc: 0.5002\n",
      "Val Loss: 0.6933, Val Acc: 0.5000\n",
      "              precision    recall  f1-score   support\n",
      "\n",
      "      benign       0.00      0.00      0.00       225\n",
      "   malignant       0.50      1.00      0.67       225\n",
      "\n",
      "    accuracy                           0.50       450\n",
      "   macro avg       0.25      0.50      0.33       450\n",
      "weighted avg       0.25      0.50      0.33       450\n",
      "\n",
      "Epoch 25\n"
     ]
    },
    {
     "name": "stderr",
     "output_type": "stream",
     "text": [
      "100%|██████████| 127/127 [01:27<00:00,  1.46it/s]\n",
      "100%|██████████| 15/15 [00:08<00:00,  1.80it/s]\n",
      "/home/kevinluo/anaconda3/envs/yolov8/lib/python3.9/site-packages/sklearn/metrics/_classification.py:1344: UndefinedMetricWarning: Precision and F-score are ill-defined and being set to 0.0 in labels with no predicted samples. Use `zero_division` parameter to control this behavior.\n",
      "  _warn_prf(average, modifier, msg_start, len(result))\n",
      "/home/kevinluo/anaconda3/envs/yolov8/lib/python3.9/site-packages/sklearn/metrics/_classification.py:1344: UndefinedMetricWarning: Precision and F-score are ill-defined and being set to 0.0 in labels with no predicted samples. Use `zero_division` parameter to control this behavior.\n",
      "  _warn_prf(average, modifier, msg_start, len(result))\n",
      "/home/kevinluo/anaconda3/envs/yolov8/lib/python3.9/site-packages/sklearn/metrics/_classification.py:1344: UndefinedMetricWarning: Precision and F-score are ill-defined and being set to 0.0 in labels with no predicted samples. Use `zero_division` parameter to control this behavior.\n",
      "  _warn_prf(average, modifier, msg_start, len(result))\n"
     ]
    },
    {
     "name": "stdout",
     "output_type": "stream",
     "text": [
      "Train Loss: 0.6940, Train Acc: 0.4938\n",
      "Val Loss: 0.6931, Val Acc: 0.5000\n",
      "              precision    recall  f1-score   support\n",
      "\n",
      "      benign       0.00      0.00      0.00       225\n",
      "   malignant       0.50      1.00      0.67       225\n",
      "\n",
      "    accuracy                           0.50       450\n",
      "   macro avg       0.25      0.50      0.33       450\n",
      "weighted avg       0.25      0.50      0.33       450\n",
      "\n"
     ]
    },
    {
     "name": "stderr",
     "output_type": "stream",
     "text": [
      "100%|██████████| 11/11 [00:07<00:00,  1.43it/s]"
     ]
    },
    {
     "name": "stdout",
     "output_type": "stream",
     "text": [
      "Test Loss: 0.6931, Test Acc: 0.5078\n",
      "              precision    recall  f1-score   support\n",
      "\n",
      "      benign       0.00      0.00      0.00       158\n",
      "   malignant       0.51      1.00      0.67       163\n",
      "\n",
      "    accuracy                           0.51       321\n",
      "   macro avg       0.25      0.50      0.34       321\n",
      "weighted avg       0.26      0.51      0.34       321\n",
      "\n"
     ]
    },
    {
     "name": "stderr",
     "output_type": "stream",
     "text": [
      "\n",
      "/home/kevinluo/anaconda3/envs/yolov8/lib/python3.9/site-packages/sklearn/metrics/_classification.py:1344: UndefinedMetricWarning: Precision and F-score are ill-defined and being set to 0.0 in labels with no predicted samples. Use `zero_division` parameter to control this behavior.\n",
      "  _warn_prf(average, modifier, msg_start, len(result))\n",
      "/home/kevinluo/anaconda3/envs/yolov8/lib/python3.9/site-packages/sklearn/metrics/_classification.py:1344: UndefinedMetricWarning: Precision and F-score are ill-defined and being set to 0.0 in labels with no predicted samples. Use `zero_division` parameter to control this behavior.\n",
      "  _warn_prf(average, modifier, msg_start, len(result))\n",
      "/home/kevinluo/anaconda3/envs/yolov8/lib/python3.9/site-packages/sklearn/metrics/_classification.py:1344: UndefinedMetricWarning: Precision and F-score are ill-defined and being set to 0.0 in labels with no predicted samples. Use `zero_division` parameter to control this behavior.\n",
      "  _warn_prf(average, modifier, msg_start, len(result))\n"
     ]
    }
   ],
   "source": [
    "import os\n",
    "import torch\n",
    "from torch.utils.data import Dataset, DataLoader\n",
    "from torchvision import transforms\n",
    "from PIL import Image\n",
    "from sklearn.model_selection import StratifiedKFold\n",
    "from sklearn.metrics import accuracy_score, classification_report\n",
    "from tqdm import tqdm\n",
    "import timm\n",
    "import numpy as np\n",
    "\n",
    "# 定義我們的資料集\n",
    "class MyDataset(Dataset):\n",
    "    def __init__(self, image_paths, labels, transform=None):\n",
    "        self.image_paths = image_paths\n",
    "        self.labels = labels\n",
    "        self.transform = transform\n",
    "\n",
    "    def __len__(self):\n",
    "        return len(self.image_paths)\n",
    "\n",
    "    def __getitem__(self, idx):\n",
    "        image_path = self.image_paths[idx]\n",
    "        image = Image.open(image_path).convert('RGB')\n",
    "        if self.transform:\n",
    "            image = self.transform(image)\n",
    "        label = self.labels[idx]\n",
    "        return image, label\n",
    "\n",
    "# 載入圖像路徑和標籤\n",
    "def load_data(root):\n",
    "    image_paths = []\n",
    "    labels = []\n",
    "    folders = os.listdir(root)\n",
    "    for folder in folders:\n",
    "        folder_path = os.path.join(root, folder)\n",
    "        for filename in os.listdir(folder_path):\n",
    "            image_paths.append(os.path.join(folder_path, filename))\n",
    "            labels.append(0 if 'benign' in folder else 1)\n",
    "    return image_paths, labels\n",
    "\n",
    "# 定義Swin Transformer模型\n",
    "def create_model():\n",
    "    model = timm.create_model('swin_tiny_patch4_window7_224', num_classes=2)\n",
    "    return model\n",
    "\n",
    "# 定義訓練函數\n",
    "def train(model, dataloader, criterion, optimizer, device):\n",
    "    model.train()\n",
    "    running_loss = 0.0\n",
    "    preds = []\n",
    "    true = []\n",
    "    for images, labels in tqdm(dataloader):\n",
    "        images = images.to(device)\n",
    "        labels = labels.to(device)\n",
    "        \n",
    "        optimizer.zero_grad()\n",
    "        outputs = model(images)\n",
    "        loss = criterion(outputs, labels)\n",
    "        loss.backward()\n",
    "        optimizer.step()\n",
    "        \n",
    "        running_loss += loss.item() * images.size(0)\n",
    "        _, predicted = torch.max(outputs, 1)\n",
    "        preds.extend(predicted.cpu().numpy())\n",
    "        true.extend(labels.cpu().numpy())\n",
    "\n",
    "    epoch_loss = running_loss / len(dataloader.dataset)\n",
    "    acc = accuracy_score(true, preds)\n",
    "    return model, epoch_loss, acc\n",
    "\n",
    "# 定義驗證函數\n",
    "def validate(model, dataloader, criterion, device):\n",
    "    model.eval()\n",
    "    running_loss = 0.0\n",
    "    preds = []\n",
    "    true = []\n",
    "    with torch.no_grad():\n",
    "        for images, labels in tqdm(dataloader):\n",
    "            images = images.to(device)\n",
    "            labels = labels.to(device)\n",
    "            \n",
    "            outputs = model(images)\n",
    "            loss = criterion(outputs, labels)\n",
    "            \n",
    "            running_loss += loss.item() * images.size(0)\n",
    "            _, predicted = torch.max(outputs, 1)\n",
    "            preds.extend(predicted.cpu().numpy())\n",
    "            true.extend(labels.cpu().numpy())\n",
    "    \n",
    "    epoch_loss = running_loss / len(dataloader.dataset)\n",
    "    acc = accuracy_score(true, preds)\n",
    "    return epoch_loss, acc, classification_report(true, preds, target_names=['benign', 'malignant'])\n",
    "\n",
    "# 設定參數\n",
    "train_dir = '/home/kevinluo/Benign_Malignant_dataclassifier/train'\n",
    "valid_dir = '/home/kevinluo/Benign_Malignant_dataclassifier/valid'\n",
    "test_dir = '/home/kevinluo/Benign_Malignant_dataclassifier/test'\n",
    "n_epochs = 25\n",
    "device = torch.device(\"cuda\" if torch.cuda.is_available() else \"cpu\")\n",
    "\n",
    "# 載入資料\n",
    "train_image_paths, train_labels = load_data(train_dir)\n",
    "valid_image_paths, valid_labels = load_data(valid_dir)\n",
    "all_image_paths = train_image_paths + valid_image_paths\n",
    "all_labels = train_labels + valid_labels\n",
    "\n",
    "# 資料增強\n",
    "train_transform = transforms.Compose([\n",
    "    transforms.Resize((224, 224)),\n",
    "    transforms.RandomHorizontalFlip(),\n",
    "    transforms.ToTensor(),\n",
    "    transforms.Normalize([0.485, 0.456, 0.406], [0.229, 0.224, 0.225])\n",
    "])\n",
    "\n",
    "test_transform = transforms.Compose([\n",
    "    transforms.Resize((224, 224)),\n",
    "    transforms.ToTensor(),\n",
    "    transforms.Normalize([0.485, 0.456, 0.406], [0.229, 0.224, 0.225])\n",
    "])\n",
    "\n",
    "# 10折交叉驗證\n",
    "skf = StratifiedKFold(n_splits=10, shuffle=True)\n",
    "\n",
    "for fold, (train_index, val_index) in enumerate(skf.split(all_image_paths, all_labels)):\n",
    "    print(f\"Fold {fold+1}\")\n",
    "\n",
    "    train_fold_image_paths = [all_image_paths[i] for i in train_index]\n",
    "    train_fold_labels = [all_labels[i] for i in train_index]\n",
    "\n",
    "    val_fold_image_paths = [all_image_paths[i] for i in val_index]\n",
    "    val_fold_labels = [all_labels[i] for i in val_index]\n",
    "\n",
    "    train_dataset = MyDataset(train_fold_image_paths, train_fold_labels, train_transform)\n",
    "    val_dataset = MyDataset(val_fold_image_paths, val_fold_labels, test_transform)\n",
    "\n",
    "    train_loader = DataLoader(train_dataset, batch_size=32, shuffle=True)\n",
    "    val_loader = DataLoader(val_dataset, batch_size=32)\n",
    "\n",
    "    model = create_model().to(device)\n",
    "    criterion = torch.nn.CrossEntropyLoss()\n",
    "    optimizer = torch.optim.Adam(model.parameters())\n",
    "\n",
    "    for epoch in range(n_epochs):\n",
    "        print(f\"Epoch {epoch+1}\")\n",
    "        model, train_loss, train_acc = train(model, train_loader, criterion, optimizer, device)\n",
    "        val_loss, val_acc, report = validate(model, val_loader, criterion, device)\n",
    "        print(f\"Train Loss: {train_loss:.4f}, Train Acc: {train_acc:.4f}\")\n",
    "        print(f\"Val Loss: {val_loss:.4f}, Val Acc: {val_acc:.4f}\")\n",
    "        print(report)\n",
    "\n",
    "\n",
    "# 測試\n",
    "test_image_paths, test_labels = load_data(test_dir)\n",
    "test_dataset = MyDataset(test_image_paths, test_labels, test_transform)\n",
    "test_loader = DataLoader(test_dataset, batch_size=32)\n",
    "test_loss, test_acc, report = validate(model, test_loader, criterion, device)\n",
    "print(f\"Test Loss: {test_loss:.4f}, Test Acc: {test_acc:.4f}\")\n",
    "print(report)\n"
   ]
  },
  {
   "cell_type": "code",
   "execution_count": null,
   "metadata": {},
   "outputs": [],
   "source": []
  }
 ],
 "metadata": {
  "kernelspec": {
   "display_name": "yolov8",
   "language": "python",
   "name": "python3"
  },
  "language_info": {
   "codemirror_mode": {
    "name": "ipython",
    "version": 3
   },
   "file_extension": ".py",
   "mimetype": "text/x-python",
   "name": "python",
   "nbconvert_exporter": "python",
   "pygments_lexer": "ipython3",
   "version": "3.9.16"
  },
  "orig_nbformat": 4
 },
 "nbformat": 4,
 "nbformat_minor": 2
}
